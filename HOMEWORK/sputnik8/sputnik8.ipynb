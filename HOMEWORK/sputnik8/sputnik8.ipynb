{
 "cells": [
  {
   "cell_type": "code",
   "execution_count": 922,
   "metadata": {
    "collapsed": true
   },
   "outputs": [],
   "source": [
    "import pandas as pd\n",
    "import numpy as np\n",
    "import seaborn as sns\n",
    "import category_encoders as ce\n",
    "import pyodbc\n",
    "import re\n",
    "from sklearn.feature_selection import chi2\n",
    "from sklearn.model_selection import train_test_split\n",
    "import matplotlib.pyplot as plt"
   ]
  },
  {
   "cell_type": "code",
   "execution_count": 923,
   "outputs": [],
   "source": [
    "df_1 = pd.read_csv('affiliates.csv',sep=';')\n",
    "df_2 = pd.read_csv('affiliate_orders.csv',sep=',')"
   ],
   "metadata": {
    "collapsed": false,
    "pycharm": {
     "name": "#%%\n"
    }
   }
  },
  {
   "cell_type": "code",
   "execution_count": 924,
   "outputs": [
    {
     "data": {
      "text/plain": "     id                  created_at  traffic_amount\n0   151  2014-08-22 20:04:38.223152         1434704\n1  3792  2020-03-19 11:22:41.411688          653855\n2  2513  2018-10-03 16:51:52.393059          381085\n3  2704  2019-03-13 16:12:12.506301          360855\n4  3340  2019-06-06 16:25:01.741799          180385",
      "text/html": "<div>\n<style scoped>\n    .dataframe tbody tr th:only-of-type {\n        vertical-align: middle;\n    }\n\n    .dataframe tbody tr th {\n        vertical-align: top;\n    }\n\n    .dataframe thead th {\n        text-align: right;\n    }\n</style>\n<table border=\"1\" class=\"dataframe\">\n  <thead>\n    <tr style=\"text-align: right;\">\n      <th></th>\n      <th>id</th>\n      <th>created_at</th>\n      <th>traffic_amount</th>\n    </tr>\n  </thead>\n  <tbody>\n    <tr>\n      <th>0</th>\n      <td>151</td>\n      <td>2014-08-22 20:04:38.223152</td>\n      <td>1434704</td>\n    </tr>\n    <tr>\n      <th>1</th>\n      <td>3792</td>\n      <td>2020-03-19 11:22:41.411688</td>\n      <td>653855</td>\n    </tr>\n    <tr>\n      <th>2</th>\n      <td>2513</td>\n      <td>2018-10-03 16:51:52.393059</td>\n      <td>381085</td>\n    </tr>\n    <tr>\n      <th>3</th>\n      <td>2704</td>\n      <td>2019-03-13 16:12:12.506301</td>\n      <td>360855</td>\n    </tr>\n    <tr>\n      <th>4</th>\n      <td>3340</td>\n      <td>2019-06-06 16:25:01.741799</td>\n      <td>180385</td>\n    </tr>\n  </tbody>\n</table>\n</div>"
     },
     "execution_count": 924,
     "metadata": {},
     "output_type": "execute_result"
    }
   ],
   "source": [
    "df_1.head()"
   ],
   "metadata": {
    "collapsed": false,
    "pycharm": {
     "name": "#%%\n"
    }
   }
  },
  {
   "cell_type": "code",
   "execution_count": 925,
   "outputs": [
    {
     "name": "stdout",
     "output_type": "stream",
     "text": [
      "<class 'pandas.core.frame.DataFrame'>\n",
      "RangeIndex: 4321 entries, 0 to 4320\n",
      "Data columns (total 3 columns):\n",
      " #   Column          Non-Null Count  Dtype \n",
      "---  ------          --------------  ----- \n",
      " 0   id              4321 non-null   int64 \n",
      " 1   created_at      4321 non-null   object\n",
      " 2   traffic_amount  4321 non-null   int64 \n",
      "dtypes: int64(2), object(1)\n",
      "memory usage: 101.4+ KB\n"
     ]
    }
   ],
   "source": [
    "df_1.info()"
   ],
   "metadata": {
    "collapsed": false,
    "pycharm": {
     "name": "#%%\n"
    }
   }
  },
  {
   "cell_type": "code",
   "execution_count": 926,
   "outputs": [],
   "source": [
    "df_1['created_at'] = pd.to_datetime(df_1['created_at']).dt.normalize()"
   ],
   "metadata": {
    "collapsed": false,
    "pycharm": {
     "name": "#%%\n"
    }
   }
  },
  {
   "cell_type": "code",
   "execution_count": 927,
   "outputs": [
    {
     "data": {
      "text/plain": "        id  affiliate_id                  created_at     state\n0  1908655             1  2023-06-09 14:57:51.895548  canceled\n1  1982469             1  2023-06-26 15:35:06.922044      held\n2  1491902             1  2022-11-05 17:22:29.533635      held\n3  1235697             1  2022-07-27 13:54:22.133388  canceled\n4  1235831             1  2022-07-27 14:21:33.350998      held",
      "text/html": "<div>\n<style scoped>\n    .dataframe tbody tr th:only-of-type {\n        vertical-align: middle;\n    }\n\n    .dataframe tbody tr th {\n        vertical-align: top;\n    }\n\n    .dataframe thead th {\n        text-align: right;\n    }\n</style>\n<table border=\"1\" class=\"dataframe\">\n  <thead>\n    <tr style=\"text-align: right;\">\n      <th></th>\n      <th>id</th>\n      <th>affiliate_id</th>\n      <th>created_at</th>\n      <th>state</th>\n    </tr>\n  </thead>\n  <tbody>\n    <tr>\n      <th>0</th>\n      <td>1908655</td>\n      <td>1</td>\n      <td>2023-06-09 14:57:51.895548</td>\n      <td>canceled</td>\n    </tr>\n    <tr>\n      <th>1</th>\n      <td>1982469</td>\n      <td>1</td>\n      <td>2023-06-26 15:35:06.922044</td>\n      <td>held</td>\n    </tr>\n    <tr>\n      <th>2</th>\n      <td>1491902</td>\n      <td>1</td>\n      <td>2022-11-05 17:22:29.533635</td>\n      <td>held</td>\n    </tr>\n    <tr>\n      <th>3</th>\n      <td>1235697</td>\n      <td>1</td>\n      <td>2022-07-27 13:54:22.133388</td>\n      <td>canceled</td>\n    </tr>\n    <tr>\n      <th>4</th>\n      <td>1235831</td>\n      <td>1</td>\n      <td>2022-07-27 14:21:33.350998</td>\n      <td>held</td>\n    </tr>\n  </tbody>\n</table>\n</div>"
     },
     "execution_count": 927,
     "metadata": {},
     "output_type": "execute_result"
    }
   ],
   "source": [
    "df_2.head()"
   ],
   "metadata": {
    "collapsed": false,
    "pycharm": {
     "name": "#%%\n"
    }
   }
  },
  {
   "cell_type": "code",
   "execution_count": 928,
   "outputs": [
    {
     "data": {
      "text/plain": "1908655    1\n1409178    1\n1513426    1\n1405313    1\n1405389    1\n          ..\n1846169    1\n1131122    1\n1153352    1\n1143317    1\n1945955    1\nName: id, Length: 257914, dtype: int64"
     },
     "execution_count": 928,
     "metadata": {},
     "output_type": "execute_result"
    }
   ],
   "source": [
    "df_2['id'].value_counts(ascending=False) # было интересно может ли быть, что просто хранятся статусы заказов, а не обновляется"
   ],
   "metadata": {
    "collapsed": false,
    "pycharm": {
     "name": "#%%\n"
    }
   }
  },
  {
   "cell_type": "code",
   "execution_count": 929,
   "outputs": [
    {
     "name": "stdout",
     "output_type": "stream",
     "text": [
      "<class 'pandas.core.frame.DataFrame'>\n",
      "RangeIndex: 257914 entries, 0 to 257913\n",
      "Data columns (total 4 columns):\n",
      " #   Column        Non-Null Count   Dtype \n",
      "---  ------        --------------   ----- \n",
      " 0   id            257914 non-null  int64 \n",
      " 1   affiliate_id  257914 non-null  int64 \n",
      " 2   created_at    257914 non-null  object\n",
      " 3   state         257914 non-null  object\n",
      "dtypes: int64(2), object(2)\n",
      "memory usage: 7.9+ MB\n"
     ]
    }
   ],
   "source": [
    "df_2.info()"
   ],
   "metadata": {
    "collapsed": false,
    "pycharm": {
     "name": "#%%\n"
    }
   }
  },
  {
   "cell_type": "code",
   "execution_count": 930,
   "outputs": [],
   "source": [
    "df_2['created_at'] = pd.to_datetime(df_2['created_at']).dt.normalize()"
   ],
   "metadata": {
    "collapsed": false,
    "pycharm": {
     "name": "#%%\n"
    }
   }
  },
  {
   "cell_type": "code",
   "execution_count": 931,
   "outputs": [
    {
     "data": {
      "text/plain": "4321"
     },
     "execution_count": 931,
     "metadata": {},
     "output_type": "execute_result"
    }
   ],
   "source": [
    "df_1['id'].nunique()\n"
   ],
   "metadata": {
    "collapsed": false,
    "pycharm": {
     "name": "#%%\n"
    }
   }
  },
  {
   "cell_type": "markdown",
   "source": [
    "В данном случае эффективность можно оценить только метрикой выполненные заказы/общее число переходов\n"
   ],
   "metadata": {
    "collapsed": false,
    "pycharm": {
     "name": "#%% md\n"
    }
   }
  },
  {
   "cell_type": "code",
   "execution_count": 932,
   "outputs": [
    {
     "data": {
      "text/plain": "           id_x  affiliate_id created_at_x     state  id_y created_at_y  \\\n0       1908655             1   2023-06-09  canceled     1   2013-08-14   \n1       1982469             1   2023-06-26      held     1   2013-08-14   \n2       1491902             1   2022-11-05      held     1   2013-08-14   \n3       1235697             1   2022-07-27  canceled     1   2013-08-14   \n4       1235831             1   2022-07-27      held     1   2013-08-14   \n...         ...           ...          ...       ...   ...          ...   \n257909  1969529          5084   2023-06-23      held  5084   2023-06-16   \n257910  1956651          5084   2023-06-20      held  5084   2023-06-16   \n257911  1979590          5084   2023-06-25  canceled  5084   2023-06-16   \n257912  1989282          5098   2023-06-28      held  5098   2023-06-27   \n257913  1945955          5102   2023-06-17   pending  5102   2023-06-28   \n\n        traffic_amount  \n0               105208  \n1               105208  \n2               105208  \n3               105208  \n4               105208  \n...                ...  \n257909             246  \n257910             246  \n257911             246  \n257912              46  \n257913               0  \n\n[257914 rows x 7 columns]",
      "text/html": "<div>\n<style scoped>\n    .dataframe tbody tr th:only-of-type {\n        vertical-align: middle;\n    }\n\n    .dataframe tbody tr th {\n        vertical-align: top;\n    }\n\n    .dataframe thead th {\n        text-align: right;\n    }\n</style>\n<table border=\"1\" class=\"dataframe\">\n  <thead>\n    <tr style=\"text-align: right;\">\n      <th></th>\n      <th>id_x</th>\n      <th>affiliate_id</th>\n      <th>created_at_x</th>\n      <th>state</th>\n      <th>id_y</th>\n      <th>created_at_y</th>\n      <th>traffic_amount</th>\n    </tr>\n  </thead>\n  <tbody>\n    <tr>\n      <th>0</th>\n      <td>1908655</td>\n      <td>1</td>\n      <td>2023-06-09</td>\n      <td>canceled</td>\n      <td>1</td>\n      <td>2013-08-14</td>\n      <td>105208</td>\n    </tr>\n    <tr>\n      <th>1</th>\n      <td>1982469</td>\n      <td>1</td>\n      <td>2023-06-26</td>\n      <td>held</td>\n      <td>1</td>\n      <td>2013-08-14</td>\n      <td>105208</td>\n    </tr>\n    <tr>\n      <th>2</th>\n      <td>1491902</td>\n      <td>1</td>\n      <td>2022-11-05</td>\n      <td>held</td>\n      <td>1</td>\n      <td>2013-08-14</td>\n      <td>105208</td>\n    </tr>\n    <tr>\n      <th>3</th>\n      <td>1235697</td>\n      <td>1</td>\n      <td>2022-07-27</td>\n      <td>canceled</td>\n      <td>1</td>\n      <td>2013-08-14</td>\n      <td>105208</td>\n    </tr>\n    <tr>\n      <th>4</th>\n      <td>1235831</td>\n      <td>1</td>\n      <td>2022-07-27</td>\n      <td>held</td>\n      <td>1</td>\n      <td>2013-08-14</td>\n      <td>105208</td>\n    </tr>\n    <tr>\n      <th>...</th>\n      <td>...</td>\n      <td>...</td>\n      <td>...</td>\n      <td>...</td>\n      <td>...</td>\n      <td>...</td>\n      <td>...</td>\n    </tr>\n    <tr>\n      <th>257909</th>\n      <td>1969529</td>\n      <td>5084</td>\n      <td>2023-06-23</td>\n      <td>held</td>\n      <td>5084</td>\n      <td>2023-06-16</td>\n      <td>246</td>\n    </tr>\n    <tr>\n      <th>257910</th>\n      <td>1956651</td>\n      <td>5084</td>\n      <td>2023-06-20</td>\n      <td>held</td>\n      <td>5084</td>\n      <td>2023-06-16</td>\n      <td>246</td>\n    </tr>\n    <tr>\n      <th>257911</th>\n      <td>1979590</td>\n      <td>5084</td>\n      <td>2023-06-25</td>\n      <td>canceled</td>\n      <td>5084</td>\n      <td>2023-06-16</td>\n      <td>246</td>\n    </tr>\n    <tr>\n      <th>257912</th>\n      <td>1989282</td>\n      <td>5098</td>\n      <td>2023-06-28</td>\n      <td>held</td>\n      <td>5098</td>\n      <td>2023-06-27</td>\n      <td>46</td>\n    </tr>\n    <tr>\n      <th>257913</th>\n      <td>1945955</td>\n      <td>5102</td>\n      <td>2023-06-17</td>\n      <td>pending</td>\n      <td>5102</td>\n      <td>2023-06-28</td>\n      <td>0</td>\n    </tr>\n  </tbody>\n</table>\n<p>257914 rows × 7 columns</p>\n</div>"
     },
     "execution_count": 932,
     "metadata": {},
     "output_type": "execute_result"
    }
   ],
   "source": [
    "df_3 = df_2.merge(df_1,left_on=\"affiliate_id\",right_on=\"id\")\n",
    "df_3"
   ],
   "metadata": {
    "collapsed": false,
    "pycharm": {
     "name": "#%%\n"
    }
   }
  },
  {
   "cell_type": "code",
   "execution_count": 933,
   "outputs": [],
   "source": [
    "df_3.drop(['id_y'], axis=1,inplace=True)"
   ],
   "metadata": {
    "collapsed": false,
    "pycharm": {
     "name": "#%%\n"
    }
   }
  },
  {
   "cell_type": "code",
   "execution_count": 934,
   "outputs": [],
   "source": [
    "df_3.rename(columns={'created_at_x':'created_data_order','created_at_y':'created_relationship'},inplace=True)\n",
    "df_3 = df_3[df_3['created_data_order']>'2023-01-01'] # взял данные за последние 6 месяцев"
   ],
   "metadata": {
    "collapsed": false,
    "pycharm": {
     "name": "#%%\n"
    }
   }
  },
  {
   "cell_type": "markdown",
   "source": [],
   "metadata": {
    "collapsed": false
   }
  },
  {
   "cell_type": "code",
   "execution_count": 935,
   "outputs": [
    {
     "data": {
      "text/plain": "    affiliate_id     state       traffic_amount\n                           count           mean\n0              1  canceled  1597       105208.0\n1              1      held  2133       105208.0\n2              1   pending   376       105208.0\n3              9  canceled     7          113.0\n4              9      held    18          113.0\n..           ...       ...   ...            ...\n326         5084  canceled     6          246.0\n327         5084      held     3          246.0\n328         5084   pending     2          246.0\n329         5098      held     1           46.0\n330         5102   pending     1            0.0\n\n[331 rows x 4 columns]",
      "text/html": "<div>\n<style scoped>\n    .dataframe tbody tr th:only-of-type {\n        vertical-align: middle;\n    }\n\n    .dataframe tbody tr th {\n        vertical-align: top;\n    }\n\n    .dataframe thead tr th {\n        text-align: left;\n    }\n</style>\n<table border=\"1\" class=\"dataframe\">\n  <thead>\n    <tr>\n      <th></th>\n      <th>affiliate_id</th>\n      <th colspan=\"2\" halign=\"left\">state</th>\n      <th>traffic_amount</th>\n    </tr>\n    <tr>\n      <th></th>\n      <th></th>\n      <th></th>\n      <th>count</th>\n      <th>mean</th>\n    </tr>\n  </thead>\n  <tbody>\n    <tr>\n      <th>0</th>\n      <td>1</td>\n      <td>canceled</td>\n      <td>1597</td>\n      <td>105208.0</td>\n    </tr>\n    <tr>\n      <th>1</th>\n      <td>1</td>\n      <td>held</td>\n      <td>2133</td>\n      <td>105208.0</td>\n    </tr>\n    <tr>\n      <th>2</th>\n      <td>1</td>\n      <td>pending</td>\n      <td>376</td>\n      <td>105208.0</td>\n    </tr>\n    <tr>\n      <th>3</th>\n      <td>9</td>\n      <td>canceled</td>\n      <td>7</td>\n      <td>113.0</td>\n    </tr>\n    <tr>\n      <th>4</th>\n      <td>9</td>\n      <td>held</td>\n      <td>18</td>\n      <td>113.0</td>\n    </tr>\n    <tr>\n      <th>...</th>\n      <td>...</td>\n      <td>...</td>\n      <td>...</td>\n      <td>...</td>\n    </tr>\n    <tr>\n      <th>326</th>\n      <td>5084</td>\n      <td>canceled</td>\n      <td>6</td>\n      <td>246.0</td>\n    </tr>\n    <tr>\n      <th>327</th>\n      <td>5084</td>\n      <td>held</td>\n      <td>3</td>\n      <td>246.0</td>\n    </tr>\n    <tr>\n      <th>328</th>\n      <td>5084</td>\n      <td>pending</td>\n      <td>2</td>\n      <td>246.0</td>\n    </tr>\n    <tr>\n      <th>329</th>\n      <td>5098</td>\n      <td>held</td>\n      <td>1</td>\n      <td>46.0</td>\n    </tr>\n    <tr>\n      <th>330</th>\n      <td>5102</td>\n      <td>pending</td>\n      <td>1</td>\n      <td>0.0</td>\n    </tr>\n  </tbody>\n</table>\n<p>331 rows × 4 columns</p>\n</div>"
     },
     "execution_count": 935,
     "metadata": {},
     "output_type": "execute_result"
    }
   ],
   "source": [
    "df_3 = df_3[['affiliate_id','state','traffic_amount']].groupby(['affiliate_id','state']).agg({'state':['count'],'traffic_amount':['mean']}).reset_index()\n",
    "df_3"
   ],
   "metadata": {
    "collapsed": false,
    "pycharm": {
     "name": "#%%\n"
    }
   }
  },
  {
   "cell_type": "code",
   "execution_count": 935,
   "outputs": [],
   "source": [],
   "metadata": {
    "collapsed": false,
    "pycharm": {
     "name": "#%%\n"
    }
   }
  },
  {
   "cell_type": "code",
   "execution_count": 936,
   "outputs": [
    {
     "data": {
      "text/plain": "   affiliate_id     state  state_amount  traffic_amount  conversion\n0             1  canceled          1597        105208.0         1.5\n1             1      held          2133        105208.0         2.0\n2             1   pending           376        105208.0         0.4\n3             9  canceled             7           113.0         6.2\n4             9      held            18           113.0        15.9",
      "text/html": "<div>\n<style scoped>\n    .dataframe tbody tr th:only-of-type {\n        vertical-align: middle;\n    }\n\n    .dataframe tbody tr th {\n        vertical-align: top;\n    }\n\n    .dataframe thead th {\n        text-align: right;\n    }\n</style>\n<table border=\"1\" class=\"dataframe\">\n  <thead>\n    <tr style=\"text-align: right;\">\n      <th></th>\n      <th>affiliate_id</th>\n      <th>state</th>\n      <th>state_amount</th>\n      <th>traffic_amount</th>\n      <th>conversion</th>\n    </tr>\n  </thead>\n  <tbody>\n    <tr>\n      <th>0</th>\n      <td>1</td>\n      <td>canceled</td>\n      <td>1597</td>\n      <td>105208.0</td>\n      <td>1.5</td>\n    </tr>\n    <tr>\n      <th>1</th>\n      <td>1</td>\n      <td>held</td>\n      <td>2133</td>\n      <td>105208.0</td>\n      <td>2.0</td>\n    </tr>\n    <tr>\n      <th>2</th>\n      <td>1</td>\n      <td>pending</td>\n      <td>376</td>\n      <td>105208.0</td>\n      <td>0.4</td>\n    </tr>\n    <tr>\n      <th>3</th>\n      <td>9</td>\n      <td>canceled</td>\n      <td>7</td>\n      <td>113.0</td>\n      <td>6.2</td>\n    </tr>\n    <tr>\n      <th>4</th>\n      <td>9</td>\n      <td>held</td>\n      <td>18</td>\n      <td>113.0</td>\n      <td>15.9</td>\n    </tr>\n  </tbody>\n</table>\n</div>"
     },
     "execution_count": 936,
     "metadata": {},
     "output_type": "execute_result"
    }
   ],
   "source": [
    "df_3.columns = ['affiliate_id','state','state_amount','traffic_amount']\n",
    "df_3['conversion'] = round(df_3['state_amount']/df_3['traffic_amount'],3)*100\n",
    "df_3.head()\n"
   ],
   "metadata": {
    "collapsed": false,
    "pycharm": {
     "name": "#%%\n"
    }
   }
  },
  {
   "cell_type": "code",
   "execution_count": 937,
   "outputs": [
    {
     "data": {
      "text/plain": "     affiliate_id     state  state_amount  traffic_amount  conversion\n330          5102   pending             1             0.0         inf\n186          3618   pending             1             0.0         inf\n103          1683  canceled           570             0.0         inf\n185          3618      held          5425             0.0         inf\n184          3618  canceled          2859             0.0         inf\n..            ...       ...           ...             ...         ...\n77           1208  canceled             6         53630.0         0.0\n147          2704  canceled             3        360855.0         0.0\n148          2704      held             1        360855.0         0.0\n78           1208      held             7         53630.0         0.0\n229          4185   pending             1          3315.0         0.0\n\n[331 rows x 5 columns]",
      "text/html": "<div>\n<style scoped>\n    .dataframe tbody tr th:only-of-type {\n        vertical-align: middle;\n    }\n\n    .dataframe tbody tr th {\n        vertical-align: top;\n    }\n\n    .dataframe thead th {\n        text-align: right;\n    }\n</style>\n<table border=\"1\" class=\"dataframe\">\n  <thead>\n    <tr style=\"text-align: right;\">\n      <th></th>\n      <th>affiliate_id</th>\n      <th>state</th>\n      <th>state_amount</th>\n      <th>traffic_amount</th>\n      <th>conversion</th>\n    </tr>\n  </thead>\n  <tbody>\n    <tr>\n      <th>330</th>\n      <td>5102</td>\n      <td>pending</td>\n      <td>1</td>\n      <td>0.0</td>\n      <td>inf</td>\n    </tr>\n    <tr>\n      <th>186</th>\n      <td>3618</td>\n      <td>pending</td>\n      <td>1</td>\n      <td>0.0</td>\n      <td>inf</td>\n    </tr>\n    <tr>\n      <th>103</th>\n      <td>1683</td>\n      <td>canceled</td>\n      <td>570</td>\n      <td>0.0</td>\n      <td>inf</td>\n    </tr>\n    <tr>\n      <th>185</th>\n      <td>3618</td>\n      <td>held</td>\n      <td>5425</td>\n      <td>0.0</td>\n      <td>inf</td>\n    </tr>\n    <tr>\n      <th>184</th>\n      <td>3618</td>\n      <td>canceled</td>\n      <td>2859</td>\n      <td>0.0</td>\n      <td>inf</td>\n    </tr>\n    <tr>\n      <th>...</th>\n      <td>...</td>\n      <td>...</td>\n      <td>...</td>\n      <td>...</td>\n      <td>...</td>\n    </tr>\n    <tr>\n      <th>77</th>\n      <td>1208</td>\n      <td>canceled</td>\n      <td>6</td>\n      <td>53630.0</td>\n      <td>0.0</td>\n    </tr>\n    <tr>\n      <th>147</th>\n      <td>2704</td>\n      <td>canceled</td>\n      <td>3</td>\n      <td>360855.0</td>\n      <td>0.0</td>\n    </tr>\n    <tr>\n      <th>148</th>\n      <td>2704</td>\n      <td>held</td>\n      <td>1</td>\n      <td>360855.0</td>\n      <td>0.0</td>\n    </tr>\n    <tr>\n      <th>78</th>\n      <td>1208</td>\n      <td>held</td>\n      <td>7</td>\n      <td>53630.0</td>\n      <td>0.0</td>\n    </tr>\n    <tr>\n      <th>229</th>\n      <td>4185</td>\n      <td>pending</td>\n      <td>1</td>\n      <td>3315.0</td>\n      <td>0.0</td>\n    </tr>\n  </tbody>\n</table>\n<p>331 rows × 5 columns</p>\n</div>"
     },
     "execution_count": 937,
     "metadata": {},
     "output_type": "execute_result"
    }
   ],
   "source": [
    "df_3.sort_values(by=['conversion'],ascending=False)"
   ],
   "metadata": {
    "collapsed": false,
    "pycharm": {
     "name": "#%%\n"
    }
   }
  },
  {
   "cell_type": "markdown",
   "source": [
    "Увидели, что есть данные, где траффик = 0. Для"
   ],
   "metadata": {
    "collapsed": false,
    "pycharm": {
     "name": "#%% md\n"
    }
   }
  },
  {
   "cell_type": "code",
   "execution_count": 938,
   "outputs": [],
   "source": [
    "df_zero_traffic = df_3[df_3['traffic_amount']==0]"
   ],
   "metadata": {
    "collapsed": false,
    "pycharm": {
     "name": "#%%\n"
    }
   }
  },
  {
   "cell_type": "code",
   "execution_count": 939,
   "outputs": [
    {
     "data": {
      "text/plain": "array([1683, 3618, 5102], dtype=int64)"
     },
     "execution_count": 939,
     "metadata": {},
     "output_type": "execute_result"
    }
   ],
   "source": [
    "df_zero_traffic['affiliate_id'].unique()"
   ],
   "metadata": {
    "collapsed": false,
    "pycharm": {
     "name": "#%%\n"
    }
   }
  },
  {
   "cell_type": "code",
   "execution_count": 940,
   "outputs": [
    {
     "data": {
      "text/plain": "     affiliate_id state  state_amount  traffic_amount  conversion\n198          3801  held             2             2.0       100.0\n312          4907  held             1             1.0       100.0\n17            216  held             1             3.0        33.3\n269          4590  held             4            18.0        22.2\n296          4800  held             1             6.0        16.7\n..            ...   ...           ...             ...         ...\n247          4433  held             2          1662.0         0.1\n208          3965  held             1          1584.0         0.1\n148          2704  held             1        360855.0         0.0\n78           1208  held             7         53630.0         0.0\n130          2355  held             1          5408.0         0.0\n\n[119 rows x 5 columns]",
      "text/html": "<div>\n<style scoped>\n    .dataframe tbody tr th:only-of-type {\n        vertical-align: middle;\n    }\n\n    .dataframe tbody tr th {\n        vertical-align: top;\n    }\n\n    .dataframe thead th {\n        text-align: right;\n    }\n</style>\n<table border=\"1\" class=\"dataframe\">\n  <thead>\n    <tr style=\"text-align: right;\">\n      <th></th>\n      <th>affiliate_id</th>\n      <th>state</th>\n      <th>state_amount</th>\n      <th>traffic_amount</th>\n      <th>conversion</th>\n    </tr>\n  </thead>\n  <tbody>\n    <tr>\n      <th>198</th>\n      <td>3801</td>\n      <td>held</td>\n      <td>2</td>\n      <td>2.0</td>\n      <td>100.0</td>\n    </tr>\n    <tr>\n      <th>312</th>\n      <td>4907</td>\n      <td>held</td>\n      <td>1</td>\n      <td>1.0</td>\n      <td>100.0</td>\n    </tr>\n    <tr>\n      <th>17</th>\n      <td>216</td>\n      <td>held</td>\n      <td>1</td>\n      <td>3.0</td>\n      <td>33.3</td>\n    </tr>\n    <tr>\n      <th>269</th>\n      <td>4590</td>\n      <td>held</td>\n      <td>4</td>\n      <td>18.0</td>\n      <td>22.2</td>\n    </tr>\n    <tr>\n      <th>296</th>\n      <td>4800</td>\n      <td>held</td>\n      <td>1</td>\n      <td>6.0</td>\n      <td>16.7</td>\n    </tr>\n    <tr>\n      <th>...</th>\n      <td>...</td>\n      <td>...</td>\n      <td>...</td>\n      <td>...</td>\n      <td>...</td>\n    </tr>\n    <tr>\n      <th>247</th>\n      <td>4433</td>\n      <td>held</td>\n      <td>2</td>\n      <td>1662.0</td>\n      <td>0.1</td>\n    </tr>\n    <tr>\n      <th>208</th>\n      <td>3965</td>\n      <td>held</td>\n      <td>1</td>\n      <td>1584.0</td>\n      <td>0.1</td>\n    </tr>\n    <tr>\n      <th>148</th>\n      <td>2704</td>\n      <td>held</td>\n      <td>1</td>\n      <td>360855.0</td>\n      <td>0.0</td>\n    </tr>\n    <tr>\n      <th>78</th>\n      <td>1208</td>\n      <td>held</td>\n      <td>7</td>\n      <td>53630.0</td>\n      <td>0.0</td>\n    </tr>\n    <tr>\n      <th>130</th>\n      <td>2355</td>\n      <td>held</td>\n      <td>1</td>\n      <td>5408.0</td>\n      <td>0.0</td>\n    </tr>\n  </tbody>\n</table>\n<p>119 rows × 5 columns</p>\n</div>"
     },
     "execution_count": 940,
     "metadata": {},
     "output_type": "execute_result"
    }
   ],
   "source": [
    "df_3 = df_3[df_3['traffic_amount']!=0]\n",
    "df_3_held = df_3[df_3['state']=='held'].sort_values(by=['conversion'],ascending=False)\n",
    "df_3_held.sort_values(by=['conversion','traffic_amount'],ascending=False)"
   ],
   "metadata": {
    "collapsed": false,
    "pycharm": {
     "name": "#%%\n"
    }
   }
  },
  {
   "cell_type": "markdown",
   "source": [
    "Отфильтруем тех партнеров, которые привели более 100 трафика\n"
   ],
   "metadata": {
    "collapsed": false,
    "pycharm": {
     "name": "#%% md\n"
    }
   }
  },
  {
   "cell_type": "code",
   "execution_count": 941,
   "outputs": [
    {
     "data": {
      "text/plain": "     affiliate_id state  state_amount  traffic_amount  conversion\n4               9  held            18           113.0        15.9\n155          2781  held           692          7950.0         8.7\n191          3652  held            67           840.0         8.0\n177          3533  held          1669         25553.0         6.5\n171          3399  held            13           213.0         6.1\n126          1795  held             9           162.0         5.6\n219          4084  held            17           329.0         5.2\n64           1089  held            27           564.0         4.8\n91           1492  held            62          1311.0         4.7\n241          4333  held           297          6931.0         4.3\n182          3599  held            15           361.0         4.2\n139          2555  held            38           920.0         4.1\n112          1732  held            10           248.0         4.0\n89           1308  held             9           224.0         4.0\n293          4782  held             6           159.0         3.8",
      "text/html": "<div>\n<style scoped>\n    .dataframe tbody tr th:only-of-type {\n        vertical-align: middle;\n    }\n\n    .dataframe tbody tr th {\n        vertical-align: top;\n    }\n\n    .dataframe thead th {\n        text-align: right;\n    }\n</style>\n<table border=\"1\" class=\"dataframe\">\n  <thead>\n    <tr style=\"text-align: right;\">\n      <th></th>\n      <th>affiliate_id</th>\n      <th>state</th>\n      <th>state_amount</th>\n      <th>traffic_amount</th>\n      <th>conversion</th>\n    </tr>\n  </thead>\n  <tbody>\n    <tr>\n      <th>4</th>\n      <td>9</td>\n      <td>held</td>\n      <td>18</td>\n      <td>113.0</td>\n      <td>15.9</td>\n    </tr>\n    <tr>\n      <th>155</th>\n      <td>2781</td>\n      <td>held</td>\n      <td>692</td>\n      <td>7950.0</td>\n      <td>8.7</td>\n    </tr>\n    <tr>\n      <th>191</th>\n      <td>3652</td>\n      <td>held</td>\n      <td>67</td>\n      <td>840.0</td>\n      <td>8.0</td>\n    </tr>\n    <tr>\n      <th>177</th>\n      <td>3533</td>\n      <td>held</td>\n      <td>1669</td>\n      <td>25553.0</td>\n      <td>6.5</td>\n    </tr>\n    <tr>\n      <th>171</th>\n      <td>3399</td>\n      <td>held</td>\n      <td>13</td>\n      <td>213.0</td>\n      <td>6.1</td>\n    </tr>\n    <tr>\n      <th>126</th>\n      <td>1795</td>\n      <td>held</td>\n      <td>9</td>\n      <td>162.0</td>\n      <td>5.6</td>\n    </tr>\n    <tr>\n      <th>219</th>\n      <td>4084</td>\n      <td>held</td>\n      <td>17</td>\n      <td>329.0</td>\n      <td>5.2</td>\n    </tr>\n    <tr>\n      <th>64</th>\n      <td>1089</td>\n      <td>held</td>\n      <td>27</td>\n      <td>564.0</td>\n      <td>4.8</td>\n    </tr>\n    <tr>\n      <th>91</th>\n      <td>1492</td>\n      <td>held</td>\n      <td>62</td>\n      <td>1311.0</td>\n      <td>4.7</td>\n    </tr>\n    <tr>\n      <th>241</th>\n      <td>4333</td>\n      <td>held</td>\n      <td>297</td>\n      <td>6931.0</td>\n      <td>4.3</td>\n    </tr>\n    <tr>\n      <th>182</th>\n      <td>3599</td>\n      <td>held</td>\n      <td>15</td>\n      <td>361.0</td>\n      <td>4.2</td>\n    </tr>\n    <tr>\n      <th>139</th>\n      <td>2555</td>\n      <td>held</td>\n      <td>38</td>\n      <td>920.0</td>\n      <td>4.1</td>\n    </tr>\n    <tr>\n      <th>112</th>\n      <td>1732</td>\n      <td>held</td>\n      <td>10</td>\n      <td>248.0</td>\n      <td>4.0</td>\n    </tr>\n    <tr>\n      <th>89</th>\n      <td>1308</td>\n      <td>held</td>\n      <td>9</td>\n      <td>224.0</td>\n      <td>4.0</td>\n    </tr>\n    <tr>\n      <th>293</th>\n      <td>4782</td>\n      <td>held</td>\n      <td>6</td>\n      <td>159.0</td>\n      <td>3.8</td>\n    </tr>\n  </tbody>\n</table>\n</div>"
     },
     "execution_count": 941,
     "metadata": {},
     "output_type": "execute_result"
    }
   ],
   "source": [
    "df_3_held[df_3_held['traffic_amount']>100].sort_values(by=['conversion','traffic_amount'],ascending=False).head(15)"
   ],
   "metadata": {
    "collapsed": false,
    "pycharm": {
     "name": "#%%\n"
    }
   }
  },
  {
   "cell_type": "markdown",
   "source": [
    "# Наиболее эффективные(топ 15)партнеры по показателю конверсии среди тех партнеров, которые привели более 100 трафика за последние полгода"
   ],
   "metadata": {
    "collapsed": false,
    "pycharm": {
     "name": "#%% md\n"
    }
   }
  },
  {
   "cell_type": "code",
   "execution_count": 942,
   "outputs": [
    {
     "data": {
      "text/plain": "[9,\n 2781,\n 3652,\n 3533,\n 3399,\n 1795,\n 4084,\n 1089,\n 1492,\n 4333,\n 3599,\n 2555,\n 1732,\n 1308,\n 4782]"
     },
     "execution_count": 942,
     "metadata": {},
     "output_type": "execute_result"
    }
   ],
   "source": [
    "list(df_3_held[df_3_held['traffic_amount']>100].sort_values(by=['conversion','traffic_amount'],ascending=False)['affiliate_id'].head(15))"
   ],
   "metadata": {
    "collapsed": false,
    "pycharm": {
     "name": "#%%\n"
    }
   }
  },
  {
   "cell_type": "markdown",
   "source": [
    "# Наименее эффективные те, которые привели 0 трафика. Посмотрел, что для туризма конверсия 4-7% является нормальной, тогда порог выставляем 4%\n"
   ],
   "metadata": {
    "collapsed": false,
    "pycharm": {
     "name": "#%% md\n"
    }
   }
  },
  {
   "cell_type": "code",
   "execution_count": 943,
   "outputs": [
    {
     "data": {
      "text/plain": "[1683, 1683, 3618, 3618, 3618, 5102]"
     },
     "execution_count": 943,
     "metadata": {},
     "output_type": "execute_result"
    }
   ],
   "source": [
    "list(df_zero_traffic['affiliate_id'])"
   ],
   "metadata": {
    "collapsed": false,
    "pycharm": {
     "name": "#%%\n"
    }
   }
  },
  {
   "cell_type": "code",
   "execution_count": 944,
   "outputs": [
    {
     "data": {
      "text/plain": "[2431,\n 1022,\n 4130,\n 3340,\n 1712,\n 2514,\n 4669,\n 1762,\n 3792,\n 4504,\n 4433,\n 3965,\n 2704,\n 1208,\n 2355]"
     },
     "execution_count": 944,
     "metadata": {},
     "output_type": "execute_result"
    }
   ],
   "source": [
    "list(df_3_held[df_3_held['traffic_amount']>100].sort_values(by=['conversion','traffic_amount'],ascending=False)['affiliate_id'].tail(15))"
   ],
   "metadata": {
    "collapsed": false,
    "pycharm": {
     "name": "#%%\n"
    }
   }
  },
  {
   "cell_type": "markdown",
   "source": [
    "# Нужно улучшать работу с теми 15, которые наиболее эффективно показали себя по показателю конверсии."
   ],
   "metadata": {
    "collapsed": false,
    "pycharm": {
     "name": "#%% md\n"
    }
   }
  },
  {
   "cell_type": "markdown",
   "source": [
    "# 2.Cоставить прогноз по количеству заказов суммарно со всех партнеров на август и сентябрь"
   ],
   "metadata": {
    "collapsed": false,
    "pycharm": {
     "name": "#%% md\n"
    }
   }
  },
  {
   "cell_type": "code",
   "execution_count": 945,
   "outputs": [],
   "source": [
    "df_predict_orders = df_2.copy()"
   ],
   "metadata": {
    "collapsed": false,
    "pycharm": {
     "name": "#%%\n"
    }
   }
  },
  {
   "cell_type": "code",
   "execution_count": 946,
   "outputs": [],
   "source": [
    "df_predict_orders['month'] = df_predict_orders['created_at'].to_numpy().astype('datetime64[M]')"
   ],
   "metadata": {
    "collapsed": false,
    "pycharm": {
     "name": "#%%\n"
    }
   }
  },
  {
   "cell_type": "code",
   "execution_count": 947,
   "outputs": [
    {
     "data": {
      "text/plain": "             id  affiliate_id created_at     state      month\n0       1908655             1 2023-06-09  canceled 2023-06-01\n1       1982469             1 2023-06-26      held 2023-06-01\n2       1491902             1 2022-11-05      held 2022-11-01\n3       1235697             1 2022-07-27  canceled 2022-07-01\n4       1235831             1 2022-07-27      held 2022-07-01\n...         ...           ...        ...       ...        ...\n257909  1969529          5084 2023-06-23      held 2023-06-01\n257910  1956651          5084 2023-06-20      held 2023-06-01\n257911  1979590          5084 2023-06-25  canceled 2023-06-01\n257912  1989282          5098 2023-06-28      held 2023-06-01\n257913  1945955          5102 2023-06-17   pending 2023-06-01\n\n[257914 rows x 5 columns]",
      "text/html": "<div>\n<style scoped>\n    .dataframe tbody tr th:only-of-type {\n        vertical-align: middle;\n    }\n\n    .dataframe tbody tr th {\n        vertical-align: top;\n    }\n\n    .dataframe thead th {\n        text-align: right;\n    }\n</style>\n<table border=\"1\" class=\"dataframe\">\n  <thead>\n    <tr style=\"text-align: right;\">\n      <th></th>\n      <th>id</th>\n      <th>affiliate_id</th>\n      <th>created_at</th>\n      <th>state</th>\n      <th>month</th>\n    </tr>\n  </thead>\n  <tbody>\n    <tr>\n      <th>0</th>\n      <td>1908655</td>\n      <td>1</td>\n      <td>2023-06-09</td>\n      <td>canceled</td>\n      <td>2023-06-01</td>\n    </tr>\n    <tr>\n      <th>1</th>\n      <td>1982469</td>\n      <td>1</td>\n      <td>2023-06-26</td>\n      <td>held</td>\n      <td>2023-06-01</td>\n    </tr>\n    <tr>\n      <th>2</th>\n      <td>1491902</td>\n      <td>1</td>\n      <td>2022-11-05</td>\n      <td>held</td>\n      <td>2022-11-01</td>\n    </tr>\n    <tr>\n      <th>3</th>\n      <td>1235697</td>\n      <td>1</td>\n      <td>2022-07-27</td>\n      <td>canceled</td>\n      <td>2022-07-01</td>\n    </tr>\n    <tr>\n      <th>4</th>\n      <td>1235831</td>\n      <td>1</td>\n      <td>2022-07-27</td>\n      <td>held</td>\n      <td>2022-07-01</td>\n    </tr>\n    <tr>\n      <th>...</th>\n      <td>...</td>\n      <td>...</td>\n      <td>...</td>\n      <td>...</td>\n      <td>...</td>\n    </tr>\n    <tr>\n      <th>257909</th>\n      <td>1969529</td>\n      <td>5084</td>\n      <td>2023-06-23</td>\n      <td>held</td>\n      <td>2023-06-01</td>\n    </tr>\n    <tr>\n      <th>257910</th>\n      <td>1956651</td>\n      <td>5084</td>\n      <td>2023-06-20</td>\n      <td>held</td>\n      <td>2023-06-01</td>\n    </tr>\n    <tr>\n      <th>257911</th>\n      <td>1979590</td>\n      <td>5084</td>\n      <td>2023-06-25</td>\n      <td>canceled</td>\n      <td>2023-06-01</td>\n    </tr>\n    <tr>\n      <th>257912</th>\n      <td>1989282</td>\n      <td>5098</td>\n      <td>2023-06-28</td>\n      <td>held</td>\n      <td>2023-06-01</td>\n    </tr>\n    <tr>\n      <th>257913</th>\n      <td>1945955</td>\n      <td>5102</td>\n      <td>2023-06-17</td>\n      <td>pending</td>\n      <td>2023-06-01</td>\n    </tr>\n  </tbody>\n</table>\n<p>257914 rows × 5 columns</p>\n</div>"
     },
     "execution_count": 947,
     "metadata": {},
     "output_type": "execute_result"
    }
   ],
   "source": [
    "df_predict_orders"
   ],
   "metadata": {
    "collapsed": false,
    "pycharm": {
     "name": "#%%\n"
    }
   }
  },
  {
   "cell_type": "code",
   "execution_count": 948,
   "outputs": [],
   "source": [
    "df_predict_orders = df_predict_orders.groupby(['month','state']).agg({'id':'count'}).reset_index()\n",
    "df_predict_orders.columns = ['month','state','amount']\n"
   ],
   "metadata": {
    "collapsed": false,
    "pycharm": {
     "name": "#%%\n"
    }
   }
  },
  {
   "cell_type": "code",
   "execution_count": 949,
   "outputs": [],
   "source": [
    "df_predict_orders_held = df_predict_orders[df_predict_orders['state']=='held']"
   ],
   "metadata": {
    "collapsed": false,
    "pycharm": {
     "name": "#%%\n"
    }
   }
  },
  {
   "cell_type": "code",
   "execution_count": 950,
   "outputs": [
    {
     "data": {
      "text/plain": "        month state  amount\n1  2022-05-01  held    8203\n4  2022-06-01  held   12696\n7  2022-07-01  held   16846\n10 2022-08-01  held   15470\n13 2022-09-01  held    7947",
      "text/html": "<div>\n<style scoped>\n    .dataframe tbody tr th:only-of-type {\n        vertical-align: middle;\n    }\n\n    .dataframe tbody tr th {\n        vertical-align: top;\n    }\n\n    .dataframe thead th {\n        text-align: right;\n    }\n</style>\n<table border=\"1\" class=\"dataframe\">\n  <thead>\n    <tr style=\"text-align: right;\">\n      <th></th>\n      <th>month</th>\n      <th>state</th>\n      <th>amount</th>\n    </tr>\n  </thead>\n  <tbody>\n    <tr>\n      <th>1</th>\n      <td>2022-05-01</td>\n      <td>held</td>\n      <td>8203</td>\n    </tr>\n    <tr>\n      <th>4</th>\n      <td>2022-06-01</td>\n      <td>held</td>\n      <td>12696</td>\n    </tr>\n    <tr>\n      <th>7</th>\n      <td>2022-07-01</td>\n      <td>held</td>\n      <td>16846</td>\n    </tr>\n    <tr>\n      <th>10</th>\n      <td>2022-08-01</td>\n      <td>held</td>\n      <td>15470</td>\n    </tr>\n    <tr>\n      <th>13</th>\n      <td>2022-09-01</td>\n      <td>held</td>\n      <td>7947</td>\n    </tr>\n  </tbody>\n</table>\n</div>"
     },
     "execution_count": 950,
     "metadata": {},
     "output_type": "execute_result"
    }
   ],
   "source": [
    "df_predict_orders_held.head()"
   ],
   "metadata": {
    "collapsed": false,
    "pycharm": {
     "name": "#%%\n"
    }
   }
  },
  {
   "cell_type": "code",
   "execution_count": 951,
   "outputs": [
    {
     "data": {
      "text/plain": "1    2022-05-01\n4    2022-06-01\n7    2022-07-01\n10   2022-08-01\n13   2022-09-01\n16   2022-10-01\n19   2022-11-01\n22   2022-12-01\n25   2023-01-01\n28   2023-02-01\n31   2023-03-01\n34   2023-04-01\n37   2023-05-01\n40   2023-06-01\nName: month, dtype: datetime64[ns]"
     },
     "execution_count": 951,
     "metadata": {},
     "output_type": "execute_result"
    }
   ],
   "source": [
    "df_predict_orders_held['month']"
   ],
   "metadata": {
    "collapsed": false,
    "pycharm": {
     "name": "#%%\n"
    }
   }
  },
  {
   "cell_type": "code",
   "execution_count": 952,
   "outputs": [
    {
     "data": {
      "text/plain": "<AxesSubplot:xlabel='month'>"
     },
     "execution_count": 952,
     "metadata": {},
     "output_type": "execute_result"
    },
    {
     "data": {
      "text/plain": "<Figure size 1368x288 with 1 Axes>",
      "image/png": "[encoded data removed]"
     },
     "metadata": {
      "needs_background": "light"
     },
     "output_type": "display_data"
    }
   ],
   "source": [
    "y = df_predict_orders_held.set_index(['month'])\n",
    "y.plot(figsize=(19,4))"
   ],
   "metadata": {
    "collapsed": false,
    "pycharm": {
     "name": "#%%\n"
    }
   }
  },
  {
   "cell_type": "markdown",
   "source": [
    " Можно предположить, что присутствует сезонность( учитывая, что мы знаем, что мы предоставляем услуги экскурсий, то в летний сезон спрос будет выше). Количество оплаченных экскурсий начинает расти с начала весны и до середины лета"
   ],
   "metadata": {
    "collapsed": false,
    "pycharm": {
     "name": "#%% md\n"
    }
   }
  },
  {
   "cell_type": "code",
   "execution_count": 953,
   "outputs": [
    {
     "name": "stderr",
     "output_type": "stream",
     "text": [
      "C:\\Users\\Denis\\AppData\\Local\\Temp\\ipykernel_31140\\1651500984.py:1: SettingWithCopyWarning: \n",
      "A value is trying to be set on a copy of a slice from a DataFrame.\n",
      "Try using .loc[row_indexer,col_indexer] = value instead\n",
      "\n",
      "See the caveats in the documentation: https://pandas.pydata.org/pandas-docs/stable/user_guide/indexing.html#returning-a-view-versus-a-copy\n",
      "  df_predict_orders_held['ts'] = pd.to_datetime(df_predict_orders_held['month']).dt.to_period(\"M\")\n"
     ]
    }
   ],
   "source": [
    "df_predict_orders_held['ts'] = pd.to_datetime(df_predict_orders_held['month']).dt.to_period(\"M\")"
   ],
   "metadata": {
    "collapsed": false,
    "pycharm": {
     "name": "#%%\n"
    }
   }
  },
  {
   "cell_type": "code",
   "execution_count": 954,
   "outputs": [
    {
     "data": {
      "text/plain": "        month state  amount       ts\n1  2022-05-01  held    8203  2022-05\n4  2022-06-01  held   12696  2022-06\n7  2022-07-01  held   16846  2022-07\n10 2022-08-01  held   15470  2022-08\n13 2022-09-01  held    7947  2022-09\n16 2022-10-01  held    7085  2022-10\n19 2022-11-01  held    5552  2022-11\n22 2022-12-01  held    4446  2022-12\n25 2023-01-01  held    5825  2023-01\n28 2023-02-01  held    5686  2023-02\n31 2023-03-01  held    7252  2023-03\n34 2023-04-01  held    9358  2023-04\n37 2023-05-01  held   11990  2023-05\n40 2023-06-01  held   19259  2023-06",
      "text/html": "<div>\n<style scoped>\n    .dataframe tbody tr th:only-of-type {\n        vertical-align: middle;\n    }\n\n    .dataframe tbody tr th {\n        vertical-align: top;\n    }\n\n    .dataframe thead th {\n        text-align: right;\n    }\n</style>\n<table border=\"1\" class=\"dataframe\">\n  <thead>\n    <tr style=\"text-align: right;\">\n      <th></th>\n      <th>month</th>\n      <th>state</th>\n      <th>amount</th>\n      <th>ts</th>\n    </tr>\n  </thead>\n  <tbody>\n    <tr>\n      <th>1</th>\n      <td>2022-05-01</td>\n      <td>held</td>\n      <td>8203</td>\n      <td>2022-05</td>\n    </tr>\n    <tr>\n      <th>4</th>\n      <td>2022-06-01</td>\n      <td>held</td>\n      <td>12696</td>\n      <td>2022-06</td>\n    </tr>\n    <tr>\n      <th>7</th>\n      <td>2022-07-01</td>\n      <td>held</td>\n      <td>16846</td>\n      <td>2022-07</td>\n    </tr>\n    <tr>\n      <th>10</th>\n      <td>2022-08-01</td>\n      <td>held</td>\n      <td>15470</td>\n      <td>2022-08</td>\n    </tr>\n    <tr>\n      <th>13</th>\n      <td>2022-09-01</td>\n      <td>held</td>\n      <td>7947</td>\n      <td>2022-09</td>\n    </tr>\n    <tr>\n      <th>16</th>\n      <td>2022-10-01</td>\n      <td>held</td>\n      <td>7085</td>\n      <td>2022-10</td>\n    </tr>\n    <tr>\n      <th>19</th>\n      <td>2022-11-01</td>\n      <td>held</td>\n      <td>5552</td>\n      <td>2022-11</td>\n    </tr>\n    <tr>\n      <th>22</th>\n      <td>2022-12-01</td>\n      <td>held</td>\n      <td>4446</td>\n      <td>2022-12</td>\n    </tr>\n    <tr>\n      <th>25</th>\n      <td>2023-01-01</td>\n      <td>held</td>\n      <td>5825</td>\n      <td>2023-01</td>\n    </tr>\n    <tr>\n      <th>28</th>\n      <td>2023-02-01</td>\n      <td>held</td>\n      <td>5686</td>\n      <td>2023-02</td>\n    </tr>\n    <tr>\n      <th>31</th>\n      <td>2023-03-01</td>\n      <td>held</td>\n      <td>7252</td>\n      <td>2023-03</td>\n    </tr>\n    <tr>\n      <th>34</th>\n      <td>2023-04-01</td>\n      <td>held</td>\n      <td>9358</td>\n      <td>2023-04</td>\n    </tr>\n    <tr>\n      <th>37</th>\n      <td>2023-05-01</td>\n      <td>held</td>\n      <td>11990</td>\n      <td>2023-05</td>\n    </tr>\n    <tr>\n      <th>40</th>\n      <td>2023-06-01</td>\n      <td>held</td>\n      <td>19259</td>\n      <td>2023-06</td>\n    </tr>\n  </tbody>\n</table>\n</div>"
     },
     "execution_count": 954,
     "metadata": {},
     "output_type": "execute_result"
    }
   ],
   "source": [
    "df_predict_orders_held"
   ],
   "metadata": {
    "collapsed": false,
    "pycharm": {
     "name": "#%%\n"
    }
   }
  },
  {
   "cell_type": "code",
   "execution_count": 955,
   "outputs": [
    {
     "name": "stdout",
     "output_type": "stream",
     "text": [
      "<class 'pandas.core.frame.DataFrame'>\n",
      "Int64Index: 14 entries, 1 to 40\n",
      "Data columns (total 4 columns):\n",
      " #   Column  Non-Null Count  Dtype         \n",
      "---  ------  --------------  -----         \n",
      " 0   month   14 non-null     datetime64[ns]\n",
      " 1   state   14 non-null     object        \n",
      " 2   amount  14 non-null     int64         \n",
      " 3   ts      14 non-null     period[M]     \n",
      "dtypes: datetime64[ns](1), int64(1), object(1), period[M](1)\n",
      "memory usage: 560.0+ bytes\n"
     ]
    }
   ],
   "source": [
    "df_predict_orders_held.info()"
   ],
   "metadata": {
    "collapsed": false,
    "pycharm": {
     "name": "#%%\n"
    }
   }
  },
  {
   "cell_type": "code",
   "execution_count": 956,
   "outputs": [],
   "source": [
    "from sktime.forecasting.naive import NaiveForecaster\n",
    "from sktime.forecasting.base import ForecastingHorizon"
   ],
   "metadata": {
    "collapsed": false,
    "pycharm": {
     "name": "#%%\n"
    }
   }
  },
  {
   "cell_type": "code",
   "execution_count": 957,
   "outputs": [
    {
     "data": {
      "text/plain": "ForecastingHorizon(['2023-04', '2023-05', '2023-06', '2023-07', '2023-08', '2023-09',\n             '2023-10', '2023-11'],\n            dtype='period[M]', is_relative=False)"
     },
     "execution_count": 957,
     "metadata": {},
     "output_type": "execute_result"
    }
   ],
   "source": [
    "fh = ForecastingHorizon(\n",
    "    pd.PeriodIndex(pd.date_range(\"2023-04-01\", periods=8, freq=\"M\")), is_relative=False\n",
    ")\n",
    "fh"
   ],
   "metadata": {
    "collapsed": false,
    "pycharm": {
     "name": "#%%\n"
    }
   }
  },
  {
   "cell_type": "code",
   "execution_count": 958,
   "outputs": [],
   "source": [
    "y = df_predict_orders_held[[\"ts\",\"amount\"]].set_index(\"ts\")"
   ],
   "metadata": {
    "collapsed": false,
    "pycharm": {
     "name": "#%%\n"
    }
   }
  },
  {
   "cell_type": "code",
   "execution_count": 959,
   "outputs": [
    {
     "data": {
      "text/plain": "         amount\nts             \n2022-05    8203\n2022-06   12696\n2022-07   16846\n2022-08   15470\n2022-09    7947\n2022-10    7085\n2022-11    5552\n2022-12    4446\n2023-01    5825\n2023-02    5686\n2023-03    7252\n2023-04    9358\n2023-05   11990\n2023-06   19259",
      "text/html": "<div>\n<style scoped>\n    .dataframe tbody tr th:only-of-type {\n        vertical-align: middle;\n    }\n\n    .dataframe tbody tr th {\n        vertical-align: top;\n    }\n\n    .dataframe thead th {\n        text-align: right;\n    }\n</style>\n<table border=\"1\" class=\"dataframe\">\n  <thead>\n    <tr style=\"text-align: right;\">\n      <th></th>\n      <th>amount</th>\n    </tr>\n    <tr>\n      <th>ts</th>\n      <th></th>\n    </tr>\n  </thead>\n  <tbody>\n    <tr>\n      <th>2022-05</th>\n      <td>8203</td>\n    </tr>\n    <tr>\n      <th>2022-06</th>\n      <td>12696</td>\n    </tr>\n    <tr>\n      <th>2022-07</th>\n      <td>16846</td>\n    </tr>\n    <tr>\n      <th>2022-08</th>\n      <td>15470</td>\n    </tr>\n    <tr>\n      <th>2022-09</th>\n      <td>7947</td>\n    </tr>\n    <tr>\n      <th>2022-10</th>\n      <td>7085</td>\n    </tr>\n    <tr>\n      <th>2022-11</th>\n      <td>5552</td>\n    </tr>\n    <tr>\n      <th>2022-12</th>\n      <td>4446</td>\n    </tr>\n    <tr>\n      <th>2023-01</th>\n      <td>5825</td>\n    </tr>\n    <tr>\n      <th>2023-02</th>\n      <td>5686</td>\n    </tr>\n    <tr>\n      <th>2023-03</th>\n      <td>7252</td>\n    </tr>\n    <tr>\n      <th>2023-04</th>\n      <td>9358</td>\n    </tr>\n    <tr>\n      <th>2023-05</th>\n      <td>11990</td>\n    </tr>\n    <tr>\n      <th>2023-06</th>\n      <td>19259</td>\n    </tr>\n  </tbody>\n</table>\n</div>"
     },
     "execution_count": 959,
     "metadata": {},
     "output_type": "execute_result"
    }
   ],
   "source": [
    "y"
   ],
   "metadata": {
    "collapsed": false,
    "pycharm": {
     "name": "#%%\n"
    }
   }
  },
  {
   "cell_type": "code",
   "execution_count": 960,
   "outputs": [
    {
     "data": {
      "text/plain": "NaiveForecaster(sp=12)",
      "text/html": "<style>#sk-d58f006e-3de0-46e4-97c4-f7578eed80ca {color: black;background-color: white;}#sk-d58f006e-3de0-46e4-97c4-f7578eed80ca pre{padding: 0;}#sk-d58f006e-3de0-46e4-97c4-f7578eed80ca div.sk-toggleable {background-color: white;}#sk-d58f006e-3de0-46e4-97c4-f7578eed80ca label.sk-toggleable__label {cursor: pointer;display: block;width: 100%;margin-bottom: 0;padding: 0.3em;box-sizing: border-box;text-align: center;}#sk-d58f006e-3de0-46e4-97c4-f7578eed80ca label.sk-toggleable__label-arrow:before {content: \"▸\";float: left;margin-right: 0.25em;color: #696969;}#sk-d58f006e-3de0-46e4-97c4-f7578eed80ca label.sk-toggleable__label-arrow:hover:before {color: black;}#sk-d58f006e-3de0-46e4-97c4-f7578eed80ca div.sk-estimator:hover label.sk-toggleable__label-arrow:before {color: black;}#sk-d58f006e-3de0-46e4-97c4-f7578eed80ca div.sk-toggleable__content {max-height: 0;max-width: 0;overflow: hidden;text-align: left;background-color: #f0f8ff;}#sk-d58f006e-3de0-46e4-97c4-f7578eed80ca div.sk-toggleable__content pre {margin: 0.2em;color: black;border-radius: 0.25em;background-color: #f0f8ff;}#sk-d58f006e-3de0-46e4-97c4-f7578eed80ca input.sk-toggleable__control:checked~div.sk-toggleable__content {max-height: 200px;max-width: 100%;overflow: auto;}#sk-d58f006e-3de0-46e4-97c4-f7578eed80ca input.sk-toggleable__control:checked~label.sk-toggleable__label-arrow:before {content: \"▾\";}#sk-d58f006e-3de0-46e4-97c4-f7578eed80ca div.sk-estimator input.sk-toggleable__control:checked~label.sk-toggleable__label {background-color: #d4ebff;}#sk-d58f006e-3de0-46e4-97c4-f7578eed80ca div.sk-label input.sk-toggleable__control:checked~label.sk-toggleable__label {background-color: #d4ebff;}#sk-d58f006e-3de0-46e4-97c4-f7578eed80ca input.sk-hidden--visually {border: 0;clip: rect(1px 1px 1px 1px);clip: rect(1px, 1px, 1px, 1px);height: 1px;margin: -1px;overflow: hidden;padding: 0;position: absolute;width: 1px;}#sk-d58f006e-3de0-46e4-97c4-f7578eed80ca div.sk-estimator {font-family: monospace;background-color: #f0f8ff;border: 1px dotted black;border-radius: 0.25em;box-sizing: border-box;margin-bottom: 0.5em;}#sk-d58f006e-3de0-46e4-97c4-f7578eed80ca div.sk-estimator:hover {background-color: #d4ebff;}#sk-d58f006e-3de0-46e4-97c4-f7578eed80ca div.sk-parallel-item::after {content: \"\";width: 100%;border-bottom: 1px solid gray;flex-grow: 1;}#sk-d58f006e-3de0-46e4-97c4-f7578eed80ca div.sk-label:hover label.sk-toggleable__label {background-color: #d4ebff;}#sk-d58f006e-3de0-46e4-97c4-f7578eed80ca div.sk-serial::before {content: \"\";position: absolute;border-left: 1px solid gray;box-sizing: border-box;top: 2em;bottom: 0;left: 50%;}#sk-d58f006e-3de0-46e4-97c4-f7578eed80ca div.sk-serial {display: flex;flex-direction: column;align-items: center;background-color: white;padding-right: 0.2em;padding-left: 0.2em;}#sk-d58f006e-3de0-46e4-97c4-f7578eed80ca div.sk-item {z-index: 1;}#sk-d58f006e-3de0-46e4-97c4-f7578eed80ca div.sk-parallel {display: flex;align-items: stretch;justify-content: center;background-color: white;}#sk-d58f006e-3de0-46e4-97c4-f7578eed80ca div.sk-parallel::before {content: \"\";position: absolute;border-left: 1px solid gray;box-sizing: border-box;top: 2em;bottom: 0;left: 50%;}#sk-d58f006e-3de0-46e4-97c4-f7578eed80ca div.sk-parallel-item {display: flex;flex-direction: column;position: relative;background-color: white;}#sk-d58f006e-3de0-46e4-97c4-f7578eed80ca div.sk-parallel-item:first-child::after {align-self: flex-end;width: 50%;}#sk-d58f006e-3de0-46e4-97c4-f7578eed80ca div.sk-parallel-item:last-child::after {align-self: flex-start;width: 50%;}#sk-d58f006e-3de0-46e4-97c4-f7578eed80ca div.sk-parallel-item:only-child::after {width: 0;}#sk-d58f006e-3de0-46e4-97c4-f7578eed80ca div.sk-dashed-wrapped {border: 1px dashed gray;margin: 0 0.4em 0.5em 0.4em;box-sizing: border-box;padding-bottom: 0.4em;background-color: white;position: relative;}#sk-d58f006e-3de0-46e4-97c4-f7578eed80ca div.sk-label label {font-family: monospace;font-weight: bold;background-color: white;display: inline-block;line-height: 1.2em;}#sk-d58f006e-3de0-46e4-97c4-f7578eed80ca div.sk-label-container {position: relative;z-index: 2;text-align: center;}#sk-d58f006e-3de0-46e4-97c4-f7578eed80ca div.sk-container {/* jupyter's `normalize.less` sets `[hidden] { display: none; }` but bootstrap.min.css set `[hidden] { display: none !important; }` so we also need the `!important` here to be able to override the default hidden behavior on the sphinx rendered scikit-learn.org. See: https://github.com/scikit-learn/scikit-learn/issues/21755 */display: inline-block !important;position: relative;}#sk-d58f006e-3de0-46e4-97c4-f7578eed80ca div.sk-text-repr-fallback {display: none;}</style><div id='sk-d58f006e-3de0-46e4-97c4-f7578eed80ca' class=\"sk-top-container\"><div class=\"sk-text-repr-fallback\"><pre>NaiveForecaster(sp=12)</pre><b>Please rerun this cell to show the HTML repr or trust the notebook.</b></div><div class=\"sk-container\" hidden><div class='sk-item'><div class=\"sk-estimator sk-toggleable\"><input class=\"sk-toggleable__control sk-hidden--visually\" id=UUID('9529dc4b-0e37-4bca-b824-103d142dc60b') type=\"checkbox\" checked><label for=UUID('9529dc4b-0e37-4bca-b824-103d142dc60b') class='sk-toggleable__label sk-toggleable__label-arrow'>NaiveForecaster</label><div class=\"sk-toggleable__content\"><pre>NaiveForecaster(sp=12)</pre></div></div></div></div></div>"
     },
     "execution_count": 960,
     "metadata": {},
     "output_type": "execute_result"
    }
   ],
   "source": [
    "forecaster = NaiveForecaster(strategy=\"last\",sp=12) # sp= 12 ежемесячная сезонность\n",
    "forecaster.fit(y)"
   ],
   "metadata": {
    "collapsed": false,
    "pycharm": {
     "name": "#%%\n"
    }
   }
  },
  {
   "cell_type": "code",
   "execution_count": 961,
   "outputs": [],
   "source": [
    "y_pred = forecaster.predict(fh)"
   ],
   "metadata": {
    "collapsed": false,
    "pycharm": {
     "name": "#%%\n"
    }
   }
  },
  {
   "cell_type": "code",
   "execution_count": 962,
   "outputs": [
    {
     "data": {
      "text/plain": "          amount\n2023-04   9358.0\n2023-05   8203.0\n2023-06  12696.0\n2023-07  16846.0\n2023-08  15470.0\n2023-09   7947.0\n2023-10   7085.0\n2023-11   5552.0",
      "text/html": "<div>\n<style scoped>\n    .dataframe tbody tr th:only-of-type {\n        vertical-align: middle;\n    }\n\n    .dataframe tbody tr th {\n        vertical-align: top;\n    }\n\n    .dataframe thead th {\n        text-align: right;\n    }\n</style>\n<table border=\"1\" class=\"dataframe\">\n  <thead>\n    <tr style=\"text-align: right;\">\n      <th></th>\n      <th>amount</th>\n    </tr>\n  </thead>\n  <tbody>\n    <tr>\n      <th>2023-04</th>\n      <td>9358.0</td>\n    </tr>\n    <tr>\n      <th>2023-05</th>\n      <td>8203.0</td>\n    </tr>\n    <tr>\n      <th>2023-06</th>\n      <td>12696.0</td>\n    </tr>\n    <tr>\n      <th>2023-07</th>\n      <td>16846.0</td>\n    </tr>\n    <tr>\n      <th>2023-08</th>\n      <td>15470.0</td>\n    </tr>\n    <tr>\n      <th>2023-09</th>\n      <td>7947.0</td>\n    </tr>\n    <tr>\n      <th>2023-10</th>\n      <td>7085.0</td>\n    </tr>\n    <tr>\n      <th>2023-11</th>\n      <td>5552.0</td>\n    </tr>\n  </tbody>\n</table>\n</div>"
     },
     "execution_count": 962,
     "metadata": {},
     "output_type": "execute_result"
    }
   ],
   "source": [
    "y_pred"
   ],
   "metadata": {
    "collapsed": false,
    "pycharm": {
     "name": "#%%\n"
    }
   }
  },
  {
   "cell_type": "code",
   "execution_count": 963,
   "outputs": [],
   "source": [
    "from sktime.forecasting.model_selection import temporal_train_test_split"
   ],
   "metadata": {
    "collapsed": false,
    "pycharm": {
     "name": "#%%\n"
    }
   }
  },
  {
   "cell_type": "code",
   "execution_count": 964,
   "outputs": [],
   "source": [
    "y_train, y_test = temporal_train_test_split(y, test_size=3)"
   ],
   "metadata": {
    "collapsed": false,
    "pycharm": {
     "name": "#%%\n"
    }
   }
  },
  {
   "cell_type": "code",
   "execution_count": 965,
   "outputs": [],
   "source": [
    "fh = ForecastingHorizon(y_test.index, is_relative=False)\n",
    "forecaster = NaiveForecaster(strategy=\"last\", sp=7)\n",
    "forecaster.fit(y_train)\n",
    "y_pred = forecaster.predict(fh)"
   ],
   "metadata": {
    "collapsed": false,
    "pycharm": {
     "name": "#%%\n"
    }
   }
  },
  {
   "cell_type": "code",
   "execution_count": 966,
   "outputs": [
    {
     "data": {
      "text/plain": "0.4238633955082643"
     },
     "execution_count": 966,
     "metadata": {},
     "output_type": "execute_result"
    }
   ],
   "source": [
    "from sktime.performance_metrics.forecasting import mean_absolute_percentage_error\n",
    "mean_absolute_percentage_error(y_test, y_pred)"
   ],
   "metadata": {
    "collapsed": false,
    "pycharm": {
     "name": "#%%\n"
    }
   }
  },
  {
   "cell_type": "code",
   "execution_count": 966,
   "outputs": [],
   "source": [],
   "metadata": {
    "collapsed": false,
    "pycharm": {
     "name": "#%%\n"
    }
   }
  }
 ],
 "metadata": {
  "kernelspec": {
   "display_name": "Python 3",
   "language": "python",
   "name": "python3"
  },
  "language_info": {
   "codemirror_mode": {
    "name": "ipython",
    "version": 2
   },
   "file_extension": ".py",
   "mimetype": "text/x-python",
   "name": "python",
   "nbconvert_exporter": "python",
   "pygments_lexer": "ipython2",
   "version": "2.7.6"
  }
 },
 "nbformat": 4,
 "nbformat_minor": 0
}