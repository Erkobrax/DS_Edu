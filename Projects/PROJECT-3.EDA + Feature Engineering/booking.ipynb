{
 "cells": [
  {
   "cell_type": "code",
   "execution_count": 292,
   "metadata": {
    "collapsed": true
   },
   "outputs": [],
   "source": [
    "import pandas as pd\n",
    "import numpy as np\n",
    "import seaborn as sns\n",
    "import category_encoders as ce\n",
    "import re\n",
    "from sklearn.feature_selection import chi2\n",
    "from sklearn.model_selection import train_test_split\n",
    "import matplotlib.pyplot as plt"
   ]
  },
  {
   "cell_type": "code",
   "execution_count": 326,
   "outputs": [
    {
     "name": "stderr",
     "output_type": "stream",
     "text": [
      "C:\\Users\\Denis\\AppData\\Local\\Temp\\ipykernel_19164\\55039208.py:6: FutureWarning: The frame.append method is deprecated and will be removed from pandas in a future version. Use pandas.concat instead.\n",
      "  df = test.append(train, sort=False)\n"
     ]
    },
    {
     "data": {
      "text/plain": "                                       hotel_address  \\\n0                 Via Senigallia 6 20161 Milan Italy   \n1  Arlandaweg 10 Westpoort 1043 EW Amsterdam Neth...   \n2        Mallorca 251 Eixample 08008 Barcelona Spain   \n3  Piazza Della Repubblica 17 Central Station 201...   \n4  Singel 303 309 Amsterdam City Center 1012 WJ A...   \n\n   additional_number_of_scoring review_date  average_score  \\\n0                           904   7/21/2017            8.1   \n1                           612  12/12/2016            8.6   \n2                            46  11/26/2015            8.3   \n3                           241  10/17/2015            9.1   \n4                           834   5/16/2016            9.1   \n\n                                   hotel_name        reviewer_nationality  \\\n0                              Hotel Da Vinci             United Kingdom    \n1                           Urban Lodge Hotel                    Belgium    \n2  Alexandra Barcelona A DoubleTree by Hilton                     Sweden    \n3                    Hotel Principe Di Savoia   United States of America    \n4                              Hotel Esther a             United Kingdom    \n\n                                     negative_review  \\\n0   Would have appreciated a shop in the hotel th...   \n1        No tissue paper box was present at the room   \n2                                           Pillows    \n3                                        No Negative   \n4                                        No Negative   \n\n   review_total_negative_word_counts  total_number_of_reviews  \\\n0                                 52                    16670   \n1                                 10                     5018   \n2                                  3                      351   \n3                                  0                     1543   \n4                                  0                     4687   \n\n                                     positive_review  \\\n0   Hotel was great clean friendly staff free bre...   \n1                                        No Positive   \n2                         Nice welcoming and service   \n3   Everything including the nice upgrade The Hot...   \n4                    Lovely hotel v welcoming staff    \n\n   review_total_positive_word_counts  \\\n0                                 62   \n1                                  0   \n2                                  5   \n3                                 27   \n4                                  7   \n\n   total_number_of_reviews_reviewer_has_given  \\\n0                                           1   \n1                                           7   \n2                                          15   \n3                                           9   \n4                                           2   \n\n                                                tags days_since_review  \\\n0  [' Leisure trip ', ' Couple ', ' Double Room '...           13 days   \n1  [' Leisure trip ', ' Group ', ' Triple Room ',...           234 day   \n2  [' Business trip ', ' Solo traveler ', ' Twin ...           616 day   \n3  [' Leisure trip ', ' Couple ', ' Ambassador Ju...           656 day   \n4  [' Business trip ', ' Solo traveler ', ' Class...           444 day   \n\n         lat       lng  sample  reviewer_score  \n0  45.533137  9.171102       0             NaN  \n1  52.385649  4.834443       0             NaN  \n2  41.393192  2.161520       0             NaN  \n3  45.479888  9.196298       0             NaN  \n4  52.370545  4.888644       0             NaN  ",
      "text/html": "<div>\n<style scoped>\n    .dataframe tbody tr th:only-of-type {\n        vertical-align: middle;\n    }\n\n    .dataframe tbody tr th {\n        vertical-align: top;\n    }\n\n    .dataframe thead th {\n        text-align: right;\n    }\n</style>\n<table border=\"1\" class=\"dataframe\">\n  <thead>\n    <tr style=\"text-align: right;\">\n      <th></th>\n      <th>hotel_address</th>\n      <th>additional_number_of_scoring</th>\n      <th>review_date</th>\n      <th>average_score</th>\n      <th>hotel_name</th>\n      <th>reviewer_nationality</th>\n      <th>negative_review</th>\n      <th>review_total_negative_word_counts</th>\n      <th>total_number_of_reviews</th>\n      <th>positive_review</th>\n      <th>review_total_positive_word_counts</th>\n      <th>total_number_of_reviews_reviewer_has_given</th>\n      <th>tags</th>\n      <th>days_since_review</th>\n      <th>lat</th>\n      <th>lng</th>\n      <th>sample</th>\n      <th>reviewer_score</th>\n    </tr>\n  </thead>\n  <tbody>\n    <tr>\n      <th>0</th>\n      <td>Via Senigallia 6 20161 Milan Italy</td>\n      <td>904</td>\n      <td>7/21/2017</td>\n      <td>8.1</td>\n      <td>Hotel Da Vinci</td>\n      <td>United Kingdom</td>\n      <td>Would have appreciated a shop in the hotel th...</td>\n      <td>52</td>\n      <td>16670</td>\n      <td>Hotel was great clean friendly staff free bre...</td>\n      <td>62</td>\n      <td>1</td>\n      <td>[' Leisure trip ', ' Couple ', ' Double Room '...</td>\n      <td>13 days</td>\n      <td>45.533137</td>\n      <td>9.171102</td>\n      <td>0</td>\n      <td>NaN</td>\n    </tr>\n    <tr>\n      <th>1</th>\n      <td>Arlandaweg 10 Westpoort 1043 EW Amsterdam Neth...</td>\n      <td>612</td>\n      <td>12/12/2016</td>\n      <td>8.6</td>\n      <td>Urban Lodge Hotel</td>\n      <td>Belgium</td>\n      <td>No tissue paper box was present at the room</td>\n      <td>10</td>\n      <td>5018</td>\n      <td>No Positive</td>\n      <td>0</td>\n      <td>7</td>\n      <td>[' Leisure trip ', ' Group ', ' Triple Room ',...</td>\n      <td>234 day</td>\n      <td>52.385649</td>\n      <td>4.834443</td>\n      <td>0</td>\n      <td>NaN</td>\n    </tr>\n    <tr>\n      <th>2</th>\n      <td>Mallorca 251 Eixample 08008 Barcelona Spain</td>\n      <td>46</td>\n      <td>11/26/2015</td>\n      <td>8.3</td>\n      <td>Alexandra Barcelona A DoubleTree by Hilton</td>\n      <td>Sweden</td>\n      <td>Pillows</td>\n      <td>3</td>\n      <td>351</td>\n      <td>Nice welcoming and service</td>\n      <td>5</td>\n      <td>15</td>\n      <td>[' Business trip ', ' Solo traveler ', ' Twin ...</td>\n      <td>616 day</td>\n      <td>41.393192</td>\n      <td>2.161520</td>\n      <td>0</td>\n      <td>NaN</td>\n    </tr>\n    <tr>\n      <th>3</th>\n      <td>Piazza Della Repubblica 17 Central Station 201...</td>\n      <td>241</td>\n      <td>10/17/2015</td>\n      <td>9.1</td>\n      <td>Hotel Principe Di Savoia</td>\n      <td>United States of America</td>\n      <td>No Negative</td>\n      <td>0</td>\n      <td>1543</td>\n      <td>Everything including the nice upgrade The Hot...</td>\n      <td>27</td>\n      <td>9</td>\n      <td>[' Leisure trip ', ' Couple ', ' Ambassador Ju...</td>\n      <td>656 day</td>\n      <td>45.479888</td>\n      <td>9.196298</td>\n      <td>0</td>\n      <td>NaN</td>\n    </tr>\n    <tr>\n      <th>4</th>\n      <td>Singel 303 309 Amsterdam City Center 1012 WJ A...</td>\n      <td>834</td>\n      <td>5/16/2016</td>\n      <td>9.1</td>\n      <td>Hotel Esther a</td>\n      <td>United Kingdom</td>\n      <td>No Negative</td>\n      <td>0</td>\n      <td>4687</td>\n      <td>Lovely hotel v welcoming staff</td>\n      <td>7</td>\n      <td>2</td>\n      <td>[' Business trip ', ' Solo traveler ', ' Class...</td>\n      <td>444 day</td>\n      <td>52.370545</td>\n      <td>4.888644</td>\n      <td>0</td>\n      <td>NaN</td>\n    </tr>\n  </tbody>\n</table>\n</div>"
     },
     "execution_count": 326,
     "metadata": {},
     "output_type": "execute_result"
    }
   ],
   "source": [
    "df = pd.read_csv('hotels.csv')\n",
    "test = pd.read_csv('Data/hotels_test.csv')\n",
    "train = pd.read_csv('Data/hotels_train.csv')\n",
    "test['sample'] = 0 # тест\n",
    "train['sample'] = 1 # тренировачный\n",
    "df = test.append(train, sort=False)\n",
    "df.head()"
   ],
   "metadata": {
    "collapsed": false,
    "pycharm": {
     "name": "#%%\n"
    }
   }
  },
  {
   "cell_type": "code",
   "execution_count": 294,
   "outputs": [
    {
     "data": {
      "text/plain": "hotel_address                                      0\nadditional_number_of_scoring                       0\nreview_date                                        0\naverage_score                                      0\nhotel_name                                         0\nreviewer_nationality                               0\nnegative_review                                    0\nreview_total_negative_word_counts                  0\ntotal_number_of_reviews                            0\npositive_review                                    0\nreview_total_positive_word_counts                  0\ntotal_number_of_reviews_reviewer_has_given         0\ntags                                               0\ndays_since_review                                  0\nlat                                             3268\nlng                                             3268\nsample                                             0\nreviewer_score                                128935\ndtype: int64"
     },
     "execution_count": 294,
     "metadata": {},
     "output_type": "execute_result"
    }
   ],
   "source": [
    "df.isna().sum()"
   ],
   "metadata": {
    "collapsed": false,
    "pycharm": {
     "name": "#%%\n"
    }
   }
  },
  {
   "cell_type": "code",
   "execution_count": 295,
   "outputs": [
    {
     "data": {
      "text/plain": "Index(['additional_number_of_scoring', 'average_score',\n       'review_total_negative_word_counts', 'total_number_of_reviews',\n       'review_total_positive_word_counts',\n       'total_number_of_reviews_reviewer_has_given', 'lat', 'lng', 'sample',\n       'reviewer_score'],\n      dtype='object')"
     },
     "execution_count": 295,
     "metadata": {},
     "output_type": "execute_result"
    }
   ],
   "source": [
    "integer_columns = df.select_dtypes(['int64','float64']).columns\n",
    "integer_columns"
   ],
   "metadata": {
    "collapsed": false,
    "pycharm": {
     "name": "#%%\n"
    }
   }
  },
  {
   "cell_type": "code",
   "execution_count": 296,
   "outputs": [
    {
     "data": {
      "text/plain": "Index(['hotel_address', 'review_date', 'hotel_name', 'reviewer_nationality',\n       'negative_review', 'positive_review', 'tags', 'days_since_review'],\n      dtype='object')"
     },
     "execution_count": 296,
     "metadata": {},
     "output_type": "execute_result"
    }
   ],
   "source": [
    "cat_columns = df.select_dtypes('object').columns\n",
    "cat_columns"
   ],
   "metadata": {
    "collapsed": false,
    "pycharm": {
     "name": "#%%\n"
    }
   }
  },
  {
   "cell_type": "code",
   "execution_count": 297,
   "outputs": [
    {
     "name": "stdout",
     "output_type": "stream",
     "text": [
      "<class 'pandas.core.frame.DataFrame'>\n",
      "Int64Index: 515738 entries, 0 to 386802\n",
      "Data columns (total 18 columns):\n",
      " #   Column                                      Non-Null Count   Dtype  \n",
      "---  ------                                      --------------   -----  \n",
      " 0   hotel_address                               515738 non-null  object \n",
      " 1   additional_number_of_scoring                515738 non-null  int64  \n",
      " 2   review_date                                 515738 non-null  object \n",
      " 3   average_score                               515738 non-null  float64\n",
      " 4   hotel_name                                  515738 non-null  object \n",
      " 5   reviewer_nationality                        515738 non-null  object \n",
      " 6   negative_review                             515738 non-null  object \n",
      " 7   review_total_negative_word_counts           515738 non-null  int64  \n",
      " 8   total_number_of_reviews                     515738 non-null  int64  \n",
      " 9   positive_review                             515738 non-null  object \n",
      " 10  review_total_positive_word_counts           515738 non-null  int64  \n",
      " 11  total_number_of_reviews_reviewer_has_given  515738 non-null  int64  \n",
      " 12  tags                                        515738 non-null  object \n",
      " 13  days_since_review                           515738 non-null  object \n",
      " 14  lat                                         512470 non-null  float64\n",
      " 15  lng                                         512470 non-null  float64\n",
      " 16  sample                                      515738 non-null  int64  \n",
      " 17  reviewer_score                              386803 non-null  float64\n",
      "dtypes: float64(4), int64(6), object(8)\n",
      "memory usage: 74.8+ MB\n"
     ]
    }
   ],
   "source": [
    "df.info()"
   ],
   "metadata": {
    "collapsed": false,
    "pycharm": {
     "name": "#%%\n"
    }
   }
  },
  {
   "cell_type": "code",
   "execution_count": 298,
   "outputs": [
    {
     "data": {
      "text/plain": "1492"
     },
     "execution_count": 298,
     "metadata": {},
     "output_type": "execute_result"
    }
   ],
   "source": [
    "df['hotel_name'].nunique()"
   ],
   "metadata": {
    "collapsed": false,
    "pycharm": {
     "name": "#%%\n"
    }
   }
  },
  {
   "cell_type": "code",
   "execution_count": 299,
   "outputs": [],
   "source": [
    "df['hotel_address'] = df['hotel_address'].apply(lambda x: x.split()[-1] if x.split()[-1] != 'Kingdom' else 'UK' )\n",
    "df.rename(columns={'hotel_address':'country'}, inplace=True)\n",
    "df.head()"
   ],
   "metadata": {
    "collapsed": false,
    "pycharm": {
     "name": "#%%\n"
    }
   }
  },
  {
   "cell_type": "code",
   "execution_count": 300,
   "outputs": [
    {
     "data": {
      "text/plain": "count       515738\nunique         731\ntop       8/2/2017\nfreq          2585\nName: review_date, dtype: object"
     },
     "execution_count": 300,
     "metadata": {},
     "output_type": "execute_result"
    }
   ],
   "source": [
    "df['review_date'].describe()"
   ],
   "metadata": {
    "collapsed": false,
    "pycharm": {
     "name": "#%%\n"
    }
   }
  },
  {
   "cell_type": "code",
   "execution_count": 301,
   "outputs": [
    {
     "data": {
      "text/plain": "0    [' Leisure trip ', ' Couple ', ' Double Room '...\n0    [' Leisure trip ', ' Couple ', ' Studio Suite ...\nName: tags, dtype: object"
     },
     "execution_count": 301,
     "metadata": {},
     "output_type": "execute_result"
    }
   ],
   "source": [
    "df['tags'][0]"
   ],
   "metadata": {
    "collapsed": false,
    "pycharm": {
     "name": "#%%\n"
    }
   }
  },
  {
   "cell_type": "code",
   "execution_count": 302,
   "outputs": [],
   "source": [
    "reg = \"\\'(.*?)\\'\"\n",
    "#df['tags'] = list(df['tags'])\n",
    "df['tags'] = df['tags'].apply(lambda x: re.findall(reg,x))"
   ],
   "metadata": {
    "collapsed": false,
    "pycharm": {
     "name": "#%%\n"
    }
   }
  },
  {
   "cell_type": "code",
   "execution_count": 303,
   "outputs": [
    {
     "data": {
      "text/plain": " Leisure trip                                 417778\n Submitted from a mobile device               307640\n Couple                                       252294\n Stayed 1 night                               193645\n Stayed 2 nights                              133937\n                                               ...  \n Duplex King Suite 3 Adults                        1\n Suite Free Executive Lounge Access                1\n Suite with Executive Lounge Access                1\n Family Room three bedrooms communicating          1\n Quadruple Room 2 Adults 2 Children                1\nName: tags, Length: 2428, dtype: int64"
     },
     "execution_count": 303,
     "metadata": {},
     "output_type": "execute_result"
    }
   ],
   "source": [
    "df['tags'].explode().value_counts()\n"
   ],
   "metadata": {
    "collapsed": false,
    "pycharm": {
     "name": "#%%\n"
    }
   }
  },
  {
   "cell_type": "code",
   "execution_count": 304,
   "outputs": [
    {
     "data": {
      "text/plain": "       country  additional_number_of_scoring review_date  average_score  \\\n0        Italy                           904   7/21/2017            8.1   \n1  Netherlands                           612  12/12/2016            8.6   \n2        Spain                            46  11/26/2015            8.3   \n3        Italy                           241  10/17/2015            9.1   \n4  Netherlands                           834   5/16/2016            9.1   \n\n                                   hotel_name        reviewer_nationality  \\\n0                              Hotel Da Vinci             United Kingdom    \n1                           Urban Lodge Hotel                    Belgium    \n2  Alexandra Barcelona A DoubleTree by Hilton                     Sweden    \n3                    Hotel Principe Di Savoia   United States of America    \n4                              Hotel Esther a             United Kingdom    \n\n                                     negative_review  \\\n0   Would have appreciated a shop in the hotel th...   \n1        No tissue paper box was present at the room   \n2                                           Pillows    \n3                                        No Negative   \n4                                        No Negative   \n\n   review_total_negative_word_counts  total_number_of_reviews  \\\n0                                 52                    16670   \n1                                 10                     5018   \n2                                  3                      351   \n3                                  0                     1543   \n4                                  0                     4687   \n\n                                     positive_review  \\\n0   Hotel was great clean friendly staff free bre...   \n1                                        No Positive   \n2                         Nice welcoming and service   \n3   Everything including the nice upgrade The Hot...   \n4                    Lovely hotel v welcoming staff    \n\n   review_total_positive_word_counts  \\\n0                                 62   \n1                                  0   \n2                                  5   \n3                                 27   \n4                                  7   \n\n   total_number_of_reviews_reviewer_has_given  \\\n0                                           1   \n1                                           7   \n2                                          15   \n3                                           9   \n4                                           2   \n\n                                                tags days_since_review  \\\n0  [ Leisure trip ,  Couple ,  Double Room ,  Sta...           13 days   \n1  [ Leisure trip ,  Group ,  Triple Room ,  Stay...           234 day   \n2  [ Business trip ,  Solo traveler ,  Twin Room ...           616 day   \n3  [ Leisure trip ,  Couple ,  Ambassador Junior ...           656 day   \n4  [ Business trip ,  Solo traveler ,  Classic Do...           444 day   \n\n         lat       lng  sample  reviewer_score  \n0  45.533137  9.171102       0             NaN  \n1  52.385649  4.834443       0             NaN  \n2  41.393192  2.161520       0             NaN  \n3  45.479888  9.196298       0             NaN  \n4  52.370545  4.888644       0             NaN  ",
      "text/html": "<div>\n<style scoped>\n    .dataframe tbody tr th:only-of-type {\n        vertical-align: middle;\n    }\n\n    .dataframe tbody tr th {\n        vertical-align: top;\n    }\n\n    .dataframe thead th {\n        text-align: right;\n    }\n</style>\n<table border=\"1\" class=\"dataframe\">\n  <thead>\n    <tr style=\"text-align: right;\">\n      <th></th>\n      <th>country</th>\n      <th>additional_number_of_scoring</th>\n      <th>review_date</th>\n      <th>average_score</th>\n      <th>hotel_name</th>\n      <th>reviewer_nationality</th>\n      <th>negative_review</th>\n      <th>review_total_negative_word_counts</th>\n      <th>total_number_of_reviews</th>\n      <th>positive_review</th>\n      <th>review_total_positive_word_counts</th>\n      <th>total_number_of_reviews_reviewer_has_given</th>\n      <th>tags</th>\n      <th>days_since_review</th>\n      <th>lat</th>\n      <th>lng</th>\n      <th>sample</th>\n      <th>reviewer_score</th>\n    </tr>\n  </thead>\n  <tbody>\n    <tr>\n      <th>0</th>\n      <td>Italy</td>\n      <td>904</td>\n      <td>7/21/2017</td>\n      <td>8.1</td>\n      <td>Hotel Da Vinci</td>\n      <td>United Kingdom</td>\n      <td>Would have appreciated a shop in the hotel th...</td>\n      <td>52</td>\n      <td>16670</td>\n      <td>Hotel was great clean friendly staff free bre...</td>\n      <td>62</td>\n      <td>1</td>\n      <td>[ Leisure trip ,  Couple ,  Double Room ,  Sta...</td>\n      <td>13 days</td>\n      <td>45.533137</td>\n      <td>9.171102</td>\n      <td>0</td>\n      <td>NaN</td>\n    </tr>\n    <tr>\n      <th>1</th>\n      <td>Netherlands</td>\n      <td>612</td>\n      <td>12/12/2016</td>\n      <td>8.6</td>\n      <td>Urban Lodge Hotel</td>\n      <td>Belgium</td>\n      <td>No tissue paper box was present at the room</td>\n      <td>10</td>\n      <td>5018</td>\n      <td>No Positive</td>\n      <td>0</td>\n      <td>7</td>\n      <td>[ Leisure trip ,  Group ,  Triple Room ,  Stay...</td>\n      <td>234 day</td>\n      <td>52.385649</td>\n      <td>4.834443</td>\n      <td>0</td>\n      <td>NaN</td>\n    </tr>\n    <tr>\n      <th>2</th>\n      <td>Spain</td>\n      <td>46</td>\n      <td>11/26/2015</td>\n      <td>8.3</td>\n      <td>Alexandra Barcelona A DoubleTree by Hilton</td>\n      <td>Sweden</td>\n      <td>Pillows</td>\n      <td>3</td>\n      <td>351</td>\n      <td>Nice welcoming and service</td>\n      <td>5</td>\n      <td>15</td>\n      <td>[ Business trip ,  Solo traveler ,  Twin Room ...</td>\n      <td>616 day</td>\n      <td>41.393192</td>\n      <td>2.161520</td>\n      <td>0</td>\n      <td>NaN</td>\n    </tr>\n    <tr>\n      <th>3</th>\n      <td>Italy</td>\n      <td>241</td>\n      <td>10/17/2015</td>\n      <td>9.1</td>\n      <td>Hotel Principe Di Savoia</td>\n      <td>United States of America</td>\n      <td>No Negative</td>\n      <td>0</td>\n      <td>1543</td>\n      <td>Everything including the nice upgrade The Hot...</td>\n      <td>27</td>\n      <td>9</td>\n      <td>[ Leisure trip ,  Couple ,  Ambassador Junior ...</td>\n      <td>656 day</td>\n      <td>45.479888</td>\n      <td>9.196298</td>\n      <td>0</td>\n      <td>NaN</td>\n    </tr>\n    <tr>\n      <th>4</th>\n      <td>Netherlands</td>\n      <td>834</td>\n      <td>5/16/2016</td>\n      <td>9.1</td>\n      <td>Hotel Esther a</td>\n      <td>United Kingdom</td>\n      <td>No Negative</td>\n      <td>0</td>\n      <td>4687</td>\n      <td>Lovely hotel v welcoming staff</td>\n      <td>7</td>\n      <td>2</td>\n      <td>[ Business trip ,  Solo traveler ,  Classic Do...</td>\n      <td>444 day</td>\n      <td>52.370545</td>\n      <td>4.888644</td>\n      <td>0</td>\n      <td>NaN</td>\n    </tr>\n  </tbody>\n</table>\n</div>"
     },
     "execution_count": 304,
     "metadata": {},
     "output_type": "execute_result"
    }
   ],
   "source": [
    "df.head()"
   ],
   "metadata": {
    "collapsed": false,
    "pycharm": {
     "name": "#%%\n"
    }
   }
  },
  {
   "cell_type": "code",
   "execution_count": 305,
   "outputs": [],
   "source": [
    "df.drop(columns=['hotel_name','lat','lng'], inplace=True) # признаки из которых ничего полезного нельзя взять"
   ],
   "metadata": {
    "collapsed": false,
    "pycharm": {
     "name": "#%%\n"
    }
   }
  },
  {
   "cell_type": "code",
   "execution_count": 306,
   "outputs": [
    {
     "data": {
      "text/plain": "country                                            0\nadditional_number_of_scoring                       0\nreview_date                                        0\naverage_score                                      0\nreviewer_nationality                               0\nnegative_review                                    0\nreview_total_negative_word_counts                  0\ntotal_number_of_reviews                            0\npositive_review                                    0\nreview_total_positive_word_counts                  0\ntotal_number_of_reviews_reviewer_has_given         0\ntags                                               0\ndays_since_review                                  0\nsample                                             0\nreviewer_score                                128935\ndtype: int64"
     },
     "execution_count": 306,
     "metadata": {},
     "output_type": "execute_result"
    }
   ],
   "source": [
    "df.isna().sum()"
   ],
   "metadata": {
    "collapsed": false,
    "pycharm": {
     "name": "#%%\n"
    }
   }
  },
  {
   "cell_type": "code",
   "execution_count": 307,
   "outputs": [
    {
     "data": {
      "text/plain": "       country  additional_number_of_scoring  year  average_score  \\\n0        Italy                           904  2017            8.1   \n1  Netherlands                           612  2016            8.6   \n2        Spain                            46  2015            8.3   \n3        Italy                           241  2015            9.1   \n4  Netherlands                           834  2016            9.1   \n\n         reviewer_nationality  \\\n0             United Kingdom    \n1                    Belgium    \n2                     Sweden    \n3   United States of America    \n4             United Kingdom    \n\n                                     negative_review  \\\n0   Would have appreciated a shop in the hotel th...   \n1        No tissue paper box was present at the room   \n2                                           Pillows    \n3                                        No Negative   \n4                                        No Negative   \n\n   review_total_negative_word_counts  total_number_of_reviews  \\\n0                                 52                    16670   \n1                                 10                     5018   \n2                                  3                      351   \n3                                  0                     1543   \n4                                  0                     4687   \n\n                                     positive_review  \\\n0   Hotel was great clean friendly staff free bre...   \n1                                        No Positive   \n2                         Nice welcoming and service   \n3   Everything including the nice upgrade The Hot...   \n4                    Lovely hotel v welcoming staff    \n\n   review_total_positive_word_counts  \\\n0                                 62   \n1                                  0   \n2                                  5   \n3                                 27   \n4                                  7   \n\n   total_number_of_reviews_reviewer_has_given  \\\n0                                           1   \n1                                           7   \n2                                          15   \n3                                           9   \n4                                           2   \n\n                                                tags days_since_review  \\\n0  [ Leisure trip ,  Couple ,  Double Room ,  Sta...           13 days   \n1  [ Leisure trip ,  Group ,  Triple Room ,  Stay...           234 day   \n2  [ Business trip ,  Solo traveler ,  Twin Room ...           616 day   \n3  [ Leisure trip ,  Couple ,  Ambassador Junior ...           656 day   \n4  [ Business trip ,  Solo traveler ,  Classic Do...           444 day   \n\n   sample  reviewer_score  month  \n0       0             NaN      7  \n1       0             NaN     12  \n2       0             NaN     11  \n3       0             NaN     10  \n4       0             NaN      5  ",
      "text/html": "<div>\n<style scoped>\n    .dataframe tbody tr th:only-of-type {\n        vertical-align: middle;\n    }\n\n    .dataframe tbody tr th {\n        vertical-align: top;\n    }\n\n    .dataframe thead th {\n        text-align: right;\n    }\n</style>\n<table border=\"1\" class=\"dataframe\">\n  <thead>\n    <tr style=\"text-align: right;\">\n      <th></th>\n      <th>country</th>\n      <th>additional_number_of_scoring</th>\n      <th>year</th>\n      <th>average_score</th>\n      <th>reviewer_nationality</th>\n      <th>negative_review</th>\n      <th>review_total_negative_word_counts</th>\n      <th>total_number_of_reviews</th>\n      <th>positive_review</th>\n      <th>review_total_positive_word_counts</th>\n      <th>total_number_of_reviews_reviewer_has_given</th>\n      <th>tags</th>\n      <th>days_since_review</th>\n      <th>sample</th>\n      <th>reviewer_score</th>\n      <th>month</th>\n    </tr>\n  </thead>\n  <tbody>\n    <tr>\n      <th>0</th>\n      <td>Italy</td>\n      <td>904</td>\n      <td>2017</td>\n      <td>8.1</td>\n      <td>United Kingdom</td>\n      <td>Would have appreciated a shop in the hotel th...</td>\n      <td>52</td>\n      <td>16670</td>\n      <td>Hotel was great clean friendly staff free bre...</td>\n      <td>62</td>\n      <td>1</td>\n      <td>[ Leisure trip ,  Couple ,  Double Room ,  Sta...</td>\n      <td>13 days</td>\n      <td>0</td>\n      <td>NaN</td>\n      <td>7</td>\n    </tr>\n    <tr>\n      <th>1</th>\n      <td>Netherlands</td>\n      <td>612</td>\n      <td>2016</td>\n      <td>8.6</td>\n      <td>Belgium</td>\n      <td>No tissue paper box was present at the room</td>\n      <td>10</td>\n      <td>5018</td>\n      <td>No Positive</td>\n      <td>0</td>\n      <td>7</td>\n      <td>[ Leisure trip ,  Group ,  Triple Room ,  Stay...</td>\n      <td>234 day</td>\n      <td>0</td>\n      <td>NaN</td>\n      <td>12</td>\n    </tr>\n    <tr>\n      <th>2</th>\n      <td>Spain</td>\n      <td>46</td>\n      <td>2015</td>\n      <td>8.3</td>\n      <td>Sweden</td>\n      <td>Pillows</td>\n      <td>3</td>\n      <td>351</td>\n      <td>Nice welcoming and service</td>\n      <td>5</td>\n      <td>15</td>\n      <td>[ Business trip ,  Solo traveler ,  Twin Room ...</td>\n      <td>616 day</td>\n      <td>0</td>\n      <td>NaN</td>\n      <td>11</td>\n    </tr>\n    <tr>\n      <th>3</th>\n      <td>Italy</td>\n      <td>241</td>\n      <td>2015</td>\n      <td>9.1</td>\n      <td>United States of America</td>\n      <td>No Negative</td>\n      <td>0</td>\n      <td>1543</td>\n      <td>Everything including the nice upgrade The Hot...</td>\n      <td>27</td>\n      <td>9</td>\n      <td>[ Leisure trip ,  Couple ,  Ambassador Junior ...</td>\n      <td>656 day</td>\n      <td>0</td>\n      <td>NaN</td>\n      <td>10</td>\n    </tr>\n    <tr>\n      <th>4</th>\n      <td>Netherlands</td>\n      <td>834</td>\n      <td>2016</td>\n      <td>9.1</td>\n      <td>United Kingdom</td>\n      <td>No Negative</td>\n      <td>0</td>\n      <td>4687</td>\n      <td>Lovely hotel v welcoming staff</td>\n      <td>7</td>\n      <td>2</td>\n      <td>[ Business trip ,  Solo traveler ,  Classic Do...</td>\n      <td>444 day</td>\n      <td>0</td>\n      <td>NaN</td>\n      <td>5</td>\n    </tr>\n  </tbody>\n</table>\n</div>"
     },
     "execution_count": 307,
     "metadata": {},
     "output_type": "execute_result"
    }
   ],
   "source": [
    "df['review_date'] = pd.to_datetime(df['review_date'], format='%m/%d/%Y')\n",
    "df['month'] = df['review_date'].dt.month\n",
    "df.rename(columns={'review_date':'year'}, inplace=True)\n",
    "df['year'] = df['year'].dt.year\n",
    "df.head()"
   ],
   "metadata": {
    "collapsed": false,
    "pycharm": {
     "name": "#%%\n"
    }
   }
  },
  {
   "cell_type": "code",
   "execution_count": 307,
   "outputs": [],
   "source": [],
   "metadata": {
    "collapsed": false,
    "pycharm": {
     "name": "#%%\n"
    }
   }
  },
  {
   "cell_type": "code",
   "execution_count": 308,
   "outputs": [
    {
     "data": {
      "text/plain": " United Kingdom               0.475524\nOther                         0.222159\n United States of America     0.068711\n Australia                    0.042048\n Ireland                      0.028749\n United Arab Emirates         0.019845\n Saudi Arabia                 0.017356\n Netherlands                  0.017009\n Switzerland                  0.016826\n Germany                      0.015397\n Canada                       0.015306\n France                       0.014147\n Israel                       0.012817\n Italy                        0.011855\n Belgium                      0.011694\n Turkey                       0.010556\nName: reviewer_nationality, dtype: float64"
     },
     "execution_count": 308,
     "metadata": {},
     "output_type": "execute_result"
    }
   ],
   "source": [
    "mask = df['reviewer_nationality'].map(df['reviewer_nationality'].value_counts(normalize=True)) < 0.01\n",
    "df['reviewer_nationality'] = df['reviewer_nationality'].mask(mask,'Other')\n",
    "df.reviewer_nationality.value_counts(normalize=True)"
   ],
   "metadata": {
    "collapsed": false,
    "pycharm": {
     "name": "#%%\n"
    }
   }
  },
  {
   "cell_type": "code",
   "execution_count": 309,
   "outputs": [
    {
     "data": {
      "text/plain": "            country  additional_number_of_scoring  year  average_score  \\\n0             Italy                           904  2017            8.1   \n1       Netherlands                           612  2016            8.6   \n2             Spain                            46  2015            8.3   \n3             Italy                           241  2015            9.1   \n4       Netherlands                           834  2016            9.1   \n...             ...                           ...   ...            ...   \n386798           UK                           107  2017            9.0   \n386799      Austria                           272  2017            8.4   \n386800           UK                           457  2016            6.8   \n386801           UK                           365  2017            8.1   \n386802           UK                           222  2016            9.0   \n\n                                          negative_review  \\\n0        Would have appreciated a shop in the hotel th...   \n1             No tissue paper box was present at the room   \n2                                                Pillows    \n3                                             No Negative   \n4                                             No Negative   \n...                                                   ...   \n386798                                        No Negative   \n386799                                        No Negative   \n386800   room is really small but guess is normal in L...   \n386801                                        No Negative   \n386802   Patio outside could have been cleaned of alga...   \n\n        review_total_negative_word_counts  total_number_of_reviews  \\\n0                                      52                    16670   \n1                                      10                     5018   \n2                                       3                      351   \n3                                       0                     1543   \n4                                       0                     4687   \n...                                   ...                      ...   \n386798                                  0                      617   \n386799                                  0                     3224   \n386800                                 12                     2751   \n386801                                  0                     1567   \n386802                                 20                     1209   \n\n                                          positive_review  \\\n0        Hotel was great clean friendly staff free bre...   \n1                                             No Positive   \n2                              Nice welcoming and service   \n3        Everything including the nice upgrade The Hot...   \n4                         Lovely hotel v welcoming staff    \n...                                                   ...   \n386798                 Tr s proche du metro Earl s court    \n386799   The bed was so comfy I stayed with my boyfrie...   \n386800     great location simple check in out nice shower   \n386801                        Location and very comfy bed   \n386802   Beds comfortable Pillows also good Homely fee...   \n\n        review_total_positive_word_counts  \\\n0                                      62   \n1                                       0   \n2                                       5   \n3                                      27   \n4                                       7   \n...                                   ...   \n386798                                 10   \n386799                                 93   \n386800                                  9   \n386801                                  6   \n386802                                 20   \n\n        total_number_of_reviews_reviewer_has_given  \\\n0                                                1   \n1                                                7   \n2                                               15   \n3                                                9   \n4                                                2   \n...                                            ...   \n386798                                          10   \n386799                                           1   \n386800                                          21   \n386801                                          28   \n386802                                           2   \n\n                                                     tags days_since_review  \\\n0       [ Leisure trip ,  Couple ,  Double Room ,  Sta...           13 days   \n1       [ Leisure trip ,  Group ,  Triple Room ,  Stay...           234 day   \n2       [ Business trip ,  Solo traveler ,  Twin Room ...           616 day   \n3       [ Leisure trip ,  Couple ,  Ambassador Junior ...           656 day   \n4       [ Business trip ,  Solo traveler ,  Classic Do...           444 day   \n...                                                   ...               ...   \n386798  [ Leisure trip ,  Group ,  Club Double or Twin...           106 day   \n386799  [ Leisure trip ,  Couple ,  Standard Double Ro...           171 day   \n386800  [ Business trip ,  Solo traveler ,  Single Roo...           543 day   \n386801  [ Leisure trip ,  Solo traveler ,  Deluxe Doub...           74 days   \n386802  [ Leisure trip ,  Couple ,  Bunk Bed Room ,  S...           363 day   \n\n        sample  reviewer_score  month  reviewer_nationality_0  \\\n0            0             NaN      7                       0   \n1            0             NaN     12                       0   \n2            0             NaN     11                       0   \n3            0             NaN     10                       0   \n4            0             NaN      5                       0   \n...        ...             ...    ...                     ...   \n386798       1             8.8      4                       0   \n386799       1             9.2      2                       0   \n386800       1             8.3      2                       0   \n386801       1             9.2      5                       0   \n386802       1             8.8      8                       0   \n\n        reviewer_nationality_1  reviewer_nationality_2  \\\n0                            0                       0   \n1                            0                       0   \n2                            0                       0   \n3                            0                       1   \n4                            0                       0   \n...                        ...                     ...   \n386798                       1                       0   \n386799                       1                       1   \n386800                       0                       1   \n386801                       1                       1   \n386802                       1                       0   \n\n        reviewer_nationality_3  reviewer_nationality_4  \n0                            0                       1  \n1                            1                       0  \n2                            1                       1  \n3                            0                       0  \n4                            0                       1  \n...                        ...                     ...  \n386798                       1                       1  \n386799                       1                       1  \n386800                       0                       1  \n386801                       0                       1  \n386802                       0                       1  \n\n[515738 rows x 20 columns]",
      "text/html": "<div>\n<style scoped>\n    .dataframe tbody tr th:only-of-type {\n        vertical-align: middle;\n    }\n\n    .dataframe tbody tr th {\n        vertical-align: top;\n    }\n\n    .dataframe thead th {\n        text-align: right;\n    }\n</style>\n<table border=\"1\" class=\"dataframe\">\n  <thead>\n    <tr style=\"text-align: right;\">\n      <th></th>\n      <th>country</th>\n      <th>additional_number_of_scoring</th>\n      <th>year</th>\n      <th>average_score</th>\n      <th>negative_review</th>\n      <th>review_total_negative_word_counts</th>\n      <th>total_number_of_reviews</th>\n      <th>positive_review</th>\n      <th>review_total_positive_word_counts</th>\n      <th>total_number_of_reviews_reviewer_has_given</th>\n      <th>tags</th>\n      <th>days_since_review</th>\n      <th>sample</th>\n      <th>reviewer_score</th>\n      <th>month</th>\n      <th>reviewer_nationality_0</th>\n      <th>reviewer_nationality_1</th>\n      <th>reviewer_nationality_2</th>\n      <th>reviewer_nationality_3</th>\n      <th>reviewer_nationality_4</th>\n    </tr>\n  </thead>\n  <tbody>\n    <tr>\n      <th>0</th>\n      <td>Italy</td>\n      <td>904</td>\n      <td>2017</td>\n      <td>8.1</td>\n      <td>Would have appreciated a shop in the hotel th...</td>\n      <td>52</td>\n      <td>16670</td>\n      <td>Hotel was great clean friendly staff free bre...</td>\n      <td>62</td>\n      <td>1</td>\n      <td>[ Leisure trip ,  Couple ,  Double Room ,  Sta...</td>\n      <td>13 days</td>\n      <td>0</td>\n      <td>NaN</td>\n      <td>7</td>\n      <td>0</td>\n      <td>0</td>\n      <td>0</td>\n      <td>0</td>\n      <td>1</td>\n    </tr>\n    <tr>\n      <th>1</th>\n      <td>Netherlands</td>\n      <td>612</td>\n      <td>2016</td>\n      <td>8.6</td>\n      <td>No tissue paper box was present at the room</td>\n      <td>10</td>\n      <td>5018</td>\n      <td>No Positive</td>\n      <td>0</td>\n      <td>7</td>\n      <td>[ Leisure trip ,  Group ,  Triple Room ,  Stay...</td>\n      <td>234 day</td>\n      <td>0</td>\n      <td>NaN</td>\n      <td>12</td>\n      <td>0</td>\n      <td>0</td>\n      <td>0</td>\n      <td>1</td>\n      <td>0</td>\n    </tr>\n    <tr>\n      <th>2</th>\n      <td>Spain</td>\n      <td>46</td>\n      <td>2015</td>\n      <td>8.3</td>\n      <td>Pillows</td>\n      <td>3</td>\n      <td>351</td>\n      <td>Nice welcoming and service</td>\n      <td>5</td>\n      <td>15</td>\n      <td>[ Business trip ,  Solo traveler ,  Twin Room ...</td>\n      <td>616 day</td>\n      <td>0</td>\n      <td>NaN</td>\n      <td>11</td>\n      <td>0</td>\n      <td>0</td>\n      <td>0</td>\n      <td>1</td>\n      <td>1</td>\n    </tr>\n    <tr>\n      <th>3</th>\n      <td>Italy</td>\n      <td>241</td>\n      <td>2015</td>\n      <td>9.1</td>\n      <td>No Negative</td>\n      <td>0</td>\n      <td>1543</td>\n      <td>Everything including the nice upgrade The Hot...</td>\n      <td>27</td>\n      <td>9</td>\n      <td>[ Leisure trip ,  Couple ,  Ambassador Junior ...</td>\n      <td>656 day</td>\n      <td>0</td>\n      <td>NaN</td>\n      <td>10</td>\n      <td>0</td>\n      <td>0</td>\n      <td>1</td>\n      <td>0</td>\n      <td>0</td>\n    </tr>\n    <tr>\n      <th>4</th>\n      <td>Netherlands</td>\n      <td>834</td>\n      <td>2016</td>\n      <td>9.1</td>\n      <td>No Negative</td>\n      <td>0</td>\n      <td>4687</td>\n      <td>Lovely hotel v welcoming staff</td>\n      <td>7</td>\n      <td>2</td>\n      <td>[ Business trip ,  Solo traveler ,  Classic Do...</td>\n      <td>444 day</td>\n      <td>0</td>\n      <td>NaN</td>\n      <td>5</td>\n      <td>0</td>\n      <td>0</td>\n      <td>0</td>\n      <td>0</td>\n      <td>1</td>\n    </tr>\n    <tr>\n      <th>...</th>\n      <td>...</td>\n      <td>...</td>\n      <td>...</td>\n      <td>...</td>\n      <td>...</td>\n      <td>...</td>\n      <td>...</td>\n      <td>...</td>\n      <td>...</td>\n      <td>...</td>\n      <td>...</td>\n      <td>...</td>\n      <td>...</td>\n      <td>...</td>\n      <td>...</td>\n      <td>...</td>\n      <td>...</td>\n      <td>...</td>\n      <td>...</td>\n      <td>...</td>\n    </tr>\n    <tr>\n      <th>386798</th>\n      <td>UK</td>\n      <td>107</td>\n      <td>2017</td>\n      <td>9.0</td>\n      <td>No Negative</td>\n      <td>0</td>\n      <td>617</td>\n      <td>Tr s proche du metro Earl s court</td>\n      <td>10</td>\n      <td>10</td>\n      <td>[ Leisure trip ,  Group ,  Club Double or Twin...</td>\n      <td>106 day</td>\n      <td>1</td>\n      <td>8.8</td>\n      <td>4</td>\n      <td>0</td>\n      <td>1</td>\n      <td>0</td>\n      <td>1</td>\n      <td>1</td>\n    </tr>\n    <tr>\n      <th>386799</th>\n      <td>Austria</td>\n      <td>272</td>\n      <td>2017</td>\n      <td>8.4</td>\n      <td>No Negative</td>\n      <td>0</td>\n      <td>3224</td>\n      <td>The bed was so comfy I stayed with my boyfrie...</td>\n      <td>93</td>\n      <td>1</td>\n      <td>[ Leisure trip ,  Couple ,  Standard Double Ro...</td>\n      <td>171 day</td>\n      <td>1</td>\n      <td>9.2</td>\n      <td>2</td>\n      <td>0</td>\n      <td>1</td>\n      <td>1</td>\n      <td>1</td>\n      <td>1</td>\n    </tr>\n    <tr>\n      <th>386800</th>\n      <td>UK</td>\n      <td>457</td>\n      <td>2016</td>\n      <td>6.8</td>\n      <td>room is really small but guess is normal in L...</td>\n      <td>12</td>\n      <td>2751</td>\n      <td>great location simple check in out nice shower</td>\n      <td>9</td>\n      <td>21</td>\n      <td>[ Business trip ,  Solo traveler ,  Single Roo...</td>\n      <td>543 day</td>\n      <td>1</td>\n      <td>8.3</td>\n      <td>2</td>\n      <td>0</td>\n      <td>0</td>\n      <td>1</td>\n      <td>0</td>\n      <td>1</td>\n    </tr>\n    <tr>\n      <th>386801</th>\n      <td>UK</td>\n      <td>365</td>\n      <td>2017</td>\n      <td>8.1</td>\n      <td>No Negative</td>\n      <td>0</td>\n      <td>1567</td>\n      <td>Location and very comfy bed</td>\n      <td>6</td>\n      <td>28</td>\n      <td>[ Leisure trip ,  Solo traveler ,  Deluxe Doub...</td>\n      <td>74 days</td>\n      <td>1</td>\n      <td>9.2</td>\n      <td>5</td>\n      <td>0</td>\n      <td>1</td>\n      <td>1</td>\n      <td>0</td>\n      <td>1</td>\n    </tr>\n    <tr>\n      <th>386802</th>\n      <td>UK</td>\n      <td>222</td>\n      <td>2016</td>\n      <td>9.0</td>\n      <td>Patio outside could have been cleaned of alga...</td>\n      <td>20</td>\n      <td>1209</td>\n      <td>Beds comfortable Pillows also good Homely fee...</td>\n      <td>20</td>\n      <td>2</td>\n      <td>[ Leisure trip ,  Couple ,  Bunk Bed Room ,  S...</td>\n      <td>363 day</td>\n      <td>1</td>\n      <td>8.8</td>\n      <td>8</td>\n      <td>0</td>\n      <td>1</td>\n      <td>0</td>\n      <td>0</td>\n      <td>1</td>\n    </tr>\n  </tbody>\n</table>\n<p>515738 rows × 20 columns</p>\n</div>"
     },
     "execution_count": 309,
     "metadata": {},
     "output_type": "execute_result"
    }
   ],
   "source": [
    "bin_encoder = ce.BinaryEncoder(cols=['reviewer_nationality'])\n",
    "type_bin = bin_encoder.fit_transform(df['reviewer_nationality'])\n",
    "df = pd.concat([df, type_bin], axis=1)\n",
    "df_copy = df.copy().drop(columns='reviewer_nationality')\n",
    "df_copy"
   ],
   "metadata": {
    "collapsed": false,
    "pycharm": {
     "name": "#%%\n"
    }
   }
  },
  {
   "cell_type": "code",
   "execution_count": 310,
   "outputs": [
    {
     "data": {
      "text/plain": "        additional_number_of_scoring  year  average_score  \\\n0                                904  2017            8.1   \n1                                612  2016            8.6   \n2                                 46  2015            8.3   \n3                                241  2015            9.1   \n4                                834  2016            9.1   \n...                              ...   ...            ...   \n386798                           107  2017            9.0   \n386799                           272  2017            8.4   \n386800                           457  2016            6.8   \n386801                           365  2017            8.1   \n386802                           222  2016            9.0   \n\n                                          negative_review  \\\n0        Would have appreciated a shop in the hotel th...   \n1             No tissue paper box was present at the room   \n2                                                Pillows    \n3                                             No Negative   \n4                                             No Negative   \n...                                                   ...   \n386798                                        No Negative   \n386799                                        No Negative   \n386800   room is really small but guess is normal in L...   \n386801                                        No Negative   \n386802   Patio outside could have been cleaned of alga...   \n\n        review_total_negative_word_counts  total_number_of_reviews  \\\n0                                      52                    16670   \n1                                      10                     5018   \n2                                       3                      351   \n3                                       0                     1543   \n4                                       0                     4687   \n...                                   ...                      ...   \n386798                                  0                      617   \n386799                                  0                     3224   \n386800                                 12                     2751   \n386801                                  0                     1567   \n386802                                 20                     1209   \n\n                                          positive_review  \\\n0        Hotel was great clean friendly staff free bre...   \n1                                             No Positive   \n2                              Nice welcoming and service   \n3        Everything including the nice upgrade The Hot...   \n4                         Lovely hotel v welcoming staff    \n...                                                   ...   \n386798                 Tr s proche du metro Earl s court    \n386799   The bed was so comfy I stayed with my boyfrie...   \n386800     great location simple check in out nice shower   \n386801                        Location and very comfy bed   \n386802   Beds comfortable Pillows also good Homely fee...   \n\n        review_total_positive_word_counts  \\\n0                                      62   \n1                                       0   \n2                                       5   \n3                                      27   \n4                                       7   \n...                                   ...   \n386798                                 10   \n386799                                 93   \n386800                                  9   \n386801                                  6   \n386802                                 20   \n\n        total_number_of_reviews_reviewer_has_given  \\\n0                                                1   \n1                                                7   \n2                                               15   \n3                                                9   \n4                                                2   \n...                                            ...   \n386798                                          10   \n386799                                           1   \n386800                                          21   \n386801                                          28   \n386802                                           2   \n\n                                                     tags days_since_review  \\\n0       [ Leisure trip ,  Couple ,  Double Room ,  Sta...           13 days   \n1       [ Leisure trip ,  Group ,  Triple Room ,  Stay...           234 day   \n2       [ Business trip ,  Solo traveler ,  Twin Room ...           616 day   \n3       [ Leisure trip ,  Couple ,  Ambassador Junior ...           656 day   \n4       [ Business trip ,  Solo traveler ,  Classic Do...           444 day   \n...                                                   ...               ...   \n386798  [ Leisure trip ,  Group ,  Club Double or Twin...           106 day   \n386799  [ Leisure trip ,  Couple ,  Standard Double Ro...           171 day   \n386800  [ Business trip ,  Solo traveler ,  Single Roo...           543 day   \n386801  [ Leisure trip ,  Solo traveler ,  Deluxe Doub...           74 days   \n386802  [ Leisure trip ,  Couple ,  Bunk Bed Room ,  S...           363 day   \n\n        sample  reviewer_score  month  reviewer_nationality_0  \\\n0            0             NaN      7                       0   \n1            0             NaN     12                       0   \n2            0             NaN     11                       0   \n3            0             NaN     10                       0   \n4            0             NaN      5                       0   \n...        ...             ...    ...                     ...   \n386798       1             8.8      4                       0   \n386799       1             9.2      2                       0   \n386800       1             8.3      2                       0   \n386801       1             9.2      5                       0   \n386802       1             8.8      8                       0   \n\n        reviewer_nationality_1  reviewer_nationality_2  \\\n0                            0                       0   \n1                            0                       0   \n2                            0                       0   \n3                            0                       1   \n4                            0                       0   \n...                        ...                     ...   \n386798                       1                       0   \n386799                       1                       1   \n386800                       0                       1   \n386801                       1                       1   \n386802                       1                       0   \n\n        reviewer_nationality_3  reviewer_nationality_4  \n0                            0                       1  \n1                            1                       0  \n2                            1                       1  \n3                            0                       0  \n4                            0                       1  \n...                        ...                     ...  \n386798                       1                       1  \n386799                       1                       1  \n386800                       0                       1  \n386801                       0                       1  \n386802                       0                       1  \n\n[515738 rows x 19 columns]",
      "text/html": "<div>\n<style scoped>\n    .dataframe tbody tr th:only-of-type {\n        vertical-align: middle;\n    }\n\n    .dataframe tbody tr th {\n        vertical-align: top;\n    }\n\n    .dataframe thead th {\n        text-align: right;\n    }\n</style>\n<table border=\"1\" class=\"dataframe\">\n  <thead>\n    <tr style=\"text-align: right;\">\n      <th></th>\n      <th>additional_number_of_scoring</th>\n      <th>year</th>\n      <th>average_score</th>\n      <th>negative_review</th>\n      <th>review_total_negative_word_counts</th>\n      <th>total_number_of_reviews</th>\n      <th>positive_review</th>\n      <th>review_total_positive_word_counts</th>\n      <th>total_number_of_reviews_reviewer_has_given</th>\n      <th>tags</th>\n      <th>days_since_review</th>\n      <th>sample</th>\n      <th>reviewer_score</th>\n      <th>month</th>\n      <th>reviewer_nationality_0</th>\n      <th>reviewer_nationality_1</th>\n      <th>reviewer_nationality_2</th>\n      <th>reviewer_nationality_3</th>\n      <th>reviewer_nationality_4</th>\n    </tr>\n  </thead>\n  <tbody>\n    <tr>\n      <th>0</th>\n      <td>904</td>\n      <td>2017</td>\n      <td>8.1</td>\n      <td>Would have appreciated a shop in the hotel th...</td>\n      <td>52</td>\n      <td>16670</td>\n      <td>Hotel was great clean friendly staff free bre...</td>\n      <td>62</td>\n      <td>1</td>\n      <td>[ Leisure trip ,  Couple ,  Double Room ,  Sta...</td>\n      <td>13 days</td>\n      <td>0</td>\n      <td>NaN</td>\n      <td>7</td>\n      <td>0</td>\n      <td>0</td>\n      <td>0</td>\n      <td>0</td>\n      <td>1</td>\n    </tr>\n    <tr>\n      <th>1</th>\n      <td>612</td>\n      <td>2016</td>\n      <td>8.6</td>\n      <td>No tissue paper box was present at the room</td>\n      <td>10</td>\n      <td>5018</td>\n      <td>No Positive</td>\n      <td>0</td>\n      <td>7</td>\n      <td>[ Leisure trip ,  Group ,  Triple Room ,  Stay...</td>\n      <td>234 day</td>\n      <td>0</td>\n      <td>NaN</td>\n      <td>12</td>\n      <td>0</td>\n      <td>0</td>\n      <td>0</td>\n      <td>1</td>\n      <td>0</td>\n    </tr>\n    <tr>\n      <th>2</th>\n      <td>46</td>\n      <td>2015</td>\n      <td>8.3</td>\n      <td>Pillows</td>\n      <td>3</td>\n      <td>351</td>\n      <td>Nice welcoming and service</td>\n      <td>5</td>\n      <td>15</td>\n      <td>[ Business trip ,  Solo traveler ,  Twin Room ...</td>\n      <td>616 day</td>\n      <td>0</td>\n      <td>NaN</td>\n      <td>11</td>\n      <td>0</td>\n      <td>0</td>\n      <td>0</td>\n      <td>1</td>\n      <td>1</td>\n    </tr>\n    <tr>\n      <th>3</th>\n      <td>241</td>\n      <td>2015</td>\n      <td>9.1</td>\n      <td>No Negative</td>\n      <td>0</td>\n      <td>1543</td>\n      <td>Everything including the nice upgrade The Hot...</td>\n      <td>27</td>\n      <td>9</td>\n      <td>[ Leisure trip ,  Couple ,  Ambassador Junior ...</td>\n      <td>656 day</td>\n      <td>0</td>\n      <td>NaN</td>\n      <td>10</td>\n      <td>0</td>\n      <td>0</td>\n      <td>1</td>\n      <td>0</td>\n      <td>0</td>\n    </tr>\n    <tr>\n      <th>4</th>\n      <td>834</td>\n      <td>2016</td>\n      <td>9.1</td>\n      <td>No Negative</td>\n      <td>0</td>\n      <td>4687</td>\n      <td>Lovely hotel v welcoming staff</td>\n      <td>7</td>\n      <td>2</td>\n      <td>[ Business trip ,  Solo traveler ,  Classic Do...</td>\n      <td>444 day</td>\n      <td>0</td>\n      <td>NaN</td>\n      <td>5</td>\n      <td>0</td>\n      <td>0</td>\n      <td>0</td>\n      <td>0</td>\n      <td>1</td>\n    </tr>\n    <tr>\n      <th>...</th>\n      <td>...</td>\n      <td>...</td>\n      <td>...</td>\n      <td>...</td>\n      <td>...</td>\n      <td>...</td>\n      <td>...</td>\n      <td>...</td>\n      <td>...</td>\n      <td>...</td>\n      <td>...</td>\n      <td>...</td>\n      <td>...</td>\n      <td>...</td>\n      <td>...</td>\n      <td>...</td>\n      <td>...</td>\n      <td>...</td>\n      <td>...</td>\n    </tr>\n    <tr>\n      <th>386798</th>\n      <td>107</td>\n      <td>2017</td>\n      <td>9.0</td>\n      <td>No Negative</td>\n      <td>0</td>\n      <td>617</td>\n      <td>Tr s proche du metro Earl s court</td>\n      <td>10</td>\n      <td>10</td>\n      <td>[ Leisure trip ,  Group ,  Club Double or Twin...</td>\n      <td>106 day</td>\n      <td>1</td>\n      <td>8.8</td>\n      <td>4</td>\n      <td>0</td>\n      <td>1</td>\n      <td>0</td>\n      <td>1</td>\n      <td>1</td>\n    </tr>\n    <tr>\n      <th>386799</th>\n      <td>272</td>\n      <td>2017</td>\n      <td>8.4</td>\n      <td>No Negative</td>\n      <td>0</td>\n      <td>3224</td>\n      <td>The bed was so comfy I stayed with my boyfrie...</td>\n      <td>93</td>\n      <td>1</td>\n      <td>[ Leisure trip ,  Couple ,  Standard Double Ro...</td>\n      <td>171 day</td>\n      <td>1</td>\n      <td>9.2</td>\n      <td>2</td>\n      <td>0</td>\n      <td>1</td>\n      <td>1</td>\n      <td>1</td>\n      <td>1</td>\n    </tr>\n    <tr>\n      <th>386800</th>\n      <td>457</td>\n      <td>2016</td>\n      <td>6.8</td>\n      <td>room is really small but guess is normal in L...</td>\n      <td>12</td>\n      <td>2751</td>\n      <td>great location simple check in out nice shower</td>\n      <td>9</td>\n      <td>21</td>\n      <td>[ Business trip ,  Solo traveler ,  Single Roo...</td>\n      <td>543 day</td>\n      <td>1</td>\n      <td>8.3</td>\n      <td>2</td>\n      <td>0</td>\n      <td>0</td>\n      <td>1</td>\n      <td>0</td>\n      <td>1</td>\n    </tr>\n    <tr>\n      <th>386801</th>\n      <td>365</td>\n      <td>2017</td>\n      <td>8.1</td>\n      <td>No Negative</td>\n      <td>0</td>\n      <td>1567</td>\n      <td>Location and very comfy bed</td>\n      <td>6</td>\n      <td>28</td>\n      <td>[ Leisure trip ,  Solo traveler ,  Deluxe Doub...</td>\n      <td>74 days</td>\n      <td>1</td>\n      <td>9.2</td>\n      <td>5</td>\n      <td>0</td>\n      <td>1</td>\n      <td>1</td>\n      <td>0</td>\n      <td>1</td>\n    </tr>\n    <tr>\n      <th>386802</th>\n      <td>222</td>\n      <td>2016</td>\n      <td>9.0</td>\n      <td>Patio outside could have been cleaned of alga...</td>\n      <td>20</td>\n      <td>1209</td>\n      <td>Beds comfortable Pillows also good Homely fee...</td>\n      <td>20</td>\n      <td>2</td>\n      <td>[ Leisure trip ,  Couple ,  Bunk Bed Room ,  S...</td>\n      <td>363 day</td>\n      <td>1</td>\n      <td>8.8</td>\n      <td>8</td>\n      <td>0</td>\n      <td>1</td>\n      <td>0</td>\n      <td>0</td>\n      <td>1</td>\n    </tr>\n  </tbody>\n</table>\n<p>515738 rows × 19 columns</p>\n</div>"
     },
     "execution_count": 310,
     "metadata": {},
     "output_type": "execute_result"
    }
   ],
   "source": [
    "bin_encoder = ce.OrdinalEncoder(cols=['country'])\n",
    "type_bin = bin_encoder.fit_transform(df_copy['country'])\n",
    "df = pd.concat([df_copy, type_bin], axis=1)\n",
    "df_copy = df.copy().drop(columns='country')\n",
    "df_copy"
   ],
   "metadata": {
    "collapsed": false,
    "pycharm": {
     "name": "#%%\n"
    }
   }
  },
  {
   "cell_type": "code",
   "execution_count": 311,
   "outputs": [
    {
     "data": {
      "text/plain": "0          13\n1         234\n2         616\n3         656\n4         444\n         ... \n386798    106\n386799    171\n386800    543\n386801     74\n386802    363\nName: days_since_review, Length: 515738, dtype: int64"
     },
     "execution_count": 311,
     "metadata": {},
     "output_type": "execute_result"
    }
   ],
   "source": [
    "df_copy['days_since_review'] = df_copy['days_since_review'].apply(lambda x: int(x.split()[0]))\n",
    "df_copy['days_since_review']"
   ],
   "metadata": {
    "collapsed": false,
    "pycharm": {
     "name": "#%%\n"
    }
   }
  },
  {
   "cell_type": "code",
   "execution_count": 312,
   "outputs": [
    {
     "data": {
      "text/plain": "   additional_number_of_scoring  year  average_score  \\\n0                           904  2017            8.1   \n1                           612  2016            8.6   \n2                            46  2015            8.3   \n3                           241  2015            9.1   \n4                           834  2016            9.1   \n\n   review_total_negative_word_counts  total_number_of_reviews  \\\n0                                 52                    16670   \n1                                 10                     5018   \n2                                  3                      351   \n3                                  0                     1543   \n4                                  0                     4687   \n\n   review_total_positive_word_counts  \\\n0                                 62   \n1                                  0   \n2                                  5   \n3                                 27   \n4                                  7   \n\n   total_number_of_reviews_reviewer_has_given  \\\n0                                           1   \n1                                           7   \n2                                          15   \n3                                           9   \n4                                           2   \n\n                                                tags  days_since_review  \\\n0  [ Leisure trip ,  Couple ,  Double Room ,  Sta...                 13   \n1  [ Leisure trip ,  Group ,  Triple Room ,  Stay...                234   \n2  [ Business trip ,  Solo traveler ,  Twin Room ...                616   \n3  [ Leisure trip ,  Couple ,  Ambassador Junior ...                656   \n4  [ Business trip ,  Solo traveler ,  Classic Do...                444   \n\n   sample  reviewer_score  month  reviewer_nationality_0  \\\n0       0             NaN      7                       0   \n1       0             NaN     12                       0   \n2       0             NaN     11                       0   \n3       0             NaN     10                       0   \n4       0             NaN      5                       0   \n\n   reviewer_nationality_1  reviewer_nationality_2  reviewer_nationality_3  \\\n0                       0                       0                       0   \n1                       0                       0                       1   \n2                       0                       0                       1   \n3                       0                       1                       0   \n4                       0                       0                       0   \n\n   reviewer_nationality_4  \n0                       1  \n1                       0  \n2                       1  \n3                       0  \n4                       1  ",
      "text/html": "<div>\n<style scoped>\n    .dataframe tbody tr th:only-of-type {\n        vertical-align: middle;\n    }\n\n    .dataframe tbody tr th {\n        vertical-align: top;\n    }\n\n    .dataframe thead th {\n        text-align: right;\n    }\n</style>\n<table border=\"1\" class=\"dataframe\">\n  <thead>\n    <tr style=\"text-align: right;\">\n      <th></th>\n      <th>additional_number_of_scoring</th>\n      <th>year</th>\n      <th>average_score</th>\n      <th>review_total_negative_word_counts</th>\n      <th>total_number_of_reviews</th>\n      <th>review_total_positive_word_counts</th>\n      <th>total_number_of_reviews_reviewer_has_given</th>\n      <th>tags</th>\n      <th>days_since_review</th>\n      <th>sample</th>\n      <th>reviewer_score</th>\n      <th>month</th>\n      <th>reviewer_nationality_0</th>\n      <th>reviewer_nationality_1</th>\n      <th>reviewer_nationality_2</th>\n      <th>reviewer_nationality_3</th>\n      <th>reviewer_nationality_4</th>\n    </tr>\n  </thead>\n  <tbody>\n    <tr>\n      <th>0</th>\n      <td>904</td>\n      <td>2017</td>\n      <td>8.1</td>\n      <td>52</td>\n      <td>16670</td>\n      <td>62</td>\n      <td>1</td>\n      <td>[ Leisure trip ,  Couple ,  Double Room ,  Sta...</td>\n      <td>13</td>\n      <td>0</td>\n      <td>NaN</td>\n      <td>7</td>\n      <td>0</td>\n      <td>0</td>\n      <td>0</td>\n      <td>0</td>\n      <td>1</td>\n    </tr>\n    <tr>\n      <th>1</th>\n      <td>612</td>\n      <td>2016</td>\n      <td>8.6</td>\n      <td>10</td>\n      <td>5018</td>\n      <td>0</td>\n      <td>7</td>\n      <td>[ Leisure trip ,  Group ,  Triple Room ,  Stay...</td>\n      <td>234</td>\n      <td>0</td>\n      <td>NaN</td>\n      <td>12</td>\n      <td>0</td>\n      <td>0</td>\n      <td>0</td>\n      <td>1</td>\n      <td>0</td>\n    </tr>\n    <tr>\n      <th>2</th>\n      <td>46</td>\n      <td>2015</td>\n      <td>8.3</td>\n      <td>3</td>\n      <td>351</td>\n      <td>5</td>\n      <td>15</td>\n      <td>[ Business trip ,  Solo traveler ,  Twin Room ...</td>\n      <td>616</td>\n      <td>0</td>\n      <td>NaN</td>\n      <td>11</td>\n      <td>0</td>\n      <td>0</td>\n      <td>0</td>\n      <td>1</td>\n      <td>1</td>\n    </tr>\n    <tr>\n      <th>3</th>\n      <td>241</td>\n      <td>2015</td>\n      <td>9.1</td>\n      <td>0</td>\n      <td>1543</td>\n      <td>27</td>\n      <td>9</td>\n      <td>[ Leisure trip ,  Couple ,  Ambassador Junior ...</td>\n      <td>656</td>\n      <td>0</td>\n      <td>NaN</td>\n      <td>10</td>\n      <td>0</td>\n      <td>0</td>\n      <td>1</td>\n      <td>0</td>\n      <td>0</td>\n    </tr>\n    <tr>\n      <th>4</th>\n      <td>834</td>\n      <td>2016</td>\n      <td>9.1</td>\n      <td>0</td>\n      <td>4687</td>\n      <td>7</td>\n      <td>2</td>\n      <td>[ Business trip ,  Solo traveler ,  Classic Do...</td>\n      <td>444</td>\n      <td>0</td>\n      <td>NaN</td>\n      <td>5</td>\n      <td>0</td>\n      <td>0</td>\n      <td>0</td>\n      <td>0</td>\n      <td>1</td>\n    </tr>\n  </tbody>\n</table>\n</div>"
     },
     "execution_count": 312,
     "metadata": {},
     "output_type": "execute_result"
    }
   ],
   "source": [
    "df_copy.drop(columns=['negative_review','positive_review'], inplace=True)\n",
    "df_copy.head()"
   ],
   "metadata": {
    "collapsed": false,
    "pycharm": {
     "name": "#%%\n"
    }
   }
  },
  {
   "cell_type": "code",
   "execution_count": 313,
   "outputs": [],
   "source": [
    "df_tags = df_copy.explode('tags').reset_index()"
   ],
   "metadata": {
    "collapsed": false,
    "pycharm": {
     "name": "#%%\n"
    }
   }
  },
  {
   "cell_type": "code",
   "execution_count": 314,
   "outputs": [],
   "source": [
    "tags_counts = df_tags['tags'].value_counts()[:25]\n",
    "df_tags = pd.DataFrame(tags_counts).reset_index()\n",
    "top_tags = set(df_tags['index'])"
   ],
   "metadata": {
    "collapsed": false,
    "pycharm": {
     "name": "#%%\n"
    }
   }
  },
  {
   "cell_type": "code",
   "execution_count": 315,
   "outputs": [
    {
     "data": {
      "text/plain": "        additional_number_of_scoring  year  average_score  \\\n0                                904  2017            8.1   \n1                                612  2016            8.6   \n2                                 46  2015            8.3   \n3                                241  2015            9.1   \n4                                834  2016            9.1   \n...                              ...   ...            ...   \n386798                           107  2017            9.0   \n386799                           272  2017            8.4   \n386800                           457  2016            6.8   \n386801                           365  2017            8.1   \n386802                           222  2016            9.0   \n\n        review_total_negative_word_counts  total_number_of_reviews  \\\n0                                      52                    16670   \n1                                      10                     5018   \n2                                       3                      351   \n3                                       0                     1543   \n4                                       0                     4687   \n...                                   ...                      ...   \n386798                                  0                      617   \n386799                                  0                     3224   \n386800                                 12                     2751   \n386801                                  0                     1567   \n386802                                 20                     1209   \n\n        review_total_positive_word_counts  \\\n0                                      62   \n1                                       0   \n2                                       5   \n3                                      27   \n4                                       7   \n...                                   ...   \n386798                                 10   \n386799                                 93   \n386800                                  9   \n386801                                  6   \n386802                                 20   \n\n        total_number_of_reviews_reviewer_has_given  \\\n0                                                1   \n1                                                7   \n2                                               15   \n3                                                9   \n4                                                2   \n...                                            ...   \n386798                                          10   \n386799                                           1   \n386800                                          21   \n386801                                          28   \n386802                                           2   \n\n                                                     tags  days_since_review  \\\n0       [ Leisure trip ,  Couple ,  Double Room ,  Sta...                 13   \n1       [ Leisure trip ,  Group ,  Triple Room ,  Stay...                234   \n2       [ Business trip ,  Solo traveler ,  Twin Room ...                616   \n3       [ Leisure trip ,  Couple ,  Ambassador Junior ...                656   \n4       [ Business trip ,  Solo traveler ,  Classic Do...                444   \n...                                                   ...                ...   \n386798  [ Leisure trip ,  Group ,  Club Double or Twin...                106   \n386799  [ Leisure trip ,  Couple ,  Standard Double Ro...                171   \n386800  [ Business trip ,  Solo traveler ,  Single Roo...                543   \n386801  [ Leisure trip ,  Solo traveler ,  Deluxe Doub...                 74   \n386802  [ Leisure trip ,  Couple ,  Bunk Bed Room ,  S...                363   \n\n        sample  reviewer_score  month  reviewer_nationality_0  \\\n0            0             NaN      7                       0   \n1            0             NaN     12                       0   \n2            0             NaN     11                       0   \n3            0             NaN     10                       0   \n4            0             NaN      5                       0   \n...        ...             ...    ...                     ...   \n386798       1             8.8      4                       0   \n386799       1             9.2      2                       0   \n386800       1             8.3      2                       0   \n386801       1             9.2      5                       0   \n386802       1             8.8      8                       0   \n\n        reviewer_nationality_1  reviewer_nationality_2  \\\n0                            0                       0   \n1                            0                       0   \n2                            0                       0   \n3                            0                       1   \n4                            0                       0   \n...                        ...                     ...   \n386798                       1                       0   \n386799                       1                       1   \n386800                       0                       1   \n386801                       1                       1   \n386802                       1                       0   \n\n        reviewer_nationality_3  reviewer_nationality_4  \n0                            0                       1  \n1                            1                       0  \n2                            1                       1  \n3                            0                       0  \n4                            0                       1  \n...                        ...                     ...  \n386798                       1                       1  \n386799                       1                       1  \n386800                       0                       1  \n386801                       0                       1  \n386802                       0                       1  \n\n[515738 rows x 17 columns]",
      "text/html": "<div>\n<style scoped>\n    .dataframe tbody tr th:only-of-type {\n        vertical-align: middle;\n    }\n\n    .dataframe tbody tr th {\n        vertical-align: top;\n    }\n\n    .dataframe thead th {\n        text-align: right;\n    }\n</style>\n<table border=\"1\" class=\"dataframe\">\n  <thead>\n    <tr style=\"text-align: right;\">\n      <th></th>\n      <th>additional_number_of_scoring</th>\n      <th>year</th>\n      <th>average_score</th>\n      <th>review_total_negative_word_counts</th>\n      <th>total_number_of_reviews</th>\n      <th>review_total_positive_word_counts</th>\n      <th>total_number_of_reviews_reviewer_has_given</th>\n      <th>tags</th>\n      <th>days_since_review</th>\n      <th>sample</th>\n      <th>reviewer_score</th>\n      <th>month</th>\n      <th>reviewer_nationality_0</th>\n      <th>reviewer_nationality_1</th>\n      <th>reviewer_nationality_2</th>\n      <th>reviewer_nationality_3</th>\n      <th>reviewer_nationality_4</th>\n    </tr>\n  </thead>\n  <tbody>\n    <tr>\n      <th>0</th>\n      <td>904</td>\n      <td>2017</td>\n      <td>8.1</td>\n      <td>52</td>\n      <td>16670</td>\n      <td>62</td>\n      <td>1</td>\n      <td>[ Leisure trip ,  Couple ,  Double Room ,  Sta...</td>\n      <td>13</td>\n      <td>0</td>\n      <td>NaN</td>\n      <td>7</td>\n      <td>0</td>\n      <td>0</td>\n      <td>0</td>\n      <td>0</td>\n      <td>1</td>\n    </tr>\n    <tr>\n      <th>1</th>\n      <td>612</td>\n      <td>2016</td>\n      <td>8.6</td>\n      <td>10</td>\n      <td>5018</td>\n      <td>0</td>\n      <td>7</td>\n      <td>[ Leisure trip ,  Group ,  Triple Room ,  Stay...</td>\n      <td>234</td>\n      <td>0</td>\n      <td>NaN</td>\n      <td>12</td>\n      <td>0</td>\n      <td>0</td>\n      <td>0</td>\n      <td>1</td>\n      <td>0</td>\n    </tr>\n    <tr>\n      <th>2</th>\n      <td>46</td>\n      <td>2015</td>\n      <td>8.3</td>\n      <td>3</td>\n      <td>351</td>\n      <td>5</td>\n      <td>15</td>\n      <td>[ Business trip ,  Solo traveler ,  Twin Room ...</td>\n      <td>616</td>\n      <td>0</td>\n      <td>NaN</td>\n      <td>11</td>\n      <td>0</td>\n      <td>0</td>\n      <td>0</td>\n      <td>1</td>\n      <td>1</td>\n    </tr>\n    <tr>\n      <th>3</th>\n      <td>241</td>\n      <td>2015</td>\n      <td>9.1</td>\n      <td>0</td>\n      <td>1543</td>\n      <td>27</td>\n      <td>9</td>\n      <td>[ Leisure trip ,  Couple ,  Ambassador Junior ...</td>\n      <td>656</td>\n      <td>0</td>\n      <td>NaN</td>\n      <td>10</td>\n      <td>0</td>\n      <td>0</td>\n      <td>1</td>\n      <td>0</td>\n      <td>0</td>\n    </tr>\n    <tr>\n      <th>4</th>\n      <td>834</td>\n      <td>2016</td>\n      <td>9.1</td>\n      <td>0</td>\n      <td>4687</td>\n      <td>7</td>\n      <td>2</td>\n      <td>[ Business trip ,  Solo traveler ,  Classic Do...</td>\n      <td>444</td>\n      <td>0</td>\n      <td>NaN</td>\n      <td>5</td>\n      <td>0</td>\n      <td>0</td>\n      <td>0</td>\n      <td>0</td>\n      <td>1</td>\n    </tr>\n    <tr>\n      <th>...</th>\n      <td>...</td>\n      <td>...</td>\n      <td>...</td>\n      <td>...</td>\n      <td>...</td>\n      <td>...</td>\n      <td>...</td>\n      <td>...</td>\n      <td>...</td>\n      <td>...</td>\n      <td>...</td>\n      <td>...</td>\n      <td>...</td>\n      <td>...</td>\n      <td>...</td>\n      <td>...</td>\n      <td>...</td>\n    </tr>\n    <tr>\n      <th>386798</th>\n      <td>107</td>\n      <td>2017</td>\n      <td>9.0</td>\n      <td>0</td>\n      <td>617</td>\n      <td>10</td>\n      <td>10</td>\n      <td>[ Leisure trip ,  Group ,  Club Double or Twin...</td>\n      <td>106</td>\n      <td>1</td>\n      <td>8.8</td>\n      <td>4</td>\n      <td>0</td>\n      <td>1</td>\n      <td>0</td>\n      <td>1</td>\n      <td>1</td>\n    </tr>\n    <tr>\n      <th>386799</th>\n      <td>272</td>\n      <td>2017</td>\n      <td>8.4</td>\n      <td>0</td>\n      <td>3224</td>\n      <td>93</td>\n      <td>1</td>\n      <td>[ Leisure trip ,  Couple ,  Standard Double Ro...</td>\n      <td>171</td>\n      <td>1</td>\n      <td>9.2</td>\n      <td>2</td>\n      <td>0</td>\n      <td>1</td>\n      <td>1</td>\n      <td>1</td>\n      <td>1</td>\n    </tr>\n    <tr>\n      <th>386800</th>\n      <td>457</td>\n      <td>2016</td>\n      <td>6.8</td>\n      <td>12</td>\n      <td>2751</td>\n      <td>9</td>\n      <td>21</td>\n      <td>[ Business trip ,  Solo traveler ,  Single Roo...</td>\n      <td>543</td>\n      <td>1</td>\n      <td>8.3</td>\n      <td>2</td>\n      <td>0</td>\n      <td>0</td>\n      <td>1</td>\n      <td>0</td>\n      <td>1</td>\n    </tr>\n    <tr>\n      <th>386801</th>\n      <td>365</td>\n      <td>2017</td>\n      <td>8.1</td>\n      <td>0</td>\n      <td>1567</td>\n      <td>6</td>\n      <td>28</td>\n      <td>[ Leisure trip ,  Solo traveler ,  Deluxe Doub...</td>\n      <td>74</td>\n      <td>1</td>\n      <td>9.2</td>\n      <td>5</td>\n      <td>0</td>\n      <td>1</td>\n      <td>1</td>\n      <td>0</td>\n      <td>1</td>\n    </tr>\n    <tr>\n      <th>386802</th>\n      <td>222</td>\n      <td>2016</td>\n      <td>9.0</td>\n      <td>20</td>\n      <td>1209</td>\n      <td>20</td>\n      <td>2</td>\n      <td>[ Leisure trip ,  Couple ,  Bunk Bed Room ,  S...</td>\n      <td>363</td>\n      <td>1</td>\n      <td>8.8</td>\n      <td>8</td>\n      <td>0</td>\n      <td>1</td>\n      <td>0</td>\n      <td>0</td>\n      <td>1</td>\n    </tr>\n  </tbody>\n</table>\n<p>515738 rows × 17 columns</p>\n</div>"
     },
     "execution_count": 315,
     "metadata": {},
     "output_type": "execute_result"
    }
   ],
   "source": [
    "df_copy"
   ],
   "metadata": {
    "collapsed": false,
    "pycharm": {
     "name": "#%%\n"
    }
   }
  },
  {
   "cell_type": "code",
   "execution_count": 316,
   "outputs": [
    {
     "data": {
      "text/plain": "        additional_number_of_scoring  year  average_score  \\\n0                                904  2017            8.1   \n1                                612  2016            8.6   \n2                                 46  2015            8.3   \n3                                241  2015            9.1   \n4                                834  2016            9.1   \n...                              ...   ...            ...   \n386798                           107  2017            9.0   \n386799                           272  2017            8.4   \n386800                           457  2016            6.8   \n386801                           365  2017            8.1   \n386802                           222  2016            9.0   \n\n        review_total_negative_word_counts  total_number_of_reviews  \\\n0                                      52                    16670   \n1                                      10                     5018   \n2                                       3                      351   \n3                                       0                     1543   \n4                                       0                     4687   \n...                                   ...                      ...   \n386798                                  0                      617   \n386799                                  0                     3224   \n386800                                 12                     2751   \n386801                                  0                     1567   \n386802                                 20                     1209   \n\n        review_total_positive_word_counts  \\\n0                                      62   \n1                                       0   \n2                                       5   \n3                                      27   \n4                                       7   \n...                                   ...   \n386798                                 10   \n386799                                 93   \n386800                                  9   \n386801                                  6   \n386802                                 20   \n\n        total_number_of_reviews_reviewer_has_given  days_since_review  sample  \\\n0                                                1                 13       0   \n1                                                7                234       0   \n2                                               15                616       0   \n3                                                9                656       0   \n4                                                2                444       0   \n...                                            ...                ...     ...   \n386798                                          10                106       1   \n386799                                           1                171       1   \n386800                                          21                543       1   \n386801                                          28                 74       1   \n386802                                           2                363       1   \n\n        reviewer_score  ...   Couple    Standard Twin Room   \\\n0                  NaN  ...         1                     0   \n1                  NaN  ...         0                     0   \n2                  NaN  ...         0                     0   \n3                  NaN  ...         1                     0   \n4                  NaN  ...         0                     0   \n...                ...  ...       ...                   ...   \n386798             8.8  ...         0                     0   \n386799             9.2  ...         1                     0   \n386800             8.3  ...         0                     0   \n386801             9.2  ...         0                     0   \n386802             8.8  ...         1                     0   \n\n         Standard Double or Twin Room    Stayed 3 nights    Stayed 2 nights   \\\n0                                    0                  0                  1   \n1                                    0                  0                  0   \n2                                    0                  0                  0   \n3                                    0                  0                  0   \n4                                    0                  0                  1   \n...                                ...                ...                ...   \n386798                               0                  0                  1   \n386799                               0                  0                  0   \n386800                               0                  0                  0   \n386801                               0                  0                  1   \n386802                               0                  0                  0   \n\n         Superior Double or Twin Room    Business trip    Group   \\\n0                                    0                0        0   \n1                                    0                0        1   \n2                                    0                1        0   \n3                                    0                0        0   \n4                                    0                1        0   \n...                                ...              ...      ...   \n386798                               0                0        1   \n386799                               0                0        0   \n386800                               0                1        0   \n386801                               0                0        0   \n386802                               0                0        0   \n\n         Family with older children    Solo traveler   \n0                                  0                0  \n1                                  0                0  \n2                                  0                1  \n3                                  0                0  \n4                                  0                1  \n...                              ...              ...  \n386798                             0                0  \n386799                             0                0  \n386800                             0                1  \n386801                             0                1  \n386802                             0                0  \n\n[515738 rows x 41 columns]",
      "text/html": "<div>\n<style scoped>\n    .dataframe tbody tr th:only-of-type {\n        vertical-align: middle;\n    }\n\n    .dataframe tbody tr th {\n        vertical-align: top;\n    }\n\n    .dataframe thead th {\n        text-align: right;\n    }\n</style>\n<table border=\"1\" class=\"dataframe\">\n  <thead>\n    <tr style=\"text-align: right;\">\n      <th></th>\n      <th>additional_number_of_scoring</th>\n      <th>year</th>\n      <th>average_score</th>\n      <th>review_total_negative_word_counts</th>\n      <th>total_number_of_reviews</th>\n      <th>review_total_positive_word_counts</th>\n      <th>total_number_of_reviews_reviewer_has_given</th>\n      <th>days_since_review</th>\n      <th>sample</th>\n      <th>reviewer_score</th>\n      <th>...</th>\n      <th>Couple</th>\n      <th>Standard Twin Room</th>\n      <th>Standard Double or Twin Room</th>\n      <th>Stayed 3 nights</th>\n      <th>Stayed 2 nights</th>\n      <th>Superior Double or Twin Room</th>\n      <th>Business trip</th>\n      <th>Group</th>\n      <th>Family with older children</th>\n      <th>Solo traveler</th>\n    </tr>\n  </thead>\n  <tbody>\n    <tr>\n      <th>0</th>\n      <td>904</td>\n      <td>2017</td>\n      <td>8.1</td>\n      <td>52</td>\n      <td>16670</td>\n      <td>62</td>\n      <td>1</td>\n      <td>13</td>\n      <td>0</td>\n      <td>NaN</td>\n      <td>...</td>\n      <td>1</td>\n      <td>0</td>\n      <td>0</td>\n      <td>0</td>\n      <td>1</td>\n      <td>0</td>\n      <td>0</td>\n      <td>0</td>\n      <td>0</td>\n      <td>0</td>\n    </tr>\n    <tr>\n      <th>1</th>\n      <td>612</td>\n      <td>2016</td>\n      <td>8.6</td>\n      <td>10</td>\n      <td>5018</td>\n      <td>0</td>\n      <td>7</td>\n      <td>234</td>\n      <td>0</td>\n      <td>NaN</td>\n      <td>...</td>\n      <td>0</td>\n      <td>0</td>\n      <td>0</td>\n      <td>0</td>\n      <td>0</td>\n      <td>0</td>\n      <td>0</td>\n      <td>1</td>\n      <td>0</td>\n      <td>0</td>\n    </tr>\n    <tr>\n      <th>2</th>\n      <td>46</td>\n      <td>2015</td>\n      <td>8.3</td>\n      <td>3</td>\n      <td>351</td>\n      <td>5</td>\n      <td>15</td>\n      <td>616</td>\n      <td>0</td>\n      <td>NaN</td>\n      <td>...</td>\n      <td>0</td>\n      <td>0</td>\n      <td>0</td>\n      <td>0</td>\n      <td>0</td>\n      <td>0</td>\n      <td>1</td>\n      <td>0</td>\n      <td>0</td>\n      <td>1</td>\n    </tr>\n    <tr>\n      <th>3</th>\n      <td>241</td>\n      <td>2015</td>\n      <td>9.1</td>\n      <td>0</td>\n      <td>1543</td>\n      <td>27</td>\n      <td>9</td>\n      <td>656</td>\n      <td>0</td>\n      <td>NaN</td>\n      <td>...</td>\n      <td>1</td>\n      <td>0</td>\n      <td>0</td>\n      <td>0</td>\n      <td>0</td>\n      <td>0</td>\n      <td>0</td>\n      <td>0</td>\n      <td>0</td>\n      <td>0</td>\n    </tr>\n    <tr>\n      <th>4</th>\n      <td>834</td>\n      <td>2016</td>\n      <td>9.1</td>\n      <td>0</td>\n      <td>4687</td>\n      <td>7</td>\n      <td>2</td>\n      <td>444</td>\n      <td>0</td>\n      <td>NaN</td>\n      <td>...</td>\n      <td>0</td>\n      <td>0</td>\n      <td>0</td>\n      <td>0</td>\n      <td>1</td>\n      <td>0</td>\n      <td>1</td>\n      <td>0</td>\n      <td>0</td>\n      <td>1</td>\n    </tr>\n    <tr>\n      <th>...</th>\n      <td>...</td>\n      <td>...</td>\n      <td>...</td>\n      <td>...</td>\n      <td>...</td>\n      <td>...</td>\n      <td>...</td>\n      <td>...</td>\n      <td>...</td>\n      <td>...</td>\n      <td>...</td>\n      <td>...</td>\n      <td>...</td>\n      <td>...</td>\n      <td>...</td>\n      <td>...</td>\n      <td>...</td>\n      <td>...</td>\n      <td>...</td>\n      <td>...</td>\n      <td>...</td>\n    </tr>\n    <tr>\n      <th>386798</th>\n      <td>107</td>\n      <td>2017</td>\n      <td>9.0</td>\n      <td>0</td>\n      <td>617</td>\n      <td>10</td>\n      <td>10</td>\n      <td>106</td>\n      <td>1</td>\n      <td>8.8</td>\n      <td>...</td>\n      <td>0</td>\n      <td>0</td>\n      <td>0</td>\n      <td>0</td>\n      <td>1</td>\n      <td>0</td>\n      <td>0</td>\n      <td>1</td>\n      <td>0</td>\n      <td>0</td>\n    </tr>\n    <tr>\n      <th>386799</th>\n      <td>272</td>\n      <td>2017</td>\n      <td>8.4</td>\n      <td>0</td>\n      <td>3224</td>\n      <td>93</td>\n      <td>1</td>\n      <td>171</td>\n      <td>1</td>\n      <td>9.2</td>\n      <td>...</td>\n      <td>1</td>\n      <td>0</td>\n      <td>0</td>\n      <td>0</td>\n      <td>0</td>\n      <td>0</td>\n      <td>0</td>\n      <td>0</td>\n      <td>0</td>\n      <td>0</td>\n    </tr>\n    <tr>\n      <th>386800</th>\n      <td>457</td>\n      <td>2016</td>\n      <td>6.8</td>\n      <td>12</td>\n      <td>2751</td>\n      <td>9</td>\n      <td>21</td>\n      <td>543</td>\n      <td>1</td>\n      <td>8.3</td>\n      <td>...</td>\n      <td>0</td>\n      <td>0</td>\n      <td>0</td>\n      <td>0</td>\n      <td>0</td>\n      <td>0</td>\n      <td>1</td>\n      <td>0</td>\n      <td>0</td>\n      <td>1</td>\n    </tr>\n    <tr>\n      <th>386801</th>\n      <td>365</td>\n      <td>2017</td>\n      <td>8.1</td>\n      <td>0</td>\n      <td>1567</td>\n      <td>6</td>\n      <td>28</td>\n      <td>74</td>\n      <td>1</td>\n      <td>9.2</td>\n      <td>...</td>\n      <td>0</td>\n      <td>0</td>\n      <td>0</td>\n      <td>0</td>\n      <td>1</td>\n      <td>0</td>\n      <td>0</td>\n      <td>0</td>\n      <td>0</td>\n      <td>1</td>\n    </tr>\n    <tr>\n      <th>386802</th>\n      <td>222</td>\n      <td>2016</td>\n      <td>9.0</td>\n      <td>20</td>\n      <td>1209</td>\n      <td>20</td>\n      <td>2</td>\n      <td>363</td>\n      <td>1</td>\n      <td>8.8</td>\n      <td>...</td>\n      <td>1</td>\n      <td>0</td>\n      <td>0</td>\n      <td>0</td>\n      <td>0</td>\n      <td>0</td>\n      <td>0</td>\n      <td>0</td>\n      <td>0</td>\n      <td>0</td>\n    </tr>\n  </tbody>\n</table>\n<p>515738 rows × 41 columns</p>\n</div>"
     },
     "execution_count": 316,
     "metadata": {},
     "output_type": "execute_result"
    }
   ],
   "source": [
    "for tag in top_tags:\n",
    "    tag_name = str(tag)\n",
    "    df_copy[tag_name] = df_copy['tags'].apply(lambda x: 1 if tag_name in x else 0)\n",
    "df_copy.drop(columns=['tags'], axis=1, inplace=True)\n",
    "df_copy"
   ],
   "metadata": {
    "collapsed": false,
    "pycharm": {
     "name": "#%%\n"
    }
   }
  },
  {
   "cell_type": "code",
   "execution_count": 316,
   "outputs": [],
   "source": [
    "\n"
   ],
   "metadata": {
    "collapsed": false,
    "pycharm": {
     "name": "#%%\n"
    }
   }
  },
  {
   "cell_type": "code",
   "execution_count": 317,
   "outputs": [],
   "source": [
    "\n",
    "# Create correlation matrix\n",
    "corr_matrix = df_copy.drop(['sample'], axis=1).corr().abs()\n",
    "\n",
    "# Select upper triangle of correlation matrix\n",
    "upper = corr_matrix.where(np.triu(np.ones(corr_matrix.shape), k=1).astype(bool))\n",
    "\n",
    "# Find features with correlation greater than 0.95\n",
    "to_drop = [column for column in upper.columns if any(upper[column] > 0.7)]\n",
    "\n",
    "# Drop features\n",
    "df_copy.drop(to_drop, axis=1, inplace=True)\n"
   ],
   "metadata": {
    "collapsed": false,
    "pycharm": {
     "name": "#%%\n"
    }
   }
  },
  {
   "cell_type": "code",
   "execution_count": 318,
   "outputs": [
    {
     "data": {
      "text/plain": "        reviewer_score      id\n0                    1  488440\n1                   10  274649\n2                    3  374688\n3                   10  404352\n4                    9  451596\n...                ...     ...\n128930               7  495812\n128931               1  315577\n128932               3  511968\n128933               6  303386\n128934               5  103157\n\n[128935 rows x 2 columns]",
      "text/html": "<div>\n<style scoped>\n    .dataframe tbody tr th:only-of-type {\n        vertical-align: middle;\n    }\n\n    .dataframe tbody tr th {\n        vertical-align: top;\n    }\n\n    .dataframe thead th {\n        text-align: right;\n    }\n</style>\n<table border=\"1\" class=\"dataframe\">\n  <thead>\n    <tr style=\"text-align: right;\">\n      <th></th>\n      <th>reviewer_score</th>\n      <th>id</th>\n    </tr>\n  </thead>\n  <tbody>\n    <tr>\n      <th>0</th>\n      <td>1</td>\n      <td>488440</td>\n    </tr>\n    <tr>\n      <th>1</th>\n      <td>10</td>\n      <td>274649</td>\n    </tr>\n    <tr>\n      <th>2</th>\n      <td>3</td>\n      <td>374688</td>\n    </tr>\n    <tr>\n      <th>3</th>\n      <td>10</td>\n      <td>404352</td>\n    </tr>\n    <tr>\n      <th>4</th>\n      <td>9</td>\n      <td>451596</td>\n    </tr>\n    <tr>\n      <th>...</th>\n      <td>...</td>\n      <td>...</td>\n    </tr>\n    <tr>\n      <th>128930</th>\n      <td>7</td>\n      <td>495812</td>\n    </tr>\n    <tr>\n      <th>128931</th>\n      <td>1</td>\n      <td>315577</td>\n    </tr>\n    <tr>\n      <th>128932</th>\n      <td>3</td>\n      <td>511968</td>\n    </tr>\n    <tr>\n      <th>128933</th>\n      <td>6</td>\n      <td>303386</td>\n    </tr>\n    <tr>\n      <th>128934</th>\n      <td>5</td>\n      <td>103157</td>\n    </tr>\n  </tbody>\n</table>\n<p>128935 rows × 2 columns</p>\n</div>"
     },
     "execution_count": 318,
     "metadata": {},
     "output_type": "execute_result"
    }
   ],
   "source": [
    "submisson = pd.read_csv('Data/submission.csv')\n",
    "train = pd.read_csv('Data/hotels_train.csv')\n",
    "test = pd.read_csv('Data/hotels_test.csv')\n",
    "submisson"
   ],
   "metadata": {
    "collapsed": false,
    "pycharm": {
     "name": "#%%\n"
    }
   }
  },
  {
   "cell_type": "code",
   "execution_count": 318,
   "outputs": [],
   "source": [],
   "metadata": {
    "collapsed": false,
    "pycharm": {
     "name": "#%%\n"
    }
   }
  },
  {
   "cell_type": "markdown",
   "source": [],
   "metadata": {
    "collapsed": false,
    "pycharm": {
     "name": "#%% md\n"
    }
   }
  },
  {
   "cell_type": "code",
   "execution_count": 319,
   "outputs": [],
   "source": [
    "RANDOM_SEED = 42\n",
    "train_data = df_copy.query('sample == 1').drop(['sample'], axis=1)\n",
    "test_data = df_copy.query('sample == 0').drop(['sample'], axis=1)\n",
    "y = train_data['reviewer_score'].values\n",
    "X = train_data.drop(['reviewer_score'], axis=1)\n",
    "X_train, X_test, y_train, y_test = train_test_split(X,y, test_size=0.2, random_state=RANDOM_SEED)"
   ],
   "metadata": {
    "collapsed": false,
    "pycharm": {
     "name": "#%%\n"
    }
   }
  },
  {
   "cell_type": "code",
   "execution_count": 319,
   "outputs": [],
   "source": [],
   "metadata": {
    "collapsed": false,
    "pycharm": {
     "name": "#%%\n"
    }
   }
  },
  {
   "cell_type": "code",
   "execution_count": 320,
   "outputs": [
    {
     "name": "stdout",
     "output_type": "stream",
     "text": [
      "MAPE: 0.13569439266981886\n"
     ]
    }
   ],
   "source": [
    "# Импортируем необходимые библиотеки:\n",
    "from sklearn.ensemble import RandomForestRegressor # инструмент для создания и обучения модели\n",
    "from sklearn import metrics # инструменты для оценки точности модели\n",
    "\n",
    "    # Создаём модель\n",
    "regr = RandomForestRegressor(n_estimators=100)\n",
    "\n",
    "    # Обучаем модель на тестовом наборе данных\n",
    "regr.fit(X_train, y_train)\n",
    "\n",
    "    # Используем обученную модель для предсказания рейтинга отелей в тестовой выборке.\n",
    "    # Предсказанные значения записываем в переменную y_pred\n",
    "y_pred = regr.predict(X_test)\n",
    "      # Сравниваем предсказанные значения (y_pred) с реальными (y_test) и смотрим, насколько они отличаются\n",
    "    # Метрика называется Mean Absolute Percentage Error (MAPE) и показывает среднюю абсолютную процентную ошибку предсказанных значений в отношении фактических.\n",
    "print('MAPE:', metrics.mean_absolute_percentage_error(y_test, y_pred))"
   ],
   "metadata": {
    "collapsed": false,
    "pycharm": {
     "name": "#%%\n"
    }
   }
  },
  {
   "cell_type": "code",
   "execution_count": 321,
   "outputs": [
    {
     "data": {
      "text/plain": "<AxesSubplot:>"
     },
     "execution_count": 321,
     "metadata": {},
     "output_type": "execute_result"
    },
    {
     "data": {
      "text/plain": "<Figure size 720x720 with 1 Axes>",
      "image/png": "[encoded data removed]"
     },
     "metadata": {
      "needs_background": "light"
     },
     "output_type": "display_data"
    }
   ],
   "source": [
    "plt.rcParams['figure.figsize'] = (10,10)\n",
    "feat_importances = pd.Series(regr.feature_importances_, index=X.columns)\n",
    "feat_importances.nlargest(15).plot(kind='barh')"
   ],
   "metadata": {
    "collapsed": false,
    "pycharm": {
     "name": "#%%\n"
    }
   }
  },
  {
   "cell_type": "code",
   "execution_count": 322,
   "outputs": [
    {
     "data": {
      "text/plain": "   additional_number_of_scoring  year  average_score  \\\n0                           904  2017            8.1   \n1                           612  2016            8.6   \n2                            46  2015            8.3   \n3                           241  2015            9.1   \n4                           834  2016            9.1   \n\n   review_total_negative_word_counts  review_total_positive_word_counts  \\\n0                                 52                                 62   \n1                                 10                                  0   \n2                                  3                                  5   \n3                                  0                                 27   \n4                                  0                                  7   \n\n   total_number_of_reviews_reviewer_has_given  reviewer_score  month  \\\n0                                           1             NaN      7   \n1                                           7             NaN     12   \n2                                          15             NaN     11   \n3                                           9             NaN     10   \n4                                           2             NaN      5   \n\n   reviewer_nationality_0  reviewer_nationality_1  ...   Stayed 1 night   \\\n0                       0                       0  ...                 0   \n1                       0                       0  ...                 1   \n2                       0                       0  ...                 1   \n3                       0                       0  ...                 1   \n4                       0                       0  ...                 0   \n\n    Couple    Standard Twin Room    Standard Double or Twin Room   \\\n0         1                     0                               0   \n1         0                     0                               0   \n2         0                     0                               0   \n3         1                     0                               0   \n4         0                     0                               0   \n\n    Stayed 3 nights    Stayed 2 nights    Superior Double or Twin Room   \\\n0                  0                  1                               0   \n1                  0                  0                               0   \n2                  0                  0                               0   \n3                  0                  0                               0   \n4                  0                  1                               0   \n\n    Group    Family with older children    Solo traveler   \n0        0                             0                0  \n1        1                             0                0  \n2        0                             0                1  \n3        0                             0                0  \n4        0                             0                1  \n\n[5 rows x 37 columns]",
      "text/html": "<div>\n<style scoped>\n    .dataframe tbody tr th:only-of-type {\n        vertical-align: middle;\n    }\n\n    .dataframe tbody tr th {\n        vertical-align: top;\n    }\n\n    .dataframe thead th {\n        text-align: right;\n    }\n</style>\n<table border=\"1\" class=\"dataframe\">\n  <thead>\n    <tr style=\"text-align: right;\">\n      <th></th>\n      <th>additional_number_of_scoring</th>\n      <th>year</th>\n      <th>average_score</th>\n      <th>review_total_negative_word_counts</th>\n      <th>review_total_positive_word_counts</th>\n      <th>total_number_of_reviews_reviewer_has_given</th>\n      <th>reviewer_score</th>\n      <th>month</th>\n      <th>reviewer_nationality_0</th>\n      <th>reviewer_nationality_1</th>\n      <th>...</th>\n      <th>Stayed 1 night</th>\n      <th>Couple</th>\n      <th>Standard Twin Room</th>\n      <th>Standard Double or Twin Room</th>\n      <th>Stayed 3 nights</th>\n      <th>Stayed 2 nights</th>\n      <th>Superior Double or Twin Room</th>\n      <th>Group</th>\n      <th>Family with older children</th>\n      <th>Solo traveler</th>\n    </tr>\n  </thead>\n  <tbody>\n    <tr>\n      <th>0</th>\n      <td>904</td>\n      <td>2017</td>\n      <td>8.1</td>\n      <td>52</td>\n      <td>62</td>\n      <td>1</td>\n      <td>NaN</td>\n      <td>7</td>\n      <td>0</td>\n      <td>0</td>\n      <td>...</td>\n      <td>0</td>\n      <td>1</td>\n      <td>0</td>\n      <td>0</td>\n      <td>0</td>\n      <td>1</td>\n      <td>0</td>\n      <td>0</td>\n      <td>0</td>\n      <td>0</td>\n    </tr>\n    <tr>\n      <th>1</th>\n      <td>612</td>\n      <td>2016</td>\n      <td>8.6</td>\n      <td>10</td>\n      <td>0</td>\n      <td>7</td>\n      <td>NaN</td>\n      <td>12</td>\n      <td>0</td>\n      <td>0</td>\n      <td>...</td>\n      <td>1</td>\n      <td>0</td>\n      <td>0</td>\n      <td>0</td>\n      <td>0</td>\n      <td>0</td>\n      <td>0</td>\n      <td>1</td>\n      <td>0</td>\n      <td>0</td>\n    </tr>\n    <tr>\n      <th>2</th>\n      <td>46</td>\n      <td>2015</td>\n      <td>8.3</td>\n      <td>3</td>\n      <td>5</td>\n      <td>15</td>\n      <td>NaN</td>\n      <td>11</td>\n      <td>0</td>\n      <td>0</td>\n      <td>...</td>\n      <td>1</td>\n      <td>0</td>\n      <td>0</td>\n      <td>0</td>\n      <td>0</td>\n      <td>0</td>\n      <td>0</td>\n      <td>0</td>\n      <td>0</td>\n      <td>1</td>\n    </tr>\n    <tr>\n      <th>3</th>\n      <td>241</td>\n      <td>2015</td>\n      <td>9.1</td>\n      <td>0</td>\n      <td>27</td>\n      <td>9</td>\n      <td>NaN</td>\n      <td>10</td>\n      <td>0</td>\n      <td>0</td>\n      <td>...</td>\n      <td>1</td>\n      <td>1</td>\n      <td>0</td>\n      <td>0</td>\n      <td>0</td>\n      <td>0</td>\n      <td>0</td>\n      <td>0</td>\n      <td>0</td>\n      <td>0</td>\n    </tr>\n    <tr>\n      <th>4</th>\n      <td>834</td>\n      <td>2016</td>\n      <td>9.1</td>\n      <td>0</td>\n      <td>7</td>\n      <td>2</td>\n      <td>NaN</td>\n      <td>5</td>\n      <td>0</td>\n      <td>0</td>\n      <td>...</td>\n      <td>0</td>\n      <td>0</td>\n      <td>0</td>\n      <td>0</td>\n      <td>0</td>\n      <td>1</td>\n      <td>0</td>\n      <td>0</td>\n      <td>0</td>\n      <td>1</td>\n    </tr>\n  </tbody>\n</table>\n<p>5 rows × 37 columns</p>\n</div>"
     },
     "execution_count": 322,
     "metadata": {},
     "output_type": "execute_result"
    }
   ],
   "source": [
    "test_data.head()"
   ],
   "metadata": {
    "collapsed": false,
    "pycharm": {
     "name": "#%%\n"
    }
   }
  },
  {
   "cell_type": "code",
   "execution_count": 323,
   "outputs": [],
   "source": [
    "test_data.drop(['reviewer_score'], axis=1, inplace=True)"
   ],
   "metadata": {
    "collapsed": false,
    "pycharm": {
     "name": "#%%\n"
    }
   }
  },
  {
   "cell_type": "code",
   "execution_count": 324,
   "outputs": [
    {
     "data": {
      "text/plain": "array([8.576, 7.165, 8.365, ..., 7.876, 9.369, 6.785])"
     },
     "execution_count": 324,
     "metadata": {},
     "output_type": "execute_result"
    }
   ],
   "source": [
    "predict_submission = regr.predict(test_data)\n",
    "predict_submission"
   ],
   "metadata": {
    "collapsed": false,
    "pycharm": {
     "name": "#%%\n"
    }
   }
  },
  {
   "cell_type": "code",
   "execution_count": 325,
   "outputs": [
    {
     "data": {
      "text/plain": "   reviewer_score      id\n0           8.576  488440\n1           7.165  274649\n2           8.365  374688\n3           9.625  404352\n4           9.709  451596",
      "text/html": "<div>\n<style scoped>\n    .dataframe tbody tr th:only-of-type {\n        vertical-align: middle;\n    }\n\n    .dataframe tbody tr th {\n        vertical-align: top;\n    }\n\n    .dataframe thead th {\n        text-align: right;\n    }\n</style>\n<table border=\"1\" class=\"dataframe\">\n  <thead>\n    <tr style=\"text-align: right;\">\n      <th></th>\n      <th>reviewer_score</th>\n      <th>id</th>\n    </tr>\n  </thead>\n  <tbody>\n    <tr>\n      <th>0</th>\n      <td>8.576</td>\n      <td>488440</td>\n    </tr>\n    <tr>\n      <th>1</th>\n      <td>7.165</td>\n      <td>274649</td>\n    </tr>\n    <tr>\n      <th>2</th>\n      <td>8.365</td>\n      <td>374688</td>\n    </tr>\n    <tr>\n      <th>3</th>\n      <td>9.625</td>\n      <td>404352</td>\n    </tr>\n    <tr>\n      <th>4</th>\n      <td>9.709</td>\n      <td>451596</td>\n    </tr>\n  </tbody>\n</table>\n</div>"
     },
     "execution_count": 325,
     "metadata": {},
     "output_type": "execute_result"
    }
   ],
   "source": [
    "submisson['reviewer_score'] = predict_submission\n",
    "submisson.to_csv('submission_res.csv', index=False)\n",
    "submisson.head()"
   ],
   "metadata": {
    "collapsed": false,
    "pycharm": {
     "name": "#%%\n"
    }
   }
  },
  {
   "cell_type": "code",
   "execution_count": 325,
   "outputs": [],
   "source": [],
   "metadata": {
    "collapsed": false,
    "pycharm": {
     "name": "#%%\n"
    }
   }
  }
 ],
 "metadata": {
  "kernelspec": {
   "display_name": "Python 3",
   "language": "python",
   "name": "python3"
  },
  "language_info": {
   "codemirror_mode": {
    "name": "ipython",
    "version": 2
   },
   "file_extension": ".py",
   "mimetype": "text/x-python",
   "name": "python",
   "nbconvert_exporter": "python",
   "pygments_lexer": "ipython2",
   "version": "2.7.6"
  }
 },
 "nbformat": 4,
 "nbformat_minor": 0
}