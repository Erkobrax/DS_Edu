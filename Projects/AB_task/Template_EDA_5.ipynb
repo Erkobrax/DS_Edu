{
 "cells": [
  {
   "cell_type": "markdown",
   "id": "c8a6af25-08d3-487a-bd90-001772ac9161",
   "metadata": {},
   "source": [
    "## <center> **Анализ результатов A/B-тестирования**"
   ]
  },
  {
   "cell_type": "markdown",
   "id": "d7d45571-6545-4904-a86b-9b3b6b8163d3",
   "metadata": {},
   "source": [
    "Компания планирует запустить новую акцию, чтобы продать как можно больше туров. Команда разработала два варианта посадочной страницы официального сайта компании и провела A/B-тестирование. Собранные в результате проведения эксперимента данные вы можете найти здесь.\n",
    "\n",
    "Вам предстоит решить настоящую бизнес-задачу: проанализировать эффективность обоих вариантов посадочной страницы сразу по двум критериям: конверсии покупки и среднему чеку. На основе проведенного анализа вам будет необходимо сделать выводы и принять решение: какой из вариантов дизайна более предпочтительный.\n",
    "\n",
    "Итак, наша фирма предлагает следующие варианты туров и их соответствующие стоимости:\n",
    "* Таиланд — 100000 рублей;\n",
    "* Турция — 60000 рублей;\n",
    "* Мальдивы — 200000 рублей;\n",
    "* Санкт-Петербург — 10000 рублей;\n",
    "* Камчатка — 150000 рублей."
   ]
  },
  {
   "cell_type": "code",
   "execution_count": 1,
   "id": "a974b482-e192-4014-8520-8a5c0c946da6",
   "metadata": {},
   "outputs": [],
   "source": [
    "import pandas as pd\n",
    "import matplotlib.pyplot as plt\n",
    "import seaborn as sns\n",
    "from scipy.stats import norm\n",
    "from scipy.stats import t\n",
    "from scipy.stats import ttest_ind, shapiro, f_oneway, mannwhitneyu\n",
    "from statsmodels.stats.proportion import proportions_ztest"
   ]
  },
  {
   "cell_type": "markdown",
   "id": "55c84550-4162-4325-acc2-7d3c0aafe6f0",
   "metadata": {},
   "source": [
    "Прочитаем наши данные и посмотрим на столбцы таблицы:"
   ]
  },
  {
   "cell_type": "code",
   "execution_count": 2,
   "id": "b0d18245-b9da-44bd-8aea-d272ea74b63a",
   "metadata": {},
   "outputs": [
    {
     "data": {
      "text/plain": "   user_id        date group  purchase   price\n0   851104  2021-01-21     A         0       0\n1   804228  2021-01-12     A         0       0\n2   661590  2021-01-11     B         0       0\n3   853541  2021-01-08     B         0       0\n4   864975  2021-01-21     A         1  150000",
      "text/html": "<div>\n<style scoped>\n    .dataframe tbody tr th:only-of-type {\n        vertical-align: middle;\n    }\n\n    .dataframe tbody tr th {\n        vertical-align: top;\n    }\n\n    .dataframe thead th {\n        text-align: right;\n    }\n</style>\n<table border=\"1\" class=\"dataframe\">\n  <thead>\n    <tr style=\"text-align: right;\">\n      <th></th>\n      <th>user_id</th>\n      <th>date</th>\n      <th>group</th>\n      <th>purchase</th>\n      <th>price</th>\n    </tr>\n  </thead>\n  <tbody>\n    <tr>\n      <th>0</th>\n      <td>851104</td>\n      <td>2021-01-21</td>\n      <td>A</td>\n      <td>0</td>\n      <td>0</td>\n    </tr>\n    <tr>\n      <th>1</th>\n      <td>804228</td>\n      <td>2021-01-12</td>\n      <td>A</td>\n      <td>0</td>\n      <td>0</td>\n    </tr>\n    <tr>\n      <th>2</th>\n      <td>661590</td>\n      <td>2021-01-11</td>\n      <td>B</td>\n      <td>0</td>\n      <td>0</td>\n    </tr>\n    <tr>\n      <th>3</th>\n      <td>853541</td>\n      <td>2021-01-08</td>\n      <td>B</td>\n      <td>0</td>\n      <td>0</td>\n    </tr>\n    <tr>\n      <th>4</th>\n      <td>864975</td>\n      <td>2021-01-21</td>\n      <td>A</td>\n      <td>1</td>\n      <td>150000</td>\n    </tr>\n  </tbody>\n</table>\n</div>"
     },
     "execution_count": 2,
     "metadata": {},
     "output_type": "execute_result"
    }
   ],
   "source": [
    "data = pd.read_csv('data/ab_data_tourist.csv')\n",
    "data.head()"
   ]
  },
  {
   "cell_type": "markdown",
   "id": "2fc48225-26ac-49c4-b99d-8b2a03dd74a1",
   "metadata": {
    "tags": []
   },
   "source": [
    "## **Задание 7.1.**\n",
    "\n",
    "Начнем с исследования структуры наших данных. С помощью метода info() выведите информацию о типах данных и количестве непустых значений. Какой тип данных имеет столбец date?"
   ]
  },
  {
   "cell_type": "code",
   "execution_count": 7,
   "id": "23496521-4878-46e2-ab02-1a98be14884a",
   "metadata": {},
   "outputs": [
    {
     "name": "stdout",
     "output_type": "stream",
     "text": [
      "<class 'pandas.core.frame.DataFrame'>\n",
      "RangeIndex: 294478 entries, 0 to 294477\n",
      "Data columns (total 5 columns):\n",
      " #   Column    Non-Null Count   Dtype \n",
      "---  ------    --------------   ----- \n",
      " 0   user_id   294478 non-null  int64 \n",
      " 1   date      294478 non-null  object\n",
      " 2   group     294478 non-null  object\n",
      " 3   purchase  294478 non-null  int64 \n",
      " 4   price     294478 non-null  int64 \n",
      "dtypes: int64(3), object(2)\n",
      "memory usage: 11.2+ MB\n"
     ]
    }
   ],
   "source": [
    "data.info()"
   ]
  },
  {
   "cell_type": "markdown",
   "id": "946d017d-b4fe-4a17-b91d-0ce369d1ab2e",
   "metadata": {
    "tags": []
   },
   "source": [
    "## **Задание 7.2.**\n",
    "\n",
    "Приведите столбец date к типу данных datetime. Убедитесь в равной длительности проведения тестирования для каждой из группы. Для этого сгруппируйте данные по признаку группы и определите первую и последнюю дату наблюдения для каждой из групп. \n",
    "\n",
    "В какой промежуток времени проводился A/B-тест?\n"
   ]
  },
  {
   "cell_type": "code",
   "execution_count": 45,
   "id": "604c619d-6338-45c8-8248-ac098a2366bb",
   "metadata": {},
   "outputs": [
    {
     "name": "stdout",
     "output_type": "stream",
     "text": [
      "            date           \n",
      "             min        max\n",
      "group                      \n",
      "A     2021-01-02 2021-01-24\n",
      "B     2021-01-02 2021-01-24\n"
     ]
    }
   ],
   "source": [
    "data['date'] = pd.to_datetime(data['date'],format='%Y-%m-%d')\n",
    "df_group_daily = data.groupby(['group','date']).agg({'user_id':'count', 'purchase':'sum', 'price':'sum'}).reset_index().rename(columns={'user_id':'user_count', 'purchase':'purchase_sum', 'price':'price_sum'})\n",
    "print(data.groupby('group').agg({'date':['min','max']}))"
   ]
  },
  {
   "cell_type": "code",
   "execution_count": 29,
   "outputs": [
    {
     "data": {
      "text/plain": "Index(['user_id', 'date', 'group', 'purchase', 'price'], dtype='object')"
     },
     "execution_count": 29,
     "metadata": {},
     "output_type": "execute_result"
    }
   ],
   "source": [],
   "metadata": {
    "collapsed": false,
    "pycharm": {
     "name": "#%%\n"
    }
   }
  },
  {
   "cell_type": "markdown",
   "id": "e04eb341-52ae-48b3-9dc2-0578ca91641a",
   "metadata": {},
   "source": [
    "## **Задание 7.3.**\n",
    "\n",
    "* Чему равно количество посещений сайта в группах А и B?\n",
    "\n",
    "* Чему равно суммарное количество покупок в группах А и B?\n",
    "\n",
    "* Чему равна сумма всех покупок в группах А и B? Ответ приведите в миллионах рублей. Например, 185.52 млн. руб."
   ]
  },
  {
   "cell_type": "code",
   "execution_count": 50,
   "id": "02bf0148-488e-4f34-95bf-37794b2fa98b",
   "metadata": {},
   "outputs": [
    {
     "data": {
      "text/plain": "       user_id  purchase    price\ngroup                            \nA       147202     17723  1436.26\nB       147276     17514  1554.10",
      "text/html": "<div>\n<style scoped>\n    .dataframe tbody tr th:only-of-type {\n        vertical-align: middle;\n    }\n\n    .dataframe tbody tr th {\n        vertical-align: top;\n    }\n\n    .dataframe thead th {\n        text-align: right;\n    }\n</style>\n<table border=\"1\" class=\"dataframe\">\n  <thead>\n    <tr style=\"text-align: right;\">\n      <th></th>\n      <th>user_id</th>\n      <th>purchase</th>\n      <th>price</th>\n    </tr>\n    <tr>\n      <th>group</th>\n      <th></th>\n      <th></th>\n      <th></th>\n    </tr>\n  </thead>\n  <tbody>\n    <tr>\n      <th>A</th>\n      <td>147202</td>\n      <td>17723</td>\n      <td>1436.26</td>\n    </tr>\n    <tr>\n      <th>B</th>\n      <td>147276</td>\n      <td>17514</td>\n      <td>1554.10</td>\n    </tr>\n  </tbody>\n</table>\n</div>"
     },
     "execution_count": 50,
     "metadata": {},
     "output_type": "execute_result"
    }
   ],
   "source": [
    "df_group = data.groupby('group').agg({'user_id':'count', 'purchase':'sum','price':'sum'})\n",
    "df_group['price'] = df_group['price']/(10**6)\n",
    "df_group"
   ]
  },
  {
   "cell_type": "markdown",
   "id": "2434db1b-17e6-4977-8e54-1df875c6f221",
   "metadata": {
    "tags": []
   },
   "source": [
    "## **Задание 7.4.**\n",
    "\n",
    "Проверьте, есть ли пользователи, которые в процессе A/B-теста попали в обе тестовые группы? Если да, то сколько таких уникальных пользователей, если нет - введите в поле для ответа 0?\n",
    "\n",
    "\n"
   ]
  },
  {
   "cell_type": "code",
   "execution_count": 55,
   "id": "57a2d711-057d-4f8b-9f56-df0f772d41c8",
   "metadata": {},
   "outputs": [
    {
     "name": "stdout",
     "output_type": "stream",
     "text": [
      "False    145307\n",
      "True       1895\n",
      "Name: user_id, dtype: int64\n"
     ]
    },
    {
     "data": {
      "text/plain": "{843786,\n 868364,\n 737298,\n 843797,\n 630805,\n 843802,\n 761882,\n 933918,\n 688167,\n 827432,\n 835630,\n 860206,\n 778288,\n 843832,\n 802877,\n 745536,\n 663619,\n 680003,\n 811077,\n 811079,\n 639059,\n 720982,\n 630871,\n 835673,\n 835675,\n 630887,\n 721002,\n 761965,\n 639090,\n 819318,\n 786565,\n 778375,\n 712853,\n 868503,\n 934040,\n 671902,\n 811196,\n 934076,\n 770242,\n 917708,\n 680144,\n 811222,\n 893145,\n 631008,\n 712930,\n 852215,\n 778488,\n 884985,\n 901376,\n 663810,\n 827654,\n 917767,\n 688390,\n 942353,\n 860441,\n 745756,\n 721188,\n 917799,\n 942375,\n 844083,\n 721208,\n 680251,\n 655678,\n 704832,\n 835905,\n 696642,\n 803145,\n 639310,\n 844114,\n 737626,\n 827741,\n 942436,\n 704870,\n 754022,\n 909678,\n 786808,\n 909688,\n 639366,\n 737675,\n 844173,\n 680343,\n 778649,\n 885146,\n 639386,\n 770459,\n 713119,\n 639407,\n 803248,\n 917936,\n 737712,\n 754102,\n 795063,\n 688568,\n 647609,\n 917949,\n 901567,\n 647615,\n 762307,\n 778692,\n 680390,\n 696791,\n 745943,\n 664025,\n 664030,\n 844263,\n 811497,\n 836084,\n 655860,\n 680436,\n 778743,\n 918023,\n 942600,\n 860683,\n 729611,\n 795157,\n 934424,\n 877083,\n 934436,\n 631337,\n 934444,\n 639533,\n 672309,\n 786999,\n 909881,\n 844346,\n 868922,\n 926270,\n 688722,\n 778837,\n 721496,\n 688730,\n 713313,\n 705123,\n 860781,\n 795252,\n 828024,\n 860798,\n 885380,\n 893583,\n 819858,\n 639635,\n 762515,\n 828057,\n 746137,\n 778909,\n 795297,\n 754337,\n 631459,\n 647844,\n 877223,\n 811689,\n 926379,\n 778923,\n 844466,\n 828083,\n 819896,\n 934586,\n 844475,\n 705210,\n 869056,\n 885440,\n 672455,\n 656073,\n 705230,\n 672467,\n 680662,\n 672470,\n 877272,\n 910059,\n 844524,\n 664304,\n 811775,\n 729859,\n 647940,\n 746245,\n 819974,\n 762633,\n 779023,\n 754449,\n 664347,\n 844572,\n 803613,\n 877341,\n 762664,\n 852777,\n 779052,\n 901935,\n 934707,\n 770869,\n 942903,\n 754488,\n 770876,\n 762688,\n 828228,\n 885572,\n 787270,\n 828230,\n 639817,\n 861005,\n 754509,\n 861010,\n 729939,\n 729942,\n 795479,\n 844638,\n 926559,\n 787305,\n 893808,\n 738167,\n 795519,\n 746367,\n 770945,\n 844675,\n 820102,\n 779142,\n 828302,\n 885649,\n 762769,\n 664475,\n 648096,\n 697253,\n 795558,\n 648102,\n 943016,\n 697261,\n 787382,\n 885703,\n 902088,\n 861129,\n 828368,\n 910291,\n 656339,\n 754652,\n 918493,\n 721885,\n 697315,\n 836587,\n 803823,\n 877551,\n 754673,\n 934903,\n 672759,\n 828410,\n 918531,\n 771082,\n 664598,\n 869401,\n 689180,\n 631838,\n 934943,\n 926752,\n 926754,\n 664630,\n 861242,\n 918592,\n 689228,\n 918607,\n 722004,\n 689237,\n 803928,\n 689247,\n 844898,\n 771170,\n 803942,\n 803949,\n 746606,\n 640111,\n 746610,\n 935042,\n 705666,\n 828548,\n 664708,\n 861322,\n 787598,\n 713884,\n 894109,\n 763044,\n 672934,\n 795815,\n 902315,\n 672947,\n 656568,\n 697530,\n 713915,\n 804050,\n 738516,\n 804065,\n 935138,\n 656613,\n 763109,\n 861420,\n 894188,\n 918767,\n 648437,\n 910584,\n 673016,\n 926971,\n 640253,\n 730365,\n 632069,\n 869647,\n 754960,\n 861460,\n 763158,\n 812316,\n 943391,\n 787745,\n 697635,\n 886060,\n 918829,\n 902446,\n 927024,\n 779572,\n 738614,\n 730429,\n 902463,\n 640320,\n 697668,\n 714060,\n 722256,\n 894289,\n 664919,\n 812376,\n 886109,\n 869729,\n 705894,\n 673131,\n 877938,\n 705907,\n 689526,\n 886135,\n 796031,\n 648576,\n 804226,\n 943492,\n 927109,\n 812433,\n 918945,\n 902563,\n 886189,\n 910765,\n 796079,\n 673201,\n 648631,\n 886201,\n 820681,\n 894409,\n 648650,\n 656849,\n 845267,\n 689621,\n 796121,\n 804317,\n 689637,\n 919031,\n 648699,\n 689663,\n 779778,\n 689668,\n 730634,\n 943627,\n 722443,\n 779792,\n 697873,\n 861721,\n 927257,\n 706077,\n 837151,\n 656935,\n 648746,\n 730666,\n 738864,\n 747056,\n 878133,\n 845366,\n 656951,\n 828985,\n 894536,\n 878153,\n 902730,\n 656969,\n 689745,\n 796246,\n 910935,\n 706145,\n 738925,\n 706170,\n 673404,\n 632464,\n 771733,\n 706204,\n 837280,\n 648869,\n 820905,\n 788138,\n 804532,\n 927412,\n 886454,\n 689850,\n 911040,\n 902849,\n 894671,\n 870096,\n 739028,\n 820951,\n 763616,\n 796390,\n 894700,\n 837359,\n 689905,\n 648947,\n 804597,\n 714496,\n 861953,\n 681732,\n 714506,\n 935691,\n 796430,\n 657167,\n 632592,\n 755480,\n 780057,\n 739103,\n 739115,\n 911153,\n 821050,\n 657213,\n 632642,\n 845636,\n 722761,\n 853835,\n 878413,\n 665422,\n 788305,\n 862035,\n 681813,\n 640854,\n 714583,\n 714585,\n 853850,\n 845661,\n 853857,\n 935777,\n 698216,\n 632690,\n 870259,\n 870264,\n 804732,\n 788353,\n 903048,\n 722827,\n 870284,\n 640909,\n 681872,\n 804758,\n 780194,\n 935846,\n 722854,\n 853936,\n 829361,\n 690102,\n 731069,\n 722882,\n 657353,\n 935883,\n 829390,\n 690127,\n 763863,\n 632794,\n 640989,\n 903141,\n 706537,\n 755701,\n 657401,\n 698364,\n 657407,\n 788484,\n 649232,\n 870418,\n 763923,\n 682005,\n 944152,\n 657440,\n 665652,\n 649274,\n 854075,\n 903227,\n 682051,\n 698436,\n 854086,\n 895046,\n 788552,\n 821320,\n 755787,\n 665679,\n 936018,\n 714840,\n 804968,\n 747626,\n 755830,\n 837751,\n 755838,\n 764034,\n 878725,\n 878735,\n 919699,\n 927909,\n 682153,\n 657586,\n 886965,\n 772277,\n 870587,\n 805054,\n 886981,\n 673993,\n 706764,\n 731349,\n 764120,\n 805082,\n 706778,\n 821473,\n 911590,\n 919789,\n 895216,\n 788721,\n 747761,\n 805110,\n 764160,\n 895243,\n 690449,\n 911642,\n 796965,\n 682285,\n 919856,\n 764213,\n 657725,\n 706878,\n 944456,\n 821589,\n 854362,\n 813406,\n 854367,\n 690528,\n 698722,\n 723311,\n 870780,\n 739712,\n 846209,\n 657797,\n 878984,\n 674191,\n 944533,\n 633243,\n 821661,\n 723357,\n 764321,\n 936355,\n 821678,\n 666032,\n 928177,\n 706994,\n 690618,\n 846269,\n 780734,\n 911808,\n 829900,\n 690637,\n 879056,\n 879057,\n 756176,\n 805339,\n 682461,\n 780770,\n 895459,\n 748012,\n 805365,\n 805368,\n 797177,\n 682491,\n 707070,\n 789006,\n 641570,\n 789038,\n 870963,\n 797237,\n 649781,\n 887357,\n 698943,\n 764484,\n 666187,\n 649806,\n 879184,\n 715349,\n 879195,\n 871004,\n 658016,\n 895585,\n 805474,\n 944742,\n 715367,\n 666219,\n 821876,\n 780924,\n 756353,\n 944777,\n 772745,\n 780942,\n 780949,\n 797335,\n 682649,\n 707225,\n 682653,\n 723615,\n 846500,\n 748197,\n 830124,\n 838320,\n 920245,\n 658117,\n 936646,\n 674513,\n 707283,\n 699093,\n 846550,\n 641751,\n 772828,\n 764640,\n 821985,\n 731873,\n 764644,\n 748263,\n 781038,\n 740080,\n 764658,\n 748275,\n 920313,\n 928506,\n 936705,\n 772865,\n 928521,\n 854795,\n 920335,\n 666385,\n 854809,\n 912168,\n 666412,\n 764717,\n 789302,\n 666424,\n 748345,\n 691006,\n 740162,\n 772938,\n 936780,\n 944979,\n 895835,\n 633692,\n 764776,\n 764779,\n 805743,\n 641906,\n 789366,\n 773007,\n 682898,\n 904083,\n 813978,\n 846754,\n 846755,\n 748451,\n 805804,\n 871356,\n 805821,\n 814013,\n 781247,\n 920529,\n 945125,\n 732137,\n 650225,\n 797683,\n 773112,\n 863232,\n 855041,\n 781315,\n 748570,\n 822309,\n 633897,\n 887850,\n 822315,\n 805932,\n 724010,\n 814127,\n 805952,\n 699462,\n 715847,\n 863304,\n 945227,\n 822354,\n 691288,\n 691291,\n 633949,\n 855134,\n 822371,\n 724073,\n 830573,\n 879725,\n 715890,\n 945272,\n 674938,\n 846972,\n 650369,\n 937090,\n 863362,\n 642182,\n 846985,\n 666767,\n 789652,\n 822422,\n 715927,\n 945308,\n 765088,\n 814242,\n 674994,\n 904376,\n 896194,\n 937158,\n 789706,\n 699599,\n 871641,\n 945369,\n 847067,\n 740572,\n 773339,\n 699614,\n 888039,\n 945387,\n 634098,\n 855286,\n 781562,\n 748795,\n 683261,\n 830724,\n 707856,\n 838932,\n 806165,\n 929053,\n 757033,\n 904493,\n 855344,\n 912689,\n 912690,\n 912694,\n 781627,\n 879932,\n 912701,\n 716093,\n 863552,\n 912705,\n 642372,\n 798021,\n 716103,\n 798029,\n 757070,\n 879952,\n 732496,\n 642390,\n 740695,\n 781656,\n 822618,\n 634203,\n 888156,\n 757085,\n 642405,\n 650598,\n 757093,\n 699757,\n 666995,\n 634230,\n 839043,\n 773508,\n 650629,\n 789898,\n 699786,\n 724367,\n 929176,\n 757145,\n 929178,\n 708009,\n 691630,\n 757166,\n 806324,\n 732600,\n 806332,\n 781769,\n 798157,\n 880078,\n 847311,\n 937422,\n 798162,\n 650709,\n 806358,\n 814551,\n 667093,\n 806362,\n 667099,\n 945627,\n 699866,\n 896512,\n 683521,\n 822805,\n 732699,\n 904735,\n 847395,\n 773670,\n 724525,\n 880174,\n 929326,\n 937519,\n 765511,\n 831048,\n 814669,\n 716366,\n 757328,\n 675410,\n 765524,\n 667225,\n 650846,\n 798304,\n 724579,\n 896614,\n 855662,\n 749171,\n 863863,\n 896635,\n 749179,\n 700033,\n 667277,\n 757407,\n 904864,\n 716454,\n 765610,\n 749234,\n 716469,\n 634552,\n 732856,\n 888508,\n 822973,\n 904904,\n 700108,\n 822996,\n 650981,\n 634598,\n 872167,\n 634605,\n 741102,\n 749293,\n 634611,\n 904948,\n 782073,\n 823045,\n 741134,\n 855823,\n 667416,\n 872218,\n 814881,\n 896802,\n 700194,\n 855844,\n 724772,\n 667431,\n 880442,\n 675663,\n 913232,\n 839506,\n 683859,\n 921429,\n 683872,\n 929637,\n 749415,\n 724841,\n 872300,\n 757617,\n 880498,\n 683903,\n 855940,\n 905093,\n 667529,\n 847768,\n 929689,\n 642972,\n 642975,\n 724906,\n 937901,\n 749488,\n 651185,\n 855991,\n 790456,\n 643001,\n 708544,\n 708548,\n 831435,\n 888780,\n 733132,\n 847832,\n 864223,\n 741353,\n 905197,\n 929781,\n 700408,\n 651258,\n 847867,\n 806913,\n 798722,\n 872451,\n 643076,\n 667654,\n 634888,\n 716808,\n 749577,\n 815115,\n 856078,\n 684046,\n 823312,\n 856084,\n 643092,\n 733205,\n 823319,\n 757780,\n 929817,\n 675867,\n 667684,\n 774180,\n 725035,\n 667692,\n 741432,\n 766031,\n 716890,\n 634971,\n 938077,\n 921693,\n 757854,\n 938083,\n 749678,\n 684144,\n 823414,\n 635003,\n 880764,\n 880766,\n 651392,\n 749697,\n 684166,\n 741512,\n 815246,\n 684176,\n 725144,\n 913561,\n 872607,\n 807074,\n 635048,\n 643244,\n 815289,\n 905401,\n 684222,\n 913603,\n 889036,\n 659660,\n 807120,\n 700634,\n 913627,\n 692446,\n 913631,\n 848099,\n 921829,\n 766181,\n 872682,\n 659695,\n 774383,\n 921841,\n 684279,\n 823547,\n 823549,\n 782591,\n 733440,\n 692496,\n 839954,\n 880921,\n 733466,\n 872738,\n 905507,\n 880932,\n 839982,\n 880948,\n 905524,\n 667959,\n 921922,\n 725320,\n 643404,\n 659797,\n 889175,\n 717156,\n 799090,\n ...}"
     },
     "execution_count": 55,
     "metadata": {},
     "output_type": "execute_result"
    }
   ],
   "source": [
    "data_a = data[data['group']=='A']\n",
    "data_b = data[data['group']=='B']\n",
    "print(data_a['user_id'].isin(data_b['user_id']).value_counts())\n",
    "user_intersection = set(data_a['user_id'])&set(data_b['user_id'])\n",
    "user_intersection"
   ]
  },
  {
   "cell_type": "markdown",
   "id": "118b1904-7d7a-4935-825e-535da45c611b",
   "metadata": {
    "tags": []
   },
   "source": [
    "## **Исключите пользователей, оказавшихся в обеих группах**\n",
    "\n",
    "Так как мы не можем определить, какая из версий сайта повлияла на принятие решения, исключим этих пользователей. Далее мы будем работать только с очищенными от пересечений данными.\n",
    "\n",
    "Возможный вариант исключения пользователей:"
   ]
  },
  {
   "cell_type": "code",
   "execution_count": 56,
   "id": "f618b34b-35a3-4bf1-8d6d-38b3401930b7",
   "metadata": {},
   "outputs": [],
   "source": [
    "updated_data = data[data['user_id'].apply(lambda x: x not in user_intersection)]"
   ]
  },
  {
   "cell_type": "markdown",
   "id": "2bce6c9a-6580-4250-b280-204d40d20da2",
   "metadata": {},
   "source": [
    "Где user_intersection - множество пересечений пользователей групп А и B."
   ]
  },
  {
   "attachments": {
    "95f235d2-6323-4799-bf69-697fc57f727b.png": {
     "image/png": "[encoded data removed]"
    }
   },
   "cell_type": "markdown",
   "id": "2ddf6b2c-7987-41f3-82b1-8992630ae97b",
   "metadata": {
    "tags": []
   },
   "source": [
    "## **Задание 7.5.**\n",
    "\n",
    "Для первичного анализа результатов A/B-тестирования нам понадобится таблица следующего вида:\n",
    "\n",
    "![image.png](attachment:95f235d2-6323-4799-bf69-697fc57f727b.png)\n",
    " \n",
    " \n",
    "Для того, чтобы получить такую таблицу, сгруппируйте данные по признаку группы. В каждой группе рассчитайте следующие показатели:\n",
    "* количество посещений (количество пользователей)\n",
    "* количество совершенных покупок\n",
    "* сумма всех покупок в группе\n",
    "\n",
    "В полученной сгруппированной таблице переименуйте столбцы на **count_visits, count_purchases и sum_price**.\n",
    "\n",
    "\n",
    "\n",
    "Чему на этот раз равно количество посещений сайта в группах А и B?\n"
   ]
  },
  {
   "cell_type": "code",
   "execution_count": 57,
   "id": "5c0c018e-a250-48e9-b72a-e3c7be586ebd",
   "metadata": {},
   "outputs": [
    {
     "data": {
      "text/plain": "  group  count_visits  count_purchases   sum_price\n0     A        145307            17487  1417780000\n1     B        145381            17290  1533010000",
      "text/html": "<div>\n<style scoped>\n    .dataframe tbody tr th:only-of-type {\n        vertical-align: middle;\n    }\n\n    .dataframe tbody tr th {\n        vertical-align: top;\n    }\n\n    .dataframe thead th {\n        text-align: right;\n    }\n</style>\n<table border=\"1\" class=\"dataframe\">\n  <thead>\n    <tr style=\"text-align: right;\">\n      <th></th>\n      <th>group</th>\n      <th>count_visits</th>\n      <th>count_purchases</th>\n      <th>sum_price</th>\n    </tr>\n  </thead>\n  <tbody>\n    <tr>\n      <th>0</th>\n      <td>A</td>\n      <td>145307</td>\n      <td>17487</td>\n      <td>1417780000</td>\n    </tr>\n    <tr>\n      <th>1</th>\n      <td>B</td>\n      <td>145381</td>\n      <td>17290</td>\n      <td>1533010000</td>\n    </tr>\n  </tbody>\n</table>\n</div>"
     },
     "execution_count": 57,
     "metadata": {},
     "output_type": "execute_result"
    }
   ],
   "source": [
    "df_group = updated_data.groupby(['group']).agg({'user_id':'count', 'purchase':'sum', 'price':'sum'}).reset_index().rename(columns={'user_id':'count_visits', 'purchase':'count_purchases', 'price':'sum_price'})\n",
    "df_group"
   ]
  },
  {
   "cell_type": "markdown",
   "id": "b71e1390-9846-4a8e-b357-f82b847d1952",
   "metadata": {},
   "source": [
    "Приведите промежуточные выводы по построенной таблице. Сопоставимо ли количество посещений обоих вариантов посадочной странице, можно ли говорить о сбалансированности выборок?"
   ]
  },
  {
   "cell_type": "markdown",
   "id": "4ea1b65b-475e-4bff-9460-fac0acdb9620",
   "metadata": {},
   "source": [
    "Можно говорить о сбалансированности выборок, потому что количество респондентов практически одинаково."
   ]
  },
  {
   "cell_type": "markdown",
   "id": "afb2ee0a-31d1-45a5-be42-a2bf168b9448",
   "metadata": {
    "tags": []
   },
   "source": [
    "## **Задание 7.6.**\n",
    "\n",
    "Добавьте в сгруппированную таблицу столбцы conversion - конверсия покупки (отношение количества покупок к количеству посещений сайта в каждой группе, выраженное в процентах) и mean_check - средний чек (отношение суммы покупок к количеству покупок в каждой группе).\n",
    "\n",
    "* Чему равна конверсия в группах? Ответ приведите в процентах и округлите до сотых. Например, 75.12 %\n",
    "* Чему равен средний чек в группах? Ответ приведите в рублях и округлите до целых. Например, 120519 рублей."
   ]
  },
  {
   "cell_type": "code",
   "execution_count": 59,
   "id": "bd9c3b3e-5956-41a8-bae0-43693f6de1f2",
   "metadata": {},
   "outputs": [
    {
     "data": {
      "text/plain": "  group  count_visits  count_purchases   sum_price  conversion  mean_check\n0     A        145307            17487  1417780000       12.03     81076.0\n1     B        145381            17290  1533010000       11.89     88665.0",
      "text/html": "<div>\n<style scoped>\n    .dataframe tbody tr th:only-of-type {\n        vertical-align: middle;\n    }\n\n    .dataframe tbody tr th {\n        vertical-align: top;\n    }\n\n    .dataframe thead th {\n        text-align: right;\n    }\n</style>\n<table border=\"1\" class=\"dataframe\">\n  <thead>\n    <tr style=\"text-align: right;\">\n      <th></th>\n      <th>group</th>\n      <th>count_visits</th>\n      <th>count_purchases</th>\n      <th>sum_price</th>\n      <th>conversion</th>\n      <th>mean_check</th>\n    </tr>\n  </thead>\n  <tbody>\n    <tr>\n      <th>0</th>\n      <td>A</td>\n      <td>145307</td>\n      <td>17487</td>\n      <td>1417780000</td>\n      <td>12.03</td>\n      <td>81076.0</td>\n    </tr>\n    <tr>\n      <th>1</th>\n      <td>B</td>\n      <td>145381</td>\n      <td>17290</td>\n      <td>1533010000</td>\n      <td>11.89</td>\n      <td>88665.0</td>\n    </tr>\n  </tbody>\n</table>\n</div>"
     },
     "execution_count": 59,
     "metadata": {},
     "output_type": "execute_result"
    }
   ],
   "source": [
    "df_group['conversion'] = round(df_group['count_purchases']/df_group['count_visits'] * 100,2)\n",
    "df_group['mean_check'] = round(df_group['sum_price']/df_group['count_purchases'])\n",
    "df_group"
   ]
  },
  {
   "cell_type": "markdown",
   "id": "1eb6e140-c702-43e0-b301-9914a7f49448",
   "metadata": {},
   "source": [
    "Приведите промежуточные выводы по таблице. По какому(им) показателю(ям) вариант А эффективнее варианта B и наоборот?"
   ]
  },
  {
   "cell_type": "markdown",
   "id": "9e88c883-84f9-44ec-accd-04d5d459b261",
   "metadata": {},
   "source": [
    "На предварительном этапе конверсия в группе А больше, чем в группе B, средний чек в группе В больше, чем в группе А"
   ]
  },
  {
   "cell_type": "markdown",
   "id": "7f9f1ae0-f12f-49b3-8b57-1c299c208c49",
   "metadata": {
    "tags": []
   },
   "source": [
    "## **Задание 7.7.**\n",
    "\n",
    "Теперь давайте сравним варианты по покупательской способности туров. Для этого постройте сводную таблицу, которая покажет зависимость количества продаж от группы и цены тура. "
   ]
  },
  {
   "cell_type": "code",
   "execution_count": 70,
   "id": "78d46a02-cc30-4783-9b18-9fc9c6a08012",
   "metadata": {},
   "outputs": [
    {
     "data": {
      "text/plain": "price  0       10000   60000   100000  150000  200000\ngroup                                                \nA           0    5182    5271    1832    3478    1724\nB           0    5201    1730    5227    3438    1694",
      "text/html": "<div>\n<style scoped>\n    .dataframe tbody tr th:only-of-type {\n        vertical-align: middle;\n    }\n\n    .dataframe tbody tr th {\n        vertical-align: top;\n    }\n\n    .dataframe thead th {\n        text-align: right;\n    }\n</style>\n<table border=\"1\" class=\"dataframe\">\n  <thead>\n    <tr style=\"text-align: right;\">\n      <th>price</th>\n      <th>0</th>\n      <th>10000</th>\n      <th>60000</th>\n      <th>100000</th>\n      <th>150000</th>\n      <th>200000</th>\n    </tr>\n    <tr>\n      <th>group</th>\n      <th></th>\n      <th></th>\n      <th></th>\n      <th></th>\n      <th></th>\n      <th></th>\n    </tr>\n  </thead>\n  <tbody>\n    <tr>\n      <th>A</th>\n      <td>0</td>\n      <td>5182</td>\n      <td>5271</td>\n      <td>1832</td>\n      <td>3478</td>\n      <td>1724</td>\n    </tr>\n    <tr>\n      <th>B</th>\n      <td>0</td>\n      <td>5201</td>\n      <td>1730</td>\n      <td>5227</td>\n      <td>3438</td>\n      <td>1694</td>\n    </tr>\n  </tbody>\n</table>\n</div>"
     },
     "execution_count": 70,
     "metadata": {},
     "output_type": "execute_result"
    }
   ],
   "source": [
    "df_pivot = pd.pivot_table(updated_data, index='group',columns='price', values='purchase',aggfunc='sum')\n",
    "df_pivot"
   ]
  },
  {
   "cell_type": "markdown",
   "id": "977423ed-8f8d-475c-b773-621edd95338d",
   "metadata": {},
   "source": [
    "Визуализируйте полученную сводную таблицу с помощью тепловой карты с аннотацией. \n",
    "Чему равно количество проданных туров за 60000 рублей в группах?"
   ]
  },
  {
   "cell_type": "code",
   "execution_count": 67,
   "id": "f634fa8d-585c-42e3-b7d5-78e8d9eaa8c5",
   "metadata": {},
   "outputs": [
    {
     "data": {
      "text/plain": "<AxesSubplot:xlabel='price', ylabel='group'>"
     },
     "execution_count": 67,
     "metadata": {},
     "output_type": "execute_result"
    },
    {
     "data": {
      "text/plain": "<Figure size 1080x576 with 2 Axes>",
      "image/png": "[encoded data removed]"
     },
     "metadata": {
      "needs_background": "light"
     },
     "output_type": "display_data"
    }
   ],
   "source": [
    "plt.figure(figsize=(15, 8))\n",
    "sns.heatmap(df_pivot)"
   ]
  },
  {
   "cell_type": "markdown",
   "id": "9caa92ca-e261-4b8f-a16c-2abc322c9ffb",
   "metadata": {},
   "source": [
    "Сделайте выводы по построенной таблице. По каким турам покупательская способность участников группы А выше, чем участников группы B и наоборот?"
   ]
  },
  {
   "cell_type": "markdown",
   "id": "6d13fd45-e3df-468f-9d32-1fc45d38b10c",
   "metadata": {},
   "source": [
    "По турам за 60т рублей покупательская способность участников группы А выше, чем В. Обратная тенденция с турами за 100т рублей"
   ]
  },
  {
   "cell_type": "markdown",
   "id": "8f021fb4-d0f6-4e43-b518-1a96c07a4531",
   "metadata": {
    "tags": []
   },
   "source": [
    "## **Задание 7.8.**\n",
    "\n",
    "Настало время поговорить о стабилизации кумулятивных метрик во времени. Но прежде, чем перейти к кумулятивным метрикам, нам необходимо построить таблицу с ежедневными данными результатов проведения A/B-тестирования.\n",
    "\n",
    "Сгруппируйте данные по дате и группе тестирования. В каждой группе вычислите количество посещений страницы, количество покупок и сумму покупок. \n",
    "\n",
    "Добавьте в таблицу информацию о ежедневной конверсии (ежедневное количество покупок / ежедневное количество посещений) в группе и ежедневном среднем чеке (ежедневная сумма покупок / ежедневное количество покупок)\n",
    "* Чему равна конверсия 3 января 2021 года? Ответ приведите в процентах и округлите до сотых.\n",
    "\n",
    "* Чему равен средний чек 3 января 2021 года? Ответ приведите в рублях и округлите до целого."
   ]
  },
  {
   "cell_type": "code",
   "execution_count": 72,
   "id": "4503b528-412e-433a-bc03-da7da52fa1a3",
   "metadata": {},
   "outputs": [
    {
     "data": {
      "text/plain": "   group       date  user_count  purchase_count  price_sum  conversion  \\\n0      A 2021-01-02        2854             359   29410000       12.58   \n1      A 2021-01-03        6596             748   62000000       11.34   \n2      A 2021-01-04        6566             799   64250000       12.17   \n3      A 2021-01-05        6433             790   64550000       12.28   \n4      A 2021-01-06        6606             764   63410000       11.57   \n5      A 2021-01-07        6579             795   67290000       12.08   \n6      A 2021-01-08        6687             798   65380000       11.93   \n7      A 2021-01-09        6633             794   65610000       11.97   \n8      A 2021-01-10        6659             759   58950000       11.40   \n9      A 2021-01-11        6699             797   58760000       11.90   \n10     A 2021-01-12        6540             795   68460000       12.16   \n11     A 2021-01-13        6564             764   63590000       11.64   \n12     A 2021-01-14        6543             825   65890000       12.61   \n13     A 2021-01-15        6701             806   67570000       12.03   \n14     A 2021-01-16        6601             808   66210000       12.24   \n15     A 2021-01-17        6619             809   63020000       12.22   \n16     A 2021-01-18        6511             812   62850000       12.47   \n17     A 2021-01-19        6582             790   63680000       12.00   \n18     A 2021-01-20        6533             749   58710000       11.46   \n19     A 2021-01-21        6750             851   70300000       12.61   \n20     A 2021-01-22        6587             788   63690000       11.96   \n21     A 2021-01-23        6698             843   70950000       12.59   \n22     A 2021-01-24        3766             444   33250000       11.79   \n23     B 2021-01-02        2861             345   29660000       12.06   \n24     B 2021-01-03        6619             754   65960000       11.39   \n25     B 2021-01-04        6536             764   68030000       11.69   \n26     B 2021-01-05        6511             749   63550000       11.50   \n27     B 2021-01-06        6751             838   75020000       12.41   \n28     B 2021-01-07        6616             767   67170000       11.59   \n29     B 2021-01-08        6714             812   71270000       12.09   \n30     B 2021-01-09        6628             784   71410000       11.83   \n31     B 2021-01-10        6701             846   78080000       12.62   \n32     B 2021-01-11        6679             770   66960000       11.53   \n33     B 2021-01-12        6635             807   70560000       12.16   \n34     B 2021-01-13        6495             720   65910000       11.09   \n35     B 2021-01-14        6608             792   68990000       11.99   \n36     B 2021-01-15        6563             747   69160000       11.38   \n37     B 2021-01-16        6544             786   70560000       12.01   \n38     B 2021-01-17        6546             831   75300000       12.69   \n39     B 2021-01-18        6603             822   72240000       12.45   \n40     B 2021-01-19        6562             772   67820000       11.76   \n41     B 2021-01-20        6685             790   69250000       11.82   \n42     B 2021-01-21        6555             760   69870000       11.59   \n43     B 2021-01-22        6659             787   68660000       11.82   \n44     B 2021-01-23        6633             805   68930000       12.14   \n45     B 2021-01-24        3677             442   38650000       12.02   \n\n    mean_check  \n0      81922.0  \n1      82888.0  \n2      80413.0  \n3      81709.0  \n4      82997.0  \n5      84642.0  \n6      81930.0  \n7      82632.0  \n8      77668.0  \n9      73726.0  \n10     86113.0  \n11     83233.0  \n12     79867.0  \n13     83834.0  \n14     81943.0  \n15     77899.0  \n16     77401.0  \n17     80608.0  \n18     78385.0  \n19     82609.0  \n20     80825.0  \n21     84164.0  \n22     74887.0  \n23     85971.0  \n24     87480.0  \n25     89045.0  \n26     84846.0  \n27     89523.0  \n28     87575.0  \n29     87771.0  \n30     91084.0  \n31     92293.0  \n32     86961.0  \n33     87435.0  \n34     91542.0  \n35     87109.0  \n36     92584.0  \n37     89771.0  \n38     90614.0  \n39     87883.0  \n40     87850.0  \n41     87658.0  \n42     91934.0  \n43     87243.0  \n44     85627.0  \n45     87443.0  ",
      "text/html": "<div>\n<style scoped>\n    .dataframe tbody tr th:only-of-type {\n        vertical-align: middle;\n    }\n\n    .dataframe tbody tr th {\n        vertical-align: top;\n    }\n\n    .dataframe thead th {\n        text-align: right;\n    }\n</style>\n<table border=\"1\" class=\"dataframe\">\n  <thead>\n    <tr style=\"text-align: right;\">\n      <th></th>\n      <th>group</th>\n      <th>date</th>\n      <th>user_count</th>\n      <th>purchase_count</th>\n      <th>price_sum</th>\n      <th>conversion</th>\n      <th>mean_check</th>\n    </tr>\n  </thead>\n  <tbody>\n    <tr>\n      <th>0</th>\n      <td>A</td>\n      <td>2021-01-02</td>\n      <td>2854</td>\n      <td>359</td>\n      <td>29410000</td>\n      <td>12.58</td>\n      <td>81922.0</td>\n    </tr>\n    <tr>\n      <th>1</th>\n      <td>A</td>\n      <td>2021-01-03</td>\n      <td>6596</td>\n      <td>748</td>\n      <td>62000000</td>\n      <td>11.34</td>\n      <td>82888.0</td>\n    </tr>\n    <tr>\n      <th>2</th>\n      <td>A</td>\n      <td>2021-01-04</td>\n      <td>6566</td>\n      <td>799</td>\n      <td>64250000</td>\n      <td>12.17</td>\n      <td>80413.0</td>\n    </tr>\n    <tr>\n      <th>3</th>\n      <td>A</td>\n      <td>2021-01-05</td>\n      <td>6433</td>\n      <td>790</td>\n      <td>64550000</td>\n      <td>12.28</td>\n      <td>81709.0</td>\n    </tr>\n    <tr>\n      <th>4</th>\n      <td>A</td>\n      <td>2021-01-06</td>\n      <td>6606</td>\n      <td>764</td>\n      <td>63410000</td>\n      <td>11.57</td>\n      <td>82997.0</td>\n    </tr>\n    <tr>\n      <th>5</th>\n      <td>A</td>\n      <td>2021-01-07</td>\n      <td>6579</td>\n      <td>795</td>\n      <td>67290000</td>\n      <td>12.08</td>\n      <td>84642.0</td>\n    </tr>\n    <tr>\n      <th>6</th>\n      <td>A</td>\n      <td>2021-01-08</td>\n      <td>6687</td>\n      <td>798</td>\n      <td>65380000</td>\n      <td>11.93</td>\n      <td>81930.0</td>\n    </tr>\n    <tr>\n      <th>7</th>\n      <td>A</td>\n      <td>2021-01-09</td>\n      <td>6633</td>\n      <td>794</td>\n      <td>65610000</td>\n      <td>11.97</td>\n      <td>82632.0</td>\n    </tr>\n    <tr>\n      <th>8</th>\n      <td>A</td>\n      <td>2021-01-10</td>\n      <td>6659</td>\n      <td>759</td>\n      <td>58950000</td>\n      <td>11.40</td>\n      <td>77668.0</td>\n    </tr>\n    <tr>\n      <th>9</th>\n      <td>A</td>\n      <td>2021-01-11</td>\n      <td>6699</td>\n      <td>797</td>\n      <td>58760000</td>\n      <td>11.90</td>\n      <td>73726.0</td>\n    </tr>\n    <tr>\n      <th>10</th>\n      <td>A</td>\n      <td>2021-01-12</td>\n      <td>6540</td>\n      <td>795</td>\n      <td>68460000</td>\n      <td>12.16</td>\n      <td>86113.0</td>\n    </tr>\n    <tr>\n      <th>11</th>\n      <td>A</td>\n      <td>2021-01-13</td>\n      <td>6564</td>\n      <td>764</td>\n      <td>63590000</td>\n      <td>11.64</td>\n      <td>83233.0</td>\n    </tr>\n    <tr>\n      <th>12</th>\n      <td>A</td>\n      <td>2021-01-14</td>\n      <td>6543</td>\n      <td>825</td>\n      <td>65890000</td>\n      <td>12.61</td>\n      <td>79867.0</td>\n    </tr>\n    <tr>\n      <th>13</th>\n      <td>A</td>\n      <td>2021-01-15</td>\n      <td>6701</td>\n      <td>806</td>\n      <td>67570000</td>\n      <td>12.03</td>\n      <td>83834.0</td>\n    </tr>\n    <tr>\n      <th>14</th>\n      <td>A</td>\n      <td>2021-01-16</td>\n      <td>6601</td>\n      <td>808</td>\n      <td>66210000</td>\n      <td>12.24</td>\n      <td>81943.0</td>\n    </tr>\n    <tr>\n      <th>15</th>\n      <td>A</td>\n      <td>2021-01-17</td>\n      <td>6619</td>\n      <td>809</td>\n      <td>63020000</td>\n      <td>12.22</td>\n      <td>77899.0</td>\n    </tr>\n    <tr>\n      <th>16</th>\n      <td>A</td>\n      <td>2021-01-18</td>\n      <td>6511</td>\n      <td>812</td>\n      <td>62850000</td>\n      <td>12.47</td>\n      <td>77401.0</td>\n    </tr>\n    <tr>\n      <th>17</th>\n      <td>A</td>\n      <td>2021-01-19</td>\n      <td>6582</td>\n      <td>790</td>\n      <td>63680000</td>\n      <td>12.00</td>\n      <td>80608.0</td>\n    </tr>\n    <tr>\n      <th>18</th>\n      <td>A</td>\n      <td>2021-01-20</td>\n      <td>6533</td>\n      <td>749</td>\n      <td>58710000</td>\n      <td>11.46</td>\n      <td>78385.0</td>\n    </tr>\n    <tr>\n      <th>19</th>\n      <td>A</td>\n      <td>2021-01-21</td>\n      <td>6750</td>\n      <td>851</td>\n      <td>70300000</td>\n      <td>12.61</td>\n      <td>82609.0</td>\n    </tr>\n    <tr>\n      <th>20</th>\n      <td>A</td>\n      <td>2021-01-22</td>\n      <td>6587</td>\n      <td>788</td>\n      <td>63690000</td>\n      <td>11.96</td>\n      <td>80825.0</td>\n    </tr>\n    <tr>\n      <th>21</th>\n      <td>A</td>\n      <td>2021-01-23</td>\n      <td>6698</td>\n      <td>843</td>\n      <td>70950000</td>\n      <td>12.59</td>\n      <td>84164.0</td>\n    </tr>\n    <tr>\n      <th>22</th>\n      <td>A</td>\n      <td>2021-01-24</td>\n      <td>3766</td>\n      <td>444</td>\n      <td>33250000</td>\n      <td>11.79</td>\n      <td>74887.0</td>\n    </tr>\n    <tr>\n      <th>23</th>\n      <td>B</td>\n      <td>2021-01-02</td>\n      <td>2861</td>\n      <td>345</td>\n      <td>29660000</td>\n      <td>12.06</td>\n      <td>85971.0</td>\n    </tr>\n    <tr>\n      <th>24</th>\n      <td>B</td>\n      <td>2021-01-03</td>\n      <td>6619</td>\n      <td>754</td>\n      <td>65960000</td>\n      <td>11.39</td>\n      <td>87480.0</td>\n    </tr>\n    <tr>\n      <th>25</th>\n      <td>B</td>\n      <td>2021-01-04</td>\n      <td>6536</td>\n      <td>764</td>\n      <td>68030000</td>\n      <td>11.69</td>\n      <td>89045.0</td>\n    </tr>\n    <tr>\n      <th>26</th>\n      <td>B</td>\n      <td>2021-01-05</td>\n      <td>6511</td>\n      <td>749</td>\n      <td>63550000</td>\n      <td>11.50</td>\n      <td>84846.0</td>\n    </tr>\n    <tr>\n      <th>27</th>\n      <td>B</td>\n      <td>2021-01-06</td>\n      <td>6751</td>\n      <td>838</td>\n      <td>75020000</td>\n      <td>12.41</td>\n      <td>89523.0</td>\n    </tr>\n    <tr>\n      <th>28</th>\n      <td>B</td>\n      <td>2021-01-07</td>\n      <td>6616</td>\n      <td>767</td>\n      <td>67170000</td>\n      <td>11.59</td>\n      <td>87575.0</td>\n    </tr>\n    <tr>\n      <th>29</th>\n      <td>B</td>\n      <td>2021-01-08</td>\n      <td>6714</td>\n      <td>812</td>\n      <td>71270000</td>\n      <td>12.09</td>\n      <td>87771.0</td>\n    </tr>\n    <tr>\n      <th>30</th>\n      <td>B</td>\n      <td>2021-01-09</td>\n      <td>6628</td>\n      <td>784</td>\n      <td>71410000</td>\n      <td>11.83</td>\n      <td>91084.0</td>\n    </tr>\n    <tr>\n      <th>31</th>\n      <td>B</td>\n      <td>2021-01-10</td>\n      <td>6701</td>\n      <td>846</td>\n      <td>78080000</td>\n      <td>12.62</td>\n      <td>92293.0</td>\n    </tr>\n    <tr>\n      <th>32</th>\n      <td>B</td>\n      <td>2021-01-11</td>\n      <td>6679</td>\n      <td>770</td>\n      <td>66960000</td>\n      <td>11.53</td>\n      <td>86961.0</td>\n    </tr>\n    <tr>\n      <th>33</th>\n      <td>B</td>\n      <td>2021-01-12</td>\n      <td>6635</td>\n      <td>807</td>\n      <td>70560000</td>\n      <td>12.16</td>\n      <td>87435.0</td>\n    </tr>\n    <tr>\n      <th>34</th>\n      <td>B</td>\n      <td>2021-01-13</td>\n      <td>6495</td>\n      <td>720</td>\n      <td>65910000</td>\n      <td>11.09</td>\n      <td>91542.0</td>\n    </tr>\n    <tr>\n      <th>35</th>\n      <td>B</td>\n      <td>2021-01-14</td>\n      <td>6608</td>\n      <td>792</td>\n      <td>68990000</td>\n      <td>11.99</td>\n      <td>87109.0</td>\n    </tr>\n    <tr>\n      <th>36</th>\n      <td>B</td>\n      <td>2021-01-15</td>\n      <td>6563</td>\n      <td>747</td>\n      <td>69160000</td>\n      <td>11.38</td>\n      <td>92584.0</td>\n    </tr>\n    <tr>\n      <th>37</th>\n      <td>B</td>\n      <td>2021-01-16</td>\n      <td>6544</td>\n      <td>786</td>\n      <td>70560000</td>\n      <td>12.01</td>\n      <td>89771.0</td>\n    </tr>\n    <tr>\n      <th>38</th>\n      <td>B</td>\n      <td>2021-01-17</td>\n      <td>6546</td>\n      <td>831</td>\n      <td>75300000</td>\n      <td>12.69</td>\n      <td>90614.0</td>\n    </tr>\n    <tr>\n      <th>39</th>\n      <td>B</td>\n      <td>2021-01-18</td>\n      <td>6603</td>\n      <td>822</td>\n      <td>72240000</td>\n      <td>12.45</td>\n      <td>87883.0</td>\n    </tr>\n    <tr>\n      <th>40</th>\n      <td>B</td>\n      <td>2021-01-19</td>\n      <td>6562</td>\n      <td>772</td>\n      <td>67820000</td>\n      <td>11.76</td>\n      <td>87850.0</td>\n    </tr>\n    <tr>\n      <th>41</th>\n      <td>B</td>\n      <td>2021-01-20</td>\n      <td>6685</td>\n      <td>790</td>\n      <td>69250000</td>\n      <td>11.82</td>\n      <td>87658.0</td>\n    </tr>\n    <tr>\n      <th>42</th>\n      <td>B</td>\n      <td>2021-01-21</td>\n      <td>6555</td>\n      <td>760</td>\n      <td>69870000</td>\n      <td>11.59</td>\n      <td>91934.0</td>\n    </tr>\n    <tr>\n      <th>43</th>\n      <td>B</td>\n      <td>2021-01-22</td>\n      <td>6659</td>\n      <td>787</td>\n      <td>68660000</td>\n      <td>11.82</td>\n      <td>87243.0</td>\n    </tr>\n    <tr>\n      <th>44</th>\n      <td>B</td>\n      <td>2021-01-23</td>\n      <td>6633</td>\n      <td>805</td>\n      <td>68930000</td>\n      <td>12.14</td>\n      <td>85627.0</td>\n    </tr>\n    <tr>\n      <th>45</th>\n      <td>B</td>\n      <td>2021-01-24</td>\n      <td>3677</td>\n      <td>442</td>\n      <td>38650000</td>\n      <td>12.02</td>\n      <td>87443.0</td>\n    </tr>\n  </tbody>\n</table>\n</div>"
     },
     "execution_count": 72,
     "metadata": {},
     "output_type": "execute_result"
    }
   ],
   "source": [
    "df_group_daily = updated_data.groupby(['group','date']).agg({'user_id':'count', 'purchase':'sum', 'price':'sum'}).reset_index().rename(columns={'user_id':'user_count', 'purchase':'purchase_count', 'price':'price_sum'})\n",
    "df_group_daily['conversion'] = round(df_group_daily['purchase_count']/df_group_daily['user_count']*100,2)\n",
    "df_group_daily['mean_check'] = round(df_group_daily['price_sum']/df_group_daily['purchase_count'])\n",
    "df_group_daily"
   ]
  },
  {
   "cell_type": "markdown",
   "id": "bc8e241b-1ef1-4f67-ab90-77251889b7f2",
   "metadata": {},
   "source": [
    "## **Задание 7.9.** \n",
    "\n",
    "Добавьте в таблицу с ежедневными показателями кумулятивные признаки:\n",
    "* кумулятивное количество посещений страницы\n",
    "* кумулятивное количество покупок\n",
    "* кумулятивную сумму покупок\n",
    "\n",
    "Не забудьте при расчете кумулятивной суммы сгруппировать данные по группам. \n",
    "\n",
    "Вычислите кумулятивную конверсию и кумулятивный средний чек на основе полученных кумулятивных показателей. \n",
    "\n",
    "* Какая **кумулятивная** конверсия была в группе B на 20 января? Ответ приведите в процентах, округлив до сотых.\n",
    "* Какой **кумулятивный** средний чек был в группе А на 12 января 2021 года? Ответ приведите в рублях, округлив до целых."
   ]
  },
  {
   "cell_type": "code",
   "execution_count": null,
   "id": "afe59f9a-8d39-45c1-a14f-9f62091d81a1",
   "metadata": {},
   "outputs": [],
   "source": [
    "# ваш код здесь"
   ]
  },
  {
   "cell_type": "markdown",
   "id": "c252b8ba-371b-4795-8fc3-a62317e9ba39",
   "metadata": {},
   "source": [
    "Постройте кумулятивные графики конверсии и среднего чека в каждой группе по дням. Сделайте выводы. Можно ли назвать A/B-тест завершенным - стабилизировались ли значения метрик во времени? Как соотносятся кумулятивные показатели в каждой группе?"
   ]
  },
  {
   "cell_type": "code",
   "execution_count": null,
   "id": "27e23d20-7ed6-4a26-973d-6d0320b81adb",
   "metadata": {},
   "outputs": [],
   "source": [
    "# ваш код здесь"
   ]
  },
  {
   "cell_type": "markdown",
   "id": "f645f8e5-ad16-4b3b-8228-fbdeeb286833",
   "metadata": {},
   "source": [
    "ваши выводы здесь"
   ]
  },
  {
   "cell_type": "markdown",
   "id": "2ecaa382-56e2-47f4-b086-24b4742570a3",
   "metadata": {
    "tags": []
   },
   "source": [
    "## **Задание 7.10.**\n",
    "\n",
    "Настало время переходить к проверке статистической значимости разницы между метриками в группах. Начнем с конверсии.\n",
    "\n",
    "Какой тест вы примените для проверки гипотезы о равенстве конверсий в группах?\n",
    "\n",
    "Проведите тестирование при следующих нулевой и альтернативной гипотезе:\n",
    "* $H_0$: Конверсии в группах А и B равны; \n",
    "* $H_1$: Конверсия в группе А больше чем конверсия в группе B;\n",
    "\n",
    "Вычислите p-value вашего теста для конверсий в группах А и B. Сравните полученное значение p-value с уровнем значимости $\\alpha$=0.05. "
   ]
  },
  {
   "cell_type": "code",
   "execution_count": null,
   "id": "9dd1f6fd-2fa0-4a2f-8181-dbed4c302bce",
   "metadata": {},
   "outputs": [],
   "source": [
    "# ваш код здесь"
   ]
  },
  {
   "cell_type": "markdown",
   "id": "da794b48-80e3-47af-aceb-084a1862c86b",
   "metadata": {},
   "source": [
    "Приведите свои выводы по результатам проведенного статистического теста. Есть ли статистическая разница между конверсиями в группах А и B?"
   ]
  },
  {
   "cell_type": "markdown",
   "id": "75dddb06-389d-4d65-92c7-425efa28e51a",
   "metadata": {},
   "source": [
    "ваши выводы здесь"
   ]
  },
  {
   "cell_type": "markdown",
   "id": "32c5a1af-8cb2-4f3c-a126-410b70fb3ff3",
   "metadata": {
    "tags": []
   },
   "source": [
    "## **Задание 7.11.**\n",
    "Убедитесь в своих рассуждениях, построив 95%-ый доверительный интервал для конверсий и разницы между ними. Используйте $z_{крит}$ в своих расчетах\n",
    "\n",
    "Укажите нижнюю и верхнюю границы доверительных интервалов. Границы приведите в процентах и округлите до 2 знака после запятой. Например: нижняя граница 89.24%, верхняя граница 91.25%."
   ]
  },
  {
   "cell_type": "code",
   "execution_count": null,
   "id": "e9decb7d-ff5e-40a6-8b71-63627c4ef64a",
   "metadata": {},
   "outputs": [],
   "source": [
    "# ваш код здесь"
   ]
  },
  {
   "cell_type": "markdown",
   "id": "9332372d-66b2-45e9-a74c-f5d8b1d44afb",
   "metadata": {},
   "source": [
    "Проинтерпретируйте построенные доверительные интервалы для конверсий в группах. Есть ли перекрытие между доверительными интервалами для групп? Есть ли статистическая разница между конверсиями в группах А и B?"
   ]
  },
  {
   "cell_type": "code",
   "execution_count": null,
   "id": "3d7ae49b-3662-4f8d-b7a2-c22a70b47bb8",
   "metadata": {},
   "outputs": [],
   "source": [
    "ваши выводы здесь"
   ]
  },
  {
   "cell_type": "markdown",
   "id": "73c54883-b919-4889-bbf2-e1bdeb0b7055",
   "metadata": {},
   "source": [
    "## **Задание 7.12.**\n",
    "\n",
    "Ранее мы построили таблицу с ежедневными показателями. Теперь она нам снова понадобится, так как нас интересует ежедневный средний чек.\n",
    "\n",
    "Проверьте гипотезу о нормальности распределения ежедневного среднего чека в каждой из групп тестирования. \n",
    "\n",
    "* Какой тест вы примените  для проверки гипотезы о нормальности распределения ежедневного среднего чека?\n",
    "* Как будут звучать нулевая и альтернативная гипотезы?\n",
    "* Каковы результаты статистического теста с уровнем значимости $\\alpha$ =0.05?"
   ]
  },
  {
   "cell_type": "code",
   "execution_count": null,
   "id": "898041ae-de7e-4b74-975e-111d494fbb82",
   "metadata": {},
   "outputs": [],
   "source": [
    "# ваш код здесь"
   ]
  },
  {
   "cell_type": "markdown",
   "id": "cbddecf9-4d15-4ff1-84e9-46c4d98fc1e0",
   "metadata": {
    "tags": []
   },
   "source": [
    "## **Задание 7.13.**\n",
    "Настало время сравнить варианты дизайна страницы по метрике среднего чека. \n",
    "\n",
    "Какой тест вы примените для проверки гипотезы о равенстве средних чеков по дням в группах?\n",
    "\n",
    "Проведите тестирование при следующих нулевой и альтернативной гипотезе:\n",
    "* $H_0$: Ежедневные средние чеки в группах А и B равны; \n",
    "* $H_1$: Ежедневный средний чек в группе А меньше чем в группе B;\n",
    "\n",
    "Вычислите p-value вашего теста для ежедневного среднего чека в группах А и B. Сравните полученное значение p-value с уровнем значимости $\\alpha$ =0.05. "
   ]
  },
  {
   "cell_type": "code",
   "execution_count": null,
   "id": "05d43f23-2c2d-4795-bb96-1ffbfe81c391",
   "metadata": {},
   "outputs": [],
   "source": [
    "# ваш код здесь"
   ]
  },
  {
   "cell_type": "markdown",
   "id": "8534ab25-68b8-48f7-b2c1-ef1b72d8a767",
   "metadata": {},
   "source": [
    " Приведите свои выводы по проведенному статистическому тесту. Есть ли статистическая разница между ежедневными средними чеками в группах А и B?"
   ]
  },
  {
   "cell_type": "code",
   "execution_count": null,
   "id": "d8258dfd-14e7-4af4-bc6c-19ea8932eab5",
   "metadata": {},
   "outputs": [],
   "source": [
    "ваши выводы здесь"
   ]
  },
  {
   "cell_type": "markdown",
   "id": "5e46c9a6-a943-48b4-ad72-935337469613",
   "metadata": {
    "tags": []
   },
   "source": [
    "## **Задание 7.14.**\n",
    "\n",
    "Постройте 95%-ый доверительный интервал для среднего чека в каждой группе. Так как выборка средних чеков небольшая, используйте  $t_{крит}$ в своих расчетах.\n",
    "\n",
    "Укажите нижнюю границу доверительного интервала для истинного среднего чека каждой из групп. Ответ приведите в процентах и округлите до целого."
   ]
  },
  {
   "cell_type": "code",
   "execution_count": null,
   "id": "480430db-ffae-4aad-8e22-f5c70d4800b8",
   "metadata": {},
   "outputs": [],
   "source": [
    "# ваш код здесь"
   ]
  },
  {
   "cell_type": "markdown",
   "id": "74a78db8-48f7-41d2-94cb-faefb30b8f76",
   "metadata": {},
   "source": [
    "Проинтерпретируйте построенные доверительные интервалы для ежедневных средних чеков в группах. Есть ли между ними пересечения?"
   ]
  },
  {
   "cell_type": "code",
   "execution_count": null,
   "id": "1ab3aad1-f4fd-485f-85ef-274a27fe7563",
   "metadata": {},
   "outputs": [],
   "source": [
    "ваши выводы здесь"
   ]
  },
  {
   "cell_type": "markdown",
   "id": "c078852f-892f-42ed-8d78-73edf8eb1f5e",
   "metadata": {
    "tags": []
   },
   "source": [
    "## **Сделайте общий вывод по результатам A/B-теста**\n",
    "\n",
    "Какой варианта дизайна посадочной страницы является более эффективным в комплексе по метрикам конверсии и среднего чека и почему? "
   ]
  }
 ],
 "metadata": {
  "kernelspec": {
   "display_name": "Python 3 (ipykernel)",
   "language": "python",
   "name": "python3"
  },
  "language_info": {
   "codemirror_mode": {
    "name": "ipython",
    "version": 3
   },
   "file_extension": ".py",
   "mimetype": "text/x-python",
   "name": "python",
   "nbconvert_exporter": "python",
   "pygments_lexer": "ipython3",
   "version": "3.8.8"
  }
 },
 "nbformat": 4,
 "nbformat_minor": 5
}