{
 "cells": [
  {
   "cell_type": "code",
   "metadata": {
    "collapsed": true,
    "pycharm": {
     "name": "#%%\n"
    }
   },
   "source": [
    "import pandas as pd\n",
    "import numpy as np\n",
    "import plotly.express as px\n",
    "import seaborn as sns"
   ],
   "outputs": [],
   "execution_count": 68
  },
  {
   "cell_type": "code",
   "execution_count": 69,
   "outputs": [
    {
     "data": {
      "text/plain": "    country                                        description  \\\n0     Italy  Aromas include tropical fruit, broom, brimston...   \n1  Portugal  This is ripe and fruity, a wine that is smooth...   \n2        US  Tart and snappy, the flavors of lime flesh and...   \n3        US  Pineapple rind, lemon pith and orange blossom ...   \n4        US  Much like the regular bottling from 2012, this...   \n\n                          designation  points      price           province  \\\n0                        Vulkà Bianco      87  35.363389  Sicily & Sardinia   \n1                            Avidagos      87  15.000000              Douro   \n2                             unknown      87  14.000000             Oregon   \n3                Reserve Late Harvest      87  13.000000           Michigan   \n4  Vintner's Reserve Wild Child Block      87  65.000000             Oregon   \n\n              region_1         taster_name taster_twitter_handle  \\\n0                 Etna       Kerin O’Keefe          @kerinokeefe   \n1              unknown          Roger Voss            @vossroger   \n2    Willamette Valley        Paul Gregutt           @paulgwine    \n3  Lake Michigan Shore  Alexander Peartree               unknown   \n4    Willamette Valley        Paul Gregutt           @paulgwine    \n\n                                               title         variety  \\\n0                  Nicosia 2013 Vulkà Bianco  (Etna)     White Blend   \n1      Quinta dos Avidagos 2011 Avidagos Red (Douro)  Portuguese Red   \n2      Rainstorm 2013 Pinot Gris (Willamette Valley)      Pinot Gris   \n3  St. Julian 2013 Reserve Late Harvest Riesling ...        Riesling   \n4  Sweet Cheeks 2012 Vintner's Reserve Wild Child...      Pinot Noir   \n\n                winery  \n0              Nicosia  \n1  Quinta dos Avidagos  \n2            Rainstorm  \n3           St. Julian  \n4         Sweet Cheeks  ",
      "text/html": "<div>\n<style scoped>\n    .dataframe tbody tr th:only-of-type {\n        vertical-align: middle;\n    }\n\n    .dataframe tbody tr th {\n        vertical-align: top;\n    }\n\n    .dataframe thead th {\n        text-align: right;\n    }\n</style>\n<table border=\"1\" class=\"dataframe\">\n  <thead>\n    <tr style=\"text-align: right;\">\n      <th></th>\n      <th>country</th>\n      <th>description</th>\n      <th>designation</th>\n      <th>points</th>\n      <th>price</th>\n      <th>province</th>\n      <th>region_1</th>\n      <th>taster_name</th>\n      <th>taster_twitter_handle</th>\n      <th>title</th>\n      <th>variety</th>\n      <th>winery</th>\n    </tr>\n  </thead>\n  <tbody>\n    <tr>\n      <th>0</th>\n      <td>Italy</td>\n      <td>Aromas include tropical fruit, broom, brimston...</td>\n      <td>Vulkà Bianco</td>\n      <td>87</td>\n      <td>35.363389</td>\n      <td>Sicily &amp; Sardinia</td>\n      <td>Etna</td>\n      <td>Kerin O’Keefe</td>\n      <td>@kerinokeefe</td>\n      <td>Nicosia 2013 Vulkà Bianco  (Etna)</td>\n      <td>White Blend</td>\n      <td>Nicosia</td>\n    </tr>\n    <tr>\n      <th>1</th>\n      <td>Portugal</td>\n      <td>This is ripe and fruity, a wine that is smooth...</td>\n      <td>Avidagos</td>\n      <td>87</td>\n      <td>15.000000</td>\n      <td>Douro</td>\n      <td>unknown</td>\n      <td>Roger Voss</td>\n      <td>@vossroger</td>\n      <td>Quinta dos Avidagos 2011 Avidagos Red (Douro)</td>\n      <td>Portuguese Red</td>\n      <td>Quinta dos Avidagos</td>\n    </tr>\n    <tr>\n      <th>2</th>\n      <td>US</td>\n      <td>Tart and snappy, the flavors of lime flesh and...</td>\n      <td>unknown</td>\n      <td>87</td>\n      <td>14.000000</td>\n      <td>Oregon</td>\n      <td>Willamette Valley</td>\n      <td>Paul Gregutt</td>\n      <td>@paulgwine</td>\n      <td>Rainstorm 2013 Pinot Gris (Willamette Valley)</td>\n      <td>Pinot Gris</td>\n      <td>Rainstorm</td>\n    </tr>\n    <tr>\n      <th>3</th>\n      <td>US</td>\n      <td>Pineapple rind, lemon pith and orange blossom ...</td>\n      <td>Reserve Late Harvest</td>\n      <td>87</td>\n      <td>13.000000</td>\n      <td>Michigan</td>\n      <td>Lake Michigan Shore</td>\n      <td>Alexander Peartree</td>\n      <td>unknown</td>\n      <td>St. Julian 2013 Reserve Late Harvest Riesling ...</td>\n      <td>Riesling</td>\n      <td>St. Julian</td>\n    </tr>\n    <tr>\n      <th>4</th>\n      <td>US</td>\n      <td>Much like the regular bottling from 2012, this...</td>\n      <td>Vintner's Reserve Wild Child Block</td>\n      <td>87</td>\n      <td>65.000000</td>\n      <td>Oregon</td>\n      <td>Willamette Valley</td>\n      <td>Paul Gregutt</td>\n      <td>@paulgwine</td>\n      <td>Sweet Cheeks 2012 Vintner's Reserve Wild Child...</td>\n      <td>Pinot Noir</td>\n      <td>Sweet Cheeks</td>\n    </tr>\n  </tbody>\n</table>\n</div>"
     },
     "execution_count": 69,
     "metadata": {},
     "output_type": "execute_result"
    }
   ],
   "source": [
    "df = pd.read_csv('Data/wine_cleared.csv')\n",
    "df.head()"
   ],
   "metadata": {
    "collapsed": false,
    "pycharm": {
     "name": "#%%\n"
    }
   }
  },
  {
   "cell_type": "markdown",
   "source": [],
   "metadata": {
    "collapsed": false
   }
  },
  {
   "cell_type": "code",
   "execution_count": 70,
   "outputs": [],
   "source": [
    "df['price_round'] = df['price'].round().astype(int)"
   ],
   "metadata": {
    "collapsed": false,
    "pycharm": {
     "name": "#%%\n"
    }
   }
  },
  {
   "cell_type": "code",
   "execution_count": 71,
   "outputs": [
    {
     "data": {
      "text/plain": "    country                                        description  \\\n0     Italy  Aromas include tropical fruit, broom, brimston...   \n1  Portugal  This is ripe and fruity, a wine that is smooth...   \n2        US  Tart and snappy, the flavors of lime flesh and...   \n3        US  Pineapple rind, lemon pith and orange blossom ...   \n4        US  Much like the regular bottling from 2012, this...   \n\n                          designation  points      price           province  \\\n0                        Vulkà Bianco      87  35.363389  Sicily & Sardinia   \n1                            Avidagos      87  15.000000              Douro   \n2                             unknown      87  14.000000             Oregon   \n3                Reserve Late Harvest      87  13.000000           Michigan   \n4  Vintner's Reserve Wild Child Block      87  65.000000             Oregon   \n\n              region_1         taster_name taster_twitter_handle  \\\n0                 Etna       Kerin O’Keefe          @kerinokeefe   \n1              unknown          Roger Voss            @vossroger   \n2    Willamette Valley        Paul Gregutt           @paulgwine    \n3  Lake Michigan Shore  Alexander Peartree               unknown   \n4    Willamette Valley        Paul Gregutt           @paulgwine    \n\n                                               title         variety  \\\n0                  Nicosia 2013 Vulkà Bianco  (Etna)     White Blend   \n1      Quinta dos Avidagos 2011 Avidagos Red (Douro)  Portuguese Red   \n2      Rainstorm 2013 Pinot Gris (Willamette Valley)      Pinot Gris   \n3  St. Julian 2013 Reserve Late Harvest Riesling ...        Riesling   \n4  Sweet Cheeks 2012 Vintner's Reserve Wild Child...      Pinot Noir   \n\n                winery  price_round  \n0              Nicosia           35  \n1  Quinta dos Avidagos           15  \n2            Rainstorm           14  \n3           St. Julian           13  \n4         Sweet Cheeks           65  ",
      "text/html": "<div>\n<style scoped>\n    .dataframe tbody tr th:only-of-type {\n        vertical-align: middle;\n    }\n\n    .dataframe tbody tr th {\n        vertical-align: top;\n    }\n\n    .dataframe thead th {\n        text-align: right;\n    }\n</style>\n<table border=\"1\" class=\"dataframe\">\n  <thead>\n    <tr style=\"text-align: right;\">\n      <th></th>\n      <th>country</th>\n      <th>description</th>\n      <th>designation</th>\n      <th>points</th>\n      <th>price</th>\n      <th>province</th>\n      <th>region_1</th>\n      <th>taster_name</th>\n      <th>taster_twitter_handle</th>\n      <th>title</th>\n      <th>variety</th>\n      <th>winery</th>\n      <th>price_round</th>\n    </tr>\n  </thead>\n  <tbody>\n    <tr>\n      <th>0</th>\n      <td>Italy</td>\n      <td>Aromas include tropical fruit, broom, brimston...</td>\n      <td>Vulkà Bianco</td>\n      <td>87</td>\n      <td>35.363389</td>\n      <td>Sicily &amp; Sardinia</td>\n      <td>Etna</td>\n      <td>Kerin O’Keefe</td>\n      <td>@kerinokeefe</td>\n      <td>Nicosia 2013 Vulkà Bianco  (Etna)</td>\n      <td>White Blend</td>\n      <td>Nicosia</td>\n      <td>35</td>\n    </tr>\n    <tr>\n      <th>1</th>\n      <td>Portugal</td>\n      <td>This is ripe and fruity, a wine that is smooth...</td>\n      <td>Avidagos</td>\n      <td>87</td>\n      <td>15.000000</td>\n      <td>Douro</td>\n      <td>unknown</td>\n      <td>Roger Voss</td>\n      <td>@vossroger</td>\n      <td>Quinta dos Avidagos 2011 Avidagos Red (Douro)</td>\n      <td>Portuguese Red</td>\n      <td>Quinta dos Avidagos</td>\n      <td>15</td>\n    </tr>\n    <tr>\n      <th>2</th>\n      <td>US</td>\n      <td>Tart and snappy, the flavors of lime flesh and...</td>\n      <td>unknown</td>\n      <td>87</td>\n      <td>14.000000</td>\n      <td>Oregon</td>\n      <td>Willamette Valley</td>\n      <td>Paul Gregutt</td>\n      <td>@paulgwine</td>\n      <td>Rainstorm 2013 Pinot Gris (Willamette Valley)</td>\n      <td>Pinot Gris</td>\n      <td>Rainstorm</td>\n      <td>14</td>\n    </tr>\n    <tr>\n      <th>3</th>\n      <td>US</td>\n      <td>Pineapple rind, lemon pith and orange blossom ...</td>\n      <td>Reserve Late Harvest</td>\n      <td>87</td>\n      <td>13.000000</td>\n      <td>Michigan</td>\n      <td>Lake Michigan Shore</td>\n      <td>Alexander Peartree</td>\n      <td>unknown</td>\n      <td>St. Julian 2013 Reserve Late Harvest Riesling ...</td>\n      <td>Riesling</td>\n      <td>St. Julian</td>\n      <td>13</td>\n    </tr>\n    <tr>\n      <th>4</th>\n      <td>US</td>\n      <td>Much like the regular bottling from 2012, this...</td>\n      <td>Vintner's Reserve Wild Child Block</td>\n      <td>87</td>\n      <td>65.000000</td>\n      <td>Oregon</td>\n      <td>Willamette Valley</td>\n      <td>Paul Gregutt</td>\n      <td>@paulgwine</td>\n      <td>Sweet Cheeks 2012 Vintner's Reserve Wild Child...</td>\n      <td>Pinot Noir</td>\n      <td>Sweet Cheeks</td>\n      <td>65</td>\n    </tr>\n  </tbody>\n</table>\n</div>"
     },
     "execution_count": 71,
     "metadata": {},
     "output_type": "execute_result"
    }
   ],
   "source": [
    "df.head()"
   ],
   "metadata": {
    "collapsed": false,
    "pycharm": {
     "name": "#%%\n"
    }
   }
  },
  {
   "cell_type": "markdown",
   "source": [
    "# РЕГУЛЯРНЫЕ ВЫРАЖЕНИЯ"
   ],
   "metadata": {
    "collapsed": false,
    "pycharm": {
     "name": "#%% md\n"
    }
   }
  },
  {
   "cell_type": "code",
   "execution_count": 72,
   "outputs": [
    {
     "data": {
      "text/plain": "         country                                        description  \\\n0          Italy  Aromas include tropical fruit, broom, brimston...   \n1       Portugal  This is ripe and fruity, a wine that is smooth...   \n2             US  Tart and snappy, the flavors of lime flesh and...   \n3             US  Pineapple rind, lemon pith and orange blossom ...   \n4             US  Much like the regular bottling from 2012, this...   \n...          ...                                                ...   \n129966   Germany  Notes of honeysuckle and cantaloupe sweeten th...   \n129967        US  Citation is given as much as a decade of bottl...   \n129968    France  Well-drained gravel soil gives this wine its c...   \n129969    France  A dry style of Pinot Gris, this is crisp with ...   \n129970    France  Big, rich and off-dry, this is powered by inte...   \n\n                                   designation  points      price  \\\n0                                 Vulkà Bianco      87  35.363389   \n1                                     Avidagos      87  15.000000   \n2                                      unknown      87  14.000000   \n3                         Reserve Late Harvest      87  13.000000   \n4           Vintner's Reserve Wild Child Block      87  65.000000   \n...                                        ...     ...        ...   \n129966  Brauneberger Juffer-Sonnenuhr Spätlese      90  28.000000   \n129967                                 unknown      90  75.000000   \n129968                                   Kritt      90  30.000000   \n129969                                 unknown      90  32.000000   \n129970           Lieu-dit Harth Cuvée Caroline      90  21.000000   \n\n                 province             region_1         taster_name  \\\n0       Sicily & Sardinia                 Etna       Kerin O’Keefe   \n1                   Douro              unknown          Roger Voss   \n2                  Oregon    Willamette Valley        Paul Gregutt   \n3                Michigan  Lake Michigan Shore  Alexander Peartree   \n4                  Oregon    Willamette Valley        Paul Gregutt   \n...                   ...                  ...                 ...   \n129966              Mosel              unknown  Anna Lee C. Iijima   \n129967             Oregon               Oregon        Paul Gregutt   \n129968             Alsace               Alsace          Roger Voss   \n129969             Alsace               Alsace          Roger Voss   \n129970             Alsace               Alsace          Roger Voss   \n\n       taster_twitter_handle  \\\n0               @kerinokeefe   \n1                 @vossroger   \n2                @paulgwine    \n3                    unknown   \n4                @paulgwine    \n...                      ...   \n129966               unknown   \n129967           @paulgwine    \n129968            @vossroger   \n129969            @vossroger   \n129970            @vossroger   \n\n                                                    title         variety  \\\n0                       Nicosia 2013 Vulkà Bianco  (Etna)     White Blend   \n1           Quinta dos Avidagos 2011 Avidagos Red (Douro)  Portuguese Red   \n2           Rainstorm 2013 Pinot Gris (Willamette Valley)      Pinot Gris   \n3       St. Julian 2013 Reserve Late Harvest Riesling ...        Riesling   \n4       Sweet Cheeks 2012 Vintner's Reserve Wild Child...      Pinot Noir   \n...                                                   ...             ...   \n129966  Dr. H. Thanisch (Erben Müller-Burggraef) 2013 ...        Riesling   \n129967                  Citation 2004 Pinot Noir (Oregon)      Pinot Noir   \n129968  Domaine Gresser 2013 Kritt Gewurztraminer (Als...  Gewürztraminer   \n129969      Domaine Marcel Deiss 2012 Pinot Gris (Alsace)      Pinot Gris   \n129970  Domaine Schoffit 2012 Lieu-dit Harth Cuvée Car...  Gewürztraminer   \n\n                                          winery  price_round  year  \n0                                        Nicosia           35  2013  \n1                            Quinta dos Avidagos           15  2011  \n2                                      Rainstorm           14  2013  \n3                                     St. Julian           13  2013  \n4                                   Sweet Cheeks           65  2012  \n...                                          ...          ...   ...  \n129966  Dr. H. Thanisch (Erben Müller-Burggraef)           28  2013  \n129967                                  Citation           75  2004  \n129968                           Domaine Gresser           30  2013  \n129969                      Domaine Marcel Deiss           32  2012  \n129970                          Domaine Schoffit           21  2012  \n\n[129971 rows x 14 columns]",
      "text/html": "<div>\n<style scoped>\n    .dataframe tbody tr th:only-of-type {\n        vertical-align: middle;\n    }\n\n    .dataframe tbody tr th {\n        vertical-align: top;\n    }\n\n    .dataframe thead th {\n        text-align: right;\n    }\n</style>\n<table border=\"1\" class=\"dataframe\">\n  <thead>\n    <tr style=\"text-align: right;\">\n      <th></th>\n      <th>country</th>\n      <th>description</th>\n      <th>designation</th>\n      <th>points</th>\n      <th>price</th>\n      <th>province</th>\n      <th>region_1</th>\n      <th>taster_name</th>\n      <th>taster_twitter_handle</th>\n      <th>title</th>\n      <th>variety</th>\n      <th>winery</th>\n      <th>price_round</th>\n      <th>year</th>\n    </tr>\n  </thead>\n  <tbody>\n    <tr>\n      <th>0</th>\n      <td>Italy</td>\n      <td>Aromas include tropical fruit, broom, brimston...</td>\n      <td>Vulkà Bianco</td>\n      <td>87</td>\n      <td>35.363389</td>\n      <td>Sicily &amp; Sardinia</td>\n      <td>Etna</td>\n      <td>Kerin O’Keefe</td>\n      <td>@kerinokeefe</td>\n      <td>Nicosia 2013 Vulkà Bianco  (Etna)</td>\n      <td>White Blend</td>\n      <td>Nicosia</td>\n      <td>35</td>\n      <td>2013</td>\n    </tr>\n    <tr>\n      <th>1</th>\n      <td>Portugal</td>\n      <td>This is ripe and fruity, a wine that is smooth...</td>\n      <td>Avidagos</td>\n      <td>87</td>\n      <td>15.000000</td>\n      <td>Douro</td>\n      <td>unknown</td>\n      <td>Roger Voss</td>\n      <td>@vossroger</td>\n      <td>Quinta dos Avidagos 2011 Avidagos Red (Douro)</td>\n      <td>Portuguese Red</td>\n      <td>Quinta dos Avidagos</td>\n      <td>15</td>\n      <td>2011</td>\n    </tr>\n    <tr>\n      <th>2</th>\n      <td>US</td>\n      <td>Tart and snappy, the flavors of lime flesh and...</td>\n      <td>unknown</td>\n      <td>87</td>\n      <td>14.000000</td>\n      <td>Oregon</td>\n      <td>Willamette Valley</td>\n      <td>Paul Gregutt</td>\n      <td>@paulgwine</td>\n      <td>Rainstorm 2013 Pinot Gris (Willamette Valley)</td>\n      <td>Pinot Gris</td>\n      <td>Rainstorm</td>\n      <td>14</td>\n      <td>2013</td>\n    </tr>\n    <tr>\n      <th>3</th>\n      <td>US</td>\n      <td>Pineapple rind, lemon pith and orange blossom ...</td>\n      <td>Reserve Late Harvest</td>\n      <td>87</td>\n      <td>13.000000</td>\n      <td>Michigan</td>\n      <td>Lake Michigan Shore</td>\n      <td>Alexander Peartree</td>\n      <td>unknown</td>\n      <td>St. Julian 2013 Reserve Late Harvest Riesling ...</td>\n      <td>Riesling</td>\n      <td>St. Julian</td>\n      <td>13</td>\n      <td>2013</td>\n    </tr>\n    <tr>\n      <th>4</th>\n      <td>US</td>\n      <td>Much like the regular bottling from 2012, this...</td>\n      <td>Vintner's Reserve Wild Child Block</td>\n      <td>87</td>\n      <td>65.000000</td>\n      <td>Oregon</td>\n      <td>Willamette Valley</td>\n      <td>Paul Gregutt</td>\n      <td>@paulgwine</td>\n      <td>Sweet Cheeks 2012 Vintner's Reserve Wild Child...</td>\n      <td>Pinot Noir</td>\n      <td>Sweet Cheeks</td>\n      <td>65</td>\n      <td>2012</td>\n    </tr>\n    <tr>\n      <th>...</th>\n      <td>...</td>\n      <td>...</td>\n      <td>...</td>\n      <td>...</td>\n      <td>...</td>\n      <td>...</td>\n      <td>...</td>\n      <td>...</td>\n      <td>...</td>\n      <td>...</td>\n      <td>...</td>\n      <td>...</td>\n      <td>...</td>\n      <td>...</td>\n    </tr>\n    <tr>\n      <th>129966</th>\n      <td>Germany</td>\n      <td>Notes of honeysuckle and cantaloupe sweeten th...</td>\n      <td>Brauneberger Juffer-Sonnenuhr Spätlese</td>\n      <td>90</td>\n      <td>28.000000</td>\n      <td>Mosel</td>\n      <td>unknown</td>\n      <td>Anna Lee C. Iijima</td>\n      <td>unknown</td>\n      <td>Dr. H. Thanisch (Erben Müller-Burggraef) 2013 ...</td>\n      <td>Riesling</td>\n      <td>Dr. H. Thanisch (Erben Müller-Burggraef)</td>\n      <td>28</td>\n      <td>2013</td>\n    </tr>\n    <tr>\n      <th>129967</th>\n      <td>US</td>\n      <td>Citation is given as much as a decade of bottl...</td>\n      <td>unknown</td>\n      <td>90</td>\n      <td>75.000000</td>\n      <td>Oregon</td>\n      <td>Oregon</td>\n      <td>Paul Gregutt</td>\n      <td>@paulgwine</td>\n      <td>Citation 2004 Pinot Noir (Oregon)</td>\n      <td>Pinot Noir</td>\n      <td>Citation</td>\n      <td>75</td>\n      <td>2004</td>\n    </tr>\n    <tr>\n      <th>129968</th>\n      <td>France</td>\n      <td>Well-drained gravel soil gives this wine its c...</td>\n      <td>Kritt</td>\n      <td>90</td>\n      <td>30.000000</td>\n      <td>Alsace</td>\n      <td>Alsace</td>\n      <td>Roger Voss</td>\n      <td>@vossroger</td>\n      <td>Domaine Gresser 2013 Kritt Gewurztraminer (Als...</td>\n      <td>Gewürztraminer</td>\n      <td>Domaine Gresser</td>\n      <td>30</td>\n      <td>2013</td>\n    </tr>\n    <tr>\n      <th>129969</th>\n      <td>France</td>\n      <td>A dry style of Pinot Gris, this is crisp with ...</td>\n      <td>unknown</td>\n      <td>90</td>\n      <td>32.000000</td>\n      <td>Alsace</td>\n      <td>Alsace</td>\n      <td>Roger Voss</td>\n      <td>@vossroger</td>\n      <td>Domaine Marcel Deiss 2012 Pinot Gris (Alsace)</td>\n      <td>Pinot Gris</td>\n      <td>Domaine Marcel Deiss</td>\n      <td>32</td>\n      <td>2012</td>\n    </tr>\n    <tr>\n      <th>129970</th>\n      <td>France</td>\n      <td>Big, rich and off-dry, this is powered by inte...</td>\n      <td>Lieu-dit Harth Cuvée Caroline</td>\n      <td>90</td>\n      <td>21.000000</td>\n      <td>Alsace</td>\n      <td>Alsace</td>\n      <td>Roger Voss</td>\n      <td>@vossroger</td>\n      <td>Domaine Schoffit 2012 Lieu-dit Harth Cuvée Car...</td>\n      <td>Gewürztraminer</td>\n      <td>Domaine Schoffit</td>\n      <td>21</td>\n      <td>2012</td>\n    </tr>\n  </tbody>\n</table>\n<p>129971 rows × 14 columns</p>\n</div>"
     },
     "execution_count": 72,
     "metadata": {},
     "output_type": "execute_result"
    }
   ],
   "source": [
    "regex = '\\d{4}' #Регулярное выражение для нахожедния числа\n",
    "df['year'] = df['title'].str.findall(regex).str.get(0) # без str.get(0) будет список из найденных элементов\n",
    "df"
   ],
   "metadata": {
    "collapsed": false,
    "pycharm": {
     "name": "#%%\n"
    }
   }
  },
  {
   "cell_type": "code",
   "execution_count": 73,
   "outputs": [
    {
     "data": {
      "text/plain": "US                        54567\nFrance                    22093\nItaly                     19540\nSpain                      6645\nPortugal                   5691\nChile                      4472\nArgentina                  3800\nAustria                    3345\nAustralia                  2329\nGermany                    2165\nNew Zealand                1419\nSouth Africa               1401\nIsrael                      505\nGreece                      466\nCanada                      257\nHungary                     146\nBulgaria                    141\nRomania                     120\nUruguay                     109\nTurkey                       90\nSlovenia                     87\nGeorgia                      86\nEngland                      74\nCroatia                      73\nMexico                       70\nMoldova                      59\nBrazil                       52\nLebanon                      35\nMorocco                      28\nPeru                         16\nUkraine                      14\nSerbia                       12\nCzech Republic               12\nMacedonia                    12\nCyprus                       11\nIndia                         9\nSwitzerland                   7\nLuxembourg                    6\nBosnia and Herzegovina        2\nArmenia                       2\nSlovakia                      1\nChina                         1\nEgypt                         1\nName: country, dtype: int64"
     },
     "execution_count": 73,
     "metadata": {},
     "output_type": "execute_result"
    }
   ],
   "source": [
    "df['is_usa'] = df['country'].apply(lambda x: 1 if x == 'US' else 0) #большинство сша, может быть не случайность, сделаем доп признак сша или нет\n",
    "df['country'].value_counts()"
   ],
   "metadata": {
    "collapsed": false,
    "pycharm": {
     "name": "#%%\n"
    }
   }
  },
  {
   "cell_type": "code",
   "execution_count": 74,
   "outputs": [],
   "source": [
    "df['is_france'] = df['country'].apply(lambda x: 1 if x == 'France' else 0)\n",
    "df['is_italy'] = df['country'].apply(lambda x: 1 if x == 'Italy' else 0)"
   ],
   "metadata": {
    "collapsed": false,
    "pycharm": {
     "name": "#%%\n"
    }
   }
  },
  {
   "cell_type": "code",
   "execution_count": 75,
   "outputs": [
    {
     "data": {
      "text/plain": "22093"
     },
     "execution_count": 75,
     "metadata": {},
     "output_type": "execute_result"
    }
   ],
   "source": [
    "df['is_france'].sum(\n",
    ")"
   ],
   "metadata": {
    "collapsed": false,
    "pycharm": {
     "name": "#%%\n"
    }
   }
  },
  {
   "cell_type": "code",
   "execution_count": 76,
   "outputs": [],
   "source": [
    "df['is_italy'].sum()\n",
    "#df['year'] = df['year'].astype(float)\n",
    "df['year'] = pd.to_datetime(df['year'], errors='coerce')\n"
   ],
   "metadata": {
    "collapsed": false,
    "pycharm": {
     "name": "#%%\n"
    }
   }
  },
  {
   "cell_type": "code",
   "execution_count": 77,
   "outputs": [
    {
     "data": {
      "text/plain": "39765"
     },
     "execution_count": 77,
     "metadata": {},
     "output_type": "execute_result"
    }
   ],
   "source": [
    "df['old_wine'] = df['year'].apply(lambda x: 1 if x.year < 2010 else 0)\n",
    "df['old_wine'].sum()"
   ],
   "metadata": {
    "collapsed": false,
    "pycharm": {
     "name": "#%%\n"
    }
   }
  },
  {
   "cell_type": "code",
   "execution_count": 90,
   "outputs": [],
   "source": [
    "regex = '\\((.*?)\\)' #Регулярное выражение для нахожедния числа\n",
    "df['locality'] = df['title'].str.findall(regex).str.get(0)"
   ],
   "metadata": {
    "collapsed": false,
    "pycharm": {
     "name": "#%%\n"
    }
   }
  },
  {
   "cell_type": "code",
   "execution_count": 91,
   "outputs": [
    {
     "data": {
      "text/plain": "0                           Etna\n1                          Douro\n2              Willamette Valley\n3            Lake Michigan Shore\n4              Willamette Valley\n                   ...          \n129966    Erben Müller-Burggraef\n129967                    Oregon\n129968                    Alsace\n129969                    Alsace\n129970                    Alsace\nName: locality, Length: 129971, dtype: object"
     },
     "execution_count": 91,
     "metadata": {},
     "output_type": "execute_result"
    }
   ],
   "source": [
    "df['locality']"
   ],
   "metadata": {
    "collapsed": false,
    "pycharm": {
     "name": "#%%\n"
    }
   }
  },
  {
   "cell_type": "code",
   "execution_count": 78,
   "outputs": [],
   "source": [],
   "metadata": {
    "collapsed": false,
    "pycharm": {
     "name": "#%%\n"
    }
   }
  },
  {
   "cell_type": "code",
   "execution_count": 78,
   "outputs": [],
   "source": [],
   "metadata": {
    "collapsed": false,
    "pycharm": {
     "name": "#%%\n"
    }
   }
  }
 ],
 "metadata": {
  "kernelspec": {
   "display_name": "Python 3",
   "language": "python",
   "name": "python3"
  },
  "language_info": {
   "codemirror_mode": {
    "name": "ipython",
    "version": 2
   },
   "file_extension": ".py",
   "mimetype": "text/x-python",
   "name": "python",
   "nbconvert_exporter": "python",
   "pygments_lexer": "ipython2",
   "version": "2.7.6"
  }
 },
 "nbformat": 4,
 "nbformat_minor": 0
}