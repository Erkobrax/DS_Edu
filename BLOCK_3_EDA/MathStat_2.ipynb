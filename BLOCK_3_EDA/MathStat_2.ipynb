{
 "cells": [
  {
   "cell_type": "code",
   "metadata": {
    "collapsed": true,
    "pycharm": {
     "name": "#%%\n"
    }
   },
   "source": [
    "import pandas as pd\n",
    "import numpy as np\n",
    "import plotly.express as px\n",
    "import seaborn as sns"
   ],
   "outputs": [],
   "execution_count": 95
  },
  {
   "cell_type": "code",
   "execution_count": 96,
   "outputs": [
    {
     "data": {
      "text/plain": "    country                                        description  \\\n0     Italy  Aromas include tropical fruit, broom, brimston...   \n1  Portugal  This is ripe and fruity, a wine that is smooth...   \n2        US  Tart and snappy, the flavors of lime flesh and...   \n3        US  Pineapple rind, lemon pith and orange blossom ...   \n4        US  Much like the regular bottling from 2012, this...   \n\n                          designation  points      price           province  \\\n0                        Vulkà Bianco      87  35.363389  Sicily & Sardinia   \n1                            Avidagos      87  15.000000              Douro   \n2                             unknown      87  14.000000             Oregon   \n3                Reserve Late Harvest      87  13.000000           Michigan   \n4  Vintner's Reserve Wild Child Block      87  65.000000             Oregon   \n\n              region_1         taster_name taster_twitter_handle  \\\n0                 Etna       Kerin O’Keefe          @kerinokeefe   \n1              unknown          Roger Voss            @vossroger   \n2    Willamette Valley        Paul Gregutt           @paulgwine    \n3  Lake Michigan Shore  Alexander Peartree               unknown   \n4    Willamette Valley        Paul Gregutt           @paulgwine    \n\n                                               title         variety  \\\n0                  Nicosia 2013 Vulkà Bianco  (Etna)     White Blend   \n1      Quinta dos Avidagos 2011 Avidagos Red (Douro)  Portuguese Red   \n2      Rainstorm 2013 Pinot Gris (Willamette Valley)      Pinot Gris   \n3  St. Julian 2013 Reserve Late Harvest Riesling ...        Riesling   \n4  Sweet Cheeks 2012 Vintner's Reserve Wild Child...      Pinot Noir   \n\n                winery  \n0              Nicosia  \n1  Quinta dos Avidagos  \n2            Rainstorm  \n3           St. Julian  \n4         Sweet Cheeks  ",
      "text/html": "<div>\n<style scoped>\n    .dataframe tbody tr th:only-of-type {\n        vertical-align: middle;\n    }\n\n    .dataframe tbody tr th {\n        vertical-align: top;\n    }\n\n    .dataframe thead th {\n        text-align: right;\n    }\n</style>\n<table border=\"1\" class=\"dataframe\">\n  <thead>\n    <tr style=\"text-align: right;\">\n      <th></th>\n      <th>country</th>\n      <th>description</th>\n      <th>designation</th>\n      <th>points</th>\n      <th>price</th>\n      <th>province</th>\n      <th>region_1</th>\n      <th>taster_name</th>\n      <th>taster_twitter_handle</th>\n      <th>title</th>\n      <th>variety</th>\n      <th>winery</th>\n    </tr>\n  </thead>\n  <tbody>\n    <tr>\n      <th>0</th>\n      <td>Italy</td>\n      <td>Aromas include tropical fruit, broom, brimston...</td>\n      <td>Vulkà Bianco</td>\n      <td>87</td>\n      <td>35.363389</td>\n      <td>Sicily &amp; Sardinia</td>\n      <td>Etna</td>\n      <td>Kerin O’Keefe</td>\n      <td>@kerinokeefe</td>\n      <td>Nicosia 2013 Vulkà Bianco  (Etna)</td>\n      <td>White Blend</td>\n      <td>Nicosia</td>\n    </tr>\n    <tr>\n      <th>1</th>\n      <td>Portugal</td>\n      <td>This is ripe and fruity, a wine that is smooth...</td>\n      <td>Avidagos</td>\n      <td>87</td>\n      <td>15.000000</td>\n      <td>Douro</td>\n      <td>unknown</td>\n      <td>Roger Voss</td>\n      <td>@vossroger</td>\n      <td>Quinta dos Avidagos 2011 Avidagos Red (Douro)</td>\n      <td>Portuguese Red</td>\n      <td>Quinta dos Avidagos</td>\n    </tr>\n    <tr>\n      <th>2</th>\n      <td>US</td>\n      <td>Tart and snappy, the flavors of lime flesh and...</td>\n      <td>unknown</td>\n      <td>87</td>\n      <td>14.000000</td>\n      <td>Oregon</td>\n      <td>Willamette Valley</td>\n      <td>Paul Gregutt</td>\n      <td>@paulgwine</td>\n      <td>Rainstorm 2013 Pinot Gris (Willamette Valley)</td>\n      <td>Pinot Gris</td>\n      <td>Rainstorm</td>\n    </tr>\n    <tr>\n      <th>3</th>\n      <td>US</td>\n      <td>Pineapple rind, lemon pith and orange blossom ...</td>\n      <td>Reserve Late Harvest</td>\n      <td>87</td>\n      <td>13.000000</td>\n      <td>Michigan</td>\n      <td>Lake Michigan Shore</td>\n      <td>Alexander Peartree</td>\n      <td>unknown</td>\n      <td>St. Julian 2013 Reserve Late Harvest Riesling ...</td>\n      <td>Riesling</td>\n      <td>St. Julian</td>\n    </tr>\n    <tr>\n      <th>4</th>\n      <td>US</td>\n      <td>Much like the regular bottling from 2012, this...</td>\n      <td>Vintner's Reserve Wild Child Block</td>\n      <td>87</td>\n      <td>65.000000</td>\n      <td>Oregon</td>\n      <td>Willamette Valley</td>\n      <td>Paul Gregutt</td>\n      <td>@paulgwine</td>\n      <td>Sweet Cheeks 2012 Vintner's Reserve Wild Child...</td>\n      <td>Pinot Noir</td>\n      <td>Sweet Cheeks</td>\n    </tr>\n  </tbody>\n</table>\n</div>"
     },
     "execution_count": 96,
     "metadata": {},
     "output_type": "execute_result"
    }
   ],
   "source": [
    "df = pd.read_csv('Data/wine_cleared.csv')\n",
    "df.head()"
   ],
   "metadata": {
    "collapsed": false,
    "pycharm": {
     "name": "#%%\n"
    }
   }
  },
  {
   "cell_type": "markdown",
   "source": [],
   "metadata": {
    "collapsed": false
   }
  },
  {
   "cell_type": "code",
   "execution_count": 97,
   "outputs": [],
   "source": [
    "df['price_round'] = df['price'].round().astype(int)"
   ],
   "metadata": {
    "collapsed": false,
    "pycharm": {
     "name": "#%%\n"
    }
   }
  },
  {
   "cell_type": "code",
   "execution_count": 98,
   "outputs": [
    {
     "data": {
      "text/plain": "    country                                        description  \\\n0     Italy  Aromas include tropical fruit, broom, brimston...   \n1  Portugal  This is ripe and fruity, a wine that is smooth...   \n2        US  Tart and snappy, the flavors of lime flesh and...   \n3        US  Pineapple rind, lemon pith and orange blossom ...   \n4        US  Much like the regular bottling from 2012, this...   \n\n                          designation  points      price           province  \\\n0                        Vulkà Bianco      87  35.363389  Sicily & Sardinia   \n1                            Avidagos      87  15.000000              Douro   \n2                             unknown      87  14.000000             Oregon   \n3                Reserve Late Harvest      87  13.000000           Michigan   \n4  Vintner's Reserve Wild Child Block      87  65.000000             Oregon   \n\n              region_1         taster_name taster_twitter_handle  \\\n0                 Etna       Kerin O’Keefe          @kerinokeefe   \n1              unknown          Roger Voss            @vossroger   \n2    Willamette Valley        Paul Gregutt           @paulgwine    \n3  Lake Michigan Shore  Alexander Peartree               unknown   \n4    Willamette Valley        Paul Gregutt           @paulgwine    \n\n                                               title         variety  \\\n0                  Nicosia 2013 Vulkà Bianco  (Etna)     White Blend   \n1      Quinta dos Avidagos 2011 Avidagos Red (Douro)  Portuguese Red   \n2      Rainstorm 2013 Pinot Gris (Willamette Valley)      Pinot Gris   \n3  St. Julian 2013 Reserve Late Harvest Riesling ...        Riesling   \n4  Sweet Cheeks 2012 Vintner's Reserve Wild Child...      Pinot Noir   \n\n                winery  price_round  \n0              Nicosia           35  \n1  Quinta dos Avidagos           15  \n2            Rainstorm           14  \n3           St. Julian           13  \n4         Sweet Cheeks           65  ",
      "text/html": "<div>\n<style scoped>\n    .dataframe tbody tr th:only-of-type {\n        vertical-align: middle;\n    }\n\n    .dataframe tbody tr th {\n        vertical-align: top;\n    }\n\n    .dataframe thead th {\n        text-align: right;\n    }\n</style>\n<table border=\"1\" class=\"dataframe\">\n  <thead>\n    <tr style=\"text-align: right;\">\n      <th></th>\n      <th>country</th>\n      <th>description</th>\n      <th>designation</th>\n      <th>points</th>\n      <th>price</th>\n      <th>province</th>\n      <th>region_1</th>\n      <th>taster_name</th>\n      <th>taster_twitter_handle</th>\n      <th>title</th>\n      <th>variety</th>\n      <th>winery</th>\n      <th>price_round</th>\n    </tr>\n  </thead>\n  <tbody>\n    <tr>\n      <th>0</th>\n      <td>Italy</td>\n      <td>Aromas include tropical fruit, broom, brimston...</td>\n      <td>Vulkà Bianco</td>\n      <td>87</td>\n      <td>35.363389</td>\n      <td>Sicily &amp; Sardinia</td>\n      <td>Etna</td>\n      <td>Kerin O’Keefe</td>\n      <td>@kerinokeefe</td>\n      <td>Nicosia 2013 Vulkà Bianco  (Etna)</td>\n      <td>White Blend</td>\n      <td>Nicosia</td>\n      <td>35</td>\n    </tr>\n    <tr>\n      <th>1</th>\n      <td>Portugal</td>\n      <td>This is ripe and fruity, a wine that is smooth...</td>\n      <td>Avidagos</td>\n      <td>87</td>\n      <td>15.000000</td>\n      <td>Douro</td>\n      <td>unknown</td>\n      <td>Roger Voss</td>\n      <td>@vossroger</td>\n      <td>Quinta dos Avidagos 2011 Avidagos Red (Douro)</td>\n      <td>Portuguese Red</td>\n      <td>Quinta dos Avidagos</td>\n      <td>15</td>\n    </tr>\n    <tr>\n      <th>2</th>\n      <td>US</td>\n      <td>Tart and snappy, the flavors of lime flesh and...</td>\n      <td>unknown</td>\n      <td>87</td>\n      <td>14.000000</td>\n      <td>Oregon</td>\n      <td>Willamette Valley</td>\n      <td>Paul Gregutt</td>\n      <td>@paulgwine</td>\n      <td>Rainstorm 2013 Pinot Gris (Willamette Valley)</td>\n      <td>Pinot Gris</td>\n      <td>Rainstorm</td>\n      <td>14</td>\n    </tr>\n    <tr>\n      <th>3</th>\n      <td>US</td>\n      <td>Pineapple rind, lemon pith and orange blossom ...</td>\n      <td>Reserve Late Harvest</td>\n      <td>87</td>\n      <td>13.000000</td>\n      <td>Michigan</td>\n      <td>Lake Michigan Shore</td>\n      <td>Alexander Peartree</td>\n      <td>unknown</td>\n      <td>St. Julian 2013 Reserve Late Harvest Riesling ...</td>\n      <td>Riesling</td>\n      <td>St. Julian</td>\n      <td>13</td>\n    </tr>\n    <tr>\n      <th>4</th>\n      <td>US</td>\n      <td>Much like the regular bottling from 2012, this...</td>\n      <td>Vintner's Reserve Wild Child Block</td>\n      <td>87</td>\n      <td>65.000000</td>\n      <td>Oregon</td>\n      <td>Willamette Valley</td>\n      <td>Paul Gregutt</td>\n      <td>@paulgwine</td>\n      <td>Sweet Cheeks 2012 Vintner's Reserve Wild Child...</td>\n      <td>Pinot Noir</td>\n      <td>Sweet Cheeks</td>\n      <td>65</td>\n    </tr>\n  </tbody>\n</table>\n</div>"
     },
     "execution_count": 98,
     "metadata": {},
     "output_type": "execute_result"
    }
   ],
   "source": [
    "df.head()"
   ],
   "metadata": {
    "collapsed": false,
    "pycharm": {
     "name": "#%%\n"
    }
   }
  },
  {
   "cell_type": "markdown",
   "source": [
    "# РЕГУЛЯРНЫЕ ВЫРАЖЕНИЯ"
   ],
   "metadata": {
    "collapsed": false,
    "pycharm": {
     "name": "#%% md\n"
    }
   }
  },
  {
   "cell_type": "code",
   "execution_count": 99,
   "outputs": [
    {
     "data": {
      "text/plain": "         country                                        description  \\\n0          Italy  Aromas include tropical fruit, broom, brimston...   \n1       Portugal  This is ripe and fruity, a wine that is smooth...   \n2             US  Tart and snappy, the flavors of lime flesh and...   \n3             US  Pineapple rind, lemon pith and orange blossom ...   \n4             US  Much like the regular bottling from 2012, this...   \n...          ...                                                ...   \n129966   Germany  Notes of honeysuckle and cantaloupe sweeten th...   \n129967        US  Citation is given as much as a decade of bottl...   \n129968    France  Well-drained gravel soil gives this wine its c...   \n129969    France  A dry style of Pinot Gris, this is crisp with ...   \n129970    France  Big, rich and off-dry, this is powered by inte...   \n\n                                   designation  points      price  \\\n0                                 Vulkà Bianco      87  35.363389   \n1                                     Avidagos      87  15.000000   \n2                                      unknown      87  14.000000   \n3                         Reserve Late Harvest      87  13.000000   \n4           Vintner's Reserve Wild Child Block      87  65.000000   \n...                                        ...     ...        ...   \n129966  Brauneberger Juffer-Sonnenuhr Spätlese      90  28.000000   \n129967                                 unknown      90  75.000000   \n129968                                   Kritt      90  30.000000   \n129969                                 unknown      90  32.000000   \n129970           Lieu-dit Harth Cuvée Caroline      90  21.000000   \n\n                 province             region_1         taster_name  \\\n0       Sicily & Sardinia                 Etna       Kerin O’Keefe   \n1                   Douro              unknown          Roger Voss   \n2                  Oregon    Willamette Valley        Paul Gregutt   \n3                Michigan  Lake Michigan Shore  Alexander Peartree   \n4                  Oregon    Willamette Valley        Paul Gregutt   \n...                   ...                  ...                 ...   \n129966              Mosel              unknown  Anna Lee C. Iijima   \n129967             Oregon               Oregon        Paul Gregutt   \n129968             Alsace               Alsace          Roger Voss   \n129969             Alsace               Alsace          Roger Voss   \n129970             Alsace               Alsace          Roger Voss   \n\n       taster_twitter_handle  \\\n0               @kerinokeefe   \n1                 @vossroger   \n2                @paulgwine    \n3                    unknown   \n4                @paulgwine    \n...                      ...   \n129966               unknown   \n129967           @paulgwine    \n129968            @vossroger   \n129969            @vossroger   \n129970            @vossroger   \n\n                                                    title         variety  \\\n0                       Nicosia 2013 Vulkà Bianco  (Etna)     White Blend   \n1           Quinta dos Avidagos 2011 Avidagos Red (Douro)  Portuguese Red   \n2           Rainstorm 2013 Pinot Gris (Willamette Valley)      Pinot Gris   \n3       St. Julian 2013 Reserve Late Harvest Riesling ...        Riesling   \n4       Sweet Cheeks 2012 Vintner's Reserve Wild Child...      Pinot Noir   \n...                                                   ...             ...   \n129966  Dr. H. Thanisch (Erben Müller-Burggraef) 2013 ...        Riesling   \n129967                  Citation 2004 Pinot Noir (Oregon)      Pinot Noir   \n129968  Domaine Gresser 2013 Kritt Gewurztraminer (Als...  Gewürztraminer   \n129969      Domaine Marcel Deiss 2012 Pinot Gris (Alsace)      Pinot Gris   \n129970  Domaine Schoffit 2012 Lieu-dit Harth Cuvée Car...  Gewürztraminer   \n\n                                          winery  price_round  year  \n0                                        Nicosia           35  2013  \n1                            Quinta dos Avidagos           15  2011  \n2                                      Rainstorm           14  2013  \n3                                     St. Julian           13  2013  \n4                                   Sweet Cheeks           65  2012  \n...                                          ...          ...   ...  \n129966  Dr. H. Thanisch (Erben Müller-Burggraef)           28  2013  \n129967                                  Citation           75  2004  \n129968                           Domaine Gresser           30  2013  \n129969                      Domaine Marcel Deiss           32  2012  \n129970                          Domaine Schoffit           21  2012  \n\n[129971 rows x 14 columns]",
      "text/html": "<div>\n<style scoped>\n    .dataframe tbody tr th:only-of-type {\n        vertical-align: middle;\n    }\n\n    .dataframe tbody tr th {\n        vertical-align: top;\n    }\n\n    .dataframe thead th {\n        text-align: right;\n    }\n</style>\n<table border=\"1\" class=\"dataframe\">\n  <thead>\n    <tr style=\"text-align: right;\">\n      <th></th>\n      <th>country</th>\n      <th>description</th>\n      <th>designation</th>\n      <th>points</th>\n      <th>price</th>\n      <th>province</th>\n      <th>region_1</th>\n      <th>taster_name</th>\n      <th>taster_twitter_handle</th>\n      <th>title</th>\n      <th>variety</th>\n      <th>winery</th>\n      <th>price_round</th>\n      <th>year</th>\n    </tr>\n  </thead>\n  <tbody>\n    <tr>\n      <th>0</th>\n      <td>Italy</td>\n      <td>Aromas include tropical fruit, broom, brimston...</td>\n      <td>Vulkà Bianco</td>\n      <td>87</td>\n      <td>35.363389</td>\n      <td>Sicily &amp; Sardinia</td>\n      <td>Etna</td>\n      <td>Kerin O’Keefe</td>\n      <td>@kerinokeefe</td>\n      <td>Nicosia 2013 Vulkà Bianco  (Etna)</td>\n      <td>White Blend</td>\n      <td>Nicosia</td>\n      <td>35</td>\n      <td>2013</td>\n    </tr>\n    <tr>\n      <th>1</th>\n      <td>Portugal</td>\n      <td>This is ripe and fruity, a wine that is smooth...</td>\n      <td>Avidagos</td>\n      <td>87</td>\n      <td>15.000000</td>\n      <td>Douro</td>\n      <td>unknown</td>\n      <td>Roger Voss</td>\n      <td>@vossroger</td>\n      <td>Quinta dos Avidagos 2011 Avidagos Red (Douro)</td>\n      <td>Portuguese Red</td>\n      <td>Quinta dos Avidagos</td>\n      <td>15</td>\n      <td>2011</td>\n    </tr>\n    <tr>\n      <th>2</th>\n      <td>US</td>\n      <td>Tart and snappy, the flavors of lime flesh and...</td>\n      <td>unknown</td>\n      <td>87</td>\n      <td>14.000000</td>\n      <td>Oregon</td>\n      <td>Willamette Valley</td>\n      <td>Paul Gregutt</td>\n      <td>@paulgwine</td>\n      <td>Rainstorm 2013 Pinot Gris (Willamette Valley)</td>\n      <td>Pinot Gris</td>\n      <td>Rainstorm</td>\n      <td>14</td>\n      <td>2013</td>\n    </tr>\n    <tr>\n      <th>3</th>\n      <td>US</td>\n      <td>Pineapple rind, lemon pith and orange blossom ...</td>\n      <td>Reserve Late Harvest</td>\n      <td>87</td>\n      <td>13.000000</td>\n      <td>Michigan</td>\n      <td>Lake Michigan Shore</td>\n      <td>Alexander Peartree</td>\n      <td>unknown</td>\n      <td>St. Julian 2013 Reserve Late Harvest Riesling ...</td>\n      <td>Riesling</td>\n      <td>St. Julian</td>\n      <td>13</td>\n      <td>2013</td>\n    </tr>\n    <tr>\n      <th>4</th>\n      <td>US</td>\n      <td>Much like the regular bottling from 2012, this...</td>\n      <td>Vintner's Reserve Wild Child Block</td>\n      <td>87</td>\n      <td>65.000000</td>\n      <td>Oregon</td>\n      <td>Willamette Valley</td>\n      <td>Paul Gregutt</td>\n      <td>@paulgwine</td>\n      <td>Sweet Cheeks 2012 Vintner's Reserve Wild Child...</td>\n      <td>Pinot Noir</td>\n      <td>Sweet Cheeks</td>\n      <td>65</td>\n      <td>2012</td>\n    </tr>\n    <tr>\n      <th>...</th>\n      <td>...</td>\n      <td>...</td>\n      <td>...</td>\n      <td>...</td>\n      <td>...</td>\n      <td>...</td>\n      <td>...</td>\n      <td>...</td>\n      <td>...</td>\n      <td>...</td>\n      <td>...</td>\n      <td>...</td>\n      <td>...</td>\n      <td>...</td>\n    </tr>\n    <tr>\n      <th>129966</th>\n      <td>Germany</td>\n      <td>Notes of honeysuckle and cantaloupe sweeten th...</td>\n      <td>Brauneberger Juffer-Sonnenuhr Spätlese</td>\n      <td>90</td>\n      <td>28.000000</td>\n      <td>Mosel</td>\n      <td>unknown</td>\n      <td>Anna Lee C. Iijima</td>\n      <td>unknown</td>\n      <td>Dr. H. Thanisch (Erben Müller-Burggraef) 2013 ...</td>\n      <td>Riesling</td>\n      <td>Dr. H. Thanisch (Erben Müller-Burggraef)</td>\n      <td>28</td>\n      <td>2013</td>\n    </tr>\n    <tr>\n      <th>129967</th>\n      <td>US</td>\n      <td>Citation is given as much as a decade of bottl...</td>\n      <td>unknown</td>\n      <td>90</td>\n      <td>75.000000</td>\n      <td>Oregon</td>\n      <td>Oregon</td>\n      <td>Paul Gregutt</td>\n      <td>@paulgwine</td>\n      <td>Citation 2004 Pinot Noir (Oregon)</td>\n      <td>Pinot Noir</td>\n      <td>Citation</td>\n      <td>75</td>\n      <td>2004</td>\n    </tr>\n    <tr>\n      <th>129968</th>\n      <td>France</td>\n      <td>Well-drained gravel soil gives this wine its c...</td>\n      <td>Kritt</td>\n      <td>90</td>\n      <td>30.000000</td>\n      <td>Alsace</td>\n      <td>Alsace</td>\n      <td>Roger Voss</td>\n      <td>@vossroger</td>\n      <td>Domaine Gresser 2013 Kritt Gewurztraminer (Als...</td>\n      <td>Gewürztraminer</td>\n      <td>Domaine Gresser</td>\n      <td>30</td>\n      <td>2013</td>\n    </tr>\n    <tr>\n      <th>129969</th>\n      <td>France</td>\n      <td>A dry style of Pinot Gris, this is crisp with ...</td>\n      <td>unknown</td>\n      <td>90</td>\n      <td>32.000000</td>\n      <td>Alsace</td>\n      <td>Alsace</td>\n      <td>Roger Voss</td>\n      <td>@vossroger</td>\n      <td>Domaine Marcel Deiss 2012 Pinot Gris (Alsace)</td>\n      <td>Pinot Gris</td>\n      <td>Domaine Marcel Deiss</td>\n      <td>32</td>\n      <td>2012</td>\n    </tr>\n    <tr>\n      <th>129970</th>\n      <td>France</td>\n      <td>Big, rich and off-dry, this is powered by inte...</td>\n      <td>Lieu-dit Harth Cuvée Caroline</td>\n      <td>90</td>\n      <td>21.000000</td>\n      <td>Alsace</td>\n      <td>Alsace</td>\n      <td>Roger Voss</td>\n      <td>@vossroger</td>\n      <td>Domaine Schoffit 2012 Lieu-dit Harth Cuvée Car...</td>\n      <td>Gewürztraminer</td>\n      <td>Domaine Schoffit</td>\n      <td>21</td>\n      <td>2012</td>\n    </tr>\n  </tbody>\n</table>\n<p>129971 rows × 14 columns</p>\n</div>"
     },
     "execution_count": 99,
     "metadata": {},
     "output_type": "execute_result"
    }
   ],
   "source": [
    "regex = '\\d{4}' #Регулярное выражение для нахожедния числа\n",
    "df['year'] = df['title'].str.findall(regex).str.get(0) # без str.get(0) будет список из найденных элементов\n",
    "df"
   ],
   "metadata": {
    "collapsed": false,
    "pycharm": {
     "name": "#%%\n"
    }
   }
  },
  {
   "cell_type": "code",
   "execution_count": 100,
   "outputs": [
    {
     "data": {
      "text/plain": "US                        54567\nFrance                    22093\nItaly                     19540\nSpain                      6645\nPortugal                   5691\nChile                      4472\nArgentina                  3800\nAustria                    3345\nAustralia                  2329\nGermany                    2165\nNew Zealand                1419\nSouth Africa               1401\nIsrael                      505\nGreece                      466\nCanada                      257\nHungary                     146\nBulgaria                    141\nRomania                     120\nUruguay                     109\nTurkey                       90\nSlovenia                     87\nGeorgia                      86\nEngland                      74\nCroatia                      73\nMexico                       70\nMoldova                      59\nBrazil                       52\nLebanon                      35\nMorocco                      28\nPeru                         16\nUkraine                      14\nSerbia                       12\nCzech Republic               12\nMacedonia                    12\nCyprus                       11\nIndia                         9\nSwitzerland                   7\nLuxembourg                    6\nBosnia and Herzegovina        2\nArmenia                       2\nSlovakia                      1\nChina                         1\nEgypt                         1\nName: country, dtype: int64"
     },
     "execution_count": 100,
     "metadata": {},
     "output_type": "execute_result"
    }
   ],
   "source": [
    "df['is_usa'] = df['country'].apply(lambda x: 1 if x == 'US' else 0) #большинство сша, может быть не случайность, сделаем доп признак сша или нет\n",
    "df['country'].value_counts()"
   ],
   "metadata": {
    "collapsed": false,
    "pycharm": {
     "name": "#%%\n"
    }
   }
  },
  {
   "cell_type": "code",
   "execution_count": 101,
   "outputs": [],
   "source": [
    "df['is_france'] = df['country'].apply(lambda x: 1 if x == 'France' else 0)\n",
    "df['is_italy'] = df['country'].apply(lambda x: 1 if x == 'Italy' else 0)"
   ],
   "metadata": {
    "collapsed": false,
    "pycharm": {
     "name": "#%%\n"
    }
   }
  },
  {
   "cell_type": "code",
   "execution_count": 102,
   "outputs": [
    {
     "data": {
      "text/plain": "22093"
     },
     "execution_count": 102,
     "metadata": {},
     "output_type": "execute_result"
    }
   ],
   "source": [
    "df['is_france'].sum(\n",
    ")"
   ],
   "metadata": {
    "collapsed": false,
    "pycharm": {
     "name": "#%%\n"
    }
   }
  },
  {
   "cell_type": "code",
   "execution_count": 103,
   "outputs": [],
   "source": [
    "df['is_italy'].sum()\n",
    "#df['year'] = df['year'].astype(float)\n",
    "df['year'] = pd.to_datetime(df['year'], errors='coerce')\n"
   ],
   "metadata": {
    "collapsed": false,
    "pycharm": {
     "name": "#%%\n"
    }
   }
  },
  {
   "cell_type": "code",
   "execution_count": 104,
   "outputs": [
    {
     "data": {
      "text/plain": "39765"
     },
     "execution_count": 104,
     "metadata": {},
     "output_type": "execute_result"
    }
   ],
   "source": [
    "df['old_wine'] = df['year'].apply(lambda x: 1 if x.year < 2010 else 0)\n",
    "df['old_wine'].sum()"
   ],
   "metadata": {
    "collapsed": false,
    "pycharm": {
     "name": "#%%\n"
    }
   }
  },
  {
   "cell_type": "code",
   "execution_count": 105,
   "outputs": [],
   "source": [
    "regex = '\\((.*?)\\)' #Регулярное выражение для нахожедния числа\n",
    "df['locality'] = df['title'].str.findall(regex).str.get(0)"
   ],
   "metadata": {
    "collapsed": false,
    "pycharm": {
     "name": "#%%\n"
    }
   }
  },
  {
   "cell_type": "code",
   "execution_count": 106,
   "outputs": [
    {
     "data": {
      "text/plain": "0                           Etna\n1                          Douro\n2              Willamette Valley\n3            Lake Michigan Shore\n4              Willamette Valley\n                   ...          \n129966    Erben Müller-Burggraef\n129967                    Oregon\n129968                    Alsace\n129969                    Alsace\n129970                    Alsace\nName: locality, Length: 129971, dtype: object"
     },
     "execution_count": 106,
     "metadata": {},
     "output_type": "execute_result"
    }
   ],
   "source": [
    "df['locality']"
   ],
   "metadata": {
    "collapsed": false,
    "pycharm": {
     "name": "#%%\n"
    }
   }
  },
  {
   "cell_type": "markdown",
   "source": [
    "# 3. Создание признаков. Внешние источники данных\n"
   ],
   "metadata": {
    "collapsed": false,
    "pycharm": {
     "name": "#%% md\n"
    }
   }
  },
  {
   "cell_type": "code",
   "execution_count": 107,
   "outputs": [
    {
     "data": {
      "text/plain": "     country     population\n0      China  1,411,778,724\n1      India  1,386,584,581\n2         US    333,022,386\n3  Indonesia    271,350,000\n4   Pakistan    225,200,000",
      "text/html": "<div>\n<style scoped>\n    .dataframe tbody tr th:only-of-type {\n        vertical-align: middle;\n    }\n\n    .dataframe tbody tr th {\n        vertical-align: top;\n    }\n\n    .dataframe thead th {\n        text-align: right;\n    }\n</style>\n<table border=\"1\" class=\"dataframe\">\n  <thead>\n    <tr style=\"text-align: right;\">\n      <th></th>\n      <th>country</th>\n      <th>population</th>\n    </tr>\n  </thead>\n  <tbody>\n    <tr>\n      <th>0</th>\n      <td>China</td>\n      <td>1,411,778,724</td>\n    </tr>\n    <tr>\n      <th>1</th>\n      <td>India</td>\n      <td>1,386,584,581</td>\n    </tr>\n    <tr>\n      <th>2</th>\n      <td>US</td>\n      <td>333,022,386</td>\n    </tr>\n    <tr>\n      <th>3</th>\n      <td>Indonesia</td>\n      <td>271,350,000</td>\n    </tr>\n    <tr>\n      <th>4</th>\n      <td>Pakistan</td>\n      <td>225,200,000</td>\n    </tr>\n  </tbody>\n</table>\n</div>"
     },
     "execution_count": 107,
     "metadata": {},
     "output_type": "execute_result"
    }
   ],
   "source": [
    "df_country = pd.read_csv('Data/country_population.csv', sep=';')\n",
    "df_country.head()"
   ],
   "metadata": {
    "collapsed": false,
    "pycharm": {
     "name": "#%%\n"
    }
   }
  },
  {
   "cell_type": "code",
   "execution_count": 108,
   "outputs": [
    {
     "data": {
      "text/plain": "   country  population\n24   Italy  59,097,904",
      "text/html": "<div>\n<style scoped>\n    .dataframe tbody tr th:only-of-type {\n        vertical-align: middle;\n    }\n\n    .dataframe tbody tr th {\n        vertical-align: top;\n    }\n\n    .dataframe thead th {\n        text-align: right;\n    }\n</style>\n<table border=\"1\" class=\"dataframe\">\n  <thead>\n    <tr style=\"text-align: right;\">\n      <th></th>\n      <th>country</th>\n      <th>population</th>\n    </tr>\n  </thead>\n  <tbody>\n    <tr>\n      <th>24</th>\n      <td>Italy</td>\n      <td>59,097,904</td>\n    </tr>\n  </tbody>\n</table>\n</div>"
     },
     "execution_count": 108,
     "metadata": {},
     "output_type": "execute_result"
    }
   ],
   "source": [
    "df_country[df_country['country']=='Italy']"
   ],
   "metadata": {
    "collapsed": false,
    "pycharm": {
     "name": "#%%\n"
    }
   }
  },
  {
   "cell_type": "code",
   "execution_count": 112,
   "outputs": [],
   "source": [
    "df = df.join(df_country.set_index('country'), on='country')"
   ],
   "metadata": {
    "collapsed": false,
    "pycharm": {
     "name": "#%%\n"
    }
   }
  },
  {
   "cell_type": "code",
   "execution_count": 116,
   "outputs": [
    {
     "data": {
      "text/plain": "          country         area\n0          Russia  17075400.00\n1          Canada   9984670.00\n2           China   9596960.00\n3              US   9372610.00\n4          Brazil   8547000.00\n..            ...          ...\n188    San Marino        61.00\n189        Tuvalu        26.00\n190         Nauru        21.00\n191        Monaco         2.00\n192  Vatican City         0.44\n\n[193 rows x 2 columns]",
      "text/html": "<div>\n<style scoped>\n    .dataframe tbody tr th:only-of-type {\n        vertical-align: middle;\n    }\n\n    .dataframe tbody tr th {\n        vertical-align: top;\n    }\n\n    .dataframe thead th {\n        text-align: right;\n    }\n</style>\n<table border=\"1\" class=\"dataframe\">\n  <thead>\n    <tr style=\"text-align: right;\">\n      <th></th>\n      <th>country</th>\n      <th>area</th>\n    </tr>\n  </thead>\n  <tbody>\n    <tr>\n      <th>0</th>\n      <td>Russia</td>\n      <td>17075400.00</td>\n    </tr>\n    <tr>\n      <th>1</th>\n      <td>Canada</td>\n      <td>9984670.00</td>\n    </tr>\n    <tr>\n      <th>2</th>\n      <td>China</td>\n      <td>9596960.00</td>\n    </tr>\n    <tr>\n      <th>3</th>\n      <td>US</td>\n      <td>9372610.00</td>\n    </tr>\n    <tr>\n      <th>4</th>\n      <td>Brazil</td>\n      <td>8547000.00</td>\n    </tr>\n    <tr>\n      <th>...</th>\n      <td>...</td>\n      <td>...</td>\n    </tr>\n    <tr>\n      <th>188</th>\n      <td>San Marino</td>\n      <td>61.00</td>\n    </tr>\n    <tr>\n      <th>189</th>\n      <td>Tuvalu</td>\n      <td>26.00</td>\n    </tr>\n    <tr>\n      <th>190</th>\n      <td>Nauru</td>\n      <td>21.00</td>\n    </tr>\n    <tr>\n      <th>191</th>\n      <td>Monaco</td>\n      <td>2.00</td>\n    </tr>\n    <tr>\n      <th>192</th>\n      <td>Vatican City</td>\n      <td>0.44</td>\n    </tr>\n  </tbody>\n</table>\n<p>193 rows × 2 columns</p>\n</div>"
     },
     "execution_count": 116,
     "metadata": {},
     "output_type": "execute_result"
    }
   ],
   "source": [
    "df_area = pd.read_csv('Data/country_area.csv', sep=';')\n",
    "df_area"
   ],
   "metadata": {
    "collapsed": false,
    "pycharm": {
     "name": "#%%\n"
    }
   }
  },
  {
   "cell_type": "code",
   "execution_count": 121,
   "outputs": [],
   "source": [
    "df = df.join(df_area.set_index('country'), on='country')"
   ],
   "metadata": {
    "collapsed": false,
    "pycharm": {
     "name": "#%%\n"
    }
   }
  },
  {
   "cell_type": "code",
   "execution_count": 123,
   "outputs": [
    {
     "data": {
      "text/plain": "94    9372610.0\nName: area, dtype: float64"
     },
     "execution_count": 123,
     "metadata": {},
     "output_type": "execute_result"
    }
   ],
   "source": [
    "df[df['title']=='Gård 2014 Grand Klasse Reserve Lawrence Vineyards Viognier (Columbia Valley (WA))'].area"
   ],
   "metadata": {
    "collapsed": false,
    "pycharm": {
     "name": "#%%\n"
    }
   }
  },
  {
   "cell_type": "markdown",
   "source": [
    "# 4. Создание признаков. Работа с форматом «дата-время»"
   ],
   "metadata": {
    "collapsed": false,
    "pycharm": {
     "name": "#%% md\n"
    }
   }
  },
  {
   "cell_type": "code",
   "execution_count": 125,
   "outputs": [
    {
     "data": {
      "text/plain": "   client_id          agent_date          created_at            end_date\n0        460 2013-12-17 04:55:39 2013-12-17 04:55:44 2013-12-17 04:55:45\n1         12 2013-12-16 20:03:20 2013-12-16 20:03:22 2013-12-16 20:07:13\n2         56 2013-12-16 20:03:20 2013-12-16 20:03:20 2013-12-16 20:05:04\n3        980 2013-12-16 20:03:20 2013-12-16 20:03:27 2013-12-16 20:03:29\n4        396 2013-12-16 20:08:27 2013-12-16 20:08:28 2013-12-16 20:12:03\n5        449 2013-12-16 20:03:20 2013-12-16 20:03:25 2013-12-16 20:05:00\n6        397 2013-12-16 20:08:25 2013-12-16 20:08:27 2013-12-16 20:09:59\n7        398 2013-12-16 20:01:23 2013-12-16 20:01:23 2013-12-16 20:04:58\n8        452 2013-12-16 20:03:20 2013-12-16 20:03:21 2013-12-16 20:04:55\n9        440 2013-12-16 20:03:20 2013-12-16 20:04:26 2013-12-16 20:04:32",
      "text/html": "<div>\n<style scoped>\n    .dataframe tbody tr th:only-of-type {\n        vertical-align: middle;\n    }\n\n    .dataframe tbody tr th {\n        vertical-align: top;\n    }\n\n    .dataframe thead th {\n        text-align: right;\n    }\n</style>\n<table border=\"1\" class=\"dataframe\">\n  <thead>\n    <tr style=\"text-align: right;\">\n      <th></th>\n      <th>client_id</th>\n      <th>agent_date</th>\n      <th>created_at</th>\n      <th>end_date</th>\n    </tr>\n  </thead>\n  <tbody>\n    <tr>\n      <th>0</th>\n      <td>460</td>\n      <td>2013-12-17 04:55:39</td>\n      <td>2013-12-17 04:55:44</td>\n      <td>2013-12-17 04:55:45</td>\n    </tr>\n    <tr>\n      <th>1</th>\n      <td>12</td>\n      <td>2013-12-16 20:03:20</td>\n      <td>2013-12-16 20:03:22</td>\n      <td>2013-12-16 20:07:13</td>\n    </tr>\n    <tr>\n      <th>2</th>\n      <td>56</td>\n      <td>2013-12-16 20:03:20</td>\n      <td>2013-12-16 20:03:20</td>\n      <td>2013-12-16 20:05:04</td>\n    </tr>\n    <tr>\n      <th>3</th>\n      <td>980</td>\n      <td>2013-12-16 20:03:20</td>\n      <td>2013-12-16 20:03:27</td>\n      <td>2013-12-16 20:03:29</td>\n    </tr>\n    <tr>\n      <th>4</th>\n      <td>396</td>\n      <td>2013-12-16 20:08:27</td>\n      <td>2013-12-16 20:08:28</td>\n      <td>2013-12-16 20:12:03</td>\n    </tr>\n    <tr>\n      <th>5</th>\n      <td>449</td>\n      <td>2013-12-16 20:03:20</td>\n      <td>2013-12-16 20:03:25</td>\n      <td>2013-12-16 20:05:00</td>\n    </tr>\n    <tr>\n      <th>6</th>\n      <td>397</td>\n      <td>2013-12-16 20:08:25</td>\n      <td>2013-12-16 20:08:27</td>\n      <td>2013-12-16 20:09:59</td>\n    </tr>\n    <tr>\n      <th>7</th>\n      <td>398</td>\n      <td>2013-12-16 20:01:23</td>\n      <td>2013-12-16 20:01:23</td>\n      <td>2013-12-16 20:04:58</td>\n    </tr>\n    <tr>\n      <th>8</th>\n      <td>452</td>\n      <td>2013-12-16 20:03:20</td>\n      <td>2013-12-16 20:03:21</td>\n      <td>2013-12-16 20:04:55</td>\n    </tr>\n    <tr>\n      <th>9</th>\n      <td>440</td>\n      <td>2013-12-16 20:03:20</td>\n      <td>2013-12-16 20:04:26</td>\n      <td>2013-12-16 20:04:32</td>\n    </tr>\n  </tbody>\n</table>\n</div>"
     },
     "execution_count": 125,
     "metadata": {},
     "output_type": "execute_result"
    }
   ],
   "source": [
    "import pandas as pd\n",
    "\n",
    "# инициализируем информацию о звонках\n",
    "calls_list = [\n",
    "    [460, '2013-12-17 04:55:39', '2013-12-17 04:55:44', '2013-12-17 04:55:45'],\n",
    "    [12, '2013-12-16 20:03:20', '2013-12-16 20:03:22', '2013-12-16 20:07:13'],\n",
    "    [56, '2013-12-16 20:03:20', '2013-12-16 20:03:20', '2013-12-16 20:05:04'],\n",
    "    [980, '2013-12-16 20:03:20','2013-12-16 20:03:27', '2013-12-16 20:03:29'],\n",
    "    [396, '2013-12-16 20:08:27', '2013-12-16 20:08:28','2013-12-16 20:12:03'],\n",
    "    [449, '2013-12-16 20:03:20', '2013-12-16 20:03:25','2013-12-16 20:05:00'],\n",
    "    [397, '2013-12-16 20:08:25', '2013-12-16 20:08:27', '2013-12-16 20:09:59'],\n",
    "    [398, '2013-12-16 20:01:23', '2013-12-16 20:01:23', '2013-12-16 20:04:58'],\n",
    "    [452, '2013-12-16 20:03:20', '2013-12-16 20:03:21','2013-12-16 20:04:55'],\n",
    "    [440, '2013-12-16 20:03:20', '2013-12-16 20:04:26', '2013-12-16 20:04:32']\n",
    "]\n",
    "\n",
    "calls = pd.DataFrame(calls_list, columns = ['client_id',  'agent_date', 'created_at' ,'end_date'])\n",
    "\n",
    "# преобразовываем признаки в формат datetime для удобной работы\n",
    "\n",
    "calls['agent_date'] = pd.to_datetime(calls['agent_date'])\n",
    "calls['created_at'] = pd.to_datetime(calls['created_at'])\n",
    "calls['end_date'] = pd.to_datetime(calls['end_date'])\n",
    "\n",
    "calls # срез бд коллцентра"
   ],
   "metadata": {
    "collapsed": false,
    "pycharm": {
     "name": "#%%\n"
    }
   }
  },
  {
   "cell_type": "code",
   "execution_count": 132,
   "outputs": [
    {
     "data": {
      "text/plain": "   client_id          agent_date          created_at            end_date  \\\n0        460 2013-12-17 04:55:39 2013-12-17 04:55:44 2013-12-17 04:55:45   \n1         12 2013-12-16 20:03:20 2013-12-16 20:03:22 2013-12-16 20:07:13   \n2         56 2013-12-16 20:03:20 2013-12-16 20:03:20 2013-12-16 20:05:04   \n3        980 2013-12-16 20:03:20 2013-12-16 20:03:27 2013-12-16 20:03:29   \n4        396 2013-12-16 20:08:27 2013-12-16 20:08:28 2013-12-16 20:12:03   \n5        449 2013-12-16 20:03:20 2013-12-16 20:03:25 2013-12-16 20:05:00   \n6        397 2013-12-16 20:08:25 2013-12-16 20:08:27 2013-12-16 20:09:59   \n7        398 2013-12-16 20:01:23 2013-12-16 20:01:23 2013-12-16 20:04:58   \n8        452 2013-12-16 20:03:20 2013-12-16 20:03:21 2013-12-16 20:04:55   \n9        440 2013-12-16 20:03:20 2013-12-16 20:04:26 2013-12-16 20:04:32   \n\n   duration_seconds  time_connection_seconds  \n0                 1                        5  \n1               231                        2  \n2               104                        0  \n3                 2                        7  \n4               215                        1  \n5                95                        5  \n6                92                        2  \n7               215                        0  \n8                94                        1  \n9                 6                       66  ",
      "text/html": "<div>\n<style scoped>\n    .dataframe tbody tr th:only-of-type {\n        vertical-align: middle;\n    }\n\n    .dataframe tbody tr th {\n        vertical-align: top;\n    }\n\n    .dataframe thead th {\n        text-align: right;\n    }\n</style>\n<table border=\"1\" class=\"dataframe\">\n  <thead>\n    <tr style=\"text-align: right;\">\n      <th></th>\n      <th>client_id</th>\n      <th>agent_date</th>\n      <th>created_at</th>\n      <th>end_date</th>\n      <th>duration_seconds</th>\n      <th>time_connection_seconds</th>\n    </tr>\n  </thead>\n  <tbody>\n    <tr>\n      <th>0</th>\n      <td>460</td>\n      <td>2013-12-17 04:55:39</td>\n      <td>2013-12-17 04:55:44</td>\n      <td>2013-12-17 04:55:45</td>\n      <td>1</td>\n      <td>5</td>\n    </tr>\n    <tr>\n      <th>1</th>\n      <td>12</td>\n      <td>2013-12-16 20:03:20</td>\n      <td>2013-12-16 20:03:22</td>\n      <td>2013-12-16 20:07:13</td>\n      <td>231</td>\n      <td>2</td>\n    </tr>\n    <tr>\n      <th>2</th>\n      <td>56</td>\n      <td>2013-12-16 20:03:20</td>\n      <td>2013-12-16 20:03:20</td>\n      <td>2013-12-16 20:05:04</td>\n      <td>104</td>\n      <td>0</td>\n    </tr>\n    <tr>\n      <th>3</th>\n      <td>980</td>\n      <td>2013-12-16 20:03:20</td>\n      <td>2013-12-16 20:03:27</td>\n      <td>2013-12-16 20:03:29</td>\n      <td>2</td>\n      <td>7</td>\n    </tr>\n    <tr>\n      <th>4</th>\n      <td>396</td>\n      <td>2013-12-16 20:08:27</td>\n      <td>2013-12-16 20:08:28</td>\n      <td>2013-12-16 20:12:03</td>\n      <td>215</td>\n      <td>1</td>\n    </tr>\n    <tr>\n      <th>5</th>\n      <td>449</td>\n      <td>2013-12-16 20:03:20</td>\n      <td>2013-12-16 20:03:25</td>\n      <td>2013-12-16 20:05:00</td>\n      <td>95</td>\n      <td>5</td>\n    </tr>\n    <tr>\n      <th>6</th>\n      <td>397</td>\n      <td>2013-12-16 20:08:25</td>\n      <td>2013-12-16 20:08:27</td>\n      <td>2013-12-16 20:09:59</td>\n      <td>92</td>\n      <td>2</td>\n    </tr>\n    <tr>\n      <th>7</th>\n      <td>398</td>\n      <td>2013-12-16 20:01:23</td>\n      <td>2013-12-16 20:01:23</td>\n      <td>2013-12-16 20:04:58</td>\n      <td>215</td>\n      <td>0</td>\n    </tr>\n    <tr>\n      <th>8</th>\n      <td>452</td>\n      <td>2013-12-16 20:03:20</td>\n      <td>2013-12-16 20:03:21</td>\n      <td>2013-12-16 20:04:55</td>\n      <td>94</td>\n      <td>1</td>\n    </tr>\n    <tr>\n      <th>9</th>\n      <td>440</td>\n      <td>2013-12-16 20:03:20</td>\n      <td>2013-12-16 20:04:26</td>\n      <td>2013-12-16 20:04:32</td>\n      <td>6</td>\n      <td>66</td>\n    </tr>\n  </tbody>\n</table>\n</div>"
     },
     "execution_count": 132,
     "metadata": {},
     "output_type": "execute_result"
    }
   ],
   "source": [
    "calls['duration_seconds'] = (calls['end_date']-calls['created_at']).dt.seconds\n",
    "#calls.drop('duration', axis=1, inplace=True)\n",
    "calls['time_connection_seconds'] = (calls['created_at'] - calls['agent_date']).dt.seconds\n",
    "calls"
   ],
   "metadata": {
    "collapsed": false,
    "pycharm": {
     "name": "#%%\n"
    }
   }
  },
  {
   "cell_type": "code",
   "execution_count": 133,
   "outputs": [
    {
     "data": {
      "text/plain": "89"
     },
     "execution_count": 133,
     "metadata": {},
     "output_type": "execute_result"
    }
   ],
   "source": [
    "calls['time_connection_seconds'].sum()"
   ],
   "metadata": {
    "collapsed": false,
    "pycharm": {
     "name": "#%%\n"
    }
   }
  },
  {
   "cell_type": "code",
   "execution_count": 134,
   "outputs": [
    {
     "data": {
      "text/plain": "7"
     },
     "execution_count": 134,
     "metadata": {},
     "output_type": "execute_result"
    }
   ],
   "source": [
    "calls['is_connection'] = calls['duration_seconds'].apply(lambda x: 1 if x > 10 else 0)\n",
    "calls['is_connection'].sum()"
   ],
   "metadata": {
    "collapsed": false,
    "pycharm": {
     "name": "#%%\n"
    }
   }
  },
  {
   "cell_type": "code",
   "execution_count": 135,
   "outputs": [
    {
     "data": {
      "text/plain": "   client_id          agent_date          created_at            end_date  \\\n0        460 2013-12-17 04:55:39 2013-12-17 04:55:44 2013-12-17 04:55:45   \n1         12 2013-12-16 20:03:20 2013-12-16 20:03:22 2013-12-16 20:07:13   \n2         56 2013-12-16 20:03:20 2013-12-16 20:03:20 2013-12-16 20:05:04   \n3        980 2013-12-16 20:03:20 2013-12-16 20:03:27 2013-12-16 20:03:29   \n4        396 2013-12-16 20:08:27 2013-12-16 20:08:28 2013-12-16 20:12:03   \n5        449 2013-12-16 20:03:20 2013-12-16 20:03:25 2013-12-16 20:05:00   \n6        397 2013-12-16 20:08:25 2013-12-16 20:08:27 2013-12-16 20:09:59   \n7        398 2013-12-16 20:01:23 2013-12-16 20:01:23 2013-12-16 20:04:58   \n8        452 2013-12-16 20:03:20 2013-12-16 20:03:21 2013-12-16 20:04:55   \n9        440 2013-12-16 20:03:20 2013-12-16 20:04:26 2013-12-16 20:04:32   \n\n   duration_seconds  time_connection_seconds  is_connection  time_diff  \n0                 1                        5              0          6  \n1               231                        2              1        233  \n2               104                        0              1        104  \n3                 2                        7              0          9  \n4               215                        1              1        216  \n5                95                        5              1        100  \n6                92                        2              1         94  \n7               215                        0              1        215  \n8                94                        1              1         95  \n9                 6                       66              0         72  ",
      "text/html": "<div>\n<style scoped>\n    .dataframe tbody tr th:only-of-type {\n        vertical-align: middle;\n    }\n\n    .dataframe tbody tr th {\n        vertical-align: top;\n    }\n\n    .dataframe thead th {\n        text-align: right;\n    }\n</style>\n<table border=\"1\" class=\"dataframe\">\n  <thead>\n    <tr style=\"text-align: right;\">\n      <th></th>\n      <th>client_id</th>\n      <th>agent_date</th>\n      <th>created_at</th>\n      <th>end_date</th>\n      <th>duration_seconds</th>\n      <th>time_connection_seconds</th>\n      <th>is_connection</th>\n      <th>time_diff</th>\n    </tr>\n  </thead>\n  <tbody>\n    <tr>\n      <th>0</th>\n      <td>460</td>\n      <td>2013-12-17 04:55:39</td>\n      <td>2013-12-17 04:55:44</td>\n      <td>2013-12-17 04:55:45</td>\n      <td>1</td>\n      <td>5</td>\n      <td>0</td>\n      <td>6</td>\n    </tr>\n    <tr>\n      <th>1</th>\n      <td>12</td>\n      <td>2013-12-16 20:03:20</td>\n      <td>2013-12-16 20:03:22</td>\n      <td>2013-12-16 20:07:13</td>\n      <td>231</td>\n      <td>2</td>\n      <td>1</td>\n      <td>233</td>\n    </tr>\n    <tr>\n      <th>2</th>\n      <td>56</td>\n      <td>2013-12-16 20:03:20</td>\n      <td>2013-12-16 20:03:20</td>\n      <td>2013-12-16 20:05:04</td>\n      <td>104</td>\n      <td>0</td>\n      <td>1</td>\n      <td>104</td>\n    </tr>\n    <tr>\n      <th>3</th>\n      <td>980</td>\n      <td>2013-12-16 20:03:20</td>\n      <td>2013-12-16 20:03:27</td>\n      <td>2013-12-16 20:03:29</td>\n      <td>2</td>\n      <td>7</td>\n      <td>0</td>\n      <td>9</td>\n    </tr>\n    <tr>\n      <th>4</th>\n      <td>396</td>\n      <td>2013-12-16 20:08:27</td>\n      <td>2013-12-16 20:08:28</td>\n      <td>2013-12-16 20:12:03</td>\n      <td>215</td>\n      <td>1</td>\n      <td>1</td>\n      <td>216</td>\n    </tr>\n    <tr>\n      <th>5</th>\n      <td>449</td>\n      <td>2013-12-16 20:03:20</td>\n      <td>2013-12-16 20:03:25</td>\n      <td>2013-12-16 20:05:00</td>\n      <td>95</td>\n      <td>5</td>\n      <td>1</td>\n      <td>100</td>\n    </tr>\n    <tr>\n      <th>6</th>\n      <td>397</td>\n      <td>2013-12-16 20:08:25</td>\n      <td>2013-12-16 20:08:27</td>\n      <td>2013-12-16 20:09:59</td>\n      <td>92</td>\n      <td>2</td>\n      <td>1</td>\n      <td>94</td>\n    </tr>\n    <tr>\n      <th>7</th>\n      <td>398</td>\n      <td>2013-12-16 20:01:23</td>\n      <td>2013-12-16 20:01:23</td>\n      <td>2013-12-16 20:04:58</td>\n      <td>215</td>\n      <td>0</td>\n      <td>1</td>\n      <td>215</td>\n    </tr>\n    <tr>\n      <th>8</th>\n      <td>452</td>\n      <td>2013-12-16 20:03:20</td>\n      <td>2013-12-16 20:03:21</td>\n      <td>2013-12-16 20:04:55</td>\n      <td>94</td>\n      <td>1</td>\n      <td>1</td>\n      <td>95</td>\n    </tr>\n    <tr>\n      <th>9</th>\n      <td>440</td>\n      <td>2013-12-16 20:03:20</td>\n      <td>2013-12-16 20:04:26</td>\n      <td>2013-12-16 20:04:32</td>\n      <td>6</td>\n      <td>66</td>\n      <td>0</td>\n      <td>72</td>\n    </tr>\n  </tbody>\n</table>\n</div>"
     },
     "execution_count": 135,
     "metadata": {},
     "output_type": "execute_result"
    }
   ],
   "source": [
    "calls['time_diff'] = (calls['end_date'] - calls['agent_date']).dt.seconds\n",
    "calls"
   ],
   "metadata": {
    "collapsed": false,
    "pycharm": {
     "name": "#%%\n"
    }
   }
  },
  {
   "cell_type": "code",
   "execution_count": 136,
   "outputs": [
    {
     "data": {
      "text/plain": "1144"
     },
     "execution_count": 136,
     "metadata": {},
     "output_type": "execute_result"
    }
   ],
   "source": [
    "calls['time_diff'].sum()"
   ],
   "metadata": {
    "collapsed": false,
    "pycharm": {
     "name": "#%%\n"
    }
   }
  },
  {
   "cell_type": "code",
   "execution_count": 137,
   "outputs": [],
   "source": [
    "calls = calls.drop(columns=['agent_date', 'created_at' ,'end_date'], axis=1) # удалили, потому что не несут никакой пользы для дальнейшей модели"
   ],
   "metadata": {
    "collapsed": false,
    "pycharm": {
     "name": "#%%\n"
    }
   }
  },
  {
   "cell_type": "code",
   "execution_count": 138,
   "outputs": [
    {
     "data": {
      "text/plain": "   client_id  duration_seconds  time_connection_seconds  is_connection  \\\n0        460                 1                        5              0   \n1         12               231                        2              1   \n2         56               104                        0              1   \n3        980                 2                        7              0   \n4        396               215                        1              1   \n5        449                95                        5              1   \n6        397                92                        2              1   \n7        398               215                        0              1   \n8        452                94                        1              1   \n9        440                 6                       66              0   \n\n   time_diff  \n0          6  \n1        233  \n2        104  \n3          9  \n4        216  \n5        100  \n6         94  \n7        215  \n8         95  \n9         72  ",
      "text/html": "<div>\n<style scoped>\n    .dataframe tbody tr th:only-of-type {\n        vertical-align: middle;\n    }\n\n    .dataframe tbody tr th {\n        vertical-align: top;\n    }\n\n    .dataframe thead th {\n        text-align: right;\n    }\n</style>\n<table border=\"1\" class=\"dataframe\">\n  <thead>\n    <tr style=\"text-align: right;\">\n      <th></th>\n      <th>client_id</th>\n      <th>duration_seconds</th>\n      <th>time_connection_seconds</th>\n      <th>is_connection</th>\n      <th>time_diff</th>\n    </tr>\n  </thead>\n  <tbody>\n    <tr>\n      <th>0</th>\n      <td>460</td>\n      <td>1</td>\n      <td>5</td>\n      <td>0</td>\n      <td>6</td>\n    </tr>\n    <tr>\n      <th>1</th>\n      <td>12</td>\n      <td>231</td>\n      <td>2</td>\n      <td>1</td>\n      <td>233</td>\n    </tr>\n    <tr>\n      <th>2</th>\n      <td>56</td>\n      <td>104</td>\n      <td>0</td>\n      <td>1</td>\n      <td>104</td>\n    </tr>\n    <tr>\n      <th>3</th>\n      <td>980</td>\n      <td>2</td>\n      <td>7</td>\n      <td>0</td>\n      <td>9</td>\n    </tr>\n    <tr>\n      <th>4</th>\n      <td>396</td>\n      <td>215</td>\n      <td>1</td>\n      <td>1</td>\n      <td>216</td>\n    </tr>\n    <tr>\n      <th>5</th>\n      <td>449</td>\n      <td>95</td>\n      <td>5</td>\n      <td>1</td>\n      <td>100</td>\n    </tr>\n    <tr>\n      <th>6</th>\n      <td>397</td>\n      <td>92</td>\n      <td>2</td>\n      <td>1</td>\n      <td>94</td>\n    </tr>\n    <tr>\n      <th>7</th>\n      <td>398</td>\n      <td>215</td>\n      <td>0</td>\n      <td>1</td>\n      <td>215</td>\n    </tr>\n    <tr>\n      <th>8</th>\n      <td>452</td>\n      <td>94</td>\n      <td>1</td>\n      <td>1</td>\n      <td>95</td>\n    </tr>\n    <tr>\n      <th>9</th>\n      <td>440</td>\n      <td>6</td>\n      <td>66</td>\n      <td>0</td>\n      <td>72</td>\n    </tr>\n  </tbody>\n</table>\n</div>"
     },
     "execution_count": 138,
     "metadata": {},
     "output_type": "execute_result"
    }
   ],
   "source": [
    "calls"
   ],
   "metadata": {
    "collapsed": false,
    "pycharm": {
     "name": "#%%\n"
    }
   }
  },
  {
   "cell_type": "code",
   "execution_count": 139,
   "outputs": [
    {
     "data": {
      "text/plain": "         country                                        description  \\\n0          Italy  Aromas include tropical fruit, broom, brimston...   \n1       Portugal  This is ripe and fruity, a wine that is smooth...   \n2             US  Tart and snappy, the flavors of lime flesh and...   \n3             US  Pineapple rind, lemon pith and orange blossom ...   \n4             US  Much like the regular bottling from 2012, this...   \n...          ...                                                ...   \n129966   Germany  Notes of honeysuckle and cantaloupe sweeten th...   \n129967        US  Citation is given as much as a decade of bottl...   \n129968    France  Well-drained gravel soil gives this wine its c...   \n129969    France  A dry style of Pinot Gris, this is crisp with ...   \n129970    France  Big, rich and off-dry, this is powered by inte...   \n\n                                   designation  points      price  \\\n0                                 Vulkà Bianco      87  35.363389   \n1                                     Avidagos      87  15.000000   \n2                                      unknown      87  14.000000   \n3                         Reserve Late Harvest      87  13.000000   \n4           Vintner's Reserve Wild Child Block      87  65.000000   \n...                                        ...     ...        ...   \n129966  Brauneberger Juffer-Sonnenuhr Spätlese      90  28.000000   \n129967                                 unknown      90  75.000000   \n129968                                   Kritt      90  30.000000   \n129969                                 unknown      90  32.000000   \n129970           Lieu-dit Harth Cuvée Caroline      90  21.000000   \n\n                 province             region_1         taster_name  \\\n0       Sicily & Sardinia                 Etna       Kerin O’Keefe   \n1                   Douro              unknown          Roger Voss   \n2                  Oregon    Willamette Valley        Paul Gregutt   \n3                Michigan  Lake Michigan Shore  Alexander Peartree   \n4                  Oregon    Willamette Valley        Paul Gregutt   \n...                   ...                  ...                 ...   \n129966              Mosel              unknown  Anna Lee C. Iijima   \n129967             Oregon               Oregon        Paul Gregutt   \n129968             Alsace               Alsace          Roger Voss   \n129969             Alsace               Alsace          Roger Voss   \n129970             Alsace               Alsace          Roger Voss   \n\n       taster_twitter_handle  \\\n0               @kerinokeefe   \n1                 @vossroger   \n2                @paulgwine    \n3                    unknown   \n4                @paulgwine    \n...                      ...   \n129966               unknown   \n129967           @paulgwine    \n129968            @vossroger   \n129969            @vossroger   \n129970            @vossroger   \n\n                                                    title  ...  \\\n0                       Nicosia 2013 Vulkà Bianco  (Etna)  ...   \n1           Quinta dos Avidagos 2011 Avidagos Red (Douro)  ...   \n2           Rainstorm 2013 Pinot Gris (Willamette Valley)  ...   \n3       St. Julian 2013 Reserve Late Harvest Riesling ...  ...   \n4       Sweet Cheeks 2012 Vintner's Reserve Wild Child...  ...   \n...                                                   ...  ...   \n129966  Dr. H. Thanisch (Erben Müller-Burggraef) 2013 ...  ...   \n129967                  Citation 2004 Pinot Noir (Oregon)  ...   \n129968  Domaine Gresser 2013 Kritt Gewurztraminer (Als...  ...   \n129969      Domaine Marcel Deiss 2012 Pinot Gris (Alsace)  ...   \n129970  Domaine Schoffit 2012 Lieu-dit Harth Cuvée Car...  ...   \n\n                                          winery price_round       year  \\\n0                                        Nicosia          35 2013-01-01   \n1                            Quinta dos Avidagos          15 2011-01-01   \n2                                      Rainstorm          14 2013-01-01   \n3                                     St. Julian          13 2013-01-01   \n4                                   Sweet Cheeks          65 2012-01-01   \n...                                          ...         ...        ...   \n129966  Dr. H. Thanisch (Erben Müller-Burggraef)          28 2013-01-01   \n129967                                  Citation          75 2004-01-01   \n129968                           Domaine Gresser          30 2013-01-01   \n129969                      Domaine Marcel Deiss          32 2012-01-01   \n129970                          Domaine Schoffit          21 2012-01-01   \n\n       is_usa  is_france  is_italy  old_wine                locality  \\\n0           0          0         1         0                    Etna   \n1           0          0         0         0                   Douro   \n2           1          0         0         0       Willamette Valley   \n3           1          0         0         0     Lake Michigan Shore   \n4           1          0         0         0       Willamette Valley   \n...       ...        ...       ...       ...                     ...   \n129966      0          0         0         0  Erben Müller-Burggraef   \n129967      1          0         0         1                  Oregon   \n129968      0          1         0         0                  Alsace   \n129969      0          1         0         0                  Alsace   \n129970      0          1         0         0                  Alsace   \n\n         population       area  \n0        59,097,904   301230.0  \n1        10,347,892    92391.0  \n2       333,022,386  9372610.0  \n3       333,022,386  9372610.0  \n4       333,022,386  9372610.0  \n...             ...        ...  \n129966   83,129,285   357022.0  \n129967  333,022,386  9372610.0  \n129968   68,035,000   547030.0  \n129969   68,035,000   547030.0  \n129970   68,035,000   547030.0  \n\n[129972 rows x 21 columns]",
      "text/html": "<div>\n<style scoped>\n    .dataframe tbody tr th:only-of-type {\n        vertical-align: middle;\n    }\n\n    .dataframe tbody tr th {\n        vertical-align: top;\n    }\n\n    .dataframe thead th {\n        text-align: right;\n    }\n</style>\n<table border=\"1\" class=\"dataframe\">\n  <thead>\n    <tr style=\"text-align: right;\">\n      <th></th>\n      <th>country</th>\n      <th>description</th>\n      <th>designation</th>\n      <th>points</th>\n      <th>price</th>\n      <th>province</th>\n      <th>region_1</th>\n      <th>taster_name</th>\n      <th>taster_twitter_handle</th>\n      <th>title</th>\n      <th>...</th>\n      <th>winery</th>\n      <th>price_round</th>\n      <th>year</th>\n      <th>is_usa</th>\n      <th>is_france</th>\n      <th>is_italy</th>\n      <th>old_wine</th>\n      <th>locality</th>\n      <th>population</th>\n      <th>area</th>\n    </tr>\n  </thead>\n  <tbody>\n    <tr>\n      <th>0</th>\n      <td>Italy</td>\n      <td>Aromas include tropical fruit, broom, brimston...</td>\n      <td>Vulkà Bianco</td>\n      <td>87</td>\n      <td>35.363389</td>\n      <td>Sicily &amp; Sardinia</td>\n      <td>Etna</td>\n      <td>Kerin O’Keefe</td>\n      <td>@kerinokeefe</td>\n      <td>Nicosia 2013 Vulkà Bianco  (Etna)</td>\n      <td>...</td>\n      <td>Nicosia</td>\n      <td>35</td>\n      <td>2013-01-01</td>\n      <td>0</td>\n      <td>0</td>\n      <td>1</td>\n      <td>0</td>\n      <td>Etna</td>\n      <td>59,097,904</td>\n      <td>301230.0</td>\n    </tr>\n    <tr>\n      <th>1</th>\n      <td>Portugal</td>\n      <td>This is ripe and fruity, a wine that is smooth...</td>\n      <td>Avidagos</td>\n      <td>87</td>\n      <td>15.000000</td>\n      <td>Douro</td>\n      <td>unknown</td>\n      <td>Roger Voss</td>\n      <td>@vossroger</td>\n      <td>Quinta dos Avidagos 2011 Avidagos Red (Douro)</td>\n      <td>...</td>\n      <td>Quinta dos Avidagos</td>\n      <td>15</td>\n      <td>2011-01-01</td>\n      <td>0</td>\n      <td>0</td>\n      <td>0</td>\n      <td>0</td>\n      <td>Douro</td>\n      <td>10,347,892</td>\n      <td>92391.0</td>\n    </tr>\n    <tr>\n      <th>2</th>\n      <td>US</td>\n      <td>Tart and snappy, the flavors of lime flesh and...</td>\n      <td>unknown</td>\n      <td>87</td>\n      <td>14.000000</td>\n      <td>Oregon</td>\n      <td>Willamette Valley</td>\n      <td>Paul Gregutt</td>\n      <td>@paulgwine</td>\n      <td>Rainstorm 2013 Pinot Gris (Willamette Valley)</td>\n      <td>...</td>\n      <td>Rainstorm</td>\n      <td>14</td>\n      <td>2013-01-01</td>\n      <td>1</td>\n      <td>0</td>\n      <td>0</td>\n      <td>0</td>\n      <td>Willamette Valley</td>\n      <td>333,022,386</td>\n      <td>9372610.0</td>\n    </tr>\n    <tr>\n      <th>3</th>\n      <td>US</td>\n      <td>Pineapple rind, lemon pith and orange blossom ...</td>\n      <td>Reserve Late Harvest</td>\n      <td>87</td>\n      <td>13.000000</td>\n      <td>Michigan</td>\n      <td>Lake Michigan Shore</td>\n      <td>Alexander Peartree</td>\n      <td>unknown</td>\n      <td>St. Julian 2013 Reserve Late Harvest Riesling ...</td>\n      <td>...</td>\n      <td>St. Julian</td>\n      <td>13</td>\n      <td>2013-01-01</td>\n      <td>1</td>\n      <td>0</td>\n      <td>0</td>\n      <td>0</td>\n      <td>Lake Michigan Shore</td>\n      <td>333,022,386</td>\n      <td>9372610.0</td>\n    </tr>\n    <tr>\n      <th>4</th>\n      <td>US</td>\n      <td>Much like the regular bottling from 2012, this...</td>\n      <td>Vintner's Reserve Wild Child Block</td>\n      <td>87</td>\n      <td>65.000000</td>\n      <td>Oregon</td>\n      <td>Willamette Valley</td>\n      <td>Paul Gregutt</td>\n      <td>@paulgwine</td>\n      <td>Sweet Cheeks 2012 Vintner's Reserve Wild Child...</td>\n      <td>...</td>\n      <td>Sweet Cheeks</td>\n      <td>65</td>\n      <td>2012-01-01</td>\n      <td>1</td>\n      <td>0</td>\n      <td>0</td>\n      <td>0</td>\n      <td>Willamette Valley</td>\n      <td>333,022,386</td>\n      <td>9372610.0</td>\n    </tr>\n    <tr>\n      <th>...</th>\n      <td>...</td>\n      <td>...</td>\n      <td>...</td>\n      <td>...</td>\n      <td>...</td>\n      <td>...</td>\n      <td>...</td>\n      <td>...</td>\n      <td>...</td>\n      <td>...</td>\n      <td>...</td>\n      <td>...</td>\n      <td>...</td>\n      <td>...</td>\n      <td>...</td>\n      <td>...</td>\n      <td>...</td>\n      <td>...</td>\n      <td>...</td>\n      <td>...</td>\n      <td>...</td>\n    </tr>\n    <tr>\n      <th>129966</th>\n      <td>Germany</td>\n      <td>Notes of honeysuckle and cantaloupe sweeten th...</td>\n      <td>Brauneberger Juffer-Sonnenuhr Spätlese</td>\n      <td>90</td>\n      <td>28.000000</td>\n      <td>Mosel</td>\n      <td>unknown</td>\n      <td>Anna Lee C. Iijima</td>\n      <td>unknown</td>\n      <td>Dr. H. Thanisch (Erben Müller-Burggraef) 2013 ...</td>\n      <td>...</td>\n      <td>Dr. H. Thanisch (Erben Müller-Burggraef)</td>\n      <td>28</td>\n      <td>2013-01-01</td>\n      <td>0</td>\n      <td>0</td>\n      <td>0</td>\n      <td>0</td>\n      <td>Erben Müller-Burggraef</td>\n      <td>83,129,285</td>\n      <td>357022.0</td>\n    </tr>\n    <tr>\n      <th>129967</th>\n      <td>US</td>\n      <td>Citation is given as much as a decade of bottl...</td>\n      <td>unknown</td>\n      <td>90</td>\n      <td>75.000000</td>\n      <td>Oregon</td>\n      <td>Oregon</td>\n      <td>Paul Gregutt</td>\n      <td>@paulgwine</td>\n      <td>Citation 2004 Pinot Noir (Oregon)</td>\n      <td>...</td>\n      <td>Citation</td>\n      <td>75</td>\n      <td>2004-01-01</td>\n      <td>1</td>\n      <td>0</td>\n      <td>0</td>\n      <td>1</td>\n      <td>Oregon</td>\n      <td>333,022,386</td>\n      <td>9372610.0</td>\n    </tr>\n    <tr>\n      <th>129968</th>\n      <td>France</td>\n      <td>Well-drained gravel soil gives this wine its c...</td>\n      <td>Kritt</td>\n      <td>90</td>\n      <td>30.000000</td>\n      <td>Alsace</td>\n      <td>Alsace</td>\n      <td>Roger Voss</td>\n      <td>@vossroger</td>\n      <td>Domaine Gresser 2013 Kritt Gewurztraminer (Als...</td>\n      <td>...</td>\n      <td>Domaine Gresser</td>\n      <td>30</td>\n      <td>2013-01-01</td>\n      <td>0</td>\n      <td>1</td>\n      <td>0</td>\n      <td>0</td>\n      <td>Alsace</td>\n      <td>68,035,000</td>\n      <td>547030.0</td>\n    </tr>\n    <tr>\n      <th>129969</th>\n      <td>France</td>\n      <td>A dry style of Pinot Gris, this is crisp with ...</td>\n      <td>unknown</td>\n      <td>90</td>\n      <td>32.000000</td>\n      <td>Alsace</td>\n      <td>Alsace</td>\n      <td>Roger Voss</td>\n      <td>@vossroger</td>\n      <td>Domaine Marcel Deiss 2012 Pinot Gris (Alsace)</td>\n      <td>...</td>\n      <td>Domaine Marcel Deiss</td>\n      <td>32</td>\n      <td>2012-01-01</td>\n      <td>0</td>\n      <td>1</td>\n      <td>0</td>\n      <td>0</td>\n      <td>Alsace</td>\n      <td>68,035,000</td>\n      <td>547030.0</td>\n    </tr>\n    <tr>\n      <th>129970</th>\n      <td>France</td>\n      <td>Big, rich and off-dry, this is powered by inte...</td>\n      <td>Lieu-dit Harth Cuvée Caroline</td>\n      <td>90</td>\n      <td>21.000000</td>\n      <td>Alsace</td>\n      <td>Alsace</td>\n      <td>Roger Voss</td>\n      <td>@vossroger</td>\n      <td>Domaine Schoffit 2012 Lieu-dit Harth Cuvée Car...</td>\n      <td>...</td>\n      <td>Domaine Schoffit</td>\n      <td>21</td>\n      <td>2012-01-01</td>\n      <td>0</td>\n      <td>1</td>\n      <td>0</td>\n      <td>0</td>\n      <td>Alsace</td>\n      <td>68,035,000</td>\n      <td>547030.0</td>\n    </tr>\n  </tbody>\n</table>\n<p>129972 rows × 21 columns</p>\n</div>"
     },
     "execution_count": 139,
     "metadata": {},
     "output_type": "execute_result"
    }
   ],
   "source": [
    "df"
   ],
   "metadata": {
    "collapsed": false,
    "pycharm": {
     "name": "#%%\n"
    }
   }
  },
  {
   "cell_type": "code",
   "execution_count": 144,
   "outputs": [],
   "source": [
    "df['years_diff'] = (pd.to_datetime('2022-01-12')-df['year']).dt.days\n"
   ],
   "metadata": {
    "collapsed": false,
    "pycharm": {
     "name": "#%%\n"
    }
   }
  },
  {
   "cell_type": "code",
   "execution_count": 147,
   "outputs": [
    {
     "data": {
      "text/plain": "98627.0"
     },
     "execution_count": 147,
     "metadata": {},
     "output_type": "execute_result"
    }
   ],
   "source": [
    "df['years_diff'].max()"
   ],
   "metadata": {
    "collapsed": false,
    "pycharm": {
     "name": "#%%\n"
    }
   }
  },
  {
   "cell_type": "code",
   "execution_count": 148,
   "outputs": [
    {
     "data": {
      "text/plain": "98627.0"
     },
     "execution_count": 148,
     "metadata": {},
     "output_type": "execute_result"
    }
   ],
   "source": [
    "df['years_diff'].max()"
   ],
   "metadata": {
    "collapsed": false,
    "pycharm": {
     "name": "#%%\n"
    }
   }
  },
  {
   "cell_type": "code",
   "execution_count": null,
   "outputs": [],
   "source": [],
   "metadata": {
    "collapsed": false,
    "pycharm": {
     "name": "#%%\n"
    }
   }
  }
 ],
 "metadata": {
  "kernelspec": {
   "display_name": "Python 3",
   "language": "python",
   "name": "python3"
  },
  "language_info": {
   "codemirror_mode": {
    "name": "ipython",
    "version": 2
   },
   "file_extension": ".py",
   "mimetype": "text/x-python",
   "name": "python",
   "nbconvert_exporter": "python",
   "pygments_lexer": "ipython2",
   "version": "2.7.6"
  }
 },
 "nbformat": 4,
 "nbformat_minor": 0
}