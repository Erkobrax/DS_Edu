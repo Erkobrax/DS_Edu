{
 "cells": [
  {
   "cell_type": "code",
   "execution_count": 2,
   "metadata": {
    "collapsed": true,
    "pycharm": {
     "name": "#%%\n"
    }
   },
   "outputs": [],
   "source": [
    "import pandas as pd\n",
    "import numpy as np\n",
    "import seaborn as sns\n",
    "import matplotlib.pyplot as plt"
   ]
  },
  {
   "cell_type": "code",
   "execution_count": 3,
   "outputs": [
    {
     "data": {
      "text/plain": "   user_id   timestamp group  converted\n0   851104  2017-01-21     A          0\n1   804228  2017-01-12     A          0\n2   661590  2017-01-11     B          0\n3   853541  2017-01-08     B          0\n4   864975  2017-01-21     A          1",
      "text/html": "<div>\n<style scoped>\n    .dataframe tbody tr th:only-of-type {\n        vertical-align: middle;\n    }\n\n    .dataframe tbody tr th {\n        vertical-align: top;\n    }\n\n    .dataframe thead th {\n        text-align: right;\n    }\n</style>\n<table border=\"1\" class=\"dataframe\">\n  <thead>\n    <tr style=\"text-align: right;\">\n      <th></th>\n      <th>user_id</th>\n      <th>timestamp</th>\n      <th>group</th>\n      <th>converted</th>\n    </tr>\n  </thead>\n  <tbody>\n    <tr>\n      <th>0</th>\n      <td>851104</td>\n      <td>2017-01-21</td>\n      <td>A</td>\n      <td>0</td>\n    </tr>\n    <tr>\n      <th>1</th>\n      <td>804228</td>\n      <td>2017-01-12</td>\n      <td>A</td>\n      <td>0</td>\n    </tr>\n    <tr>\n      <th>2</th>\n      <td>661590</td>\n      <td>2017-01-11</td>\n      <td>B</td>\n      <td>0</td>\n    </tr>\n    <tr>\n      <th>3</th>\n      <td>853541</td>\n      <td>2017-01-08</td>\n      <td>B</td>\n      <td>0</td>\n    </tr>\n    <tr>\n      <th>4</th>\n      <td>864975</td>\n      <td>2017-01-21</td>\n      <td>A</td>\n      <td>1</td>\n    </tr>\n  </tbody>\n</table>\n</div>"
     },
     "execution_count": 3,
     "metadata": {},
     "output_type": "execute_result"
    }
   ],
   "source": [
    "df = pd.read_csv('Data/ab_data.csv')\n",
    "df.head()"
   ],
   "metadata": {
    "collapsed": false,
    "pycharm": {
     "name": "#%%\n"
    }
   }
  },
  {
   "cell_type": "code",
   "execution_count": 4,
   "outputs": [
    {
     "name": "stdout",
     "output_type": "stream",
     "text": [
      "<class 'pandas.core.frame.DataFrame'>\n",
      "RangeIndex: 290482 entries, 0 to 290481\n",
      "Data columns (total 4 columns):\n",
      " #   Column     Non-Null Count   Dtype \n",
      "---  ------     --------------   ----- \n",
      " 0   user_id    290482 non-null  int64 \n",
      " 1   timestamp  290482 non-null  object\n",
      " 2   group      290482 non-null  object\n",
      " 3   converted  290482 non-null  int64 \n",
      "dtypes: int64(2), object(2)\n",
      "memory usage: 8.9+ MB\n"
     ]
    }
   ],
   "source": [
    "df.info()"
   ],
   "metadata": {
    "collapsed": false,
    "pycharm": {
     "name": "#%%\n"
    }
   }
  },
  {
   "cell_type": "code",
   "execution_count": 5,
   "outputs": [],
   "source": [
    "df['timestamp'] = pd.to_datetime(df['timestamp'], format='%Y-%m-%d')"
   ],
   "metadata": {
    "collapsed": false,
    "pycharm": {
     "name": "#%%\n"
    }
   }
  },
  {
   "cell_type": "code",
   "execution_count": 6,
   "outputs": [
    {
     "data": {
      "text/plain": "   timestamp group  user_count  converted\n0 2017-01-02     A        2851        357\n1 2017-01-02     B        2848        339\n2 2017-01-03     A        6584        749\n3 2017-01-03     B        6620        754\n4 2017-01-04     A        6573        797",
      "text/html": "<div>\n<style scoped>\n    .dataframe tbody tr th:only-of-type {\n        vertical-align: middle;\n    }\n\n    .dataframe tbody tr th {\n        vertical-align: top;\n    }\n\n    .dataframe thead th {\n        text-align: right;\n    }\n</style>\n<table border=\"1\" class=\"dataframe\">\n  <thead>\n    <tr style=\"text-align: right;\">\n      <th></th>\n      <th>timestamp</th>\n      <th>group</th>\n      <th>user_count</th>\n      <th>converted</th>\n    </tr>\n  </thead>\n  <tbody>\n    <tr>\n      <th>0</th>\n      <td>2017-01-02</td>\n      <td>A</td>\n      <td>2851</td>\n      <td>357</td>\n    </tr>\n    <tr>\n      <th>1</th>\n      <td>2017-01-02</td>\n      <td>B</td>\n      <td>2848</td>\n      <td>339</td>\n    </tr>\n    <tr>\n      <th>2</th>\n      <td>2017-01-03</td>\n      <td>A</td>\n      <td>6584</td>\n      <td>749</td>\n    </tr>\n    <tr>\n      <th>3</th>\n      <td>2017-01-03</td>\n      <td>B</td>\n      <td>6620</td>\n      <td>754</td>\n    </tr>\n    <tr>\n      <th>4</th>\n      <td>2017-01-04</td>\n      <td>A</td>\n      <td>6573</td>\n      <td>797</td>\n    </tr>\n  </tbody>\n</table>\n</div>"
     },
     "execution_count": 6,
     "metadata": {},
     "output_type": "execute_result"
    }
   ],
   "source": [
    "daily_data = df.groupby(['timestamp','group']).agg({\n",
    "    'user_id':'count',\n",
    "    'converted':'sum'\n",
    "}).reset_index().rename(columns={'user_id':'user_count'})\n",
    "daily_data.head()"
   ],
   "metadata": {
    "collapsed": false,
    "pycharm": {
     "name": "#%%\n"
    }
   }
  },
  {
   "cell_type": "code",
   "execution_count": 7,
   "outputs": [
    {
     "data": {
      "text/plain": "   timestamp group  user_count  converted  conversion\n6 2017-01-05     A        6419        791       12.32\n7 2017-01-05     B        6509        743       11.41",
      "text/html": "<div>\n<style scoped>\n    .dataframe tbody tr th:only-of-type {\n        vertical-align: middle;\n    }\n\n    .dataframe tbody tr th {\n        vertical-align: top;\n    }\n\n    .dataframe thead th {\n        text-align: right;\n    }\n</style>\n<table border=\"1\" class=\"dataframe\">\n  <thead>\n    <tr style=\"text-align: right;\">\n      <th></th>\n      <th>timestamp</th>\n      <th>group</th>\n      <th>user_count</th>\n      <th>converted</th>\n      <th>conversion</th>\n    </tr>\n  </thead>\n  <tbody>\n    <tr>\n      <th>6</th>\n      <td>2017-01-05</td>\n      <td>A</td>\n      <td>6419</td>\n      <td>791</td>\n      <td>12.32</td>\n    </tr>\n    <tr>\n      <th>7</th>\n      <td>2017-01-05</td>\n      <td>B</td>\n      <td>6509</td>\n      <td>743</td>\n      <td>11.41</td>\n    </tr>\n  </tbody>\n</table>\n</div>"
     },
     "execution_count": 7,
     "metadata": {},
     "output_type": "execute_result"
    }
   ],
   "source": [
    "daily_data['conversion'] = round(daily_data['converted']/daily_data['user_count']*100,2)\n",
    "daily_data[daily_data['timestamp']=='2017-01-05']"
   ],
   "metadata": {
    "collapsed": false,
    "pycharm": {
     "name": "#%%\n"
    }
   }
  },
  {
   "cell_type": "code",
   "execution_count": 8,
   "outputs": [
    {
     "data": {
      "text/plain": "<Figure size 576x288 with 1 Axes>",
      "image/png": "[encoded data removed]"
     },
     "metadata": {
      "needs_background": "light"
     },
     "output_type": "display_data"
    }
   ],
   "source": [
    "fig = plt.figure(figsize=(8,4))\n",
    "ax = fig.add_axes([1,1,1,1])\n",
    "sns.boxplot(data=daily_data, x='conversion', y='group', ax=ax)\n",
    "ax.set_title('Сравнение конверсии в группах')\n",
    "ax.grid(True)"
   ],
   "metadata": {
    "collapsed": false,
    "pycharm": {
     "name": "#%%\n"
    }
   }
  },
  {
   "cell_type": "code",
   "execution_count": 9,
   "outputs": [
    {
     "data": {
      "text/plain": "            mean  median\ngroup                   \nA      12.033478   12.02\nB      11.872174   11.83",
      "text/html": "<div>\n<style scoped>\n    .dataframe tbody tr th:only-of-type {\n        vertical-align: middle;\n    }\n\n    .dataframe tbody tr th {\n        vertical-align: top;\n    }\n\n    .dataframe thead th {\n        text-align: right;\n    }\n</style>\n<table border=\"1\" class=\"dataframe\">\n  <thead>\n    <tr style=\"text-align: right;\">\n      <th></th>\n      <th>mean</th>\n      <th>median</th>\n    </tr>\n    <tr>\n      <th>group</th>\n      <th></th>\n      <th></th>\n    </tr>\n  </thead>\n  <tbody>\n    <tr>\n      <th>A</th>\n      <td>12.033478</td>\n      <td>12.02</td>\n    </tr>\n    <tr>\n      <th>B</th>\n      <td>11.872174</td>\n      <td>11.83</td>\n    </tr>\n  </tbody>\n</table>\n</div>"
     },
     "execution_count": 9,
     "metadata": {},
     "output_type": "execute_result"
    }
   ],
   "source": [
    "conversion_piv = daily_data.groupby('group')['conversion'].agg(['mean', 'median'])\n",
    "conversion_piv"
   ],
   "metadata": {
    "collapsed": false,
    "pycharm": {
     "name": "#%%\n"
    }
   }
  },
  {
   "cell_type": "code",
   "execution_count": 10,
   "outputs": [
    {
     "data": {
      "text/plain": "<Figure size 576x288 with 1 Axes>",
      "image/png": "[encoded data removed]"
     },
     "metadata": {
      "needs_background": "light"
     },
     "output_type": "display_data"
    }
   ],
   "source": [
    "fig = plt.figure(figsize=(8,4))\n",
    "ax = fig.add_axes([1,1,1,1])\n",
    "sns.lineplot(\n",
    "    data=daily_data,\n",
    "    x='timestamp',\n",
    "    y='conversion',\n",
    "    hue='group',\n",
    "    ax=ax\n",
    ")\n",
    "ax.set_title('График конверсии по дням')\n",
    "ax.xaxis.set_tick_params(rotation=45)\n",
    "ax.grid(True)"
   ],
   "metadata": {
    "collapsed": false,
    "pycharm": {
     "name": "#%%\n"
    }
   }
  },
  {
   "cell_type": "code",
   "execution_count": 11,
   "outputs": [
    {
     "name": "stderr",
     "output_type": "stream",
     "text": [
      "C:\\Users\\Denis\\AppData\\Local\\Temp\\ipykernel_19908\\3890550851.py:2: SettingWithCopyWarning: \n",
      "A value is trying to be set on a copy of a slice from a DataFrame.\n",
      "Try using .loc[row_indexer,col_indexer] = value instead\n",
      "\n",
      "See the caveats in the documentation: https://pandas.pydata.org/pandas-docs/stable/user_guide/indexing.html#returning-a-view-versus-a-copy\n",
      "  daily_data_a.loc[:,'cum_users_count'] = daily_data_a['user_count'].cumsum()\n"
     ]
    },
    {
     "data": {
      "text/plain": "   timestamp  user_count  cum_users_count\n0 2017-01-02        2851             2851\n2 2017-01-03        6584             9435\n4 2017-01-04        6573            16008\n6 2017-01-05        6419            22427\n8 2017-01-06        6604            29031",
      "text/html": "<div>\n<style scoped>\n    .dataframe tbody tr th:only-of-type {\n        vertical-align: middle;\n    }\n\n    .dataframe tbody tr th {\n        vertical-align: top;\n    }\n\n    .dataframe thead th {\n        text-align: right;\n    }\n</style>\n<table border=\"1\" class=\"dataframe\">\n  <thead>\n    <tr style=\"text-align: right;\">\n      <th></th>\n      <th>timestamp</th>\n      <th>user_count</th>\n      <th>cum_users_count</th>\n    </tr>\n  </thead>\n  <tbody>\n    <tr>\n      <th>0</th>\n      <td>2017-01-02</td>\n      <td>2851</td>\n      <td>2851</td>\n    </tr>\n    <tr>\n      <th>2</th>\n      <td>2017-01-03</td>\n      <td>6584</td>\n      <td>9435</td>\n    </tr>\n    <tr>\n      <th>4</th>\n      <td>2017-01-04</td>\n      <td>6573</td>\n      <td>16008</td>\n    </tr>\n    <tr>\n      <th>6</th>\n      <td>2017-01-05</td>\n      <td>6419</td>\n      <td>22427</td>\n    </tr>\n    <tr>\n      <th>8</th>\n      <td>2017-01-06</td>\n      <td>6604</td>\n      <td>29031</td>\n    </tr>\n  </tbody>\n</table>\n</div>"
     },
     "execution_count": 11,
     "metadata": {},
     "output_type": "execute_result"
    }
   ],
   "source": [
    "daily_data_a = daily_data[daily_data['group']=='A']\n",
    "daily_data_a.loc[:,'cum_users_count'] = daily_data_a['user_count'].cumsum()\n",
    "daily_data_a[['timestamp','user_count','cum_users_count']].head()"
   ],
   "metadata": {
    "collapsed": false,
    "pycharm": {
     "name": "#%%\n"
    }
   }
  },
  {
   "cell_type": "code",
   "execution_count": 12,
   "outputs": [
    {
     "data": {
      "text/plain": "   timestamp group  user_count  converted  conversion  cum_users_count  \\\n0 2017-01-02     A        2851        357       12.52             2851   \n1 2017-01-02     B        2848        339       11.90             2848   \n2 2017-01-03     A        6584        749       11.38             9435   \n3 2017-01-03     B        6620        754       11.39             9468   \n4 2017-01-04     A        6573        797       12.13            16008   \n\n   cum_converted  cum_conversion  \n0            357       12.521922  \n1            339       11.903090  \n2           1106       11.722311  \n3           1093       11.544149  \n4           1903       11.887806  ",
      "text/html": "<div>\n<style scoped>\n    .dataframe tbody tr th:only-of-type {\n        vertical-align: middle;\n    }\n\n    .dataframe tbody tr th {\n        vertical-align: top;\n    }\n\n    .dataframe thead th {\n        text-align: right;\n    }\n</style>\n<table border=\"1\" class=\"dataframe\">\n  <thead>\n    <tr style=\"text-align: right;\">\n      <th></th>\n      <th>timestamp</th>\n      <th>group</th>\n      <th>user_count</th>\n      <th>converted</th>\n      <th>conversion</th>\n      <th>cum_users_count</th>\n      <th>cum_converted</th>\n      <th>cum_conversion</th>\n    </tr>\n  </thead>\n  <tbody>\n    <tr>\n      <th>0</th>\n      <td>2017-01-02</td>\n      <td>A</td>\n      <td>2851</td>\n      <td>357</td>\n      <td>12.52</td>\n      <td>2851</td>\n      <td>357</td>\n      <td>12.521922</td>\n    </tr>\n    <tr>\n      <th>1</th>\n      <td>2017-01-02</td>\n      <td>B</td>\n      <td>2848</td>\n      <td>339</td>\n      <td>11.90</td>\n      <td>2848</td>\n      <td>339</td>\n      <td>11.903090</td>\n    </tr>\n    <tr>\n      <th>2</th>\n      <td>2017-01-03</td>\n      <td>A</td>\n      <td>6584</td>\n      <td>749</td>\n      <td>11.38</td>\n      <td>9435</td>\n      <td>1106</td>\n      <td>11.722311</td>\n    </tr>\n    <tr>\n      <th>3</th>\n      <td>2017-01-03</td>\n      <td>B</td>\n      <td>6620</td>\n      <td>754</td>\n      <td>11.39</td>\n      <td>9468</td>\n      <td>1093</td>\n      <td>11.544149</td>\n    </tr>\n    <tr>\n      <th>4</th>\n      <td>2017-01-04</td>\n      <td>A</td>\n      <td>6573</td>\n      <td>797</td>\n      <td>12.13</td>\n      <td>16008</td>\n      <td>1903</td>\n      <td>11.887806</td>\n    </tr>\n  </tbody>\n</table>\n</div>"
     },
     "execution_count": 12,
     "metadata": {},
     "output_type": "execute_result"
    }
   ],
   "source": [
    "daily_data['cum_users_count'] = daily_data.groupby(['group'])['user_count'].cumsum()\n",
    "daily_data['cum_converted'] = daily_data.groupby(['group'])['converted'].cumsum()\n",
    "daily_data['cum_conversion'] = daily_data['cum_converted']/daily_data['cum_users_count']*100\n",
    "daily_data.head()"
   ],
   "metadata": {
    "collapsed": false,
    "pycharm": {
     "name": "#%%\n"
    }
   }
  },
  {
   "cell_type": "code",
   "execution_count": 13,
   "outputs": [
    {
     "data": {
      "text/plain": "<Figure size 576x288 with 1 Axes>",
      "image/png": "[encoded data removed]"
     },
     "metadata": {
      "needs_background": "light"
     },
     "output_type": "display_data"
    }
   ],
   "source": [
    "fig = plt.figure(figsize=(8,4))\n",
    "ax = fig.add_axes([1,1,1,1])\n",
    "sns.lineplot(x='timestamp', y='cum_conversion', data=daily_data, hue='group', ax=ax)\n",
    "ax.set_title('График кумулятивной конверсии по дням')\n",
    "ax.xaxis.set_tick_params(rotation=45)\n",
    "ax.grid(True)"
   ],
   "metadata": {
    "collapsed": false,
    "pycharm": {
     "name": "#%%\n"
    }
   }
  },
  {
   "cell_type": "code",
   "execution_count": 14,
   "outputs": [
    {
     "data": {
      "text/plain": "         date           cid  transactions  revenue group\n0  2020-11-06  1.001648e+09             0        0     A\n1  2020-11-06  1.001936e+09             0        0     A\n2  2020-11-06  1.003214e+08             0        0     A\n3  2020-11-06  1.004393e+09             0        0     A\n4  2020-11-06  1.006382e+09             0        0     A",
      "text/html": "<div>\n<style scoped>\n    .dataframe tbody tr th:only-of-type {\n        vertical-align: middle;\n    }\n\n    .dataframe tbody tr th {\n        vertical-align: top;\n    }\n\n    .dataframe thead th {\n        text-align: right;\n    }\n</style>\n<table border=\"1\" class=\"dataframe\">\n  <thead>\n    <tr style=\"text-align: right;\">\n      <th></th>\n      <th>date</th>\n      <th>cid</th>\n      <th>transactions</th>\n      <th>revenue</th>\n      <th>group</th>\n    </tr>\n  </thead>\n  <tbody>\n    <tr>\n      <th>0</th>\n      <td>2020-11-06</td>\n      <td>1.001648e+09</td>\n      <td>0</td>\n      <td>0</td>\n      <td>A</td>\n    </tr>\n    <tr>\n      <th>1</th>\n      <td>2020-11-06</td>\n      <td>1.001936e+09</td>\n      <td>0</td>\n      <td>0</td>\n      <td>A</td>\n    </tr>\n    <tr>\n      <th>2</th>\n      <td>2020-11-06</td>\n      <td>1.003214e+08</td>\n      <td>0</td>\n      <td>0</td>\n      <td>A</td>\n    </tr>\n    <tr>\n      <th>3</th>\n      <td>2020-11-06</td>\n      <td>1.004393e+09</td>\n      <td>0</td>\n      <td>0</td>\n      <td>A</td>\n    </tr>\n    <tr>\n      <th>4</th>\n      <td>2020-11-06</td>\n      <td>1.006382e+09</td>\n      <td>0</td>\n      <td>0</td>\n      <td>A</td>\n    </tr>\n  </tbody>\n</table>\n</div>"
     },
     "execution_count": 14,
     "metadata": {},
     "output_type": "execute_result"
    }
   ],
   "source": [
    "sample_a = pd.read_csv('Data/ab_test-redesign_sample_a.csv')\n",
    "sample_b = pd.read_csv('Data/ab_test-redesign_sample_b.csv')\n",
    "sample_a.head()"
   ],
   "metadata": {
    "collapsed": false,
    "pycharm": {
     "name": "#%%\n"
    }
   }
  },
  {
   "cell_type": "code",
   "execution_count": 15,
   "outputs": [
    {
     "data": {
      "text/plain": "        date group  user_count  transactions_sum  revenue_sum\n0 2020-11-06     A        2576                16      1577279\n1 2020-11-07     A        2704                23      1721886\n2 2020-11-08     A        3354                25       846051\n3 2020-11-09     A        3234                18       708830\n4 2020-11-10     A        3022                29       826984",
      "text/html": "<div>\n<style scoped>\n    .dataframe tbody tr th:only-of-type {\n        vertical-align: middle;\n    }\n\n    .dataframe tbody tr th {\n        vertical-align: top;\n    }\n\n    .dataframe thead th {\n        text-align: right;\n    }\n</style>\n<table border=\"1\" class=\"dataframe\">\n  <thead>\n    <tr style=\"text-align: right;\">\n      <th></th>\n      <th>date</th>\n      <th>group</th>\n      <th>user_count</th>\n      <th>transactions_sum</th>\n      <th>revenue_sum</th>\n    </tr>\n  </thead>\n  <tbody>\n    <tr>\n      <th>0</th>\n      <td>2020-11-06</td>\n      <td>A</td>\n      <td>2576</td>\n      <td>16</td>\n      <td>1577279</td>\n    </tr>\n    <tr>\n      <th>1</th>\n      <td>2020-11-07</td>\n      <td>A</td>\n      <td>2704</td>\n      <td>23</td>\n      <td>1721886</td>\n    </tr>\n    <tr>\n      <th>2</th>\n      <td>2020-11-08</td>\n      <td>A</td>\n      <td>3354</td>\n      <td>25</td>\n      <td>846051</td>\n    </tr>\n    <tr>\n      <th>3</th>\n      <td>2020-11-09</td>\n      <td>A</td>\n      <td>3234</td>\n      <td>18</td>\n      <td>708830</td>\n    </tr>\n    <tr>\n      <th>4</th>\n      <td>2020-11-10</td>\n      <td>A</td>\n      <td>3022</td>\n      <td>29</td>\n      <td>826984</td>\n    </tr>\n  </tbody>\n</table>\n</div>"
     },
     "execution_count": 15,
     "metadata": {},
     "output_type": "execute_result"
    }
   ],
   "source": [
    "sample_a['date'] = pd.to_datetime(sample_a['date'], format='%Y-%m-%d')\n",
    "sample_b['date'] = pd.to_datetime(sample_b['date'], format='%Y-%m-%d')\n",
    "daily_data_a = sample_a.groupby(['date','group']).agg({\n",
    "    'cid':'count',\n",
    "    'transactions':'sum',\n",
    "    'revenue':'sum'\n",
    "}).reset_index().rename(columns={'cid':'user_count', 'transactions':'transactions_sum', 'revenue':'revenue_sum'})\n",
    "daily_data_b = sample_b.groupby(['date','group']).agg({\n",
    "    'cid':'count',\n",
    "    'transactions':'sum',\n",
    "    'revenue':'sum'\n",
    "}).reset_index().rename(columns={'cid':'user_count', 'transactions':'transactions_sum', 'revenue':'revenue_sum'})\n",
    "daily_data_a.head()"
   ],
   "metadata": {
    "collapsed": false,
    "pycharm": {
     "name": "#%%\n"
    }
   }
  },
  {
   "cell_type": "code",
   "execution_count": 16,
   "outputs": [
    {
     "data": {
      "text/plain": "        date group  user_count  transactions_sum  revenue_sum\n2 2020-11-08     A        3354                25       846051",
      "text/html": "<div>\n<style scoped>\n    .dataframe tbody tr th:only-of-type {\n        vertical-align: middle;\n    }\n\n    .dataframe tbody tr th {\n        vertical-align: top;\n    }\n\n    .dataframe thead th {\n        text-align: right;\n    }\n</style>\n<table border=\"1\" class=\"dataframe\">\n  <thead>\n    <tr style=\"text-align: right;\">\n      <th></th>\n      <th>date</th>\n      <th>group</th>\n      <th>user_count</th>\n      <th>transactions_sum</th>\n      <th>revenue_sum</th>\n    </tr>\n  </thead>\n  <tbody>\n    <tr>\n      <th>2</th>\n      <td>2020-11-08</td>\n      <td>A</td>\n      <td>3354</td>\n      <td>25</td>\n      <td>846051</td>\n    </tr>\n  </tbody>\n</table>\n</div>"
     },
     "execution_count": 16,
     "metadata": {},
     "output_type": "execute_result"
    }
   ],
   "source": [
    "daily_data_a[daily_data_a['date']=='2020-11-08']"
   ],
   "metadata": {
    "collapsed": false,
    "pycharm": {
     "name": "#%%\n"
    }
   }
  },
  {
   "cell_type": "code",
   "execution_count": 17,
   "outputs": [],
   "source": [
    "daily_data_a.loc[:,'cum_users_count'] = daily_data_a['user_count'].cumsum()\n",
    "daily_data_a.loc[:,'cum_transactions_sum'] = daily_data_a['transactions_sum'].cumsum()\n",
    "daily_data_a.loc[:,'cum_revenue_sum'] = daily_data_a['revenue_sum'].cumsum()\n",
    "daily_data_b.loc[:,'cum_users_count'] = daily_data_b['user_count'].cumsum()\n",
    "daily_data_b.loc[:,'cum_transactions_sum'] = daily_data_b['transactions_sum'].cumsum()\n",
    "daily_data_b.loc[:,'cum_revenue_sum'] = daily_data_b['revenue_sum'].cumsum()\n",
    "\n",
    "daily_data_a['cum_conversion'] = round(daily_data_a['cum_transactions_sum']/daily_data_a['cum_users_count']*100,2)\n",
    "daily_data_a['cum_check'] = round(daily_data_a['cum_revenue_sum']/daily_data_a['cum_transactions_sum'],2)\n",
    "daily_data_b['cum_conversion'] = round(daily_data_b['cum_transactions_sum']/daily_data_b['cum_users_count']*100,2)\n",
    "daily_data_b['cum_check'] = round(daily_data_b['cum_revenue_sum']/daily_data_b['cum_transactions_sum'],2)"
   ],
   "metadata": {
    "collapsed": false,
    "pycharm": {
     "name": "#%%\n"
    }
   }
  },
  {
   "cell_type": "code",
   "execution_count": 18,
   "outputs": [
    {
     "name": "stdout",
     "output_type": "stream",
     "text": [
      "0.7122222222222221 0.7616666666666666\n"
     ]
    }
   ],
   "source": [
    "print(daily_data_a['cum_conversion'].mean(), daily_data_b['cum_conversion'].mean())"
   ],
   "metadata": {
    "collapsed": false,
    "pycharm": {
     "name": "#%%\n"
    }
   }
  },
  {
   "cell_type": "code",
   "execution_count": 19,
   "outputs": [
    {
     "data": {
      "text/plain": "<Figure size 576x288 with 1 Axes>",
      "image/png": "[encoded data removed]"
     },
     "metadata": {
      "needs_background": "light"
     },
     "output_type": "display_data"
    }
   ],
   "source": [
    "plt.figure(figsize=(8,4))\n",
    "g = sns.lineplot(data=daily_data_a,x='date',y='cum_conversion',hue='group')\n",
    "g.tick_params(axis='x',rotation=30)\n",
    "g_2 = sns.lineplot(data=daily_data_b,x='date',y='cum_conversion',hue='group',palette=['r'])\n",
    "g_2.tick_params(axis='x',rotation=30)"
   ],
   "metadata": {
    "collapsed": false,
    "pycharm": {
     "name": "#%%\n"
    }
   }
  },
  {
   "cell_type": "code",
   "execution_count": 20,
   "outputs": [
    {
     "data": {
      "text/plain": "<Figure size 576x288 with 1 Axes>",
      "image/png": "[encoded data removed]"
     },
     "metadata": {
      "needs_background": "light"
     },
     "output_type": "display_data"
    }
   ],
   "source": [
    "plt.figure(figsize=(8,4))\n",
    "g = sns.lineplot(data=daily_data_a,x='date',y='cum_check',hue='group')\n",
    "g.tick_params(axis='x',rotation=30)\n",
    "g_2 = sns.lineplot(data=daily_data_b,x='date',y='cum_check',hue='group',palette=['r'])\n",
    "g_2.tick_params(axis='x',rotation=30)"
   ],
   "metadata": {
    "collapsed": false,
    "pycharm": {
     "name": "#%%\n"
    }
   }
  },
  {
   "cell_type": "code",
   "execution_count": 21,
   "outputs": [],
   "source": [
    "from statsmodels.stats.proportion import proportions_ztest"
   ],
   "metadata": {
    "collapsed": false,
    "pycharm": {
     "name": "#%%\n"
    }
   }
  },
  {
   "cell_type": "code",
   "execution_count": 22,
   "outputs": [
    {
     "data": {
      "text/plain": "         sum   count\ngroup               \nA      17467  145241\nB      17238  145241",
      "text/html": "<div>\n<style scoped>\n    .dataframe tbody tr th:only-of-type {\n        vertical-align: middle;\n    }\n\n    .dataframe tbody tr th {\n        vertical-align: top;\n    }\n\n    .dataframe thead th {\n        text-align: right;\n    }\n</style>\n<table border=\"1\" class=\"dataframe\">\n  <thead>\n    <tr style=\"text-align: right;\">\n      <th></th>\n      <th>sum</th>\n      <th>count</th>\n    </tr>\n    <tr>\n      <th>group</th>\n      <th></th>\n      <th></th>\n    </tr>\n  </thead>\n  <tbody>\n    <tr>\n      <th>A</th>\n      <td>17467</td>\n      <td>145241</td>\n    </tr>\n    <tr>\n      <th>B</th>\n      <td>17238</td>\n      <td>145241</td>\n    </tr>\n  </tbody>\n</table>\n</div>"
     },
     "execution_count": 22,
     "metadata": {},
     "output_type": "execute_result"
    }
   ],
   "source": [
    "ab_data = pd.read_csv('Data/ab_data.csv')\n",
    "converted_piv = ab_data.groupby('group')['converted'].agg(\n",
    "    ['sum', 'count']\n",
    ")\n",
    "converted_piv"
   ],
   "metadata": {
    "collapsed": false,
    "pycharm": {
     "name": "#%%\n"
    }
   }
  },
  {
   "cell_type": "code",
   "execution_count": 23,
   "outputs": [
    {
     "name": "stdout",
     "output_type": "stream",
     "text": [
      "p-value:  0.1\n",
      "Отвергаем нулевую гипотезую. Конверсии в группах A и B равны\n",
      "Альтернативная гипотеза. H1: Конверсия в группе A выше, чем конверсия в В\n"
     ]
    }
   ],
   "source": [
    "alpha = 0.1\n",
    "H0='Конверсии в группах A и B равны'\n",
    "H1='Конверсия в группе A выше, чем конверсия в В'\n",
    "_, p_value = proportions_ztest(\n",
    "    count=converted_piv['sum'], # число успехов\n",
    "    nobs=converted_piv['count'], #общее число наблюдей\n",
    "    alternative='larger',\n",
    ")\n",
    "print('p-value: ', round(p_value,2))\n",
    "if (p_value < alpha):\n",
    "    print('Отвергаем нулевую гипотезую. {}'.format(H0))\n",
    "    print('Альтернативная гипотеза. H1: {}'.format(H1))\n",
    "else:\n",
    "    print('Принимаем нулевую гипотезу. {}'.format(H0))"
   ],
   "metadata": {
    "collapsed": false,
    "pycharm": {
     "name": "#%%\n"
    }
   }
  },
  {
   "cell_type": "code",
   "execution_count": 24,
   "outputs": [
    {
     "data": {
      "text/plain": "(1.3099910435866409, 0.09509943275243543)"
     },
     "execution_count": 24,
     "metadata": {},
     "output_type": "execute_result"
    }
   ],
   "source": [
    "proportions_ztest(\n",
    "    count=converted_piv['sum'], # число успехов\n",
    "    nobs=converted_piv['count'], #общее число наблюдей\n",
    "    alternative='larger',\n",
    ")"
   ],
   "metadata": {
    "collapsed": false,
    "pycharm": {
     "name": "#%%\n"
    }
   }
  },
  {
   "cell_type": "code",
   "execution_count": 25,
   "outputs": [
    {
     "data": {
      "text/plain": "         sum   count\ngroup               \nA      17467  145241\nB      17238  145241",
      "text/html": "<div>\n<style scoped>\n    .dataframe tbody tr th:only-of-type {\n        vertical-align: middle;\n    }\n\n    .dataframe tbody tr th {\n        vertical-align: top;\n    }\n\n    .dataframe thead th {\n        text-align: right;\n    }\n</style>\n<table border=\"1\" class=\"dataframe\">\n  <thead>\n    <tr style=\"text-align: right;\">\n      <th></th>\n      <th>sum</th>\n      <th>count</th>\n    </tr>\n    <tr>\n      <th>group</th>\n      <th></th>\n      <th></th>\n    </tr>\n  </thead>\n  <tbody>\n    <tr>\n      <th>A</th>\n      <td>17467</td>\n      <td>145241</td>\n    </tr>\n    <tr>\n      <th>B</th>\n      <td>17238</td>\n      <td>145241</td>\n    </tr>\n  </tbody>\n</table>\n</div>"
     },
     "execution_count": 25,
     "metadata": {},
     "output_type": "execute_result"
    }
   ],
   "source": [
    "converted_piv"
   ],
   "metadata": {
    "collapsed": false,
    "pycharm": {
     "name": "#%%\n"
    }
   }
  },
  {
   "cell_type": "markdown",
   "source": [
    "Разницы между вариантами рекомендаций сопуствующих товаров нет - они одинаково эффективны по метрике конверсии"
   ],
   "metadata": {
    "collapsed": false,
    "pycharm": {
     "name": "#%% md\n"
    }
   }
  },
  {
   "cell_type": "code",
   "execution_count": 26,
   "outputs": [],
   "source": [
    "time_data = pd.read_excel('Data/time_data.xlsx')"
   ],
   "metadata": {
    "collapsed": false,
    "pycharm": {
     "name": "#%%\n"
    }
   }
  },
  {
   "cell_type": "code",
   "execution_count": 27,
   "outputs": [
    {
     "data": {
      "text/plain": "   time(A)  time(B)\n0    435.0    549.2\n1    454.5    630.2\n2    447.0    437.2\n3    480.0    637.2\n4    561.0    712.4",
      "text/html": "<div>\n<style scoped>\n    .dataframe tbody tr th:only-of-type {\n        vertical-align: middle;\n    }\n\n    .dataframe tbody tr th {\n        vertical-align: top;\n    }\n\n    .dataframe thead th {\n        text-align: right;\n    }\n</style>\n<table border=\"1\" class=\"dataframe\">\n  <thead>\n    <tr style=\"text-align: right;\">\n      <th></th>\n      <th>time(A)</th>\n      <th>time(B)</th>\n    </tr>\n  </thead>\n  <tbody>\n    <tr>\n      <th>0</th>\n      <td>435.0</td>\n      <td>549.2</td>\n    </tr>\n    <tr>\n      <th>1</th>\n      <td>454.5</td>\n      <td>630.2</td>\n    </tr>\n    <tr>\n      <th>2</th>\n      <td>447.0</td>\n      <td>437.2</td>\n    </tr>\n    <tr>\n      <th>3</th>\n      <td>480.0</td>\n      <td>637.2</td>\n    </tr>\n    <tr>\n      <th>4</th>\n      <td>561.0</td>\n      <td>712.4</td>\n    </tr>\n  </tbody>\n</table>\n</div>"
     },
     "execution_count": 27,
     "metadata": {},
     "output_type": "execute_result"
    }
   ],
   "source": [
    "time_data.head()"
   ],
   "metadata": {
    "collapsed": false,
    "pycharm": {
     "name": "#%%\n"
    }
   }
  },
  {
   "cell_type": "code",
   "execution_count": 28,
   "outputs": [
    {
     "data": {
      "text/plain": "Text(0.5, 1.0, 'Распределение времени на сайте в группе В')"
     },
     "execution_count": 28,
     "metadata": {},
     "output_type": "execute_result"
    },
    {
     "data": {
      "text/plain": "<Figure size 864x288 with 2 Axes>",
      "image/png": "[encoded data removed]"
     },
     "metadata": {
      "needs_background": "light"
     },
     "output_type": "display_data"
    }
   ],
   "source": [
    "fig, axes = plt.subplots(1, 2, figsize=(12,4))\n",
    "sns.histplot(x='time(A)', data=time_data, ax=axes[0])\n",
    "sns.histplot(x='time(B)', data=time_data, ax=axes[1])\n",
    "axes[0].set_title('Распределение времени на сайте в группе A')\n",
    "axes[1].set_title('Распределение времени на сайте в группе В')"
   ],
   "metadata": {
    "collapsed": false,
    "pycharm": {
     "name": "#%%\n"
    }
   }
  },
  {
   "cell_type": "code",
   "execution_count": 29,
   "outputs": [
    {
     "name": "stdout",
     "output_type": "stream",
     "text": [
      "p-value группы А:  0.43\n",
      "p-value группы B:  0.12\n",
      "Принимаем нулевую гипотезу. Распределение в обеих группах нормальное\n"
     ]
    }
   ],
   "source": [
    "from scipy.stats import shapiro\n",
    "H0 = 'Распределение в обеих группах нормальное'\n",
    "H1 = 'Распределение в одной или более группах отлично от нормального'\n",
    "\n",
    "shapiro_result_a = shapiro(time_data['time(A)'])\n",
    "shapiro_result_b = shapiro(time_data['time(B)'])\n",
    "print('p-value группы А: ', round(shapiro_result_a.pvalue,2))\n",
    "print('p-value группы B: ', round(shapiro_result_b.pvalue,2))\n",
    "if shapiro_result_a.pvalue < alpha or shapiro_result_b.pvalue < alpha:\n",
    "    print('Отвергаем нулевую гипотезу. {}'.format(H0))\n",
    "    print('Принимаем альтернативную гипотезу. {}'.format(H1))\n",
    "else:\n",
    "    print('Принимаем нулевую гипотезу. {}'.format(H0))\n"
   ],
   "metadata": {
    "collapsed": false,
    "pycharm": {
     "name": "#%%\n"
    }
   }
  },
  {
   "cell_type": "markdown",
   "source": [
    "Распределение в группах нормальное, означает, что мы можем воспользоваться t test для того, чтоб сравнить среднее время посещения сайта в группах"
   ],
   "metadata": {
    "collapsed": false,
    "pycharm": {
     "name": "#%% md\n"
    }
   }
  },
  {
   "cell_type": "code",
   "execution_count": 30,
   "outputs": [
    {
     "name": "stdout",
     "output_type": "stream",
     "text": [
      "p-value: 0.0\n",
      "Отказываемся от нулевой гипотезы\n"
     ]
    }
   ],
   "source": [
    "from scipy.stats import ttest_ind\n",
    "H0 = 'Cреднее время в группах одинаково'\n",
    "H1 = 'Среднее время в группе А меньше, чем в группе B'\n",
    "alpha = 0.05\n",
    "results =  ttest_ind(\n",
    "    a=time_data['time(A)'],\n",
    "    b=time_data['time(B)'],\n",
    "    alternative='less'\n",
    ")\n",
    "print('p-value:', round(results.pvalue,2))\n",
    "if results.pvalue < alpha:\n",
    "    print('Отказываемся от нулевой гипотезы')\n",
    "else:\n",
    "    print('Принимаем нулевую гипотезу')"
   ],
   "metadata": {
    "collapsed": false,
    "pycharm": {
     "name": "#%%\n"
    }
   }
  },
  {
   "cell_type": "code",
   "execution_count": 31,
   "outputs": [
    {
     "name": "stdout",
     "output_type": "stream",
     "text": [
      "            date           cid  transactions  revenue group\n",
      "0     2020-11-06  1.001648e+09             0        0     A\n",
      "1     2020-11-06  1.001936e+09             0        0     A\n",
      "2     2020-11-06  1.003214e+08             0        0     A\n",
      "3     2020-11-06  1.004393e+09             0        0     A\n",
      "4     2020-11-06  1.006382e+09             0        0     A\n",
      "...          ...           ...           ...      ...   ...\n",
      "61566 2020-11-23  9.986289e+08             0        0     A\n",
      "61567 2020-11-23  9.989196e+08             0        0     A\n",
      "61568 2020-11-23  9.990631e+08             0        0     A\n",
      "61569 2020-11-23  9.994210e+07             0        0     A\n",
      "61570 2020-11-23  9.994748e+08             0        0     A\n",
      "\n",
      "[61571 rows x 5 columns]             date           cid  transactions  revenue group\n",
      "0     2020-11-06  1.000135e+09             0        0     B\n",
      "1     2020-11-06  1.001648e+09             0        0     B\n",
      "2     2020-11-06  1.003214e+08             0        0     B\n",
      "3     2020-11-06  1.003652e+09             0        0     B\n",
      "4     2020-11-06  1.003833e+09             0        0     B\n",
      "...          ...           ...           ...      ...   ...\n",
      "61378 2020-11-23  9.965675e+08             0        0     B\n",
      "61379 2020-11-23  9.970803e+07             0        0     B\n",
      "61380 2020-11-23  9.984814e+08             0        0     B\n",
      "61381 2020-11-23  9.991118e+08             0        0     B\n",
      "61382 2020-11-23  9.994657e+08             0        0     B\n",
      "\n",
      "[61383 rows x 5 columns]\n"
     ]
    }
   ],
   "source": [
    "print(sample_a, sample_b)"
   ],
   "metadata": {
    "collapsed": false,
    "pycharm": {
     "name": "#%%\n"
    }
   }
  },
  {
   "cell_type": "code",
   "execution_count": 32,
   "outputs": [
    {
     "data": {
      "text/plain": "       sum  count\ngroup            \nA      441  61571\nB      463  61383",
      "text/html": "<div>\n<style scoped>\n    .dataframe tbody tr th:only-of-type {\n        vertical-align: middle;\n    }\n\n    .dataframe tbody tr th {\n        vertical-align: top;\n    }\n\n    .dataframe thead th {\n        text-align: right;\n    }\n</style>\n<table border=\"1\" class=\"dataframe\">\n  <thead>\n    <tr style=\"text-align: right;\">\n      <th></th>\n      <th>sum</th>\n      <th>count</th>\n    </tr>\n    <tr>\n      <th>group</th>\n      <th></th>\n      <th></th>\n    </tr>\n  </thead>\n  <tbody>\n    <tr>\n      <th>A</th>\n      <td>441</td>\n      <td>61571</td>\n    </tr>\n    <tr>\n      <th>B</th>\n      <td>463</td>\n      <td>61383</td>\n    </tr>\n  </tbody>\n</table>\n</div>"
     },
     "execution_count": 32,
     "metadata": {},
     "output_type": "execute_result"
    }
   ],
   "source": [
    "sample_result = pd.concat([sample_a,sample_b], ignore_index=True)\n",
    "converted_piv = sample_result.groupby('group')['transactions'].agg(\n",
    "    ['sum', 'count']\n",
    ")\n",
    "converted_piv"
   ],
   "metadata": {
    "collapsed": false,
    "pycharm": {
     "name": "#%%\n"
    }
   }
  },
  {
   "cell_type": "code",
   "execution_count": 33,
   "outputs": [
    {
     "name": "stdout",
     "output_type": "stream",
     "text": [
      "Принимаем нулевую гипотезу Конверсия в обеих группах не различается\n"
     ]
    }
   ],
   "source": [
    "H0 = 'Конверсия в обеих группах не различается'\n",
    "from statsmodels.stats.proportion import proportions_ztest\n",
    "_, p_value = proportions_ztest(\n",
    "    count=converted_piv['sum'], # число успехов\n",
    "    nobs=converted_piv['count'], #общее число наблюдей\n",
    "    alternative='larger',\n",
    ")\n",
    "if p_value < alpha:\n",
    "    print('Отказываемся от нулевой гипотезы')\n",
    "else:\n",
    "    print('Принимаем нулевую гипотезу {}'.format(H0))"
   ],
   "metadata": {
    "collapsed": false,
    "pycharm": {
     "name": "#%%\n"
    }
   }
  },
  {
   "cell_type": "code",
   "execution_count": 34,
   "outputs": [
    {
     "data": {
      "text/plain": "   group       date  transactions  revenue\n0      A 2020-11-06            16  1577279\n1      A 2020-11-07            23  1721886\n2      A 2020-11-08            25   846051\n3      A 2020-11-09            18   708830\n4      A 2020-11-10            29   826984\n5      A 2020-11-11            19  1209656\n6      A 2020-11-12            19   607839\n7      A 2020-11-13            36  1338816\n8      A 2020-11-14            30  2659277\n9      A 2020-11-15            27  1189970\n10     A 2020-11-16            30  4213774\n11     A 2020-11-17            21  1779293\n12     A 2020-11-18            20   939301\n13     A 2020-11-19            26  2166766\n14     A 2020-11-20            25  1119974\n15     A 2020-11-21            18   939670\n16     A 2020-11-22            33  1205426\n17     A 2020-11-23            26   858274\n18     B 2020-11-06            19   996645\n19     B 2020-11-07            19   555499\n20     B 2020-11-08            24  3044842\n21     B 2020-11-09            25  1285836\n22     B 2020-11-10            30  2414726\n23     B 2020-11-11            22  3555727\n24     B 2020-11-12            25   915653\n25     B 2020-11-13            37  1703475\n26     B 2020-11-14            34  2369998\n27     B 2020-11-15            27  1147144\n28     B 2020-11-16            27  1553700\n29     B 2020-11-17            26  1069200\n30     B 2020-11-18            18  2100459\n31     B 2020-11-19            29  2770174\n32     B 2020-11-20            15  1019850\n33     B 2020-11-21            22  2586267\n34     B 2020-11-22            34  1779841\n35     B 2020-11-23            30  1585306",
      "text/html": "<div>\n<style scoped>\n    .dataframe tbody tr th:only-of-type {\n        vertical-align: middle;\n    }\n\n    .dataframe tbody tr th {\n        vertical-align: top;\n    }\n\n    .dataframe thead th {\n        text-align: right;\n    }\n</style>\n<table border=\"1\" class=\"dataframe\">\n  <thead>\n    <tr style=\"text-align: right;\">\n      <th></th>\n      <th>group</th>\n      <th>date</th>\n      <th>transactions</th>\n      <th>revenue</th>\n    </tr>\n  </thead>\n  <tbody>\n    <tr>\n      <th>0</th>\n      <td>A</td>\n      <td>2020-11-06</td>\n      <td>16</td>\n      <td>1577279</td>\n    </tr>\n    <tr>\n      <th>1</th>\n      <td>A</td>\n      <td>2020-11-07</td>\n      <td>23</td>\n      <td>1721886</td>\n    </tr>\n    <tr>\n      <th>2</th>\n      <td>A</td>\n      <td>2020-11-08</td>\n      <td>25</td>\n      <td>846051</td>\n    </tr>\n    <tr>\n      <th>3</th>\n      <td>A</td>\n      <td>2020-11-09</td>\n      <td>18</td>\n      <td>708830</td>\n    </tr>\n    <tr>\n      <th>4</th>\n      <td>A</td>\n      <td>2020-11-10</td>\n      <td>29</td>\n      <td>826984</td>\n    </tr>\n    <tr>\n      <th>5</th>\n      <td>A</td>\n      <td>2020-11-11</td>\n      <td>19</td>\n      <td>1209656</td>\n    </tr>\n    <tr>\n      <th>6</th>\n      <td>A</td>\n      <td>2020-11-12</td>\n      <td>19</td>\n      <td>607839</td>\n    </tr>\n    <tr>\n      <th>7</th>\n      <td>A</td>\n      <td>2020-11-13</td>\n      <td>36</td>\n      <td>1338816</td>\n    </tr>\n    <tr>\n      <th>8</th>\n      <td>A</td>\n      <td>2020-11-14</td>\n      <td>30</td>\n      <td>2659277</td>\n    </tr>\n    <tr>\n      <th>9</th>\n      <td>A</td>\n      <td>2020-11-15</td>\n      <td>27</td>\n      <td>1189970</td>\n    </tr>\n    <tr>\n      <th>10</th>\n      <td>A</td>\n      <td>2020-11-16</td>\n      <td>30</td>\n      <td>4213774</td>\n    </tr>\n    <tr>\n      <th>11</th>\n      <td>A</td>\n      <td>2020-11-17</td>\n      <td>21</td>\n      <td>1779293</td>\n    </tr>\n    <tr>\n      <th>12</th>\n      <td>A</td>\n      <td>2020-11-18</td>\n      <td>20</td>\n      <td>939301</td>\n    </tr>\n    <tr>\n      <th>13</th>\n      <td>A</td>\n      <td>2020-11-19</td>\n      <td>26</td>\n      <td>2166766</td>\n    </tr>\n    <tr>\n      <th>14</th>\n      <td>A</td>\n      <td>2020-11-20</td>\n      <td>25</td>\n      <td>1119974</td>\n    </tr>\n    <tr>\n      <th>15</th>\n      <td>A</td>\n      <td>2020-11-21</td>\n      <td>18</td>\n      <td>939670</td>\n    </tr>\n    <tr>\n      <th>16</th>\n      <td>A</td>\n      <td>2020-11-22</td>\n      <td>33</td>\n      <td>1205426</td>\n    </tr>\n    <tr>\n      <th>17</th>\n      <td>A</td>\n      <td>2020-11-23</td>\n      <td>26</td>\n      <td>858274</td>\n    </tr>\n    <tr>\n      <th>18</th>\n      <td>B</td>\n      <td>2020-11-06</td>\n      <td>19</td>\n      <td>996645</td>\n    </tr>\n    <tr>\n      <th>19</th>\n      <td>B</td>\n      <td>2020-11-07</td>\n      <td>19</td>\n      <td>555499</td>\n    </tr>\n    <tr>\n      <th>20</th>\n      <td>B</td>\n      <td>2020-11-08</td>\n      <td>24</td>\n      <td>3044842</td>\n    </tr>\n    <tr>\n      <th>21</th>\n      <td>B</td>\n      <td>2020-11-09</td>\n      <td>25</td>\n      <td>1285836</td>\n    </tr>\n    <tr>\n      <th>22</th>\n      <td>B</td>\n      <td>2020-11-10</td>\n      <td>30</td>\n      <td>2414726</td>\n    </tr>\n    <tr>\n      <th>23</th>\n      <td>B</td>\n      <td>2020-11-11</td>\n      <td>22</td>\n      <td>3555727</td>\n    </tr>\n    <tr>\n      <th>24</th>\n      <td>B</td>\n      <td>2020-11-12</td>\n      <td>25</td>\n      <td>915653</td>\n    </tr>\n    <tr>\n      <th>25</th>\n      <td>B</td>\n      <td>2020-11-13</td>\n      <td>37</td>\n      <td>1703475</td>\n    </tr>\n    <tr>\n      <th>26</th>\n      <td>B</td>\n      <td>2020-11-14</td>\n      <td>34</td>\n      <td>2369998</td>\n    </tr>\n    <tr>\n      <th>27</th>\n      <td>B</td>\n      <td>2020-11-15</td>\n      <td>27</td>\n      <td>1147144</td>\n    </tr>\n    <tr>\n      <th>28</th>\n      <td>B</td>\n      <td>2020-11-16</td>\n      <td>27</td>\n      <td>1553700</td>\n    </tr>\n    <tr>\n      <th>29</th>\n      <td>B</td>\n      <td>2020-11-17</td>\n      <td>26</td>\n      <td>1069200</td>\n    </tr>\n    <tr>\n      <th>30</th>\n      <td>B</td>\n      <td>2020-11-18</td>\n      <td>18</td>\n      <td>2100459</td>\n    </tr>\n    <tr>\n      <th>31</th>\n      <td>B</td>\n      <td>2020-11-19</td>\n      <td>29</td>\n      <td>2770174</td>\n    </tr>\n    <tr>\n      <th>32</th>\n      <td>B</td>\n      <td>2020-11-20</td>\n      <td>15</td>\n      <td>1019850</td>\n    </tr>\n    <tr>\n      <th>33</th>\n      <td>B</td>\n      <td>2020-11-21</td>\n      <td>22</td>\n      <td>2586267</td>\n    </tr>\n    <tr>\n      <th>34</th>\n      <td>B</td>\n      <td>2020-11-22</td>\n      <td>34</td>\n      <td>1779841</td>\n    </tr>\n    <tr>\n      <th>35</th>\n      <td>B</td>\n      <td>2020-11-23</td>\n      <td>30</td>\n      <td>1585306</td>\n    </tr>\n  </tbody>\n</table>\n</div>"
     },
     "execution_count": 34,
     "metadata": {},
     "output_type": "execute_result"
    }
   ],
   "source": [
    "from scipy.stats import shapiro\n",
    "df = sample_result.groupby(['group','date'])[['revenue','transactions']].agg({'transactions':'sum', 'revenue':'sum'}).reset_index()\n",
    "df"
   ],
   "metadata": {
    "collapsed": false,
    "pycharm": {
     "name": "#%%\n"
    }
   }
  },
  {
   "cell_type": "code",
   "execution_count": 35,
   "outputs": [],
   "source": [
    "df['mean_revenue'] = round(df['revenue']/df['transactions'])"
   ],
   "metadata": {
    "collapsed": false,
    "pycharm": {
     "name": "#%%\n"
    }
   }
  },
  {
   "cell_type": "code",
   "execution_count": 36,
   "outputs": [
    {
     "name": "stdout",
     "output_type": "stream",
     "text": [
      "Отказываемся от нулевой гипотезы\n"
     ]
    }
   ],
   "source": [
    "shapiro_result_a = shapiro(df[df['group']=='A'][['mean_revenue']])\n",
    "shapiro_result_b = shapiro(df[df['group']=='B'][['mean_revenue']])\n",
    "H0 = 'Распределения в обеих группах являются нормальными'\n",
    "H1 = 'Расределения в обеих группах отличны от нормального'\n",
    "alpha = 0.05\n",
    "if shapiro_result_b.pvalue < alpha or shapiro_result_a.pvalue < alpha:\n",
    "    print('Отказываемся от нулевой гипотезы')\n",
    "else:\n",
    "    print('Принимаем нулевую гипотезу')"
   ],
   "metadata": {
    "collapsed": false,
    "pycharm": {
     "name": "#%%\n"
    }
   }
  },
  {
   "cell_type": "code",
   "execution_count": 37,
   "outputs": [],
   "source": [
    "from scipy.stats import mannwhitneyu\n",
    "alpha = 0.1"
   ],
   "metadata": {
    "collapsed": false,
    "pycharm": {
     "name": "#%%\n"
    }
   }
  },
  {
   "cell_type": "code",
   "execution_count": 38,
   "outputs": [
    {
     "data": {
      "text/plain": "0.08937067987846736"
     },
     "execution_count": 38,
     "metadata": {},
     "output_type": "execute_result"
    }
   ],
   "source": [
    "_, p_value = mannwhitneyu(df[df['group']=='A'][['mean_revenue']],df[df['group']=='B'][['mean_revenue']], alternative='less')#используем x<y\n",
    "p_value[0]"
   ],
   "metadata": {
    "collapsed": false,
    "pycharm": {
     "name": "#%%\n"
    }
   }
  },
  {
   "cell_type": "markdown",
   "source": [
    "Доверительные интервалы"
   ],
   "metadata": {
    "collapsed": false,
    "pycharm": {
     "name": "#%% md\n"
    }
   }
  },
  {
   "cell_type": "markdown",
   "source": [
    "Аккумуляторный завод производит батарейки, срок службы которых имеет истинное стандартное отклонение в 2.4 месяца. Средний срок службы батареек в случайной выборке из 64 штук составил 12.35 месяца. Необходимо построить 90 %-ный доверительный интервал для истинного среднего срока службы производимой батарейки и ответить на вопросы заданий ниже."
   ],
   "metadata": {
    "collapsed": false,
    "pycharm": {
     "name": "#%% md\n"
    }
   }
  },
  {
   "cell_type": "code",
   "execution_count": 39,
   "outputs": [],
   "source": [
    "n = 64\n",
    "x_mean = 12.35\n",
    "sigma = 2.4\n",
    "gamma = 0.90\n",
    "alpha = 1 - gamma\n"
   ],
   "metadata": {
    "collapsed": false,
    "pycharm": {
     "name": "#%%\n"
    }
   }
  },
  {
   "cell_type": "code",
   "source": [
    "from scipy.stats import norm\n",
    "def interval(n,x_mean, sigma, gamma, alpha):\n",
    "    z_crit = round(-norm.ppf(alpha/2),2)\n",
    "    eps = z_crit * sigma/(n**0.5)\n",
    "    lower_bound = x_mean - eps\n",
    "    upper_bound = x_mean + eps\n",
    "    confidence_interval = (round(lower_bound,2), round(upper_bound,2))\n",
    "    print('Доверительный интервал: {}'.format(confidence_interval))\n",
    "interval(n, x_mean, sigma, gamma, alpha)"
   ],
   "metadata": {
    "collapsed": false,
    "pycharm": {
     "name": "#%%\n"
    }
   },
   "execution_count": 40,
   "outputs": [
    {
     "name": "stdout",
     "output_type": "stream",
     "text": [
      "Доверительный интервал: (11.86, 12.84)\n"
     ]
    }
   ]
  },
  {
   "cell_type": "code",
   "execution_count": 41,
   "outputs": [
    {
     "data": {
      "text/plain": "1.6448536269514729"
     },
     "execution_count": 41,
     "metadata": {},
     "output_type": "execute_result"
    }
   ],
   "source": [
    "z_crit = -norm.ppf(alpha/2)\n",
    "z_crit"
   ],
   "metadata": {
    "collapsed": false,
    "pycharm": {
     "name": "#%%\n"
    }
   }
  },
  {
   "cell_type": "markdown",
   "source": [
    "Управляющий супермаркета хочет оценить, сколько денег покупатели тратят за один поход в супермаркет в среднем. На основании ранее собранных данных известно, что расходы одного покупателя распределены приблизительно нормально. Управляющий взял случайную выборку из 15 покупателей и выяснил, что их средние расходы равны 2 000 рублей, а выборочное стандартное отклонение равно 400 рублей."
   ],
   "metadata": {
    "collapsed": false,
    "pycharm": {
     "name": "#%% md\n"
    }
   }
  },
  {
   "cell_type": "code",
   "execution_count": 42,
   "outputs": [],
   "source": [
    "n = 15 #размер выборки\n",
    "k = n - 1 # число степеней свободы\n",
    "x_mean = 2000 # выборочное среднее\n",
    "x_std = 400 # выборочное стандартное отклонение\n",
    "gamma = 0.95 # уровень надежности\n",
    "alpha = 1 - gamma # уровень значимости"
   ],
   "metadata": {
    "collapsed": false,
    "pycharm": {
     "name": "#%%\n"
    }
   }
  },
  {
   "cell_type": "markdown",
   "source": [
    "Найти значение t-критического для любого уровня значимости можно, используя функцию t.ppf() из модуля scipy.stats. Для этого в функцию передаётся интересующий уровень значимости (alpha/2) и число степеней свободы (k=n-1). Аналогично z-критическому функция возвращает отрицательный модуль t-критического, поэтому мы берём его со знаком минус:"
   ],
   "metadata": {
    "collapsed": false,
    "pycharm": {
     "name": "#%% md\n"
    }
   }
  },
  {
   "cell_type": "code",
   "execution_count": 43,
   "outputs": [],
   "source": [
    "from scipy.stats import t\n",
    "t_crit = -t.ppf(alpha/2, k)# t критическое"
   ],
   "metadata": {
    "collapsed": false,
    "pycharm": {
     "name": "#%%\n"
    }
   }
  },
  {
   "cell_type": "code",
   "execution_count": 44,
   "outputs": [
    {
     "name": "stdout",
     "output_type": "stream",
     "text": [
      "Доверительный интервал: (1778, 2222)\n"
     ]
    }
   ],
   "source": [
    "eps = t_crit * x_std / (n**0.5) # погрешность\n",
    "lower_bound = x_mean - eps # нижняя граница\n",
    "upper_bound = x_mean + eps # верхняя граница\n",
    "confidence_interval = (round(lower_bound), round(upper_bound))# создаем кортеж из округленных границ интервала\n",
    "print('Доверительный интервал: {}'.format(confidence_interval))"
   ],
   "metadata": {
    "collapsed": false,
    "pycharm": {
     "name": "#%%\n"
    }
   }
  },
  {
   "cell_type": "code",
   "execution_count": 79,
   "outputs": [],
   "source": [
    "n = 25\n",
    "k = n - 1\n",
    "x_mean = 3540\n",
    "x_std = 1150\n",
    "gamma = 0.9\n",
    "alpha = 1 - gamma"
   ],
   "metadata": {
    "collapsed": false,
    "pycharm": {
     "name": "#%%\n"
    }
   }
  },
  {
   "cell_type": "code",
   "execution_count": 80,
   "outputs": [
    {
     "name": "stdout",
     "output_type": "stream",
     "text": [
      "Доверительный интервал: (3146.5, 3933.5)\n"
     ]
    }
   ],
   "source": [
    "from scipy.stats import t\n",
    "def interval_x_std(n,x_mean,x_std,gamma=0.9):\n",
    "    alpha = 1 - gamma\n",
    "    t_crit = -t.ppf(alpha/2,k)\n",
    "    eps = t_crit * x_std / (n**0.5) # погрешность\n",
    "    lower_bound = x_mean - eps #нижняя граница\n",
    "    upper_bound = x_mean + eps #верхняя граница\n",
    "    return round(lower_bound,2),round(upper_bound,2)\n",
    "print('Доверительный интервал: {}'.format(interval_x_std(n,x_mean,x_std)))"
   ],
   "metadata": {
    "collapsed": false,
    "pycharm": {
     "name": "#%%\n"
    }
   }
  },
  {
   "cell_type": "markdown",
   "source": [
    "# Доверительный интервал для пропорции"
   ],
   "metadata": {
    "collapsed": false,
    "pycharm": {
     "name": "#%% md\n"
    }
   }
  },
  {
   "cell_type": "code",
   "execution_count": 54,
   "outputs": [
    {
     "data": {
      "text/plain": "   user_id   timestamp group  converted\n0   851104  2017-01-21     A          0\n1   804228  2017-01-12     A          0\n2   661590  2017-01-11     B          0\n3   853541  2017-01-08     B          0\n4   864975  2017-01-21     A          1",
      "text/html": "<div>\n<style scoped>\n    .dataframe tbody tr th:only-of-type {\n        vertical-align: middle;\n    }\n\n    .dataframe tbody tr th {\n        vertical-align: top;\n    }\n\n    .dataframe thead th {\n        text-align: right;\n    }\n</style>\n<table border=\"1\" class=\"dataframe\">\n  <thead>\n    <tr style=\"text-align: right;\">\n      <th></th>\n      <th>user_id</th>\n      <th>timestamp</th>\n      <th>group</th>\n      <th>converted</th>\n    </tr>\n  </thead>\n  <tbody>\n    <tr>\n      <th>0</th>\n      <td>851104</td>\n      <td>2017-01-21</td>\n      <td>A</td>\n      <td>0</td>\n    </tr>\n    <tr>\n      <th>1</th>\n      <td>804228</td>\n      <td>2017-01-12</td>\n      <td>A</td>\n      <td>0</td>\n    </tr>\n    <tr>\n      <th>2</th>\n      <td>661590</td>\n      <td>2017-01-11</td>\n      <td>B</td>\n      <td>0</td>\n    </tr>\n    <tr>\n      <th>3</th>\n      <td>853541</td>\n      <td>2017-01-08</td>\n      <td>B</td>\n      <td>0</td>\n    </tr>\n    <tr>\n      <th>4</th>\n      <td>864975</td>\n      <td>2017-01-21</td>\n      <td>A</td>\n      <td>1</td>\n    </tr>\n  </tbody>\n</table>\n</div>"
     },
     "execution_count": 54,
     "metadata": {},
     "output_type": "execute_result"
    }
   ],
   "source": [
    "ad_data = pd.read_csv('Data/ab_data.csv')\n",
    "ab_data.head()"
   ],
   "metadata": {
    "collapsed": false,
    "pycharm": {
     "name": "#%%\n"
    }
   }
  },
  {
   "cell_type": "code",
   "execution_count": 55,
   "outputs": [],
   "source": [
    "a_data = ab_data[ab_data['group']=='A']\n",
    "b_data = ab_data[ab_data['group']=='B']"
   ],
   "metadata": {
    "collapsed": false,
    "pycharm": {
     "name": "#%%\n"
    }
   }
  },
  {
   "cell_type": "code",
   "execution_count": 56,
   "outputs": [],
   "source": [
    "def proportions_conf_interval(n, x_p, gamma=0.95):\n",
    "    alpha = 1 - gamma\n",
    "    z_crit = -norm.ppf(alpha/2)# z критическое\n",
    "    eps = z_crit * (x_p *(1 - x_p)/n)**0.5# погрешность\n",
    "    lower_bound = x_p - eps # нижняя граница\n",
    "    upper_bound = x_p + eps # верхняя граница\n",
    "    return round(lower_bound*100,2), round(upper_bound*100,2)"
   ],
   "metadata": {
    "collapsed": false,
    "pycharm": {
     "name": "#%%\n"
    }
   }
  },
  {
   "cell_type": "code",
   "execution_count": 57,
   "outputs": [
    {
     "name": "stdout",
     "output_type": "stream",
     "text": [
      "Доверительный интервал для конверсии в группе А: (11.86, 12.19)\n",
      "Доверительный интервал для конверсии в группе B: (11.7, 12.03)\n"
     ]
    }
   ],
   "source": [
    "conf_interval_a = proportions_conf_interval(\n",
    "    n=a_data['user_id'].count(), # размер выборки\n",
    "    x_p=a_data['converted'].mean() # выборочная пропорция\n",
    ")\n",
    "conf_interval_b = proportions_conf_interval(\n",
    "    n=b_data['user_id'].count(), # размер выборки\n",
    "    x_p=b_data['converted'].mean() # выборочная пропорция\n",
    ")\n",
    "print('Доверительный интервал для конверсии в группе А: {}'.format(conf_interval_a))\n",
    "print('Доверительный интервал для конверсии в группе B: {}'.format(conf_interval_b))"
   ],
   "metadata": {
    "collapsed": false,
    "pycharm": {
     "name": "#%%\n"
    }
   }
  },
  {
   "cell_type": "code",
   "execution_count": 68,
   "outputs": [],
   "source": [
    "def diff_proportions_conf_interval(n, xp, gamma=0.95):\n",
    "    alpha = 1 - gamma # уровень значимости\n",
    "    diff = xp[1] - xp[0] # выборочная разница конверсий групп B и A\n",
    "    z_crit = -norm.ppf(alpha/2) # z критическое\n",
    "    eps = z_crit * (xp[0] * (1 - xp[0])/n[0] + xp[1] * (1 - xp[1])/n[1]) ** 0.5 # погрешность\n",
    "    lower_bound = diff - eps # левая (нижняя) граница\n",
    "    upper_bound = diff + eps # правая (верхняя) граница\n",
    "    # возвращаем кортеж из округлённых границ интервала\n",
    "    return round(lower_bound *100, 2), round(upper_bound * 100, 2)"
   ],
   "metadata": {
    "collapsed": false,
    "pycharm": {
     "name": "#%%\n"
    }
   }
  },
  {
   "cell_type": "code",
   "execution_count": 69,
   "outputs": [
    {
     "name": "stdout",
     "output_type": "stream",
     "text": [
      "Доверительный интервал для разности конверсий: (-0.39, 0.08)\n"
     ]
    }
   ],
   "source": [
    "# размеры выборок групп А и B\n",
    "n = [a_data['user_id'].count(), b_data['user_id'].count()]\n",
    "# выборочная пропорция групп A и B\n",
    "xp = [a_data['converted'].mean(), b_data['converted'].mean()]\n",
    "# строим доверительный интервал для разности конверсий\n",
    "diff_inverval = diff_proportions_conf_interval(n, xp)\n",
    "print('Доверительный интервал для разности конверсий: {}'.format(diff_inverval))"
   ],
   "metadata": {
    "collapsed": false,
    "pycharm": {
     "name": "#%%\n"
    }
   }
  },
  {
   "cell_type": "markdown",
   "source": [
    "То есть разница в конверсии с 95% надежностью может быть как положительной, так и отрицательной. Мы имеем дело с третьим случаем - интервал охватывает точку 0.\n",
    "Отсюда можно сделать вывод, что статистической разницы в конверсии между вариантами A и B не существует, то есть они являются равнозначными по данной метрике."
   ],
   "metadata": {
    "collapsed": false,
    "pycharm": {
     "name": "#%% md\n"
    }
   }
  },
  {
   "cell_type": "markdown",
   "source": [
    "Обычно доверительные интервалы используются в комплексе со статистическими тестами. Статистический тест показывает, значимы ли наши результаты, а доверительный интервал показывает пределы изменения метрик и их разницы в группах."
   ],
   "metadata": {
    "collapsed": false,
    "pycharm": {
     "name": "#%% md\n"
    }
   }
  },
  {
   "cell_type": "code",
   "execution_count": 71,
   "outputs": [],
   "source": [
    "n = 189\n",
    "positive_comments = 132\n",
    "negative_comments = n - positive_comments"
   ],
   "metadata": {
    "collapsed": false,
    "pycharm": {
     "name": "#%%\n"
    }
   }
  },
  {
   "cell_type": "code",
   "execution_count": 73,
   "outputs": [
    {
     "data": {
      "text/plain": "0.698"
     },
     "execution_count": 73,
     "metadata": {},
     "output_type": "execute_result"
    }
   ],
   "source": [
    "round(positive_comments/n,3)"
   ],
   "metadata": {
    "collapsed": false,
    "pycharm": {
     "name": "#%%\n"
    }
   }
  },
  {
   "cell_type": "code",
   "execution_count": 76,
   "outputs": [
    {
     "name": "stdout",
     "output_type": "stream",
     "text": [
      "Доверительный интервал: (64.35, 75.33)\n"
     ]
    }
   ],
   "source": [
    "n = 189\n",
    "n_positive = 132\n",
    "x_p = n_positive/n\n",
    "print('Доверительный интервал: {}'.format(proportions_conf_interval(n, x_p, gamma=0.9))) # положительные отрицательные комментарии / распределение бернулли пользуемся функцией для пропорций"
   ],
   "metadata": {
    "collapsed": false,
    "pycharm": {
     "name": "#%%\n"
    }
   }
  },
  {
   "cell_type": "code",
   "execution_count": 77,
   "outputs": [
    {
     "name": "stdout",
     "output_type": "stream",
     "text": [
      "Доверительный интервал для разности конверсий: (-1.36, 2.36)\n"
     ]
    }
   ],
   "source": [
    "n = [1000, 1000]\n",
    "xp = [45/1000, 50/1000]\n",
    "diff_inverval = diff_proportions_conf_interval(n, xp)\n",
    "print('Доверительный интервал для разности конверсий: {}'.format(diff_inverval))"
   ],
   "metadata": {
    "collapsed": false,
    "pycharm": {
     "name": "#%%\n"
    }
   }
  },
  {
   "cell_type": "code",
   "execution_count": 82,
   "outputs": [],
   "source": [
    "#diff_proportions_conf_interval() # доверительный интервал разницы пропорций\n",
    "#proportions_conf_interval() # доверительный интервал для пропорции\n",
    "#interval() # доверительный интервал для среднего при известном истинном стандартном направлении\n",
    "#interval_x_std() # доверительный интервал для среднего при неизвестном стандартном отклонении"
   ],
   "metadata": {
    "collapsed": false,
    "pycharm": {
     "name": "#%%\n"
    }
   }
  },
  {
   "cell_type": "markdown",
   "source": [
    "Итак, A/B-тестирование проводится для того, чтобы сравнить два (или более) варианта продукта по их эффективности (значениям метрик).\n",
    "Процесс заключается в разделении аудитории на группы и предоставлении каждой группе своего варианта продукта. На протяжении тестирования собираются данные о метриках, и на основании результатов делается вывод, какой из вариантов лучше.\n",
    "A/B-тесты — очень важный инструмент, особенно если ваш продукт основан на взаимодействии с пользователями. Если вы хотите протестировать новую идею, но не знаете, как оценить результат, то A/B-тестирование станет для вас верным другом. Оно позволяет узнать предпочтения ваших пользователей и понять, какие изменения в продукт стоит вводить.\n",
    "Процесс проведения тестирования условно разделяется на следующие этапы, представленные на диаграмме:"
   ],
   "metadata": {
    "collapsed": false,
    "pycharm": {
     "name": "#%% md\n"
    }
   }
  },
  {
   "cell_type": "markdown",
   "source": [
    "# Задача"
   ],
   "metadata": {
    "collapsed": false,
    "pycharm": {
     "name": "#%% md\n"
    }
   }
  },
  {
   "cell_type": "code",
   "execution_count": 83,
   "outputs": [
    {
     "data": {
      "text/plain": "   user_id        date group  purchase   price\n0   851104  2021-01-21     A         0       0\n1   804228  2021-01-12     A         0       0\n2   661590  2021-01-11     B         0       0\n3   853541  2021-01-08     B         0       0\n4   864975  2021-01-21     A         1  150000",
      "text/html": "<div>\n<style scoped>\n    .dataframe tbody tr th:only-of-type {\n        vertical-align: middle;\n    }\n\n    .dataframe tbody tr th {\n        vertical-align: top;\n    }\n\n    .dataframe thead th {\n        text-align: right;\n    }\n</style>\n<table border=\"1\" class=\"dataframe\">\n  <thead>\n    <tr style=\"text-align: right;\">\n      <th></th>\n      <th>user_id</th>\n      <th>date</th>\n      <th>group</th>\n      <th>purchase</th>\n      <th>price</th>\n    </tr>\n  </thead>\n  <tbody>\n    <tr>\n      <th>0</th>\n      <td>851104</td>\n      <td>2021-01-21</td>\n      <td>A</td>\n      <td>0</td>\n      <td>0</td>\n    </tr>\n    <tr>\n      <th>1</th>\n      <td>804228</td>\n      <td>2021-01-12</td>\n      <td>A</td>\n      <td>0</td>\n      <td>0</td>\n    </tr>\n    <tr>\n      <th>2</th>\n      <td>661590</td>\n      <td>2021-01-11</td>\n      <td>B</td>\n      <td>0</td>\n      <td>0</td>\n    </tr>\n    <tr>\n      <th>3</th>\n      <td>853541</td>\n      <td>2021-01-08</td>\n      <td>B</td>\n      <td>0</td>\n      <td>0</td>\n    </tr>\n    <tr>\n      <th>4</th>\n      <td>864975</td>\n      <td>2021-01-21</td>\n      <td>A</td>\n      <td>1</td>\n      <td>150000</td>\n    </tr>\n  </tbody>\n</table>\n</div>"
     },
     "execution_count": 83,
     "metadata": {},
     "output_type": "execute_result"
    }
   ],
   "source": [
    "ab_data = pd.read_csv('Data/ab_data_tourist.csv')\n",
    "ab_data.head()"
   ],
   "metadata": {
    "collapsed": false,
    "pycharm": {
     "name": "#%%\n"
    }
   }
  },
  {
   "cell_type": "code",
   "execution_count": null,
   "outputs": [],
   "source": [],
   "metadata": {
    "collapsed": false,
    "pycharm": {
     "name": "#%%\n"
    }
   }
  }
 ],
 "metadata": {
  "kernelspec": {
   "display_name": "Python 3",
   "language": "python",
   "name": "python3"
  },
  "language_info": {
   "codemirror_mode": {
    "name": "ipython",
    "version": 2
   },
   "file_extension": ".py",
   "mimetype": "text/x-python",
   "name": "python",
   "nbconvert_exporter": "python",
   "pygments_lexer": "ipython2",
   "version": "2.7.6"
  }
 },
 "nbformat": 4,
 "nbformat_minor": 0
}