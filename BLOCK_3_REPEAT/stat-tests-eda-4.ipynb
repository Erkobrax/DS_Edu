{
 "nbformat": 4,
 "nbformat_minor": 0,
 "metadata": {
  "colab": {
   "name": "Статистические_тесты.ipynb",
   "provenance": [],
   "collapsed_sections": []
  },
  "kernelspec": {
   "name": "python3",
   "display_name": "Python 3"
  },
  "language_info": {
   "name": "python"
  }
 },
 "cells": [
  {
   "cell_type": "markdown",
   "source": [
    "# Установка библиотек"
   ],
   "metadata": {
    "id": "OHVffejibt2_"
   }
  },
  {
   "cell_type": "code",
   "execution_count": 148,
   "metadata": {
    "id": "KduVFzA8a6FL",
    "executionInfo": {
     "status": "ok",
     "timestamp": 1642089015807,
     "user_tz": -180,
     "elapsed": 11,
     "user": {
      "displayName": "Ketrin Trofimova",
      "photoUrl": "https://lh3.googleusercontent.com/a/default-user=s64",
      "userId": "05400058012601189465"
     }
    }
   },
   "outputs": [],
   "source": [
    "import pandas as pd #для работы с таблицами\n",
    "import wget"
   ]
  },
  {
   "cell_type": "markdown",
   "source": [
    "Для автоматического применения статистического критерия (теста) используется модуль `stats` библиотеки `scipy`.\n",
    "\n",
    "Этот модуль содержит большое количество вероятностных распределений, корреляционные функции и статистические тесты и многое другое.\n",
    "\n",
    "Также активно используется библиотека `statsmodels`\n",
    "\n",
    "Для установки библиотеки `scipy` и `statsmodels` можно воспользоваться менеджером пакетов `pip`."
   ],
   "metadata": {
    "id": "YulE_s4FcYUK"
   }
  },
  {
   "cell_type": "code",
   "source": [
    "!pip install scipy"
   ],
   "metadata": {
    "colab": {
     "base_uri": "https://localhost:8080/"
    },
    "id": "EcpkUidIb7Am",
    "outputId": "e466151e-f74b-4ef0-ebd5-4de694690977",
    "executionInfo": {
     "status": "ok",
     "timestamp": 1642089019472,
     "user_tz": -180,
     "elapsed": 3673,
     "user": {
      "displayName": "Ketrin Trofimova",
      "photoUrl": "https://lh3.googleusercontent.com/a/default-user=s64",
      "userId": "05400058012601189465"
     }
    }
   },
   "execution_count": 149,
   "outputs": [
    {
     "name": "stdout",
     "output_type": "stream",
     "text": [
      "Requirement already satisfied: scipy in c:\\users\\denis\\anaconda3\\envs\\pythonproject1\\lib\\site-packages (1.7.3)\n",
      "Requirement already satisfied: numpy<1.23.0,>=1.16.5 in c:\\users\\denis\\anaconda3\\envs\\pythonproject1\\lib\\site-packages (from scipy) (1.22.4)\n"
     ]
    }
   ]
  },
  {
   "cell_type": "code",
   "source": [
    "!pip install statsmodels"
   ],
   "metadata": {
    "colab": {
     "base_uri": "https://localhost:8080/"
    },
    "id": "zal3K0H0_qIx",
    "outputId": "367c5445-59a4-4bf5-dc9f-864ec89d0c83",
    "executionInfo": {
     "status": "ok",
     "timestamp": 1642089022318,
     "user_tz": -180,
     "elapsed": 2853,
     "user": {
      "displayName": "Ketrin Trofimova",
      "photoUrl": "https://lh3.googleusercontent.com/a/default-user=s64",
      "userId": "05400058012601189465"
     }
    }
   },
   "execution_count": 150,
   "outputs": [
    {
     "name": "stdout",
     "output_type": "stream",
     "text": [
      "Requirement already satisfied: statsmodels in c:\\users\\denis\\anaconda3\\envs\\pythonproject1\\lib\\site-packages (0.13.2)\n",
      "Requirement already satisfied: scipy>=1.3 in c:\\users\\denis\\anaconda3\\envs\\pythonproject1\\lib\\site-packages (from statsmodels) (1.7.3)\n",
      "Requirement already satisfied: numpy>=1.17 in c:\\users\\denis\\anaconda3\\envs\\pythonproject1\\lib\\site-packages (from statsmodels) (1.22.4)\n",
      "Requirement already satisfied: patsy>=0.5.2 in c:\\users\\denis\\anaconda3\\envs\\pythonproject1\\lib\\site-packages (from statsmodels) (0.5.2)\n",
      "Requirement already satisfied: pandas>=0.25 in c:\\users\\denis\\anaconda3\\envs\\pythonproject1\\lib\\site-packages (from statsmodels) (1.4.3)\n",
      "Requirement already satisfied: packaging>=21.3 in c:\\users\\denis\\anaconda3\\envs\\pythonproject1\\lib\\site-packages (from statsmodels) (21.3)\n",
      "Requirement already satisfied: pyparsing!=3.0.5,>=2.0.2 in c:\\users\\denis\\anaconda3\\envs\\pythonproject1\\lib\\site-packages (from packaging>=21.3->statsmodels) (3.0.9)\n",
      "Requirement already satisfied: python-dateutil>=2.8.1 in c:\\users\\denis\\anaconda3\\envs\\pythonproject1\\lib\\site-packages (from pandas>=0.25->statsmodels) (2.8.2)\n",
      "Requirement already satisfied: pytz>=2020.1 in c:\\users\\denis\\anaconda3\\envs\\pythonproject1\\lib\\site-packages (from pandas>=0.25->statsmodels) (2022.1)\n",
      "Requirement already satisfied: six in c:\\users\\denis\\anaconda3\\envs\\pythonproject1\\lib\\site-packages (from patsy>=0.5.2->statsmodels) (1.16.0)\n"
     ]
    }
   ]
  },
  {
   "cell_type": "markdown",
   "source": [
    "\n",
    "# Загрузка данных"
   ],
   "metadata": {
    "id": "-vBWXginfhcC"
   }
  },
  {
   "cell_type": "markdown",
   "source": [
    "Для скачивания данных используем команду `!wget`. \n",
    "\n",
    "Данные появятся в локальной директории.\n",
    "\n",
    "Мы будем использовать информацию о диаметре пицц разных производителей."
   ],
   "metadata": {
    "id": "2dThpRAafkwo"
   }
  },
  {
   "cell_type": "code",
   "execution_count": 151,
   "outputs": [],
   "source": [
    "pizza = wget.download('https://raw.githubusercontent.com/harika-bonthu/Hypothesis-test-examples/main/pizzas.csv')"
   ],
   "metadata": {
    "collapsed": false,
    "pycharm": {
     "name": "#%%\n"
    }
   }
  },
  {
   "cell_type": "code",
   "source": [
    "#!wget https://raw.githubusercontent.com/harika-bonthu/Hypothesis-test-examples/main/pizzas.csv"
   ],
   "metadata": {
    "colab": {
     "base_uri": "https://localhost:8080/"
    },
    "id": "KNT0oXUSdTDp",
    "outputId": "de064fcb-e1f5-41d7-beef-7c976ad89f30"
   },
   "execution_count": 152,
   "outputs": []
  },
  {
   "cell_type": "markdown",
   "source": [
    "Загрузим данные в память ноутбука."
   ],
   "metadata": {
    "id": "vCArXsDrfy2H"
   }
  },
  {
   "cell_type": "code",
   "source": [
    "data = pd.read_csv(pizza)"
   ],
   "metadata": {
    "id": "g_Ew2HTZfyOF"
   },
   "execution_count": 153,
   "outputs": []
  },
  {
   "cell_type": "code",
   "source": [
    "data.rename(columns={'Making Unit 1': 'Пиццерия №1', 'Making Unit 2': 'Пиццерия №2'}, inplace=True)"
   ],
   "metadata": {
    "id": "vM38BV_KsBBR"
   },
   "execution_count": 154,
   "outputs": []
  },
  {
   "cell_type": "code",
   "source": [
    "data.head()"
   ],
   "metadata": {
    "colab": {
     "base_uri": "https://localhost:8080/",
     "height": 205
    },
    "id": "1q4YmSNvgokX",
    "outputId": "89c8db8e-c014-4869-e7f5-819cd9dddb44"
   },
   "execution_count": 155,
   "outputs": [
    {
     "data": {
      "text/plain": "   Пиццерия №1  Пиццерия №2\n0       6.8090       6.7703\n1       6.4376       7.5093\n2       6.9157       6.7300\n3       7.3012       6.7878\n4       7.4488       7.1522",
      "text/html": "<div>\n<style scoped>\n    .dataframe tbody tr th:only-of-type {\n        vertical-align: middle;\n    }\n\n    .dataframe tbody tr th {\n        vertical-align: top;\n    }\n\n    .dataframe thead th {\n        text-align: right;\n    }\n</style>\n<table border=\"1\" class=\"dataframe\">\n  <thead>\n    <tr style=\"text-align: right;\">\n      <th></th>\n      <th>Пиццерия №1</th>\n      <th>Пиццерия №2</th>\n    </tr>\n  </thead>\n  <tbody>\n    <tr>\n      <th>0</th>\n      <td>6.8090</td>\n      <td>6.7703</td>\n    </tr>\n    <tr>\n      <th>1</th>\n      <td>6.4376</td>\n      <td>7.5093</td>\n    </tr>\n    <tr>\n      <th>2</th>\n      <td>6.9157</td>\n      <td>6.7300</td>\n    </tr>\n    <tr>\n      <th>3</th>\n      <td>7.3012</td>\n      <td>6.7878</td>\n    </tr>\n    <tr>\n      <th>4</th>\n      <td>7.4488</td>\n      <td>7.1522</td>\n    </tr>\n  </tbody>\n</table>\n</div>"
     },
     "execution_count": 155,
     "metadata": {},
     "output_type": "execute_result"
    }
   ]
  },
  {
   "cell_type": "markdown",
   "source": [
    "# Проверка данных на нормальность\n"
   ],
   "metadata": {
    "id": "W7hG5sEM2lmb"
   }
  },
  {
   "cell_type": "code",
   "source": [
    "H0 = 'Данные распределены нормально'\n",
    "Ha = 'Данные не распределены нормально (мы отвергаем H0)'"
   ],
   "metadata": {
    "id": "I9M0a3qn2QIw"
   },
   "execution_count": 156,
   "outputs": []
  },
  {
   "cell_type": "markdown",
   "source": [
    "Установим уровень значимости"
   ],
   "metadata": {
    "id": "0VR1hwcS3J7Y"
   }
  },
  {
   "cell_type": "code",
   "source": [
    "alpha = 0.05"
   ],
   "metadata": {
    "id": "4Kh4PVmV3MfS"
   },
   "execution_count": 157,
   "outputs": []
  },
  {
   "cell_type": "markdown",
   "source": [
    "## Тест Шапиро-Уилка"
   ],
   "metadata": {
    "id": "pCXYmT6Ix2H1"
   }
  },
  {
   "cell_type": "code",
   "source": [
    "from scipy.stats import shapiro"
   ],
   "metadata": {
    "id": "H7xzCLs03M7v"
   },
   "execution_count": 158,
   "outputs": []
  },
  {
   "cell_type": "code",
   "source": [
    "_, p = shapiro(data)\n",
    "print('p=%.3f' % p)\n",
    "\n",
    "# Интерпретация \n",
    "\n",
    "if p > alpha:\n",
    "\tprint(H0)\n",
    "else:\n",
    "\tprint(Ha)"
   ],
   "metadata": {
    "id": "z62NREnsx7sn",
    "colab": {
     "base_uri": "https://localhost:8080/"
    },
    "outputId": "518c1650-ed6e-46c6-c385-9a9111d5de9d"
   },
   "execution_count": 159,
   "outputs": [
    {
     "name": "stdout",
     "output_type": "stream",
     "text": [
      "p=0.204\n",
      "Данные распределены нормально\n"
     ]
    }
   ]
  },
  {
   "cell_type": "code",
   "execution_count": 160,
   "outputs": [
    {
     "data": {
      "text/plain": "ShapiroResult(statistic=0.9762489795684814, pvalue=0.2044535130262375)"
     },
     "execution_count": 160,
     "metadata": {},
     "output_type": "execute_result"
    }
   ],
   "source": [
    "shapiro(data)"
   ],
   "metadata": {
    "collapsed": false,
    "pycharm": {
     "name": "#%%\n"
    }
   }
  },
  {
   "cell_type": "markdown",
   "source": [
    "## Тест Д’Агостино"
   ],
   "metadata": {
    "id": "ZUTL3OctykmR"
   }
  },
  {
   "cell_type": "code",
   "source": [
    "from scipy.stats import normaltest"
   ],
   "metadata": {
    "id": "V3rmWxUTyl_y"
   },
   "execution_count": 161,
   "outputs": []
  },
  {
   "cell_type": "code",
   "source": [
    "_, p = normaltest(data)\n",
    "#normaltest возвращает двустороннюю вероятность для проверки гипотезы\n",
    "\n",
    "print('p=%.3f' % p[0])\n",
    "\n",
    "# Интерпретация \n",
    "\n",
    "if p[0] > alpha/2:\n",
    "\tprint(H0)\n",
    "else:\n",
    "\tprint(Ha)"
   ],
   "metadata": {
    "colab": {
     "base_uri": "https://localhost:8080/"
    },
    "id": "W4Ma9jelyqbB",
    "outputId": "07969fa9-790e-46ec-8f25-27b1bff2476b"
   },
   "execution_count": 162,
   "outputs": [
    {
     "name": "stdout",
     "output_type": "stream",
     "text": [
      "p=0.251\n",
      "Данные распределены нормально\n"
     ]
    }
   ]
  },
  {
   "cell_type": "markdown",
   "source": [
    "# Независимый T-тест "
   ],
   "metadata": {
    "id": "MFtBDbQq1-vE"
   }
  },
  {
   "cell_type": "code",
   "source": [
    "from scipy.stats import ttest_ind"
   ],
   "metadata": {
    "id": "1028Lbas2CZ5"
   },
   "execution_count": 163,
   "outputs": []
  },
  {
   "cell_type": "code",
   "source": [
    "H0 = 'Нет значимой разницы между диаметрами пиццы в разных пиццериях.'\n",
    "Ha = 'Есть значимая разница между диаметрами пиццы в разных пиццериях.'"
   ],
   "metadata": {
    "id": "52VDODJB2KGN"
   },
   "execution_count": 164,
   "outputs": []
  },
  {
   "cell_type": "markdown",
   "source": [
    "Зависимая переменная (диаметр пиццы) является количественной. Группы происходят из разных совокупностей. Следовательно, мы используем независимый T-тест."
   ],
   "metadata": {
    "id": "pLNOEbxd2-WH"
   }
  },
  {
   "cell_type": "code",
   "source": [
    "def t_test(df):\n",
    "    print('\\n' + \"*** Результаты независимого T-теста ***\")\n",
    "    test_results = ttest_ind(data['Пиццерия №1'], data['Пиццерия №2'], equal_var=True)\n",
    "\n",
    "    p = round(test_results[1],2)\n",
    "\n",
    "    if p>alpha:\n",
    "        print(f\"{p} > {alpha}. Мы не можем отвергнуть нулевую гипотезу. {H0}\")\n",
    "    else:\n",
    "        print(f\"{p} <= {alpha}. Мы отвергаем нулевую гипотезу. {Ha}\")\n",
    "\n",
    "t_test(data)"
   ],
   "metadata": {
    "colab": {
     "base_uri": "https://localhost:8080/"
    },
    "id": "RCu5a6lv2un8",
    "outputId": "a6e72439-f1e9-4c64-df81-5cee7be10ebe"
   },
   "execution_count": 165,
   "outputs": [
    {
     "name": "stdout",
     "output_type": "stream",
     "text": [
      "\n",
      "*** Результаты независимого T-теста ***\n",
      "0.47 > 0.05. Мы не можем отвергнуть нулевую гипотезу. Нет значимой разницы между диаметрами пиццы в разных пиццериях.\n"
     ]
    }
   ]
  },
  {
   "cell_type": "markdown",
   "source": [
    "-----"
   ],
   "metadata": {
    "id": "QDXPsLmx9tg7"
   }
  },
  {
   "cell_type": "markdown",
   "source": [
    "# Корреляция Спирмана "
   ],
   "metadata": {
    "id": "6zjJNCzMBpYY"
   }
  },
  {
   "cell_type": "code",
   "source": [
    "from numpy.random import rand\n",
    "from scipy.stats import spearmanr\n",
    "\n",
    "data1 = rand(1000) * 20\n",
    "data2 = data1 + (rand(1000) * 10)\n",
    "\n",
    "\n",
    "corr, p = spearmanr(data1, data2)"
   ],
   "metadata": {
    "id": "etkN4gIJBsCz"
   },
   "execution_count": 166,
   "outputs": []
  },
  {
   "cell_type": "code",
   "source": [
    "print(corr,p)"
   ],
   "metadata": {
    "colab": {
     "base_uri": "https://localhost:8080/"
    },
    "id": "2MEO85JnCJMT",
    "outputId": "10172228-ad15-4bbd-aab9-b970d1a3b0b4"
   },
   "execution_count": 167,
   "outputs": [
    {
     "name": "stdout",
     "output_type": "stream",
     "text": [
      "0.8994301074301074 0.0\n"
     ]
    }
   ]
  },
  {
   "cell_type": "code",
   "source": [
    "if p>alpha:\n",
    "    print(f\"{p} > {alpha}. Мы не можем отвергнуть нулевую гипотезу об отсутсвии зависимости между переменными.\")\n",
    "else:\n",
    "    print(f\"{p} <= {alpha}. Мы отвергаем нулевую гипотезу об отсутсвии зависимости между переменными.\")"
   ],
   "metadata": {
    "colab": {
     "base_uri": "https://localhost:8080/"
    },
    "id": "Q2ecofJHB8Vl",
    "outputId": "4c5ffcfe-ecdd-4440-a888-7c8ebd5e9979"
   },
   "execution_count": 168,
   "outputs": [
    {
     "name": "stdout",
     "output_type": "stream",
     "text": [
      "0.0 <= 0.05. Мы отвергаем нулевую гипотезу об отсутсвии зависимости между переменными.\n"
     ]
    }
   ]
  },
  {
   "cell_type": "markdown",
   "source": [
    "# ANOVA тест"
   ],
   "metadata": {
    "id": "_-iLGwp49yMV"
   }
  },
  {
   "cell_type": "code",
   "source": [
    "from scipy.stats import f_oneway"
   ],
   "metadata": {
    "id": "u6gdyAIW9tAE"
   },
   "execution_count": 169,
   "outputs": []
  },
  {
   "cell_type": "markdown",
   "source": [
    "Однофакторный дисперсионный анализ ANOVA проверяет нулевую гипотезу о том, что две или более групп имеют одинаковое среднее значение генеральной совокупности."
   ],
   "metadata": {
    "id": "CC4QRciQ9_Sa"
   }
  },
  {
   "cell_type": "markdown",
   "source": [
    "В качестве данных возьмем информацию по размерам раковины мидий, выращенных в разных местах."
   ],
   "metadata": {
    "id": "vZrfJBaVDNRQ"
   }
  },
  {
   "cell_type": "code",
   "source": [
    "petersburg = [0.0974, 0.1352, 0.0817, 0.1016, 0.0968, 0.1064, 0.105]\n",
    "magadan = [0.1033, 0.0915, 0.0781, 0.0685, 0.0677, 0.0697, 0.0764,\n",
    "           0.0689]\n",
    "tvarminne = [0.0703, 0.1026, 0.0956, 0.0973, 0.1039, 0.1045]"
   ],
   "metadata": {
    "id": "wZBbsO6891Vo"
   },
   "execution_count": 170,
   "outputs": []
  },
  {
   "cell_type": "code",
   "source": [
    "_, p = f_oneway(petersburg, magadan, tvarminne)"
   ],
   "metadata": {
    "id": "ln2515HB9wjm"
   },
   "execution_count": 171,
   "outputs": []
  },
  {
   "cell_type": "code",
   "source": [
    "H0 = 'Нет значимой разницы между средним размером раковины мидий в трех разных местах.'\n",
    "Ha = 'Есть значимая разница между средним размером раковины мидий в трех разных местах.'"
   ],
   "metadata": {
    "id": "8yIxIJab-p6X"
   },
   "execution_count": 172,
   "outputs": []
  },
  {
   "cell_type": "code",
   "source": [
    "if p>alpha:\n",
    "  print(f\"{p} > {alpha}. Мы не можем отвергнуть нулевую гипотезу. {H0}\")\n",
    "else:\n",
    "  print(f\"{p} <= {alpha}. Мы отвергаем нулевую гипотезу. {Ha}\")"
   ],
   "metadata": {
    "colab": {
     "base_uri": "https://localhost:8080/"
    },
    "id": "b5y6tsPt-ckX",
    "outputId": "4c59ad3e-10a4-4b22-e57f-a19a462a2a25"
   },
   "execution_count": 173,
   "outputs": [
    {
     "name": "stdout",
     "output_type": "stream",
     "text": [
      "0.007870900547143829 <= 0.05. Мы отвергаем нулевую гипотезу. Есть значимая разница между средним размером раковины мидий в трех разных местах.\n"
     ]
    }
   ]
  },
  {
   "cell_type": "markdown",
   "source": [
    "_____"
   ],
   "metadata": {
    "id": "EMcz-XTVC3lJ"
   }
  },
  {
   "cell_type": "markdown",
   "source": [
    "# Домашнее задание"
   ],
   "metadata": {
    "id": "6D6X-qaiC41B"
   }
  },
  {
   "cell_type": "markdown",
   "source": [
    "Используя информацию по мидиям Петербурга и Магадана, которые представлены в виде двух массивов petersburg и magadan в разделе ANOVA тест, проверьте данные на нормальность и на наличие корреляции. Для этого объедините 2 массива в DataFrame. Обоснуйте выбор теста на корреляцию. Сделайте вывод по гипотезе.\n",
    " \n",
    " \n",
    "Также ответьте на вопрос:\n",
    "Какова разница в среднем размере мидии в зависимости от города-производителя. Обоснуйте выбор теста. Сделайте вывод по гипотезе.\n"
   ],
   "metadata": {
    "id": "9LRTnw71DHUf"
   }
  },
  {
   "cell_type": "code",
   "execution_count": 174,
   "outputs": [],
   "source": [
    "petersburg = [0.0974, 0.1352, 0.0817, 0.1016, 0.0968, 0.1064, 0.105]\n",
    "magadan = [0.1033, 0.0915, 0.0781, 0.0685, 0.0677, 0.0697, 0.0764,\n",
    "           0.0689]"
   ],
   "metadata": {
    "collapsed": false,
    "pycharm": {
     "name": "#%%\n"
    }
   }
  },
  {
   "cell_type": "code",
   "execution_count": 175,
   "outputs": [
    {
     "name": "stdout",
     "output_type": "stream",
     "text": [
      "7 8\n"
     ]
    }
   ],
   "source": [
    "print(len(petersburg), len(magadan))"
   ],
   "metadata": {
    "collapsed": false,
    "pycharm": {
     "name": "#%%\n"
    }
   }
  },
  {
   "cell_type": "code",
   "execution_count": 184,
   "outputs": [],
   "source": [
    "df_1 = pd.DataFrame(petersburg, columns=['Petersburg'])\n",
    "df_2 = pd.DataFrame(magadan, columns=['Magadan'])\n",
    "df = df_2.merge(df_1,how='outer', left_index=True, right_index=True)\n",
    "df.dropna(inplace=True)\n",
    "#df_2 = pd.DataFrame([magadan,petersburg], columns=[['Petersburg'],['Magadan']])"
   ],
   "metadata": {
    "collapsed": false,
    "pycharm": {
     "name": "#%%\n"
    }
   }
  },
  {
   "cell_type": "code",
   "execution_count": 185,
   "outputs": [
    {
     "name": "stdout",
     "output_type": "stream",
     "text": [
      "p=0.226\n",
      "Данные распределены нормально\n"
     ]
    }
   ],
   "source": [
    "H0 = 'Данные распределены нормально'\n",
    "Ha = 'Данные не распределены нормально (мы отвергаем H0)'\n",
    "_, p = shapiro(df)\n",
    "print('p=%.3f' % p)\n",
    "\n",
    "# Интерпретация\n",
    "\n",
    "if p > alpha:\n",
    "\tprint(H0)\n",
    "else:\n",
    "\tprint(Ha)"
   ],
   "metadata": {
    "collapsed": false,
    "pycharm": {
     "name": "#%%\n"
    }
   }
  },
  {
   "cell_type": "markdown",
   "source": [
    "Используем корреляцию Пирсона, потому что размеры мидий являются двумя непрерывными переменными.\n"
   ],
   "metadata": {
    "collapsed": false,
    "pycharm": {
     "name": "#%% md\n"
    }
   }
  },
  {
   "cell_type": "code",
   "execution_count": 186,
   "outputs": [
    {
     "data": {
      "text/plain": "             Magadan  Petersburg\nMagadan     1.000000    0.255095\nPetersburg  0.255095    1.000000",
      "text/html": "<div>\n<style scoped>\n    .dataframe tbody tr th:only-of-type {\n        vertical-align: middle;\n    }\n\n    .dataframe tbody tr th {\n        vertical-align: top;\n    }\n\n    .dataframe thead th {\n        text-align: right;\n    }\n</style>\n<table border=\"1\" class=\"dataframe\">\n  <thead>\n    <tr style=\"text-align: right;\">\n      <th></th>\n      <th>Magadan</th>\n      <th>Petersburg</th>\n    </tr>\n  </thead>\n  <tbody>\n    <tr>\n      <th>Magadan</th>\n      <td>1.000000</td>\n      <td>0.255095</td>\n    </tr>\n    <tr>\n      <th>Petersburg</th>\n      <td>0.255095</td>\n      <td>1.000000</td>\n    </tr>\n  </tbody>\n</table>\n</div>"
     },
     "execution_count": 186,
     "metadata": {},
     "output_type": "execute_result"
    }
   ],
   "source": [
    "df.corr(method='pearson')"
   ],
   "metadata": {
    "collapsed": false,
    "pycharm": {
     "name": "#%%\n"
    }
   }
  },
  {
   "cell_type": "markdown",
   "source": [
    "Зависимая переменная (размер ракушки) является количественной. Группы происходят из разных совокупностей. Следовательно, мы используем независимый T-тест.\n"
   ],
   "metadata": {
    "collapsed": false,
    "pycharm": {
     "name": "#%% md\n"
    }
   }
  },
  {
   "cell_type": "code",
   "execution_count": 198,
   "outputs": [
    {
     "name": "stdout",
     "output_type": "stream",
     "text": [
      "\n",
      "*** Результаты независимого T-теста ***\n",
      "0.01 <= 0.05. Мы отвергаем нулевую гипотезу. Есть значимая разница между размерами мидий\n",
      "0.024129 разница между средним размерам мидий\n"
     ]
    }
   ],
   "source": [
    "H0 = 'Нет значимой разницы между размерами мидий'\n",
    "H1 = 'Есть значимая разница между размерами мидий'\n",
    "def t_test(df):\n",
    "    print('\\n' + \"*** Результаты независимого T-теста ***\")\n",
    "    test_results = ttest_ind(df['Magadan'], df['Petersburg'], equal_var=True)\n",
    "\n",
    "    p = round(test_results[1],2)\n",
    "\n",
    "    if p>alpha:\n",
    "        print(f\"{p} > {alpha}. Мы не можем отвергнуть нулевую гипотезу. {H0}\")\n",
    "    else:\n",
    "        print(f\"{p} <= {alpha}. Мы отвергаем нулевую гипотезу. {H1}\")\n",
    "        print(round(abs(df['Magadan'].mean()-df['Petersburg'].mean()),6), 'разница между средним размерам мидий')\n",
    "\n",
    "t_test(df)"
   ],
   "metadata": {
    "collapsed": false,
    "pycharm": {
     "name": "#%%\n"
    }
   }
  },
  {
   "cell_type": "markdown",
   "source": [
    "# Бонус"
   ],
   "metadata": {
    "id": "QStt6SskWs6T"
   }
  },
  {
   "cell_type": "markdown",
   "source": [
    "Скачаем датасет, содержащий информацию по давлению 120 человек.\n",
    "\n"
   ],
   "metadata": {
    "id": "mIS-m13WW66R"
   }
  },
  {
   "cell_type": "code",
   "source": [
    "#!wget https://raw.githubusercontent.com/yug95/MachineLearning/master/Hypothesis%20testing/blood_pressure.csv\n",
    "blood_pressure = wget.download('https://raw.githubusercontent.com/yug95/MachineLearning/master/Hypothesis%20testing/blood_pressure.csv')"
   ],
   "metadata": {
    "colab": {
     "base_uri": "https://localhost:8080/"
    },
    "id": "s97bH1NtYJW6",
    "executionInfo": {
     "status": "ok",
     "timestamp": 1642089015805,
     "user_tz": -180,
     "elapsed": 30,
     "user": {
      "displayName": "Ketrin Trofimova",
      "photoUrl": "https://lh3.googleusercontent.com/a/default-user=s64",
      "userId": "05400058012601189465"
     }
    },
    "outputId": "31eb5ee7-8235-4167-b82c-a22ad2200965"
   },
   "execution_count": 180,
   "outputs": [
    {
     "ename": "HTTPError",
     "evalue": "HTTP Error 404: Not Found",
     "output_type": "error",
     "traceback": [
      "\u001B[1;31m---------------------------------------------------------------------------\u001B[0m",
      "\u001B[1;31mHTTPError\u001B[0m                                 Traceback (most recent call last)",
      "Input \u001B[1;32mIn [180]\u001B[0m, in \u001B[0;36m<cell line: 2>\u001B[1;34m()\u001B[0m\n\u001B[0;32m      1\u001B[0m \u001B[38;5;66;03m#!wget https://raw.githubusercontent.com/yug95/MachineLearning/master/Hypothesis%20testing/blood_pressure.csv\u001B[39;00m\n\u001B[1;32m----> 2\u001B[0m blood_pressure \u001B[38;5;241m=\u001B[39m \u001B[43mwget\u001B[49m\u001B[38;5;241;43m.\u001B[39;49m\u001B[43mdownload\u001B[49m\u001B[43m(\u001B[49m\u001B[38;5;124;43m'\u001B[39;49m\u001B[38;5;124;43mhttps://raw.githubusercontent.com/yug95/MachineLearning/master/Hypothesis\u001B[39;49m\u001B[38;5;124;43m%\u001B[39;49m\u001B[38;5;124;43m20testing/blood_pressure.csv\u001B[39;49m\u001B[38;5;124;43m'\u001B[39;49m\u001B[43m)\u001B[49m\n",
      "File \u001B[1;32m~\\anaconda3\\envs\\pythonProject1\\lib\\site-packages\\wget.py:526\u001B[0m, in \u001B[0;36mdownload\u001B[1;34m(url, out, bar)\u001B[0m\n\u001B[0;32m    524\u001B[0m \u001B[38;5;28;01melse\u001B[39;00m:\n\u001B[0;32m    525\u001B[0m     binurl \u001B[38;5;241m=\u001B[39m url\n\u001B[1;32m--> 526\u001B[0m (tmpfile, headers) \u001B[38;5;241m=\u001B[39m \u001B[43mulib\u001B[49m\u001B[38;5;241;43m.\u001B[39;49m\u001B[43murlretrieve\u001B[49m\u001B[43m(\u001B[49m\u001B[43mbinurl\u001B[49m\u001B[43m,\u001B[49m\u001B[43m \u001B[49m\u001B[43mtmpfile\u001B[49m\u001B[43m,\u001B[49m\u001B[43m \u001B[49m\u001B[43mcallback\u001B[49m\u001B[43m)\u001B[49m\n\u001B[0;32m    527\u001B[0m filename \u001B[38;5;241m=\u001B[39m detect_filename(url, out, headers)\n\u001B[0;32m    528\u001B[0m \u001B[38;5;28;01mif\u001B[39;00m outdir:\n",
      "File \u001B[1;32m~\\anaconda3\\envs\\pythonProject1\\lib\\urllib\\request.py:241\u001B[0m, in \u001B[0;36murlretrieve\u001B[1;34m(url, filename, reporthook, data)\u001B[0m\n\u001B[0;32m    224\u001B[0m \u001B[38;5;124;03m\"\"\"\u001B[39;00m\n\u001B[0;32m    225\u001B[0m \u001B[38;5;124;03mRetrieve a URL into a temporary location on disk.\u001B[39;00m\n\u001B[0;32m    226\u001B[0m \n\u001B[1;32m   (...)\u001B[0m\n\u001B[0;32m    237\u001B[0m \u001B[38;5;124;03mdata file as well as the resulting HTTPMessage object.\u001B[39;00m\n\u001B[0;32m    238\u001B[0m \u001B[38;5;124;03m\"\"\"\u001B[39;00m\n\u001B[0;32m    239\u001B[0m url_type, path \u001B[38;5;241m=\u001B[39m _splittype(url)\n\u001B[1;32m--> 241\u001B[0m \u001B[38;5;28;01mwith\u001B[39;00m contextlib\u001B[38;5;241m.\u001B[39mclosing(\u001B[43murlopen\u001B[49m\u001B[43m(\u001B[49m\u001B[43murl\u001B[49m\u001B[43m,\u001B[49m\u001B[43m \u001B[49m\u001B[43mdata\u001B[49m\u001B[43m)\u001B[49m) \u001B[38;5;28;01mas\u001B[39;00m fp:\n\u001B[0;32m    242\u001B[0m     headers \u001B[38;5;241m=\u001B[39m fp\u001B[38;5;241m.\u001B[39minfo()\n\u001B[0;32m    244\u001B[0m     \u001B[38;5;66;03m# Just return the local path and the \"headers\" for file://\u001B[39;00m\n\u001B[0;32m    245\u001B[0m     \u001B[38;5;66;03m# URLs. No sense in performing a copy unless requested.\u001B[39;00m\n",
      "File \u001B[1;32m~\\anaconda3\\envs\\pythonProject1\\lib\\urllib\\request.py:216\u001B[0m, in \u001B[0;36murlopen\u001B[1;34m(url, data, timeout, cafile, capath, cadefault, context)\u001B[0m\n\u001B[0;32m    214\u001B[0m \u001B[38;5;28;01melse\u001B[39;00m:\n\u001B[0;32m    215\u001B[0m     opener \u001B[38;5;241m=\u001B[39m _opener\n\u001B[1;32m--> 216\u001B[0m \u001B[38;5;28;01mreturn\u001B[39;00m \u001B[43mopener\u001B[49m\u001B[38;5;241;43m.\u001B[39;49m\u001B[43mopen\u001B[49m\u001B[43m(\u001B[49m\u001B[43murl\u001B[49m\u001B[43m,\u001B[49m\u001B[43m \u001B[49m\u001B[43mdata\u001B[49m\u001B[43m,\u001B[49m\u001B[43m \u001B[49m\u001B[43mtimeout\u001B[49m\u001B[43m)\u001B[49m\n",
      "File \u001B[1;32m~\\anaconda3\\envs\\pythonProject1\\lib\\urllib\\request.py:525\u001B[0m, in \u001B[0;36mOpenerDirector.open\u001B[1;34m(self, fullurl, data, timeout)\u001B[0m\n\u001B[0;32m    523\u001B[0m \u001B[38;5;28;01mfor\u001B[39;00m processor \u001B[38;5;129;01min\u001B[39;00m \u001B[38;5;28mself\u001B[39m\u001B[38;5;241m.\u001B[39mprocess_response\u001B[38;5;241m.\u001B[39mget(protocol, []):\n\u001B[0;32m    524\u001B[0m     meth \u001B[38;5;241m=\u001B[39m \u001B[38;5;28mgetattr\u001B[39m(processor, meth_name)\n\u001B[1;32m--> 525\u001B[0m     response \u001B[38;5;241m=\u001B[39m \u001B[43mmeth\u001B[49m\u001B[43m(\u001B[49m\u001B[43mreq\u001B[49m\u001B[43m,\u001B[49m\u001B[43m \u001B[49m\u001B[43mresponse\u001B[49m\u001B[43m)\u001B[49m\n\u001B[0;32m    527\u001B[0m \u001B[38;5;28;01mreturn\u001B[39;00m response\n",
      "File \u001B[1;32m~\\anaconda3\\envs\\pythonProject1\\lib\\urllib\\request.py:634\u001B[0m, in \u001B[0;36mHTTPErrorProcessor.http_response\u001B[1;34m(self, request, response)\u001B[0m\n\u001B[0;32m    631\u001B[0m \u001B[38;5;66;03m# According to RFC 2616, \"2xx\" code indicates that the client's\u001B[39;00m\n\u001B[0;32m    632\u001B[0m \u001B[38;5;66;03m# request was successfully received, understood, and accepted.\u001B[39;00m\n\u001B[0;32m    633\u001B[0m \u001B[38;5;28;01mif\u001B[39;00m \u001B[38;5;129;01mnot\u001B[39;00m (\u001B[38;5;241m200\u001B[39m \u001B[38;5;241m<\u001B[39m\u001B[38;5;241m=\u001B[39m code \u001B[38;5;241m<\u001B[39m \u001B[38;5;241m300\u001B[39m):\n\u001B[1;32m--> 634\u001B[0m     response \u001B[38;5;241m=\u001B[39m \u001B[38;5;28;43mself\u001B[39;49m\u001B[38;5;241;43m.\u001B[39;49m\u001B[43mparent\u001B[49m\u001B[38;5;241;43m.\u001B[39;49m\u001B[43merror\u001B[49m\u001B[43m(\u001B[49m\n\u001B[0;32m    635\u001B[0m \u001B[43m        \u001B[49m\u001B[38;5;124;43m'\u001B[39;49m\u001B[38;5;124;43mhttp\u001B[39;49m\u001B[38;5;124;43m'\u001B[39;49m\u001B[43m,\u001B[49m\u001B[43m \u001B[49m\u001B[43mrequest\u001B[49m\u001B[43m,\u001B[49m\u001B[43m \u001B[49m\u001B[43mresponse\u001B[49m\u001B[43m,\u001B[49m\u001B[43m \u001B[49m\u001B[43mcode\u001B[49m\u001B[43m,\u001B[49m\u001B[43m \u001B[49m\u001B[43mmsg\u001B[49m\u001B[43m,\u001B[49m\u001B[43m \u001B[49m\u001B[43mhdrs\u001B[49m\u001B[43m)\u001B[49m\n\u001B[0;32m    637\u001B[0m \u001B[38;5;28;01mreturn\u001B[39;00m response\n",
      "File \u001B[1;32m~\\anaconda3\\envs\\pythonProject1\\lib\\urllib\\request.py:563\u001B[0m, in \u001B[0;36mOpenerDirector.error\u001B[1;34m(self, proto, *args)\u001B[0m\n\u001B[0;32m    561\u001B[0m \u001B[38;5;28;01mif\u001B[39;00m http_err:\n\u001B[0;32m    562\u001B[0m     args \u001B[38;5;241m=\u001B[39m (\u001B[38;5;28mdict\u001B[39m, \u001B[38;5;124m'\u001B[39m\u001B[38;5;124mdefault\u001B[39m\u001B[38;5;124m'\u001B[39m, \u001B[38;5;124m'\u001B[39m\u001B[38;5;124mhttp_error_default\u001B[39m\u001B[38;5;124m'\u001B[39m) \u001B[38;5;241m+\u001B[39m orig_args\n\u001B[1;32m--> 563\u001B[0m     \u001B[38;5;28;01mreturn\u001B[39;00m \u001B[38;5;28;43mself\u001B[39;49m\u001B[38;5;241;43m.\u001B[39;49m\u001B[43m_call_chain\u001B[49m\u001B[43m(\u001B[49m\u001B[38;5;241;43m*\u001B[39;49m\u001B[43margs\u001B[49m\u001B[43m)\u001B[49m\n",
      "File \u001B[1;32m~\\anaconda3\\envs\\pythonProject1\\lib\\urllib\\request.py:496\u001B[0m, in \u001B[0;36mOpenerDirector._call_chain\u001B[1;34m(self, chain, kind, meth_name, *args)\u001B[0m\n\u001B[0;32m    494\u001B[0m \u001B[38;5;28;01mfor\u001B[39;00m handler \u001B[38;5;129;01min\u001B[39;00m handlers:\n\u001B[0;32m    495\u001B[0m     func \u001B[38;5;241m=\u001B[39m \u001B[38;5;28mgetattr\u001B[39m(handler, meth_name)\n\u001B[1;32m--> 496\u001B[0m     result \u001B[38;5;241m=\u001B[39m \u001B[43mfunc\u001B[49m\u001B[43m(\u001B[49m\u001B[38;5;241;43m*\u001B[39;49m\u001B[43margs\u001B[49m\u001B[43m)\u001B[49m\n\u001B[0;32m    497\u001B[0m     \u001B[38;5;28;01mif\u001B[39;00m result \u001B[38;5;129;01mis\u001B[39;00m \u001B[38;5;129;01mnot\u001B[39;00m \u001B[38;5;28;01mNone\u001B[39;00m:\n\u001B[0;32m    498\u001B[0m         \u001B[38;5;28;01mreturn\u001B[39;00m result\n",
      "File \u001B[1;32m~\\anaconda3\\envs\\pythonProject1\\lib\\urllib\\request.py:643\u001B[0m, in \u001B[0;36mHTTPDefaultErrorHandler.http_error_default\u001B[1;34m(self, req, fp, code, msg, hdrs)\u001B[0m\n\u001B[0;32m    642\u001B[0m \u001B[38;5;28;01mdef\u001B[39;00m \u001B[38;5;21mhttp_error_default\u001B[39m(\u001B[38;5;28mself\u001B[39m, req, fp, code, msg, hdrs):\n\u001B[1;32m--> 643\u001B[0m     \u001B[38;5;28;01mraise\u001B[39;00m HTTPError(req\u001B[38;5;241m.\u001B[39mfull_url, code, msg, hdrs, fp)\n",
      "\u001B[1;31mHTTPError\u001B[0m: HTTP Error 404: Not Found"
     ]
    }
   ]
  },
  {
   "cell_type": "code",
   "source": [
    "data = pd.read_csv(blood_pressure)"
   ],
   "metadata": {
    "id": "ulyWmtYJYlVA",
    "executionInfo": {
     "status": "ok",
     "timestamp": 1642089022319,
     "user_tz": -180,
     "elapsed": 21,
     "user": {
      "displayName": "Ketrin Trofimova",
      "photoUrl": "https://lh3.googleusercontent.com/a/default-user=s64",
      "userId": "05400058012601189465"
     }
    }
   },
   "execution_count": null,
   "outputs": []
  },
  {
   "cell_type": "code",
   "source": [
    "print('Размер выборки: ', data.shape)"
   ],
   "metadata": {
    "colab": {
     "base_uri": "https://localhost:8080/"
    },
    "id": "JqNIeUoGYx-y",
    "executionInfo": {
     "status": "ok",
     "timestamp": 1642089022320,
     "user_tz": -180,
     "elapsed": 17,
     "user": {
      "displayName": "Ketrin Trofimova",
      "photoUrl": "https://lh3.googleusercontent.com/a/default-user=s64",
      "userId": "05400058012601189465"
     }
    },
    "outputId": "706e2c29-aca5-4645-bb55-774aae866431"
   },
   "execution_count": null,
   "outputs": []
  },
  {
   "cell_type": "code",
   "source": [
    "data.head()"
   ],
   "metadata": {
    "colab": {
     "base_uri": "https://localhost:8080/",
     "height": 201
    },
    "id": "BiPeJeI3Y4aN",
    "executionInfo": {
     "status": "ok",
     "timestamp": 1642089023489,
     "user_tz": -180,
     "elapsed": 12,
     "user": {
      "displayName": "Ketrin Trofimova",
      "photoUrl": "https://lh3.googleusercontent.com/a/default-user=s64",
      "userId": "05400058012601189465"
     }
    },
    "outputId": "24171863-2a4b-4a04-c8df-418b698422da"
   },
   "execution_count": null,
   "outputs": []
  },
  {
   "cell_type": "markdown",
   "source": [
    "## Z-тест"
   ],
   "metadata": {
    "id": "4DgsNBXIF7AY"
   }
  },
  {
   "cell_type": "markdown",
   "source": [
    "Проведем Z-тест для проверки двух независимых групп данных на равенство средних значений выборок."
   ],
   "metadata": {
    "id": "-mAQZnC_YZTO"
   }
  },
  {
   "cell_type": "code",
   "source": [
    "from statsmodels.stats import weightstats"
   ],
   "metadata": {
    "id": "U7yWgrnGC7QD",
    "colab": {
     "base_uri": "https://localhost:8080/"
    },
    "executionInfo": {
     "status": "ok",
     "timestamp": 1642089044571,
     "user_tz": -180,
     "elapsed": 704,
     "user": {
      "displayName": "Ketrin Trofimova",
      "photoUrl": "https://lh3.googleusercontent.com/a/default-user=s64",
      "userId": "05400058012601189465"
     }
    },
    "outputId": "6cd46e0b-94ad-419e-f7a2-06741477e83d"
   },
   "execution_count": null,
   "outputs": []
  },
  {
   "cell_type": "code",
   "source": [
    "_ ,p = weightstats.ztest(data['bp_before'], x2=data['bp_after'], value=0,alternative='two-sided')\n",
    "print(float(p))\n",
    "\n",
    "\n",
    "if p < 0.05:\n",
    "    print(\"Мы отвергаем нулевую гипотезу об отсутсвии различий между данными.\")\n",
    "else:\n",
    "    print(\"Мы не можем отвергнуть нулевую гипотезу об отсутсвии различий между данными.\")"
   ],
   "metadata": {
    "id": "qnraDYOpBGps",
    "colab": {
     "base_uri": "https://localhost:8080/"
    },
    "executionInfo": {
     "status": "ok",
     "timestamp": 1642089067507,
     "user_tz": -180,
     "elapsed": 430,
     "user": {
      "displayName": "Ketrin Trofimova",
      "photoUrl": "https://lh3.googleusercontent.com/a/default-user=s64",
      "userId": "05400058012601189465"
     }
    },
    "outputId": "3d9e4690-edde-4ddf-f256-a1545d809cfa"
   },
   "execution_count": null,
   "outputs": []
  },
  {
   "cell_type": "markdown",
   "source": [
    "## Z-тест на пропорцию"
   ],
   "metadata": {
    "id": "WdtE6WckGKCB"
   }
  },
  {
   "cell_type": "markdown",
   "source": [
    "Z-критерий одной пропорции используется для сравнения наблюдаемой пропорции с теоретической.\n",
    "\n",
    "В этом тесте используются следующие нулевые гипотезы:\n",
    "\n",
    "$H_0: p = p_0$ (доля мужчин, предоставивших данные о своем давлении, равна гипотетической пропорции $p_0$)\n",
    "\n",
    "Альтернативная гипотеза может быть двусторонней, левосторонней или правосторонней:\n",
    "\n",
    "$H_1 (двусторонний): p ≠ p_0$ (доля мужчин не равна некоторому гипотетическому значению $p_0$)\n",
    "$H_1 (левосторонний): p < p_0$ (доля мужчин меньше некоторого гипотетического значения $p_0$)\n",
    "$H_1 (правосторонний): p > p_0$ (доля мужчин больше некоторого гипотетического значения $p_0$)"
   ],
   "metadata": {
    "id": "IUIgCw7YGPrj"
   }
  },
  {
   "cell_type": "markdown",
   "source": [
    "Предположим, что доля мужчин в нашем датачете равна 40%.\n",
    "\n",
    "$p_0$: гипотетическая доля мужчин = 0.40\n",
    "\n",
    "$x$: число мужчин в выборке мужчин: `len(data[data.sex == 'Male'])`\n",
    "\n",
    "$n$: размер выборки = `len(data)`\n",
    "\n",
    "Покажем, как использовать функцию `proportions_ztest` для выполнения  **z-теста**:"
   ],
   "metadata": {
    "id": "j0o4Q9AkHtiV"
   }
  },
  {
   "cell_type": "code",
   "source": [
    "p_0 = 0.4\n",
    "n = len(data)\n",
    "x = len(data[data.sex == 'Male'])\n",
    "\n",
    "print(n, x)"
   ],
   "metadata": {
    "colab": {
     "base_uri": "https://localhost:8080/"
    },
    "id": "njuMmGIMJK2J",
    "executionInfo": {
     "status": "ok",
     "timestamp": 1642089366236,
     "user_tz": -180,
     "elapsed": 321,
     "user": {
      "displayName": "Ketrin Trofimova",
      "photoUrl": "https://lh3.googleusercontent.com/a/default-user=s64",
      "userId": "05400058012601189465"
     }
    },
    "outputId": "d8dcf43f-2919-42ad-f9e6-ad73805486c5"
   },
   "execution_count": null,
   "outputs": []
  },
  {
   "cell_type": "code",
   "source": [
    "from statsmodels.stats.proportion import proportions_ztest\n",
    "\n",
    "#perform one proportion z-test\n",
    "_, p = proportions_ztest(count=x, nobs=n, value=p_0)"
   ],
   "metadata": {
    "id": "P9dLX0GFHisW",
    "executionInfo": {
     "status": "ok",
     "timestamp": 1642089396039,
     "user_tz": -180,
     "elapsed": 436,
     "user": {
      "displayName": "Ketrin Trofimova",
      "photoUrl": "https://lh3.googleusercontent.com/a/default-user=s64",
      "userId": "05400058012601189465"
     }
    }
   },
   "execution_count": null,
   "outputs": []
  },
  {
   "cell_type": "code",
   "source": [
    "if p < 0.05:\n",
    "    print(\"Мы отвергаем нулевую гипотезу о том, что доля мужчин, предоставивших данные о своем давлении, равна 40%.\")\n",
    "else:\n",
    "    print(\"Мы не можем отвергнуть нулевую гипотезу.\")"
   ],
   "metadata": {
    "colab": {
     "base_uri": "https://localhost:8080/"
    },
    "id": "BAYRIF7rJY_C",
    "executionInfo": {
     "status": "ok",
     "timestamp": 1642089446070,
     "user_tz": -180,
     "elapsed": 254,
     "user": {
      "displayName": "Ketrin Trofimova",
      "photoUrl": "https://lh3.googleusercontent.com/a/default-user=s64",
      "userId": "05400058012601189465"
     }
    },
    "outputId": "22a7893c-0a14-43a4-8390-7326960b7797"
   },
   "execution_count": null,
   "outputs": []
  }
 ]
}