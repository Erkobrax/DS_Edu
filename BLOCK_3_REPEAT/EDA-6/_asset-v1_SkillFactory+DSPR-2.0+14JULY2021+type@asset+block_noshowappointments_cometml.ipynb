{
 "nbformat": 4,
 "nbformat_minor": 0,
 "metadata": {
  "colab": {
   "name": "noshowappointments_cometml.ipynb",
   "provenance": [],
   "collapsed_sections": []
  },
  "kernelspec": {
   "name": "python3",
   "display_name": "Python 3"
  },
  "language_info": {
   "name": "python"
  }
 },
 "cells": [
  {
   "cell_type": "markdown",
   "source": [
    "# Импорт библиотек"
   ],
   "metadata": {
    "id": "aUAqi67vLzhL"
   }
  },
  {
   "cell_type": "code",
   "source": [
    "import pandas as pd \n",
    "import seaborn as sns\n",
    "from matplotlib import pyplot as plt"
   ],
   "metadata": {
    "id": "lXinfUuSL6Og"
   },
   "execution_count": 9,
   "outputs": []
  },
  {
   "cell_type": "markdown",
   "source": [
    "# Настройка CometML\n",
    "<img src='https://camo.githubusercontent.com/b35adf34bc440ea2ac19bb0d3432f48e26d71ab8e4c256e936b709eec44f5b19/68747470733a2f2f7777772e636f6d65742e6d6c2f696d616765732f6c6f676f5f636f6d65745f6c696768742e706e67' width=500px>"
   ],
   "metadata": {
    "id": "hIlLTfPPz3VG"
   }
  },
  {
   "cell_type": "code",
   "source": [
    "#!pip install comet_ml"
   ],
   "metadata": {
    "id": "4JiQtNAVQIu-"
   },
   "execution_count": 10,
   "outputs": []
  },
  {
   "cell_type": "code",
   "source": [
    "from comet_ml import Experiment"
   ],
   "metadata": {
    "id": "MGyR32T9qGD9"
   },
   "execution_count": 11,
   "outputs": []
  },
  {
   "cell_type": "code",
   "source": [
    "# Создайте эксперимент с помощью вашего API ключа\n",
    "experiment = Experiment(\n",
    "    api_key='kGMFoSnSnG8BQiuveNvPuzfek',\n",
    "    project_name='medical-appointment',\n",
    "    workspace='erkobrax',\n",
    ")"
   ],
   "metadata": {
    "colab": {
     "base_uri": "https://localhost:8080/"
    },
    "id": "LPU_kAoC9IYG",
    "outputId": "d2e6e899-e80a-455b-c18b-532ceee68a3d"
   },
   "execution_count": 12,
   "outputs": [
    {
     "name": "stderr",
     "output_type": "stream",
     "text": [
      "COMET INFO: ---------------------------------------------------------------------------------------\n",
      "COMET INFO: Comet.ml Experiment Summary\n",
      "COMET INFO: ---------------------------------------------------------------------------------------\n",
      "COMET INFO:   Data:\n",
      "COMET INFO:     display_summary_level : 1\n",
      "COMET INFO:     url                   : https://www.comet.com/erkobrax/medical-appointment/e0daf970461c4a5aa49e72f7132a0fd9\n",
      "COMET INFO:   Uploads:\n",
      "COMET INFO:     environment details      : 1\n",
      "COMET INFO:     filename                 : 1\n",
      "COMET INFO:     git metadata             : 1\n",
      "COMET INFO:     git-patch (uncompressed) : 1 (10.40 MB)\n",
      "COMET INFO:     installed packages       : 1\n",
      "COMET INFO:     notebook                 : 1\n",
      "COMET INFO:     source_code              : 1\n",
      "COMET INFO: \n",
      "COMET WARNING: As you are running in a Jupyter environment, you will need to call `experiment.end()` when finished to ensure all metrics and code are logged before exiting.\n",
      "COMET INFO: Experiment is live on comet.com https://www.comet.com/erkobrax/medical-appointment/87e17bef79194a4a9c64399bd53e9dd9\n",
      "\n"
     ]
    }
   ]
  },
  {
   "cell_type": "markdown",
   "source": [
    "# Загрузка данных"
   ],
   "metadata": {
    "id": "y3290WaEMCCM"
   }
  },
  {
   "cell_type": "code",
   "execution_count": 13,
   "metadata": {
    "id": "VbAf186tLgqb"
   },
   "outputs": [],
   "source": [
    "df = pd.read_csv('../Data/KaggleV2-May-2016.csv')"
   ]
  },
  {
   "cell_type": "code",
   "source": [
    "df.head()"
   ],
   "metadata": {
    "id": "Yrs_ikOi7e92",
    "colab": {
     "base_uri": "https://localhost:8080/",
     "height": 206
    },
    "outputId": "7adfe956-3f2b-48eb-d83f-b6bfc2a9a07a"
   },
   "execution_count": 14,
   "outputs": [
    {
     "data": {
      "text/plain": "      PatientId  AppointmentID Gender          ScheduledDay  \\\n0  2.987250e+13        5642903      F  2016-04-29T18:38:08Z   \n1  5.589978e+14        5642503      M  2016-04-29T16:08:27Z   \n2  4.262962e+12        5642549      F  2016-04-29T16:19:04Z   \n3  8.679512e+11        5642828      F  2016-04-29T17:29:31Z   \n4  8.841186e+12        5642494      F  2016-04-29T16:07:23Z   \n\n         AppointmentDay  Age      Neighbourhood  Scholarship  Hipertension  \\\n0  2016-04-29T00:00:00Z   62    JARDIM DA PENHA            0             1   \n1  2016-04-29T00:00:00Z   56    JARDIM DA PENHA            0             0   \n2  2016-04-29T00:00:00Z   62      MATA DA PRAIA            0             0   \n3  2016-04-29T00:00:00Z    8  PONTAL DE CAMBURI            0             0   \n4  2016-04-29T00:00:00Z   56    JARDIM DA PENHA            0             1   \n\n   Diabetes  Alcoholism  Handcap  SMS_received No-show  \n0         0           0        0             0      No  \n1         0           0        0             0      No  \n2         0           0        0             0      No  \n3         0           0        0             0      No  \n4         1           0        0             0      No  ",
      "text/html": "<div>\n<style scoped>\n    .dataframe tbody tr th:only-of-type {\n        vertical-align: middle;\n    }\n\n    .dataframe tbody tr th {\n        vertical-align: top;\n    }\n\n    .dataframe thead th {\n        text-align: right;\n    }\n</style>\n<table border=\"1\" class=\"dataframe\">\n  <thead>\n    <tr style=\"text-align: right;\">\n      <th></th>\n      <th>PatientId</th>\n      <th>AppointmentID</th>\n      <th>Gender</th>\n      <th>ScheduledDay</th>\n      <th>AppointmentDay</th>\n      <th>Age</th>\n      <th>Neighbourhood</th>\n      <th>Scholarship</th>\n      <th>Hipertension</th>\n      <th>Diabetes</th>\n      <th>Alcoholism</th>\n      <th>Handcap</th>\n      <th>SMS_received</th>\n      <th>No-show</th>\n    </tr>\n  </thead>\n  <tbody>\n    <tr>\n      <th>0</th>\n      <td>2.987250e+13</td>\n      <td>5642903</td>\n      <td>F</td>\n      <td>2016-04-29T18:38:08Z</td>\n      <td>2016-04-29T00:00:00Z</td>\n      <td>62</td>\n      <td>JARDIM DA PENHA</td>\n      <td>0</td>\n      <td>1</td>\n      <td>0</td>\n      <td>0</td>\n      <td>0</td>\n      <td>0</td>\n      <td>No</td>\n    </tr>\n    <tr>\n      <th>1</th>\n      <td>5.589978e+14</td>\n      <td>5642503</td>\n      <td>M</td>\n      <td>2016-04-29T16:08:27Z</td>\n      <td>2016-04-29T00:00:00Z</td>\n      <td>56</td>\n      <td>JARDIM DA PENHA</td>\n      <td>0</td>\n      <td>0</td>\n      <td>0</td>\n      <td>0</td>\n      <td>0</td>\n      <td>0</td>\n      <td>No</td>\n    </tr>\n    <tr>\n      <th>2</th>\n      <td>4.262962e+12</td>\n      <td>5642549</td>\n      <td>F</td>\n      <td>2016-04-29T16:19:04Z</td>\n      <td>2016-04-29T00:00:00Z</td>\n      <td>62</td>\n      <td>MATA DA PRAIA</td>\n      <td>0</td>\n      <td>0</td>\n      <td>0</td>\n      <td>0</td>\n      <td>0</td>\n      <td>0</td>\n      <td>No</td>\n    </tr>\n    <tr>\n      <th>3</th>\n      <td>8.679512e+11</td>\n      <td>5642828</td>\n      <td>F</td>\n      <td>2016-04-29T17:29:31Z</td>\n      <td>2016-04-29T00:00:00Z</td>\n      <td>8</td>\n      <td>PONTAL DE CAMBURI</td>\n      <td>0</td>\n      <td>0</td>\n      <td>0</td>\n      <td>0</td>\n      <td>0</td>\n      <td>0</td>\n      <td>No</td>\n    </tr>\n    <tr>\n      <th>4</th>\n      <td>8.841186e+12</td>\n      <td>5642494</td>\n      <td>F</td>\n      <td>2016-04-29T16:07:23Z</td>\n      <td>2016-04-29T00:00:00Z</td>\n      <td>56</td>\n      <td>JARDIM DA PENHA</td>\n      <td>0</td>\n      <td>1</td>\n      <td>1</td>\n      <td>0</td>\n      <td>0</td>\n      <td>0</td>\n      <td>No</td>\n    </tr>\n  </tbody>\n</table>\n</div>"
     },
     "execution_count": 14,
     "metadata": {},
     "output_type": "execute_result"
    }
   ]
  },
  {
   "cell_type": "markdown",
   "source": [
    "# Визуализация"
   ],
   "metadata": {
    "id": "OzCY1MkvTJSR"
   }
  },
  {
   "cell_type": "markdown",
   "source": [
    "### Распределение числовых признаков"
   ],
   "metadata": {
    "id": "ptpoultBWCj_"
   }
  },
  {
   "cell_type": "code",
   "source": [
    "df.hist(figsize=(16,14));\n",
    "#логируем гистограмму\n",
    "experiment.log_figure(figure=plt)"
   ],
   "metadata": {
    "colab": {
     "base_uri": "https://localhost:8080/",
     "height": 877
    },
    "id": "h6WZ8PnRSUx0",
    "outputId": "a1138b19-a153-49f6-c1d9-299756897d32"
   },
   "execution_count": 15,
   "outputs": [
    {
     "name": "stderr",
     "output_type": "stream",
     "text": [
      "COMET WARNING: Unknown error exporting current conda environment\n",
      "COMET WARNING: Unknown error retrieving Conda package as an explicit file\n",
      "COMET WARNING: Unknown error retrieving Conda information\n"
     ]
    },
    {
     "data": {
      "text/plain": "{'web': 'https://www.comet.com/api/image/download?imageId=0508aef2a55040689118f23d1df76aed&experimentKey=87e17bef79194a4a9c64399bd53e9dd9',\n 'api': 'https://www.comet.com/api/rest/v1/image/get-image?imageId=0508aef2a55040689118f23d1df76aed&experimentKey=87e17bef79194a4a9c64399bd53e9dd9',\n 'imageId': '0508aef2a55040689118f23d1df76aed'}"
     },
     "execution_count": 15,
     "metadata": {},
     "output_type": "execute_result"
    },
    {
     "data": {
      "text/plain": "<Figure size 1152x1008 with 9 Axes>",
      "image/png": "[encoded data removed]"
     },
     "metadata": {
      "needs_background": "light"
     },
     "output_type": "display_data"
    }
   ]
  },
  {
   "cell_type": "markdown",
   "source": [
    "*Проанализируем число людей каждого возраста*"
   ],
   "metadata": {
    "id": "5BNTQ-1tWG2r"
   }
  },
  {
   "cell_type": "code",
   "source": [
    "print(\"Уникальные значения в `Age` => {}\".format(df.Age.unique()))"
   ],
   "metadata": {
    "colab": {
     "base_uri": "https://localhost:8080/"
    },
    "id": "RGNyu_sJTYfS",
    "outputId": "3df9516a-eee3-46a4-c8f3-82d26ebd6634"
   },
   "execution_count": 16,
   "outputs": [
    {
     "name": "stdout",
     "output_type": "stream",
     "text": [
      "Уникальные значения в `Age` => [ 62  56   8  76  23  39  21  19  30  29  22  28  54  15  50  40  46   4\n",
      "  13  65  45  51  32  12  61  38  79  18  63  64  85  59  55  71  49  78\n",
      "  31  58  27   6   2  11   7   0   3   1  69  68  60  67  36  10  35  20\n",
      "  26  34  33  16  42   5  47  17  41  44  37  24  66  77  81  70  53  75\n",
      "  73  52  74  43  89  57  14   9  48  83  72  25  80  87  88  84  82  90\n",
      "  94  86  91  98  92  96  93  95  97 102 115 100  99  -1]\n"
     ]
    }
   ]
  },
  {
   "cell_type": "code",
   "source": [
    "# Удалим аномальные значения\n",
    "df = df[(df.Age >= 0) & (df.Age <= 110)]\n",
    "df.Age.value_counts()"
   ],
   "metadata": {
    "colab": {
     "base_uri": "https://localhost:8080/"
    },
    "id": "eb1dWovPWYjz",
    "outputId": "85c41a9d-c7fc-4114-bbbc-9e0c861d272e"
   },
   "execution_count": 17,
   "outputs": [
    {
     "data": {
      "text/plain": "0      3539\n1      2273\n52     1746\n49     1652\n53     1651\n       ... \n97       11\n98        6\n100       4\n102       2\n99        1\nName: Age, Length: 102, dtype: int64"
     },
     "execution_count": 17,
     "metadata": {},
     "output_type": "execute_result"
    }
   ]
  },
  {
   "cell_type": "code",
   "source": [
    "plt.figure(figsize=(24,6))\n",
    "plt.xticks(rotation=90)\n",
    "ax = sns.countplot(x=df.Age)\n",
    "ax.set_title(\"Распределение пациентов по возрасту\")\n",
    "experiment.log_figure(figure=plt)\n",
    "plt.show()"
   ],
   "metadata": {
    "colab": {
     "base_uri": "https://localhost:8080/",
     "height": 413
    },
    "id": "OMFj0V8NXMfe",
    "outputId": "0feefc02-6433-48f7-e647-4b63eebb0cd1"
   },
   "execution_count": 18,
   "outputs": [
    {
     "data": {
      "text/plain": "<Figure size 1728x432 with 1 Axes>",
      "image/png": "[encoded data removed]"
     },
     "metadata": {
      "needs_background": "light"
     },
     "output_type": "display_data"
    }
   ]
  },
  {
   "cell_type": "markdown",
   "source": [
    "# Придет ли пациент на назначенный приием? "
   ],
   "metadata": {
    "id": "kq473GcDZFek"
   }
  },
  {
   "cell_type": "code",
   "source": [
    "df.info()"
   ],
   "metadata": {
    "colab": {
     "base_uri": "https://localhost:8080/"
    },
    "id": "5oXcfkNKZjdd",
    "outputId": "ff0c57dc-7ef6-43b4-82bc-958ee2bacfcc"
   },
   "execution_count": 19,
   "outputs": [
    {
     "name": "stdout",
     "output_type": "stream",
     "text": [
      "<class 'pandas.core.frame.DataFrame'>\n",
      "Int64Index: 110521 entries, 0 to 110526\n",
      "Data columns (total 14 columns):\n",
      " #   Column          Non-Null Count   Dtype  \n",
      "---  ------          --------------   -----  \n",
      " 0   PatientId       110521 non-null  float64\n",
      " 1   AppointmentID   110521 non-null  int64  \n",
      " 2   Gender          110521 non-null  object \n",
      " 3   ScheduledDay    110521 non-null  object \n",
      " 4   AppointmentDay  110521 non-null  object \n",
      " 5   Age             110521 non-null  int64  \n",
      " 6   Neighbourhood   110521 non-null  object \n",
      " 7   Scholarship     110521 non-null  int64  \n",
      " 8   Hipertension    110521 non-null  int64  \n",
      " 9   Diabetes        110521 non-null  int64  \n",
      " 10  Alcoholism      110521 non-null  int64  \n",
      " 11  Handcap         110521 non-null  int64  \n",
      " 12  SMS_received    110521 non-null  int64  \n",
      " 13  No-show         110521 non-null  object \n",
      "dtypes: float64(1), int64(8), object(5)\n",
      "memory usage: 12.6+ MB\n"
     ]
    }
   ]
  },
  {
   "cell_type": "markdown",
   "source": [
    "## Кодировка категориальных признаков"
   ],
   "metadata": {
    "id": "24uKsoaBjH0B"
   }
  },
  {
   "cell_type": "code",
   "source": [
    "categorical_columns_names = ['Gender', 'Neighbourhood']"
   ],
   "metadata": {
    "id": "1J8JAzwmjeKW"
   },
   "execution_count": 20,
   "outputs": []
  },
  {
   "cell_type": "code",
   "source": [
    "encoded_columns = pd.get_dummies(df, columns = categorical_columns_names)"
   ],
   "metadata": {
    "id": "lgOtCCRTkIle"
   },
   "execution_count": 21,
   "outputs": []
  },
  {
   "cell_type": "code",
   "source": [
    "encoded_columns.drop(['AppointmentID', 'PatientId', 'ScheduledDay', 'AppointmentDay', 'No-show'], axis=1, inplace = True)"
   ],
   "metadata": {
    "id": "okMGD3TmmGpE"
   },
   "execution_count": 22,
   "outputs": []
  },
  {
   "cell_type": "code",
   "source": [
    "encoded_columns.head()"
   ],
   "metadata": {
    "colab": {
     "base_uri": "https://localhost:8080/",
     "height": 317
    },
    "id": "fNGfrwh7mtR3",
    "outputId": "9da1b29a-394e-4f76-baa9-47054f2a3b9a"
   },
   "execution_count": 23,
   "outputs": [
    {
     "data": {
      "text/plain": "   Age  Scholarship  Hipertension  Diabetes  Alcoholism  Handcap  \\\n0   62            0             1         0           0        0   \n1   56            0             0         0           0        0   \n2   62            0             0         0           0        0   \n3    8            0             0         0           0        0   \n4   56            0             1         1           0        0   \n\n   SMS_received  Gender_F  Gender_M  Neighbourhood_AEROPORTO  ...  \\\n0             0         1         0                        0  ...   \n1             0         0         1                        0  ...   \n2             0         1         0                        0  ...   \n3             0         1         0                        0  ...   \n4             0         1         0                        0  ...   \n\n   Neighbourhood_SANTOS REIS  Neighbourhood_SEGURANÇA DO LAR  \\\n0                          0                               0   \n1                          0                               0   \n2                          0                               0   \n3                          0                               0   \n4                          0                               0   \n\n   Neighbourhood_SOLON BORGES  Neighbourhood_SÃO BENEDITO  \\\n0                           0                           0   \n1                           0                           0   \n2                           0                           0   \n3                           0                           0   \n4                           0                           0   \n\n   Neighbourhood_SÃO CRISTÓVÃO  Neighbourhood_SÃO JOSÉ  \\\n0                            0                       0   \n1                            0                       0   \n2                            0                       0   \n3                            0                       0   \n4                            0                       0   \n\n   Neighbourhood_SÃO PEDRO  Neighbourhood_TABUAZEIRO  \\\n0                        0                         0   \n1                        0                         0   \n2                        0                         0   \n3                        0                         0   \n4                        0                         0   \n\n   Neighbourhood_UNIVERSITÁRIO  Neighbourhood_VILA RUBIM  \n0                            0                         0  \n1                            0                         0  \n2                            0                         0  \n3                            0                         0  \n4                            0                         0  \n\n[5 rows x 90 columns]",
      "text/html": "<div>\n<style scoped>\n    .dataframe tbody tr th:only-of-type {\n        vertical-align: middle;\n    }\n\n    .dataframe tbody tr th {\n        vertical-align: top;\n    }\n\n    .dataframe thead th {\n        text-align: right;\n    }\n</style>\n<table border=\"1\" class=\"dataframe\">\n  <thead>\n    <tr style=\"text-align: right;\">\n      <th></th>\n      <th>Age</th>\n      <th>Scholarship</th>\n      <th>Hipertension</th>\n      <th>Diabetes</th>\n      <th>Alcoholism</th>\n      <th>Handcap</th>\n      <th>SMS_received</th>\n      <th>Gender_F</th>\n      <th>Gender_M</th>\n      <th>Neighbourhood_AEROPORTO</th>\n      <th>...</th>\n      <th>Neighbourhood_SANTOS REIS</th>\n      <th>Neighbourhood_SEGURANÇA DO LAR</th>\n      <th>Neighbourhood_SOLON BORGES</th>\n      <th>Neighbourhood_SÃO BENEDITO</th>\n      <th>Neighbourhood_SÃO CRISTÓVÃO</th>\n      <th>Neighbourhood_SÃO JOSÉ</th>\n      <th>Neighbourhood_SÃO PEDRO</th>\n      <th>Neighbourhood_TABUAZEIRO</th>\n      <th>Neighbourhood_UNIVERSITÁRIO</th>\n      <th>Neighbourhood_VILA RUBIM</th>\n    </tr>\n  </thead>\n  <tbody>\n    <tr>\n      <th>0</th>\n      <td>62</td>\n      <td>0</td>\n      <td>1</td>\n      <td>0</td>\n      <td>0</td>\n      <td>0</td>\n      <td>0</td>\n      <td>1</td>\n      <td>0</td>\n      <td>0</td>\n      <td>...</td>\n      <td>0</td>\n      <td>0</td>\n      <td>0</td>\n      <td>0</td>\n      <td>0</td>\n      <td>0</td>\n      <td>0</td>\n      <td>0</td>\n      <td>0</td>\n      <td>0</td>\n    </tr>\n    <tr>\n      <th>1</th>\n      <td>56</td>\n      <td>0</td>\n      <td>0</td>\n      <td>0</td>\n      <td>0</td>\n      <td>0</td>\n      <td>0</td>\n      <td>0</td>\n      <td>1</td>\n      <td>0</td>\n      <td>...</td>\n      <td>0</td>\n      <td>0</td>\n      <td>0</td>\n      <td>0</td>\n      <td>0</td>\n      <td>0</td>\n      <td>0</td>\n      <td>0</td>\n      <td>0</td>\n      <td>0</td>\n    </tr>\n    <tr>\n      <th>2</th>\n      <td>62</td>\n      <td>0</td>\n      <td>0</td>\n      <td>0</td>\n      <td>0</td>\n      <td>0</td>\n      <td>0</td>\n      <td>1</td>\n      <td>0</td>\n      <td>0</td>\n      <td>...</td>\n      <td>0</td>\n      <td>0</td>\n      <td>0</td>\n      <td>0</td>\n      <td>0</td>\n      <td>0</td>\n      <td>0</td>\n      <td>0</td>\n      <td>0</td>\n      <td>0</td>\n    </tr>\n    <tr>\n      <th>3</th>\n      <td>8</td>\n      <td>0</td>\n      <td>0</td>\n      <td>0</td>\n      <td>0</td>\n      <td>0</td>\n      <td>0</td>\n      <td>1</td>\n      <td>0</td>\n      <td>0</td>\n      <td>...</td>\n      <td>0</td>\n      <td>0</td>\n      <td>0</td>\n      <td>0</td>\n      <td>0</td>\n      <td>0</td>\n      <td>0</td>\n      <td>0</td>\n      <td>0</td>\n      <td>0</td>\n    </tr>\n    <tr>\n      <th>4</th>\n      <td>56</td>\n      <td>0</td>\n      <td>1</td>\n      <td>1</td>\n      <td>0</td>\n      <td>0</td>\n      <td>0</td>\n      <td>1</td>\n      <td>0</td>\n      <td>0</td>\n      <td>...</td>\n      <td>0</td>\n      <td>0</td>\n      <td>0</td>\n      <td>0</td>\n      <td>0</td>\n      <td>0</td>\n      <td>0</td>\n      <td>0</td>\n      <td>0</td>\n      <td>0</td>\n    </tr>\n  </tbody>\n</table>\n<p>5 rows × 90 columns</p>\n</div>"
     },
     "execution_count": 23,
     "metadata": {},
     "output_type": "execute_result"
    }
   ]
  },
  {
   "cell_type": "code",
   "source": [
    "y = df['No-show']"
   ],
   "metadata": {
    "id": "aqllZjq0Z0Rp"
   },
   "execution_count": 24,
   "outputs": []
  },
  {
   "cell_type": "code",
   "source": [
    "y"
   ],
   "metadata": {
    "colab": {
     "base_uri": "https://localhost:8080/"
    },
    "id": "q84BeK5ttWRe",
    "outputId": "b1752a6d-6ab9-48e2-d77d-e5ccc95baaff"
   },
   "execution_count": 25,
   "outputs": [
    {
     "data": {
      "text/plain": "0         No\n1         No\n2         No\n3         No\n4         No\n          ..\n110522    No\n110523    No\n110524    No\n110525    No\n110526    No\nName: No-show, Length: 110521, dtype: object"
     },
     "execution_count": 25,
     "metadata": {},
     "output_type": "execute_result"
    }
   ]
  },
  {
   "cell_type": "code",
   "source": [
    "y = y.replace({'No': 0, 'Yes': 1})"
   ],
   "metadata": {
    "id": "H5wB-62WnxUY"
   },
   "execution_count": 26,
   "outputs": []
  },
  {
   "cell_type": "code",
   "source": [
    "y.value_counts(True)"
   ],
   "metadata": {
    "colab": {
     "base_uri": "https://localhost:8080/"
    },
    "id": "oX2skGG-odCx",
    "outputId": "a4f32ca5-3fcd-482e-842f-c85daa739eec"
   },
   "execution_count": 27,
   "outputs": [
    {
     "data": {
      "text/plain": "0    0.798084\n1    0.201916\nName: No-show, dtype: float64"
     },
     "execution_count": 27,
     "metadata": {},
     "output_type": "execute_result"
    }
   ]
  },
  {
   "cell_type": "markdown",
   "source": [
    "## Шкалирование данных"
   ],
   "metadata": {
    "id": "HFqVvPJAnKmt"
   }
  },
  {
   "cell_type": "code",
   "source": [
    "from sklearn.preprocessing import MinMaxScaler"
   ],
   "metadata": {
    "id": "iY4UeiB1nN0f"
   },
   "execution_count": 28,
   "outputs": []
  },
  {
   "cell_type": "code",
   "source": [
    "scaler = MinMaxScaler()\n",
    "X = scaler.fit_transform(encoded_columns)"
   ],
   "metadata": {
    "id": "jOY0PfPWnVV4"
   },
   "execution_count": 29,
   "outputs": []
  },
  {
   "cell_type": "code",
   "source": [
    "print(X.shape)"
   ],
   "metadata": {
    "colab": {
     "base_uri": "https://localhost:8080/"
    },
    "id": "I5OtnT9gm8LP",
    "outputId": "17283f66-be6c-4f47-f691-c3c67c12e1d6"
   },
   "execution_count": 30,
   "outputs": [
    {
     "name": "stdout",
     "output_type": "stream",
     "text": [
      "(110521, 90)\n"
     ]
    }
   ]
  },
  {
   "cell_type": "markdown",
   "source": [
    "# Модель (этот раздел будет подробно изучен далее в курсе)"
   ],
   "metadata": {
    "id": "Qo2K5d25o8bF"
   }
  },
  {
   "cell_type": "code",
   "source": [
    "from sklearn.linear_model import LogisticRegression\n",
    "from sklearn.metrics import accuracy_score"
   ],
   "metadata": {
    "id": "nZDLlWa4Z2k4"
   },
   "execution_count": 31,
   "outputs": []
  },
  {
   "cell_type": "markdown",
   "source": [
    "### Инициализация модели"
   ],
   "metadata": {
    "id": "XebBCLaaaN-o"
   }
  },
  {
   "cell_type": "code",
   "source": [
    "logreg = LogisticRegression()"
   ],
   "metadata": {
    "id": "LQqudwBtaCRs"
   },
   "execution_count": 32,
   "outputs": []
  },
  {
   "cell_type": "code",
   "source": [
    "random_state = 42"
   ],
   "metadata": {
    "id": "I6YmYYobaT-u"
   },
   "execution_count": 33,
   "outputs": []
  },
  {
   "cell_type": "markdown",
   "source": [
    "### Обучение модели"
   ],
   "metadata": {
    "id": "A_gkA53ybxqa"
   }
  },
  {
   "cell_type": "code",
   "source": [
    "logreg.fit(X, y)"
   ],
   "metadata": {
    "colab": {
     "base_uri": "https://localhost:8080/"
    },
    "id": "R1BSRYG9amr7",
    "outputId": "7b6876f8-40b4-4896-9069-5eeb20c87e96"
   },
   "execution_count": 34,
   "outputs": [
    {
     "name": "stderr",
     "output_type": "stream",
     "text": [
      "C:\\Users\\Denis\\anaconda3\\envs\\pythonProject1\\lib\\site-packages\\sklearn\\linear_model\\_logistic.py:444: ConvergenceWarning: lbfgs failed to converge (status=1):\n",
      "STOP: TOTAL NO. of ITERATIONS REACHED LIMIT.\n",
      "\n",
      "Increase the number of iterations (max_iter) or scale the data as shown in:\n",
      "    https://scikit-learn.org/stable/modules/preprocessing.html\n",
      "Please also refer to the documentation for alternative solver options:\n",
      "    https://scikit-learn.org/stable/modules/linear_model.html#logistic-regression\n",
      "  n_iter_i = _check_optimize_result(\n"
     ]
    },
    {
     "data": {
      "text/plain": "LogisticRegression()",
      "text/html": "<style>#sk-container-id-1 {color: black;background-color: white;}#sk-container-id-1 pre{padding: 0;}#sk-container-id-1 div.sk-toggleable {background-color: white;}#sk-container-id-1 label.sk-toggleable__label {cursor: pointer;display: block;width: 100%;margin-bottom: 0;padding: 0.3em;box-sizing: border-box;text-align: center;}#sk-container-id-1 label.sk-toggleable__label-arrow:before {content: \"▸\";float: left;margin-right: 0.25em;color: #696969;}#sk-container-id-1 label.sk-toggleable__label-arrow:hover:before {color: black;}#sk-container-id-1 div.sk-estimator:hover label.sk-toggleable__label-arrow:before {color: black;}#sk-container-id-1 div.sk-toggleable__content {max-height: 0;max-width: 0;overflow: hidden;text-align: left;background-color: #f0f8ff;}#sk-container-id-1 div.sk-toggleable__content pre {margin: 0.2em;color: black;border-radius: 0.25em;background-color: #f0f8ff;}#sk-container-id-1 input.sk-toggleable__control:checked~div.sk-toggleable__content {max-height: 200px;max-width: 100%;overflow: auto;}#sk-container-id-1 input.sk-toggleable__control:checked~label.sk-toggleable__label-arrow:before {content: \"▾\";}#sk-container-id-1 div.sk-estimator input.sk-toggleable__control:checked~label.sk-toggleable__label {background-color: #d4ebff;}#sk-container-id-1 div.sk-label input.sk-toggleable__control:checked~label.sk-toggleable__label {background-color: #d4ebff;}#sk-container-id-1 input.sk-hidden--visually {border: 0;clip: rect(1px 1px 1px 1px);clip: rect(1px, 1px, 1px, 1px);height: 1px;margin: -1px;overflow: hidden;padding: 0;position: absolute;width: 1px;}#sk-container-id-1 div.sk-estimator {font-family: monospace;background-color: #f0f8ff;border: 1px dotted black;border-radius: 0.25em;box-sizing: border-box;margin-bottom: 0.5em;}#sk-container-id-1 div.sk-estimator:hover {background-color: #d4ebff;}#sk-container-id-1 div.sk-parallel-item::after {content: \"\";width: 100%;border-bottom: 1px solid gray;flex-grow: 1;}#sk-container-id-1 div.sk-label:hover label.sk-toggleable__label {background-color: #d4ebff;}#sk-container-id-1 div.sk-serial::before {content: \"\";position: absolute;border-left: 1px solid gray;box-sizing: border-box;top: 0;bottom: 0;left: 50%;z-index: 0;}#sk-container-id-1 div.sk-serial {display: flex;flex-direction: column;align-items: center;background-color: white;padding-right: 0.2em;padding-left: 0.2em;position: relative;}#sk-container-id-1 div.sk-item {position: relative;z-index: 1;}#sk-container-id-1 div.sk-parallel {display: flex;align-items: stretch;justify-content: center;background-color: white;position: relative;}#sk-container-id-1 div.sk-item::before, #sk-container-id-1 div.sk-parallel-item::before {content: \"\";position: absolute;border-left: 1px solid gray;box-sizing: border-box;top: 0;bottom: 0;left: 50%;z-index: -1;}#sk-container-id-1 div.sk-parallel-item {display: flex;flex-direction: column;z-index: 1;position: relative;background-color: white;}#sk-container-id-1 div.sk-parallel-item:first-child::after {align-self: flex-end;width: 50%;}#sk-container-id-1 div.sk-parallel-item:last-child::after {align-self: flex-start;width: 50%;}#sk-container-id-1 div.sk-parallel-item:only-child::after {width: 0;}#sk-container-id-1 div.sk-dashed-wrapped {border: 1px dashed gray;margin: 0 0.4em 0.5em 0.4em;box-sizing: border-box;padding-bottom: 0.4em;background-color: white;}#sk-container-id-1 div.sk-label label {font-family: monospace;font-weight: bold;display: inline-block;line-height: 1.2em;}#sk-container-id-1 div.sk-label-container {text-align: center;}#sk-container-id-1 div.sk-container {/* jupyter's `normalize.less` sets `[hidden] { display: none; }` but bootstrap.min.css set `[hidden] { display: none !important; }` so we also need the `!important` here to be able to override the default hidden behavior on the sphinx rendered scikit-learn.org. See: https://github.com/scikit-learn/scikit-learn/issues/21755 */display: inline-block !important;position: relative;}#sk-container-id-1 div.sk-text-repr-fallback {display: none;}</style><div id=\"sk-container-id-1\" class=\"sk-top-container\"><div class=\"sk-text-repr-fallback\"><pre>LogisticRegression()</pre><b>In a Jupyter environment, please rerun this cell to show the HTML representation or trust the notebook. <br />On GitHub, the HTML representation is unable to render, please try loading this page with nbviewer.org.</b></div><div class=\"sk-container\" hidden><div class=\"sk-item\"><div class=\"sk-estimator sk-toggleable\"><input class=\"sk-toggleable__control sk-hidden--visually\" id=\"sk-estimator-id-1\" type=\"checkbox\" checked><label for=\"sk-estimator-id-1\" class=\"sk-toggleable__label sk-toggleable__label-arrow\">LogisticRegression</label><div class=\"sk-toggleable__content\"><pre>LogisticRegression()</pre></div></div></div></div></div>"
     },
     "execution_count": 34,
     "metadata": {},
     "output_type": "execute_result"
    }
   ]
  },
  {
   "cell_type": "markdown",
   "source": [
    "#### Логирование параметров обучения"
   ],
   "metadata": {
    "id": "6YN1DZFicf4l"
   }
  },
  {
   "cell_type": "code",
   "source": [
    "params={\"random_state\":random_state,\n",
    "        \"model_type\":\"logreg\"\n",
    "}"
   ],
   "metadata": {
    "id": "wGADA8ercl7k"
   },
   "execution_count": 35,
   "outputs": []
  },
  {
   "cell_type": "code",
   "source": [
    "experiment.log_parameters(params)"
   ],
   "metadata": {
    "id": "ZOwq-iBJcsKU"
   },
   "execution_count": 36,
   "outputs": []
  },
  {
   "cell_type": "markdown",
   "source": [
    "### Предсказания модели"
   ],
   "metadata": {
    "id": "l4gGfkqtb4IR"
   }
  },
  {
   "cell_type": "code",
   "source": [
    "y_pred = logreg.predict(X)"
   ],
   "metadata": {
    "id": "Z-_AH_f3b55w"
   },
   "execution_count": 37,
   "outputs": []
  },
  {
   "cell_type": "markdown",
   "source": [
    "### Анализ модели"
   ],
   "metadata": {
    "id": "X5o9LBBab-cH"
   }
  },
  {
   "cell_type": "code",
   "source": [
    "accuracy = accuracy_score(y, y_pred)\n",
    "\n",
    "print(\"Доля правильных ответов: {:6.3f}\".format(accuracy))"
   ],
   "metadata": {
    "colab": {
     "base_uri": "https://localhost:8080/"
    },
    "id": "uigAO6s1Z-xK",
    "outputId": "7c10a88f-14ad-48b4-b1b5-2a4ae23c46d3"
   },
   "execution_count": 38,
   "outputs": [
    {
     "name": "stdout",
     "output_type": "stream",
     "text": [
      "Доля правильных ответов:  0.798\n"
     ]
    }
   ]
  },
  {
   "cell_type": "markdown",
   "source": [
    "# Логирование метрик"
   ],
   "metadata": {
    "id": "nltneNyYdAcE"
   }
  },
  {
   "cell_type": "code",
   "source": [
    "metrics = {\"accuracy\":accuracy}"
   ],
   "metadata": {
    "id": "46QiPA6jc0gQ"
   },
   "execution_count": 39,
   "outputs": []
  },
  {
   "cell_type": "code",
   "source": [
    "experiment.log_metrics(metrics)"
   ],
   "metadata": {
    "id": "nr_zJEO_c5TY"
   },
   "execution_count": 40,
   "outputs": []
  },
  {
   "cell_type": "markdown",
   "source": [
    "<img src = 'https://miro.medium.com/max/1400/0*r2yYhe2DpE4d3WKP.png' width=700px>"
   ],
   "metadata": {
    "id": "9U26OZqibj3P"
   }
  },
  {
   "cell_type": "code",
   "source": [
    "experiment.log_confusion_matrix(y.tolist(), y_pred.tolist())"
   ],
   "metadata": {
    "colab": {
     "base_uri": "https://localhost:8080/"
    },
    "id": "uSvXz5ESf6cf",
    "outputId": "5ad9a064-c2dd-497d-b6df-64f610e7cd63"
   },
   "execution_count": 41,
   "outputs": [
    {
     "data": {
      "text/plain": "{'web': 'https://www.comet.com/api/asset/download?assetId=f78462b2ded84b1ab8cad5983428a49f&experimentKey=87e17bef79194a4a9c64399bd53e9dd9',\n 'api': 'https://www.comet.com/api/rest/v2/experiment/asset/get-asset?assetId=f78462b2ded84b1ab8cad5983428a49f&experimentKey=87e17bef79194a4a9c64399bd53e9dd9',\n 'assetId': 'f78462b2ded84b1ab8cad5983428a49f'}"
     },
     "execution_count": 41,
     "metadata": {},
     "output_type": "execute_result"
    }
   ]
  },
  {
   "cell_type": "code",
   "source": [
    "experiment.display()"
   ],
   "metadata": {
    "colab": {
     "base_uri": "https://localhost:8080/",
     "height": 821
    },
    "id": "lvUb-yn7gIww",
    "outputId": "44038504-1a6d-490b-9049-db1ae7efb071"
   },
   "execution_count": 42,
   "outputs": [
    {
     "data": {
      "text/plain": "<IPython.lib.display.IFrame at 0x27901e31540>",
      "text/html": "\n        <iframe\n            width=\"100%\"\n            height=\"800px\"\n            src=\"https://www.comet.com/erkobrax/medical-appointment/87e17bef79194a4a9c64399bd53e9dd9\"\n            frameborder=\"0\"\n            allowfullscreen\n            \n        ></iframe>\n        "
     },
     "metadata": {},
     "output_type": "display_data"
    }
   ]
  },
  {
   "cell_type": "code",
   "source": [
    "experiment.end()"
   ],
   "metadata": {
    "colab": {
     "base_uri": "https://localhost:8080/"
    },
    "id": "ZNmiC0I-hIHb",
    "outputId": "0dbf7be3-ccd7-4ad5-cfc8-6e1747427431"
   },
   "execution_count": 43,
   "outputs": [
    {
     "name": "stderr",
     "output_type": "stream",
     "text": [
      "COMET INFO: ---------------------------------------------------------------------------------------\n",
      "COMET INFO: Comet.ml Experiment Summary\n",
      "COMET INFO: ---------------------------------------------------------------------------------------\n",
      "COMET INFO:   Data:\n",
      "COMET INFO:     display_summary_level : 1\n",
      "COMET INFO:     url                   : https://www.comet.com/erkobrax/medical-appointment/87e17bef79194a4a9c64399bd53e9dd9\n",
      "COMET INFO:   Metrics:\n",
      "COMET INFO:     accuracy : 0.7980836221170637\n",
      "COMET INFO:   Parameters:\n",
      "COMET INFO:     C                 : 1.0\n",
      "COMET INFO:     class_weight      : 1\n",
      "COMET INFO:     clip              : False\n",
      "COMET INFO:     copy              : True\n",
      "COMET INFO:     dual              : False\n",
      "COMET INFO:     feature_range     : (0, 1)\n",
      "COMET INFO:     fit_intercept     : True\n",
      "COMET INFO:     intercept_scaling : 1\n",
      "COMET INFO:     l1_ratio          : 1\n",
      "COMET INFO:     max_iter          : 100\n",
      "COMET INFO:     model_type        : logreg\n",
      "COMET INFO:     multi_class       : auto\n",
      "COMET INFO:     n_jobs            : 1\n",
      "COMET INFO:     penalty           : l2\n",
      "COMET INFO:     random_state      : 42\n",
      "COMET INFO:     solver            : lbfgs\n",
      "COMET INFO:     tol               : 0.0001\n",
      "COMET INFO:     verbose           : 0\n",
      "COMET INFO:     warm_start        : False\n",
      "COMET INFO:   Uploads:\n",
      "COMET INFO:     confusion-matrix         : 1\n",
      "COMET INFO:     environment details      : 1\n",
      "COMET INFO:     figures                  : 2\n",
      "COMET INFO:     filename                 : 1\n",
      "COMET INFO:     git metadata             : 1\n",
      "COMET INFO:     git-patch (uncompressed) : 1 (10.39 MB)\n",
      "COMET INFO:     installed packages       : 1\n",
      "COMET INFO:     notebook                 : 1\n",
      "COMET INFO:     source_code              : 1\n",
      "COMET INFO: \n",
      "COMET INFO: Uploading metrics, params, and assets to Comet before program termination (may take several seconds)\n",
      "COMET INFO: The Python SDK has 3600 seconds to finish uploading collected data\n",
      "COMET INFO: Uploading 40 metrics, params and output messages\n",
      "COMET INFO: Waiting for completion of the file uploads (may take several seconds)\n",
      "COMET INFO: The Python SDK has 10800 seconds to finish uploading collected data\n",
      "COMET INFO: Still uploading 1 file(s), remaining 503.27 KB/2.63 MB\n"
     ]
    }
   ]
  },
  {
   "cell_type": "markdown",
   "source": [
    "# Домашнее задание"
   ],
   "metadata": {
    "id": "5ydNwtkThhPg"
   }
  },
  {
   "cell_type": "markdown",
   "source": [
    "Визуализируйте корреляцию между числовыми признаками, использованными для обучения модели и залогируйте изображение в Comet.\n",
    "\n",
    "В качестве ответа приложите обновленный ноутбук.\n",
    "\n",
    "*Форма оценки ментором:*\n",
    "\n",
    "1) Проведена визуализация корреляции между 7 числовыми признаками, использованными для обучения модели - 5 баллов\n",
    "\n",
    "2) Произведено логирование графика в CometMl - 10 баллов\n"
   ],
   "metadata": {
    "id": "Vit5v66shjwQ"
   }
  },
  {
   "cell_type": "code",
   "execution_count": 44,
   "outputs": [],
   "source": [
    "integer_columns = df.select_dtypes(include=['int64']).columns"
   ],
   "metadata": {
    "collapsed": false,
    "pycharm": {
     "name": "#%%\n"
    }
   }
  },
  {
   "cell_type": "code",
   "execution_count": 55,
   "outputs": [
    {
     "name": "stderr",
     "output_type": "stream",
     "text": [
      "COMET WARNING: As you are running in a Jupyter environment, you will need to call `experiment.end()` when finished to ensure all metrics and code are logged before exiting.\n",
      "COMET INFO: Experiment is live on comet.com https://www.comet.com/erkobrax/medical-appointment/af0c15d4906746c8bc99eb53d84cd528\n",
      "\n"
     ]
    }
   ],
   "source": [
    "for i in ['AppointmentID', 'PatientId', 'ScheduledDay', 'AppointmentDay', 'No-show']:\n",
    "    if i in integer_columns:\n",
    "        integer_columns = integer_columns.drop(i)\n",
    "experiment = Experiment(\n",
    "    api_key='kGMFoSnSnG8BQiuveNvPuzfek',\n",
    "    project_name='medical-appointment',\n",
    "    workspace='erkobrax',\n",
    ")"
   ],
   "metadata": {
    "collapsed": false,
    "pycharm": {
     "name": "#%%\n"
    }
   }
  },
  {
   "cell_type": "code",
   "execution_count": 56,
   "outputs": [
    {
     "data": {
      "text/plain": "<Figure size 1152x288 with 2 Axes>",
      "image/png": "[encoded data removed]"
     },
     "metadata": {
      "needs_background": "light"
     },
     "output_type": "display_data"
    }
   ],
   "source": [
    "import seaborn as sns\n",
    "df_int = df[integer_columns]\n",
    "plt.figure(figsize=(16,4))\n",
    "sns.heatmap(round(df_int.corr(),3), annot=True)\n",
    "experiment.log_figure(figure=plt)\n",
    "plt.show()"
   ],
   "metadata": {
    "collapsed": false,
    "pycharm": {
     "name": "#%%\n"
    }
   }
  },
  {
   "cell_type": "code",
   "execution_count": null,
   "outputs": [],
   "source": [],
   "metadata": {
    "collapsed": false,
    "pycharm": {
     "name": "#%%\n"
    }
   }
  }
 ]
}