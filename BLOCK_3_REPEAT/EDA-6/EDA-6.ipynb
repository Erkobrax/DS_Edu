{
 "cells": [
  {
   "cell_type": "code",
   "execution_count": 5,
   "metadata": {
    "collapsed": true
   },
   "outputs": [],
   "source": [
    "import pandas as pd\n",
    "import seaborn as sns\n",
    "import matplotlib.pyplot as plt"
   ]
  },
  {
   "cell_type": "code",
   "execution_count": 6,
   "outputs": [
    {
     "data": {
      "text/plain": "      PatientId  AppointmentID Gender          ScheduledDay  \\\n0  2.987250e+13        5642903      F  2016-04-29T18:38:08Z   \n1  5.589978e+14        5642503      M  2016-04-29T16:08:27Z   \n2  4.262962e+12        5642549      F  2016-04-29T16:19:04Z   \n3  8.679512e+11        5642828      F  2016-04-29T17:29:31Z   \n4  8.841186e+12        5642494      F  2016-04-29T16:07:23Z   \n\n         AppointmentDay  Age      Neighbourhood  Scholarship  Hipertension  \\\n0  2016-04-29T00:00:00Z   62    JARDIM DA PENHA            0             1   \n1  2016-04-29T00:00:00Z   56    JARDIM DA PENHA            0             0   \n2  2016-04-29T00:00:00Z   62      MATA DA PRAIA            0             0   \n3  2016-04-29T00:00:00Z    8  PONTAL DE CAMBURI            0             0   \n4  2016-04-29T00:00:00Z   56    JARDIM DA PENHA            0             1   \n\n   Diabetes  Alcoholism  Handcap  SMS_received No-show  \n0         0           0        0             0      No  \n1         0           0        0             0      No  \n2         0           0        0             0      No  \n3         0           0        0             0      No  \n4         1           0        0             0      No  ",
      "text/html": "<div>\n<style scoped>\n    .dataframe tbody tr th:only-of-type {\n        vertical-align: middle;\n    }\n\n    .dataframe tbody tr th {\n        vertical-align: top;\n    }\n\n    .dataframe thead th {\n        text-align: right;\n    }\n</style>\n<table border=\"1\" class=\"dataframe\">\n  <thead>\n    <tr style=\"text-align: right;\">\n      <th></th>\n      <th>PatientId</th>\n      <th>AppointmentID</th>\n      <th>Gender</th>\n      <th>ScheduledDay</th>\n      <th>AppointmentDay</th>\n      <th>Age</th>\n      <th>Neighbourhood</th>\n      <th>Scholarship</th>\n      <th>Hipertension</th>\n      <th>Diabetes</th>\n      <th>Alcoholism</th>\n      <th>Handcap</th>\n      <th>SMS_received</th>\n      <th>No-show</th>\n    </tr>\n  </thead>\n  <tbody>\n    <tr>\n      <th>0</th>\n      <td>2.987250e+13</td>\n      <td>5642903</td>\n      <td>F</td>\n      <td>2016-04-29T18:38:08Z</td>\n      <td>2016-04-29T00:00:00Z</td>\n      <td>62</td>\n      <td>JARDIM DA PENHA</td>\n      <td>0</td>\n      <td>1</td>\n      <td>0</td>\n      <td>0</td>\n      <td>0</td>\n      <td>0</td>\n      <td>No</td>\n    </tr>\n    <tr>\n      <th>1</th>\n      <td>5.589978e+14</td>\n      <td>5642503</td>\n      <td>M</td>\n      <td>2016-04-29T16:08:27Z</td>\n      <td>2016-04-29T00:00:00Z</td>\n      <td>56</td>\n      <td>JARDIM DA PENHA</td>\n      <td>0</td>\n      <td>0</td>\n      <td>0</td>\n      <td>0</td>\n      <td>0</td>\n      <td>0</td>\n      <td>No</td>\n    </tr>\n    <tr>\n      <th>2</th>\n      <td>4.262962e+12</td>\n      <td>5642549</td>\n      <td>F</td>\n      <td>2016-04-29T16:19:04Z</td>\n      <td>2016-04-29T00:00:00Z</td>\n      <td>62</td>\n      <td>MATA DA PRAIA</td>\n      <td>0</td>\n      <td>0</td>\n      <td>0</td>\n      <td>0</td>\n      <td>0</td>\n      <td>0</td>\n      <td>No</td>\n    </tr>\n    <tr>\n      <th>3</th>\n      <td>8.679512e+11</td>\n      <td>5642828</td>\n      <td>F</td>\n      <td>2016-04-29T17:29:31Z</td>\n      <td>2016-04-29T00:00:00Z</td>\n      <td>8</td>\n      <td>PONTAL DE CAMBURI</td>\n      <td>0</td>\n      <td>0</td>\n      <td>0</td>\n      <td>0</td>\n      <td>0</td>\n      <td>0</td>\n      <td>No</td>\n    </tr>\n    <tr>\n      <th>4</th>\n      <td>8.841186e+12</td>\n      <td>5642494</td>\n      <td>F</td>\n      <td>2016-04-29T16:07:23Z</td>\n      <td>2016-04-29T00:00:00Z</td>\n      <td>56</td>\n      <td>JARDIM DA PENHA</td>\n      <td>0</td>\n      <td>1</td>\n      <td>1</td>\n      <td>0</td>\n      <td>0</td>\n      <td>0</td>\n      <td>No</td>\n    </tr>\n  </tbody>\n</table>\n</div>"
     },
     "execution_count": 6,
     "metadata": {},
     "output_type": "execute_result"
    }
   ],
   "source": [
    "df = pd.read_csv('Data/KaggleV2-May-2016.csv')\n",
    "df.head()"
   ],
   "metadata": {
    "collapsed": false,
    "pycharm": {
     "name": "#%%\n"
    }
   }
  },
  {
   "cell_type": "code",
   "execution_count": 7,
   "outputs": [
    {
     "data": {
      "text/plain": "Text(0.5, 1.0, 'Cоотношение людей, которые пропускают приемы, к тем, кто этого не делает')"
     },
     "execution_count": 7,
     "metadata": {},
     "output_type": "execute_result"
    },
    {
     "data": {
      "text/plain": "<Figure size 576x288 with 1 Axes>",
      "image/png": "[encoded data removed]"
     },
     "metadata": {
      "needs_background": "light"
     },
     "output_type": "display_data"
    }
   ],
   "source": [
    "plt.figure(figsize=(8,4))\n",
    "df['No-show'].hist()\n",
    "plt.title('Cоотношение людей, которые пропускают приемы, к тем, кто этого не делает')"
   ],
   "metadata": {
    "collapsed": false,
    "pycharm": {
     "name": "#%%\n"
    }
   }
  },
  {
   "cell_type": "code",
   "execution_count": 8,
   "outputs": [
    {
     "data": {
      "text/plain": "No     0.798067\nYes    0.201933\nName: No-show, dtype: float64"
     },
     "execution_count": 8,
     "metadata": {},
     "output_type": "execute_result"
    }
   ],
   "source": [
    "df['No-show'].value_counts(True)"
   ],
   "metadata": {
    "collapsed": false,
    "pycharm": {
     "name": "#%%\n"
    }
   }
  },
  {
   "cell_type": "code",
   "execution_count": 9,
   "outputs": [
    {
     "data": {
      "text/plain": "F    0.653882\nM    0.346118\nName: Gender, dtype: float64"
     },
     "execution_count": 9,
     "metadata": {},
     "output_type": "execute_result"
    }
   ],
   "source": [
    "df[df['No-show']=='Yes']['Gender'].value_counts(True)"
   ],
   "metadata": {
    "collapsed": false,
    "pycharm": {
     "name": "#%%\n"
    }
   }
  },
  {
   "cell_type": "code",
   "execution_count": 10,
   "outputs": [],
   "source": [
    "categorical_columns_name = ['Gender', 'Neighbourhood']\n",
    "encoded_columns = pd.get_dummies(df, columns=categorical_columns_name)"
   ],
   "metadata": {
    "collapsed": false,
    "pycharm": {
     "name": "#%%\n"
    }
   }
  },
  {
   "cell_type": "code",
   "execution_count": 12,
   "outputs": [
    {
     "data": {
      "text/plain": "<module 'logging' from 'C:\\\\Users\\\\Denis\\\\anaconda3\\\\envs\\\\pythonProject1\\\\lib\\\\logging\\\\__init__.py'>"
     },
     "execution_count": 12,
     "metadata": {},
     "output_type": "execute_result"
    }
   ],
   "source": [
    "import logging\n",
    "from importlib import reload\n",
    "reload(logging)"
   ],
   "metadata": {
    "collapsed": false,
    "pycharm": {
     "name": "#%%\n"
    }
   }
  },
  {
   "cell_type": "code",
   "execution_count": 13,
   "outputs": [],
   "source": [
    "logging.basicConfig(level=logging.DEBUG)"
   ],
   "metadata": {
    "collapsed": false,
    "pycharm": {
     "name": "#%%\n"
    }
   }
  },
  {
   "cell_type": "code",
   "execution_count": 14,
   "outputs": [
    {
     "data": {
      "text/plain": "<FileHandler C:\\Users\\Denis\\PycharmProjects\\DS_course\\BLOCK_3_REPEAT\\log_file.log (NOTSET)>"
     },
     "execution_count": 14,
     "metadata": {},
     "output_type": "execute_result"
    }
   ],
   "source": [
    "logging.FileHandler('log_file.log')"
   ],
   "metadata": {
    "collapsed": false,
    "pycharm": {
     "name": "#%%\n"
    }
   }
  },
  {
   "cell_type": "code",
   "execution_count": 15,
   "outputs": [
    {
     "name": "stderr",
     "output_type": "stream",
     "text": [
      "INFO: 2023-04-01 11:36:33,362: Check\n"
     ]
    }
   ],
   "source": [
    "reload(logging)\n",
    "\n",
    "logging.basicConfig(\n",
    "    format=\"%(levelname)s: %(asctime)s: %(message)s\",\n",
    "    level=logging.DEBUG\n",
    ")\n",
    "logging.info('Check')"
   ],
   "metadata": {
    "collapsed": false,
    "pycharm": {
     "name": "#%%\n"
    }
   }
  },
  {
   "cell_type": "code",
   "execution_count": null,
   "outputs": [],
   "source": [],
   "metadata": {
    "collapsed": false,
    "pycharm": {
     "name": "#%%\n"
    }
   }
  }
 ],
 "metadata": {
  "kernelspec": {
   "display_name": "Python 3",
   "language": "python",
   "name": "python3"
  },
  "language_info": {
   "codemirror_mode": {
    "name": "ipython",
    "version": 2
   },
   "file_extension": ".py",
   "mimetype": "text/x-python",
   "name": "python",
   "nbconvert_exporter": "python",
   "pygments_lexer": "ipython2",
   "version": "2.7.6"
  }
 },
 "nbformat": 4,
 "nbformat_minor": 0
}